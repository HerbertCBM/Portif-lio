{
 "cells": [
  {
   "cell_type": "markdown",
   "metadata": {},
   "source": [
    "## Objetivo do Projeto\n",
    "\n",
    "Este projeto utiliza a técnica de Análise de Componentes Principais (PCA) para reduzir a dimensionalidade de um conjunto de dados com indicadores socioeconômicos de diversos países.\n",
    "\n",
    "O objetivo final é apoiar a decisão de uma rede de fast-food internacional sobre onde abrir novas franquias, identificando padrões estruturais entre os países com base em métricas como expectativa de vida, inflação, arrecadação, mortalidade infantil e outras.\n",
    "\n",
    "Através do PCA, transformaremos variáveis complexas em eixos interpretáveis de decisão, que permitirão uma visualização clara das diferenças entre os países e uma recomendação fundamentada.\n"
   ]
  },
  {
   "cell_type": "code",
   "execution_count": 1,
   "metadata": {},
   "outputs": [],
   "source": [
    "# EDA e Visualização dos Dados\n",
    "import pandas as pd\n",
    "import seaborn as sns\n",
    "import matplotlib.pyplot as plt\n",
    "import plotly.express as px\n",
    "\n",
    "# Machine Learning\n",
    "from sklearn.decomposition import PCA\n",
    "from sklearn.metrics import mean_squared_error, root_mean_squared_error\n",
    "from sklearn.compose import ColumnTransformer\n",
    "from sklearn.preprocessing import StandardScaler\n",
    "import numpy as np"
   ]
  },
  {
   "cell_type": "markdown",
   "metadata": {},
   "source": [
    "### Carregar dados"
   ]
  },
  {
   "cell_type": "code",
   "execution_count": 2,
   "metadata": {},
   "outputs": [
    {
     "name": "stderr",
     "output_type": "stream",
     "text": [
      "<>:1: SyntaxWarning: invalid escape sequence '\\d'\n",
      "<>:1: SyntaxWarning: invalid escape sequence '\\d'\n",
      "C:\\Users\\Carolina\\AppData\\Local\\Temp\\ipykernel_2752\\1722298281.py:1: SyntaxWarning: invalid escape sequence '\\d'\n",
      "  df_countries = pd.read_csv('.\\dataset\\country_data.csv', sep=';', decimal=',')\n"
     ]
    }
   ],
   "source": [
    "df_countries = pd.read_csv('.\\dataset\\country_data.csv', sep=';', decimal=',') \n",
    "# informamos ao pandas que os separadores das colunas são ';' e os decimais são ','"
   ]
  },
  {
   "cell_type": "code",
   "execution_count": 3,
   "metadata": {},
   "outputs": [
    {
     "name": "stdout",
     "output_type": "stream",
     "text": [
      "<class 'pandas.core.frame.DataFrame'>\n",
      "RangeIndex: 165 entries, 0 to 164\n",
      "Data columns (total 11 columns):\n",
      " #   Column           Non-Null Count  Dtype  \n",
      "---  ------           --------------  -----  \n",
      " 0   country          165 non-null    object \n",
      " 1   child_mort       165 non-null    float64\n",
      " 2   exports          165 non-null    float64\n",
      " 3   health           165 non-null    float64\n",
      " 4   imports          165 non-null    float64\n",
      " 5   income           165 non-null    int64  \n",
      " 6   inflation        165 non-null    float64\n",
      " 7   life_expec       165 non-null    float64\n",
      " 8   total_fer        165 non-null    float64\n",
      " 9   gdpp             165 non-null    int64  \n",
      " 10  income_category  165 non-null    object \n",
      "dtypes: float64(7), int64(2), object(2)\n",
      "memory usage: 14.3+ KB\n"
     ]
    }
   ],
   "source": [
    "df_countries.info()"
   ]
  },
  {
   "cell_type": "code",
   "execution_count": 4,
   "metadata": {},
   "outputs": [
    {
     "data": {
      "text/html": [
       "<div>\n",
       "<style scoped>\n",
       "    .dataframe tbody tr th:only-of-type {\n",
       "        vertical-align: middle;\n",
       "    }\n",
       "\n",
       "    .dataframe tbody tr th {\n",
       "        vertical-align: top;\n",
       "    }\n",
       "\n",
       "    .dataframe thead th {\n",
       "        text-align: right;\n",
       "    }\n",
       "</style>\n",
       "<table border=\"1\" class=\"dataframe\">\n",
       "  <thead>\n",
       "    <tr style=\"text-align: right;\">\n",
       "      <th></th>\n",
       "      <th>country</th>\n",
       "      <th>child_mort</th>\n",
       "      <th>exports</th>\n",
       "      <th>health</th>\n",
       "      <th>imports</th>\n",
       "      <th>income</th>\n",
       "      <th>inflation</th>\n",
       "      <th>life_expec</th>\n",
       "      <th>total_fer</th>\n",
       "      <th>gdpp</th>\n",
       "      <th>income_category</th>\n",
       "    </tr>\n",
       "  </thead>\n",
       "  <tbody>\n",
       "    <tr>\n",
       "      <th>0</th>\n",
       "      <td>Afghanistan</td>\n",
       "      <td>90.2</td>\n",
       "      <td>10.0</td>\n",
       "      <td>7.58</td>\n",
       "      <td>44.9</td>\n",
       "      <td>1610</td>\n",
       "      <td>9.440</td>\n",
       "      <td>56.2</td>\n",
       "      <td>5.82</td>\n",
       "      <td>553</td>\n",
       "      <td>Low income</td>\n",
       "    </tr>\n",
       "    <tr>\n",
       "      <th>1</th>\n",
       "      <td>Albania</td>\n",
       "      <td>16.6</td>\n",
       "      <td>28.0</td>\n",
       "      <td>6.55</td>\n",
       "      <td>48.6</td>\n",
       "      <td>9930</td>\n",
       "      <td>4.490</td>\n",
       "      <td>76.3</td>\n",
       "      <td>1.65</td>\n",
       "      <td>4090</td>\n",
       "      <td>Upper middle income</td>\n",
       "    </tr>\n",
       "    <tr>\n",
       "      <th>2</th>\n",
       "      <td>Algeria</td>\n",
       "      <td>27.3</td>\n",
       "      <td>38.4</td>\n",
       "      <td>4.17</td>\n",
       "      <td>31.4</td>\n",
       "      <td>12900</td>\n",
       "      <td>16.100</td>\n",
       "      <td>76.5</td>\n",
       "      <td>2.89</td>\n",
       "      <td>4460</td>\n",
       "      <td>Lower middle income</td>\n",
       "    </tr>\n",
       "    <tr>\n",
       "      <th>3</th>\n",
       "      <td>Angola</td>\n",
       "      <td>119.0</td>\n",
       "      <td>62.3</td>\n",
       "      <td>2.85</td>\n",
       "      <td>42.9</td>\n",
       "      <td>5900</td>\n",
       "      <td>22.400</td>\n",
       "      <td>60.1</td>\n",
       "      <td>6.16</td>\n",
       "      <td>3530</td>\n",
       "      <td>Lower middle income</td>\n",
       "    </tr>\n",
       "    <tr>\n",
       "      <th>4</th>\n",
       "      <td>Antigua and Barbuda</td>\n",
       "      <td>10.3</td>\n",
       "      <td>45.5</td>\n",
       "      <td>6.03</td>\n",
       "      <td>58.9</td>\n",
       "      <td>19100</td>\n",
       "      <td>1.440</td>\n",
       "      <td>76.8</td>\n",
       "      <td>2.13</td>\n",
       "      <td>12200</td>\n",
       "      <td>High income</td>\n",
       "    </tr>\n",
       "    <tr>\n",
       "      <th>5</th>\n",
       "      <td>Argentina</td>\n",
       "      <td>14.5</td>\n",
       "      <td>18.9</td>\n",
       "      <td>8.10</td>\n",
       "      <td>16.0</td>\n",
       "      <td>18700</td>\n",
       "      <td>20.900</td>\n",
       "      <td>75.8</td>\n",
       "      <td>2.37</td>\n",
       "      <td>10300</td>\n",
       "      <td>Upper middle income</td>\n",
       "    </tr>\n",
       "    <tr>\n",
       "      <th>6</th>\n",
       "      <td>Armenia</td>\n",
       "      <td>18.1</td>\n",
       "      <td>20.8</td>\n",
       "      <td>4.40</td>\n",
       "      <td>45.3</td>\n",
       "      <td>6700</td>\n",
       "      <td>7.770</td>\n",
       "      <td>73.3</td>\n",
       "      <td>1.69</td>\n",
       "      <td>3220</td>\n",
       "      <td>Upper middle income</td>\n",
       "    </tr>\n",
       "    <tr>\n",
       "      <th>7</th>\n",
       "      <td>Australia</td>\n",
       "      <td>4.8</td>\n",
       "      <td>19.8</td>\n",
       "      <td>8.73</td>\n",
       "      <td>20.9</td>\n",
       "      <td>41400</td>\n",
       "      <td>1.160</td>\n",
       "      <td>82.0</td>\n",
       "      <td>1.93</td>\n",
       "      <td>51900</td>\n",
       "      <td>High income</td>\n",
       "    </tr>\n",
       "    <tr>\n",
       "      <th>8</th>\n",
       "      <td>Austria</td>\n",
       "      <td>4.3</td>\n",
       "      <td>51.3</td>\n",
       "      <td>11.00</td>\n",
       "      <td>47.8</td>\n",
       "      <td>43200</td>\n",
       "      <td>0.873</td>\n",
       "      <td>80.5</td>\n",
       "      <td>1.44</td>\n",
       "      <td>46900</td>\n",
       "      <td>High income</td>\n",
       "    </tr>\n",
       "    <tr>\n",
       "      <th>9</th>\n",
       "      <td>Azerbaijan</td>\n",
       "      <td>39.2</td>\n",
       "      <td>54.3</td>\n",
       "      <td>5.88</td>\n",
       "      <td>20.7</td>\n",
       "      <td>16000</td>\n",
       "      <td>13.800</td>\n",
       "      <td>69.1</td>\n",
       "      <td>1.92</td>\n",
       "      <td>5840</td>\n",
       "      <td>Upper middle income</td>\n",
       "    </tr>\n",
       "  </tbody>\n",
       "</table>\n",
       "</div>"
      ],
      "text/plain": [
       "               country  child_mort  exports  health  imports  income  \\\n",
       "0          Afghanistan        90.2     10.0    7.58     44.9    1610   \n",
       "1              Albania        16.6     28.0    6.55     48.6    9930   \n",
       "2              Algeria        27.3     38.4    4.17     31.4   12900   \n",
       "3               Angola       119.0     62.3    2.85     42.9    5900   \n",
       "4  Antigua and Barbuda        10.3     45.5    6.03     58.9   19100   \n",
       "5            Argentina        14.5     18.9    8.10     16.0   18700   \n",
       "6              Armenia        18.1     20.8    4.40     45.3    6700   \n",
       "7            Australia         4.8     19.8    8.73     20.9   41400   \n",
       "8              Austria         4.3     51.3   11.00     47.8   43200   \n",
       "9           Azerbaijan        39.2     54.3    5.88     20.7   16000   \n",
       "\n",
       "   inflation  life_expec  total_fer   gdpp      income_category  \n",
       "0      9.440        56.2       5.82    553           Low income  \n",
       "1      4.490        76.3       1.65   4090  Upper middle income  \n",
       "2     16.100        76.5       2.89   4460  Lower middle income  \n",
       "3     22.400        60.1       6.16   3530  Lower middle income  \n",
       "4      1.440        76.8       2.13  12200          High income  \n",
       "5     20.900        75.8       2.37  10300  Upper middle income  \n",
       "6      7.770        73.3       1.69   3220  Upper middle income  \n",
       "7      1.160        82.0       1.93  51900          High income  \n",
       "8      0.873        80.5       1.44  46900          High income  \n",
       "9     13.800        69.1       1.92   5840  Upper middle income  "
      ]
     },
     "execution_count": 4,
     "metadata": {},
     "output_type": "execute_result"
    }
   ],
   "source": [
    "df_countries.head(10)"
   ]
  },
  {
   "cell_type": "markdown",
   "metadata": {},
   "source": [
    "Carregamos os dados contendo indicadores socioeconômicos de vários países. Este dataset será a base para nossas análises e para a aplicação do PCA.\n",
    "\n",
    "Antes da análise, verificamos os tipos de dados e a existência de valores ausentes.\n"
   ]
  },
  {
   "cell_type": "markdown",
   "metadata": {},
   "source": [
    "### EDA"
   ]
  },
  {
   "cell_type": "markdown",
   "metadata": {},
   "source": [
    "##### Análise Univariada\n"
   ]
  },
  {
   "cell_type": "code",
   "execution_count": 5,
   "metadata": {},
   "outputs": [
    {
     "data": {
      "text/html": [
       "<div>\n",
       "<style scoped>\n",
       "    .dataframe tbody tr th:only-of-type {\n",
       "        vertical-align: middle;\n",
       "    }\n",
       "\n",
       "    .dataframe tbody tr th {\n",
       "        vertical-align: top;\n",
       "    }\n",
       "\n",
       "    .dataframe thead th {\n",
       "        text-align: right;\n",
       "    }\n",
       "</style>\n",
       "<table border=\"1\" class=\"dataframe\">\n",
       "  <thead>\n",
       "    <tr style=\"text-align: right;\">\n",
       "      <th></th>\n",
       "      <th>child_mort</th>\n",
       "      <th>exports</th>\n",
       "      <th>health</th>\n",
       "      <th>imports</th>\n",
       "      <th>income</th>\n",
       "      <th>inflation</th>\n",
       "      <th>life_expec</th>\n",
       "      <th>total_fer</th>\n",
       "      <th>gdpp</th>\n",
       "    </tr>\n",
       "  </thead>\n",
       "  <tbody>\n",
       "    <tr>\n",
       "      <th>count</th>\n",
       "      <td>165.000000</td>\n",
       "      <td>165.000000</td>\n",
       "      <td>165.000000</td>\n",
       "      <td>165.000000</td>\n",
       "      <td>165.000000</td>\n",
       "      <td>165.000000</td>\n",
       "      <td>165.000000</td>\n",
       "      <td>165.000000</td>\n",
       "      <td>165.000000</td>\n",
       "    </tr>\n",
       "    <tr>\n",
       "      <th>mean</th>\n",
       "      <td>38.567273</td>\n",
       "      <td>41.193327</td>\n",
       "      <td>6.825576</td>\n",
       "      <td>46.999793</td>\n",
       "      <td>17183.412121</td>\n",
       "      <td>7.585612</td>\n",
       "      <td>70.505455</td>\n",
       "      <td>2.959818</td>\n",
       "      <td>13011.963636</td>\n",
       "    </tr>\n",
       "    <tr>\n",
       "      <th>std</th>\n",
       "      <td>40.480851</td>\n",
       "      <td>27.560749</td>\n",
       "      <td>2.759425</td>\n",
       "      <td>24.233083</td>\n",
       "      <td>19389.968166</td>\n",
       "      <td>10.198185</td>\n",
       "      <td>8.935045</td>\n",
       "      <td>1.518166</td>\n",
       "      <td>18428.279743</td>\n",
       "    </tr>\n",
       "    <tr>\n",
       "      <th>min</th>\n",
       "      <td>2.600000</td>\n",
       "      <td>0.109000</td>\n",
       "      <td>1.810000</td>\n",
       "      <td>0.065900</td>\n",
       "      <td>609.000000</td>\n",
       "      <td>-4.210000</td>\n",
       "      <td>32.100000</td>\n",
       "      <td>1.150000</td>\n",
       "      <td>231.000000</td>\n",
       "    </tr>\n",
       "    <tr>\n",
       "      <th>25%</th>\n",
       "      <td>7.900000</td>\n",
       "      <td>23.800000</td>\n",
       "      <td>4.930000</td>\n",
       "      <td>30.400000</td>\n",
       "      <td>3340.000000</td>\n",
       "      <td>1.770000</td>\n",
       "      <td>65.300000</td>\n",
       "      <td>1.800000</td>\n",
       "      <td>1310.000000</td>\n",
       "    </tr>\n",
       "    <tr>\n",
       "      <th>50%</th>\n",
       "      <td>19.700000</td>\n",
       "      <td>35.000000</td>\n",
       "      <td>6.320000</td>\n",
       "      <td>43.300000</td>\n",
       "      <td>9940.000000</td>\n",
       "      <td>5.390000</td>\n",
       "      <td>73.100000</td>\n",
       "      <td>2.410000</td>\n",
       "      <td>4660.000000</td>\n",
       "    </tr>\n",
       "    <tr>\n",
       "      <th>75%</th>\n",
       "      <td>62.200000</td>\n",
       "      <td>51.400000</td>\n",
       "      <td>8.650000</td>\n",
       "      <td>58.900000</td>\n",
       "      <td>22900.000000</td>\n",
       "      <td>10.600000</td>\n",
       "      <td>76.800000</td>\n",
       "      <td>3.910000</td>\n",
       "      <td>14600.000000</td>\n",
       "    </tr>\n",
       "    <tr>\n",
       "      <th>max</th>\n",
       "      <td>208.000000</td>\n",
       "      <td>200.000000</td>\n",
       "      <td>17.900000</td>\n",
       "      <td>174.000000</td>\n",
       "      <td>125000.000000</td>\n",
       "      <td>104.000000</td>\n",
       "      <td>82.800000</td>\n",
       "      <td>7.490000</td>\n",
       "      <td>105000.000000</td>\n",
       "    </tr>\n",
       "  </tbody>\n",
       "</table>\n",
       "</div>"
      ],
      "text/plain": [
       "       child_mort     exports      health     imports         income  \\\n",
       "count  165.000000  165.000000  165.000000  165.000000     165.000000   \n",
       "mean    38.567273   41.193327    6.825576   46.999793   17183.412121   \n",
       "std     40.480851   27.560749    2.759425   24.233083   19389.968166   \n",
       "min      2.600000    0.109000    1.810000    0.065900     609.000000   \n",
       "25%      7.900000   23.800000    4.930000   30.400000    3340.000000   \n",
       "50%     19.700000   35.000000    6.320000   43.300000    9940.000000   \n",
       "75%     62.200000   51.400000    8.650000   58.900000   22900.000000   \n",
       "max    208.000000  200.000000   17.900000  174.000000  125000.000000   \n",
       "\n",
       "        inflation  life_expec   total_fer           gdpp  \n",
       "count  165.000000  165.000000  165.000000     165.000000  \n",
       "mean     7.585612   70.505455    2.959818   13011.963636  \n",
       "std     10.198185    8.935045    1.518166   18428.279743  \n",
       "min     -4.210000   32.100000    1.150000     231.000000  \n",
       "25%      1.770000   65.300000    1.800000    1310.000000  \n",
       "50%      5.390000   73.100000    2.410000    4660.000000  \n",
       "75%     10.600000   76.800000    3.910000   14600.000000  \n",
       "max    104.000000   82.800000    7.490000  105000.000000  "
      ]
     },
     "execution_count": 5,
     "metadata": {},
     "output_type": "execute_result"
    }
   ],
   "source": [
    "df_countries.describe()"
   ]
  },
  {
   "cell_type": "code",
   "execution_count": null,
   "metadata": {},
   "outputs": [
    {
     "data": {
      "application/vnd.plotly.v1+json": {
       "config": {
        "plotlyServerURL": "https://plot.ly"
       },
       "data": [
        {
         "hovertemplate": "income_category=%{x}<br>value=%{y}<extra></extra>",
         "legendgroup": "High income",
         "marker": {
          "color": "#636efa",
          "pattern": {
           "shape": ""
          }
         },
         "name": "High income",
         "orientation": "v",
         "showlegend": true,
         "textposition": "auto",
         "type": "bar",
         "x": [
          "High income"
         ],
         "xaxis": "x",
         "y": {
          "bdata": "ED744IMPQEA=",
          "dtype": "f8"
         },
         "yaxis": "y"
        },
        {
         "hovertemplate": "income_category=%{x}<br>value=%{y}<extra></extra>",
         "legendgroup": "Lower middle income",
         "marker": {
          "color": "#EF553B",
          "pattern": {
           "shape": ""
          }
         },
         "name": "Lower middle income",
         "orientation": "v",
         "showlegend": true,
         "textposition": "auto",
         "type": "bar",
         "x": [
          "Lower middle income"
         ],
         "xaxis": "x",
         "y": {
          "bdata": "fPDBBx98PEA=",
          "dtype": "f8"
         },
         "yaxis": "y"
        },
        {
         "hovertemplate": "income_category=%{x}<br>value=%{y}<extra></extra>",
         "legendgroup": "Upper middle income",
         "marker": {
          "color": "#00cc96",
          "pattern": {
           "shape": ""
          }
         },
         "name": "Upper middle income",
         "orientation": "v",
         "showlegend": true,
         "textposition": "auto",
         "type": "bar",
         "x": [
          "Upper middle income"
         ],
         "xaxis": "x",
         "y": {
          "bdata": "q6qqqqqqOkA=",
          "dtype": "f8"
         },
         "yaxis": "y"
        },
        {
         "hovertemplate": "income_category=%{x}<br>value=%{y}<extra></extra>",
         "legendgroup": "Low income",
         "marker": {
          "color": "#ab63fa",
          "pattern": {
           "shape": ""
          }
         },
         "name": "Low income",
         "orientation": "v",
         "showlegend": true,
         "textposition": "auto",
         "type": "bar",
         "x": [
          "Low income"
         ],
         "xaxis": "x",
         "y": {
          "bdata": "dNFFF110KUA=",
          "dtype": "f8"
         },
         "yaxis": "y"
        }
       ],
       "layout": {
        "barmode": "relative",
        "legend": {
         "title": {
          "text": "income_category"
         },
         "tracegroupgap": 0
        },
        "margin": {
         "t": 60
        },
        "template": {
         "data": {
          "bar": [
           {
            "error_x": {
             "color": "#2a3f5f"
            },
            "error_y": {
             "color": "#2a3f5f"
            },
            "marker": {
             "line": {
              "color": "#E5ECF6",
              "width": 0.5
             },
             "pattern": {
              "fillmode": "overlay",
              "size": 10,
              "solidity": 0.2
             }
            },
            "type": "bar"
           }
          ],
          "barpolar": [
           {
            "marker": {
             "line": {
              "color": "#E5ECF6",
              "width": 0.5
             },
             "pattern": {
              "fillmode": "overlay",
              "size": 10,
              "solidity": 0.2
             }
            },
            "type": "barpolar"
           }
          ],
          "carpet": [
           {
            "aaxis": {
             "endlinecolor": "#2a3f5f",
             "gridcolor": "white",
             "linecolor": "white",
             "minorgridcolor": "white",
             "startlinecolor": "#2a3f5f"
            },
            "baxis": {
             "endlinecolor": "#2a3f5f",
             "gridcolor": "white",
             "linecolor": "white",
             "minorgridcolor": "white",
             "startlinecolor": "#2a3f5f"
            },
            "type": "carpet"
           }
          ],
          "choropleth": [
           {
            "colorbar": {
             "outlinewidth": 0,
             "ticks": ""
            },
            "type": "choropleth"
           }
          ],
          "contour": [
           {
            "colorbar": {
             "outlinewidth": 0,
             "ticks": ""
            },
            "colorscale": [
             [
              0,
              "#0d0887"
             ],
             [
              0.1111111111111111,
              "#46039f"
             ],
             [
              0.2222222222222222,
              "#7201a8"
             ],
             [
              0.3333333333333333,
              "#9c179e"
             ],
             [
              0.4444444444444444,
              "#bd3786"
             ],
             [
              0.5555555555555556,
              "#d8576b"
             ],
             [
              0.6666666666666666,
              "#ed7953"
             ],
             [
              0.7777777777777778,
              "#fb9f3a"
             ],
             [
              0.8888888888888888,
              "#fdca26"
             ],
             [
              1,
              "#f0f921"
             ]
            ],
            "type": "contour"
           }
          ],
          "contourcarpet": [
           {
            "colorbar": {
             "outlinewidth": 0,
             "ticks": ""
            },
            "type": "contourcarpet"
           }
          ],
          "heatmap": [
           {
            "colorbar": {
             "outlinewidth": 0,
             "ticks": ""
            },
            "colorscale": [
             [
              0,
              "#0d0887"
             ],
             [
              0.1111111111111111,
              "#46039f"
             ],
             [
              0.2222222222222222,
              "#7201a8"
             ],
             [
              0.3333333333333333,
              "#9c179e"
             ],
             [
              0.4444444444444444,
              "#bd3786"
             ],
             [
              0.5555555555555556,
              "#d8576b"
             ],
             [
              0.6666666666666666,
              "#ed7953"
             ],
             [
              0.7777777777777778,
              "#fb9f3a"
             ],
             [
              0.8888888888888888,
              "#fdca26"
             ],
             [
              1,
              "#f0f921"
             ]
            ],
            "type": "heatmap"
           }
          ],
          "histogram": [
           {
            "marker": {
             "pattern": {
              "fillmode": "overlay",
              "size": 10,
              "solidity": 0.2
             }
            },
            "type": "histogram"
           }
          ],
          "histogram2d": [
           {
            "colorbar": {
             "outlinewidth": 0,
             "ticks": ""
            },
            "colorscale": [
             [
              0,
              "#0d0887"
             ],
             [
              0.1111111111111111,
              "#46039f"
             ],
             [
              0.2222222222222222,
              "#7201a8"
             ],
             [
              0.3333333333333333,
              "#9c179e"
             ],
             [
              0.4444444444444444,
              "#bd3786"
             ],
             [
              0.5555555555555556,
              "#d8576b"
             ],
             [
              0.6666666666666666,
              "#ed7953"
             ],
             [
              0.7777777777777778,
              "#fb9f3a"
             ],
             [
              0.8888888888888888,
              "#fdca26"
             ],
             [
              1,
              "#f0f921"
             ]
            ],
            "type": "histogram2d"
           }
          ],
          "histogram2dcontour": [
           {
            "colorbar": {
             "outlinewidth": 0,
             "ticks": ""
            },
            "colorscale": [
             [
              0,
              "#0d0887"
             ],
             [
              0.1111111111111111,
              "#46039f"
             ],
             [
              0.2222222222222222,
              "#7201a8"
             ],
             [
              0.3333333333333333,
              "#9c179e"
             ],
             [
              0.4444444444444444,
              "#bd3786"
             ],
             [
              0.5555555555555556,
              "#d8576b"
             ],
             [
              0.6666666666666666,
              "#ed7953"
             ],
             [
              0.7777777777777778,
              "#fb9f3a"
             ],
             [
              0.8888888888888888,
              "#fdca26"
             ],
             [
              1,
              "#f0f921"
             ]
            ],
            "type": "histogram2dcontour"
           }
          ],
          "mesh3d": [
           {
            "colorbar": {
             "outlinewidth": 0,
             "ticks": ""
            },
            "type": "mesh3d"
           }
          ],
          "parcoords": [
           {
            "line": {
             "colorbar": {
              "outlinewidth": 0,
              "ticks": ""
             }
            },
            "type": "parcoords"
           }
          ],
          "pie": [
           {
            "automargin": true,
            "type": "pie"
           }
          ],
          "scatter": [
           {
            "fillpattern": {
             "fillmode": "overlay",
             "size": 10,
             "solidity": 0.2
            },
            "type": "scatter"
           }
          ],
          "scatter3d": [
           {
            "line": {
             "colorbar": {
              "outlinewidth": 0,
              "ticks": ""
             }
            },
            "marker": {
             "colorbar": {
              "outlinewidth": 0,
              "ticks": ""
             }
            },
            "type": "scatter3d"
           }
          ],
          "scattercarpet": [
           {
            "marker": {
             "colorbar": {
              "outlinewidth": 0,
              "ticks": ""
             }
            },
            "type": "scattercarpet"
           }
          ],
          "scattergeo": [
           {
            "marker": {
             "colorbar": {
              "outlinewidth": 0,
              "ticks": ""
             }
            },
            "type": "scattergeo"
           }
          ],
          "scattergl": [
           {
            "marker": {
             "colorbar": {
              "outlinewidth": 0,
              "ticks": ""
             }
            },
            "type": "scattergl"
           }
          ],
          "scattermap": [
           {
            "marker": {
             "colorbar": {
              "outlinewidth": 0,
              "ticks": ""
             }
            },
            "type": "scattermap"
           }
          ],
          "scattermapbox": [
           {
            "marker": {
             "colorbar": {
              "outlinewidth": 0,
              "ticks": ""
             }
            },
            "type": "scattermapbox"
           }
          ],
          "scatterpolar": [
           {
            "marker": {
             "colorbar": {
              "outlinewidth": 0,
              "ticks": ""
             }
            },
            "type": "scatterpolar"
           }
          ],
          "scatterpolargl": [
           {
            "marker": {
             "colorbar": {
              "outlinewidth": 0,
              "ticks": ""
             }
            },
            "type": "scatterpolargl"
           }
          ],
          "scatterternary": [
           {
            "marker": {
             "colorbar": {
              "outlinewidth": 0,
              "ticks": ""
             }
            },
            "type": "scatterternary"
           }
          ],
          "surface": [
           {
            "colorbar": {
             "outlinewidth": 0,
             "ticks": ""
            },
            "colorscale": [
             [
              0,
              "#0d0887"
             ],
             [
              0.1111111111111111,
              "#46039f"
             ],
             [
              0.2222222222222222,
              "#7201a8"
             ],
             [
              0.3333333333333333,
              "#9c179e"
             ],
             [
              0.4444444444444444,
              "#bd3786"
             ],
             [
              0.5555555555555556,
              "#d8576b"
             ],
             [
              0.6666666666666666,
              "#ed7953"
             ],
             [
              0.7777777777777778,
              "#fb9f3a"
             ],
             [
              0.8888888888888888,
              "#fdca26"
             ],
             [
              1,
              "#f0f921"
             ]
            ],
            "type": "surface"
           }
          ],
          "table": [
           {
            "cells": {
             "fill": {
              "color": "#EBF0F8"
             },
             "line": {
              "color": "white"
             }
            },
            "header": {
             "fill": {
              "color": "#C8D4E3"
             },
             "line": {
              "color": "white"
             }
            },
            "type": "table"
           }
          ]
         },
         "layout": {
          "annotationdefaults": {
           "arrowcolor": "#2a3f5f",
           "arrowhead": 0,
           "arrowwidth": 1
          },
          "autotypenumbers": "strict",
          "coloraxis": {
           "colorbar": {
            "outlinewidth": 0,
            "ticks": ""
           }
          },
          "colorscale": {
           "diverging": [
            [
             0,
             "#8e0152"
            ],
            [
             0.1,
             "#c51b7d"
            ],
            [
             0.2,
             "#de77ae"
            ],
            [
             0.3,
             "#f1b6da"
            ],
            [
             0.4,
             "#fde0ef"
            ],
            [
             0.5,
             "#f7f7f7"
            ],
            [
             0.6,
             "#e6f5d0"
            ],
            [
             0.7,
             "#b8e186"
            ],
            [
             0.8,
             "#7fbc41"
            ],
            [
             0.9,
             "#4d9221"
            ],
            [
             1,
             "#276419"
            ]
           ],
           "sequential": [
            [
             0,
             "#0d0887"
            ],
            [
             0.1111111111111111,
             "#46039f"
            ],
            [
             0.2222222222222222,
             "#7201a8"
            ],
            [
             0.3333333333333333,
             "#9c179e"
            ],
            [
             0.4444444444444444,
             "#bd3786"
            ],
            [
             0.5555555555555556,
             "#d8576b"
            ],
            [
             0.6666666666666666,
             "#ed7953"
            ],
            [
             0.7777777777777778,
             "#fb9f3a"
            ],
            [
             0.8888888888888888,
             "#fdca26"
            ],
            [
             1,
             "#f0f921"
            ]
           ],
           "sequentialminus": [
            [
             0,
             "#0d0887"
            ],
            [
             0.1111111111111111,
             "#46039f"
            ],
            [
             0.2222222222222222,
             "#7201a8"
            ],
            [
             0.3333333333333333,
             "#9c179e"
            ],
            [
             0.4444444444444444,
             "#bd3786"
            ],
            [
             0.5555555555555556,
             "#d8576b"
            ],
            [
             0.6666666666666666,
             "#ed7953"
            ],
            [
             0.7777777777777778,
             "#fb9f3a"
            ],
            [
             0.8888888888888888,
             "#fdca26"
            ],
            [
             1,
             "#f0f921"
            ]
           ]
          },
          "colorway": [
           "#636efa",
           "#EF553B",
           "#00cc96",
           "#ab63fa",
           "#FFA15A",
           "#19d3f3",
           "#FF6692",
           "#B6E880",
           "#FF97FF",
           "#FECB52"
          ],
          "font": {
           "color": "#2a3f5f"
          },
          "geo": {
           "bgcolor": "white",
           "lakecolor": "white",
           "landcolor": "#E5ECF6",
           "showlakes": true,
           "showland": true,
           "subunitcolor": "white"
          },
          "hoverlabel": {
           "align": "left"
          },
          "hovermode": "closest",
          "mapbox": {
           "style": "light"
          },
          "paper_bgcolor": "white",
          "plot_bgcolor": "#E5ECF6",
          "polar": {
           "angularaxis": {
            "gridcolor": "white",
            "linecolor": "white",
            "ticks": ""
           },
           "bgcolor": "#E5ECF6",
           "radialaxis": {
            "gridcolor": "white",
            "linecolor": "white",
            "ticks": ""
           }
          },
          "scene": {
           "xaxis": {
            "backgroundcolor": "#E5ECF6",
            "gridcolor": "white",
            "gridwidth": 2,
            "linecolor": "white",
            "showbackground": true,
            "ticks": "",
            "zerolinecolor": "white"
           },
           "yaxis": {
            "backgroundcolor": "#E5ECF6",
            "gridcolor": "white",
            "gridwidth": 2,
            "linecolor": "white",
            "showbackground": true,
            "ticks": "",
            "zerolinecolor": "white"
           },
           "zaxis": {
            "backgroundcolor": "#E5ECF6",
            "gridcolor": "white",
            "gridwidth": 2,
            "linecolor": "white",
            "showbackground": true,
            "ticks": "",
            "zerolinecolor": "white"
           }
          },
          "shapedefaults": {
           "line": {
            "color": "#2a3f5f"
           }
          },
          "ternary": {
           "aaxis": {
            "gridcolor": "white",
            "linecolor": "white",
            "ticks": ""
           },
           "baxis": {
            "gridcolor": "white",
            "linecolor": "white",
            "ticks": ""
           },
           "bgcolor": "#E5ECF6",
           "caxis": {
            "gridcolor": "white",
            "linecolor": "white",
            "ticks": ""
           }
          },
          "title": {
           "x": 0.05
          },
          "xaxis": {
           "automargin": true,
           "gridcolor": "white",
           "linecolor": "white",
           "ticks": "",
           "title": {
            "standoff": 15
           },
           "zerolinecolor": "white",
           "zerolinewidth": 2
          },
          "yaxis": {
           "automargin": true,
           "gridcolor": "white",
           "linecolor": "white",
           "ticks": "",
           "title": {
            "standoff": 15
           },
           "zerolinecolor": "white",
           "zerolinewidth": 2
          }
         }
        },
        "xaxis": {
         "anchor": "y",
         "categoryarray": [
          "High income",
          "Lower middle income",
          "Upper middle income",
          "Low income"
         ],
         "categoryorder": "array",
         "domain": [
          0,
          1
         ],
         "title": {
          "text": "income_category"
         }
        },
        "yaxis": {
         "anchor": "x",
         "domain": [
          0,
          1
         ],
         "title": {
          "text": "value"
         }
        }
       }
      }
     },
     "metadata": {},
     "output_type": "display_data"
    }
   ],
   "source": [
    "# Visualizando distribuição de renda por categoria\n",
    "percentual_income_categoty = df_countries.value_counts('income_category') / len(df_countries) * 100\n",
    "px.bar(percentual_income_categoty, color=percentual_income_categoty.index)"
   ]
  },
  {
   "cell_type": "code",
   "execution_count": 38,
   "metadata": {},
   "outputs": [
    {
     "data": {
      "application/vnd.plotly.v1+json": {
       "config": {
        "plotlyServerURL": "https://plot.ly"
       },
       "data": [
        {
         "bingroup": "x",
         "hovertemplate": "variable=income<br>value=%{x}<br>count=%{y}<extra></extra>",
         "legendgroup": "income",
         "marker": {
          "color": "#636efa",
          "pattern": {
           "shape": ""
          }
         },
         "name": "income",
         "orientation": "v",
         "showlegend": true,
         "type": "histogram",
         "x": {
          "bdata": "SgYAAMomAABkMgAADBcAAJxKAAAMSQAALBoAALihAADAqAAAgD4AAHRZAACMoAAAiAkAAMQ7AABIPwAAjKAAAMgeAAAcBwAAFBkAACIVAAD4JQAA9DMAAKQ4AADYOgEAxDsAAJYFAAD8AgAA2AkAAGQKAAD8ngAAxhYAAHgDAACKBwAAyEsAADolAACUKgAAggUAAGECAABGFAAAyDIAAIIKAACETgAAbIQAAIxuAADgqwAAXCsAAIYkAACEJgAAhBwAAKSDAACMBQAArFgAALYcAAB4mwAAJJAAACg8AAB8BgAAShoAANCdAAD0CwAAHHAAAMArAAA2GgAApgQAAG4FAADQFgAA3AUAABxXAACQlwAAOhEAAO4gAAD4QwAAnDEAAISyAACgcwAAaI0AAEAfAADYiwAA/iQAAIROAACwCQAAwgYAAMAlAQDmCgAAjA8AAHxHAACsPwAATAkAALwCAACgcwAAbFIAADRmAQBuBQAABgQAAGxSAAAEKQAATgcAAIxuAAD4DAAAHD4AAAwNAABGDwAAHh4AALA2AAAoGQAAlgMAAIgOAAAMIQAAxgcAALyxAAAsfgAALgMAAB4UAABc8wAA9LAAALgQAAAoPAAAehwAAOgmAADgFQAAKFUAAEBqAABI6AEAiEUAADxaAABGBQAAGBUAAFixAACECAAAnDEAALBPAADEBAAApBkBAHBiAAAccAAA9AYAAOAuAADAdgAA9H4AAHAhAADAJgAAKg0AAHg3AACUpwAAzNgAAD4IAAAqCAAAvDQAADoHAAC6BAAAdBMAAKAoAABQRgAA1CYAAAQGAACMHgAAAOEAAGiNAAD4wAAAzEIAAJAQAACGCwAAihEAAIARAADQDAAA",
          "dtype": "i4"
         },
         "xaxis": "x",
         "yaxis": "y"
        }
       ],
       "layout": {
        "barmode": "relative",
        "legend": {
         "title": {
          "text": "variable"
         },
         "tracegroupgap": 0
        },
        "template": {
         "data": {
          "bar": [
           {
            "error_x": {
             "color": "#2a3f5f"
            },
            "error_y": {
             "color": "#2a3f5f"
            },
            "marker": {
             "line": {
              "color": "#E5ECF6",
              "width": 0.5
             },
             "pattern": {
              "fillmode": "overlay",
              "size": 10,
              "solidity": 0.2
             }
            },
            "type": "bar"
           }
          ],
          "barpolar": [
           {
            "marker": {
             "line": {
              "color": "#E5ECF6",
              "width": 0.5
             },
             "pattern": {
              "fillmode": "overlay",
              "size": 10,
              "solidity": 0.2
             }
            },
            "type": "barpolar"
           }
          ],
          "carpet": [
           {
            "aaxis": {
             "endlinecolor": "#2a3f5f",
             "gridcolor": "white",
             "linecolor": "white",
             "minorgridcolor": "white",
             "startlinecolor": "#2a3f5f"
            },
            "baxis": {
             "endlinecolor": "#2a3f5f",
             "gridcolor": "white",
             "linecolor": "white",
             "minorgridcolor": "white",
             "startlinecolor": "#2a3f5f"
            },
            "type": "carpet"
           }
          ],
          "choropleth": [
           {
            "colorbar": {
             "outlinewidth": 0,
             "ticks": ""
            },
            "type": "choropleth"
           }
          ],
          "contour": [
           {
            "colorbar": {
             "outlinewidth": 0,
             "ticks": ""
            },
            "colorscale": [
             [
              0,
              "#0d0887"
             ],
             [
              0.1111111111111111,
              "#46039f"
             ],
             [
              0.2222222222222222,
              "#7201a8"
             ],
             [
              0.3333333333333333,
              "#9c179e"
             ],
             [
              0.4444444444444444,
              "#bd3786"
             ],
             [
              0.5555555555555556,
              "#d8576b"
             ],
             [
              0.6666666666666666,
              "#ed7953"
             ],
             [
              0.7777777777777778,
              "#fb9f3a"
             ],
             [
              0.8888888888888888,
              "#fdca26"
             ],
             [
              1,
              "#f0f921"
             ]
            ],
            "type": "contour"
           }
          ],
          "contourcarpet": [
           {
            "colorbar": {
             "outlinewidth": 0,
             "ticks": ""
            },
            "type": "contourcarpet"
           }
          ],
          "heatmap": [
           {
            "colorbar": {
             "outlinewidth": 0,
             "ticks": ""
            },
            "colorscale": [
             [
              0,
              "#0d0887"
             ],
             [
              0.1111111111111111,
              "#46039f"
             ],
             [
              0.2222222222222222,
              "#7201a8"
             ],
             [
              0.3333333333333333,
              "#9c179e"
             ],
             [
              0.4444444444444444,
              "#bd3786"
             ],
             [
              0.5555555555555556,
              "#d8576b"
             ],
             [
              0.6666666666666666,
              "#ed7953"
             ],
             [
              0.7777777777777778,
              "#fb9f3a"
             ],
             [
              0.8888888888888888,
              "#fdca26"
             ],
             [
              1,
              "#f0f921"
             ]
            ],
            "type": "heatmap"
           }
          ],
          "histogram": [
           {
            "marker": {
             "pattern": {
              "fillmode": "overlay",
              "size": 10,
              "solidity": 0.2
             }
            },
            "type": "histogram"
           }
          ],
          "histogram2d": [
           {
            "colorbar": {
             "outlinewidth": 0,
             "ticks": ""
            },
            "colorscale": [
             [
              0,
              "#0d0887"
             ],
             [
              0.1111111111111111,
              "#46039f"
             ],
             [
              0.2222222222222222,
              "#7201a8"
             ],
             [
              0.3333333333333333,
              "#9c179e"
             ],
             [
              0.4444444444444444,
              "#bd3786"
             ],
             [
              0.5555555555555556,
              "#d8576b"
             ],
             [
              0.6666666666666666,
              "#ed7953"
             ],
             [
              0.7777777777777778,
              "#fb9f3a"
             ],
             [
              0.8888888888888888,
              "#fdca26"
             ],
             [
              1,
              "#f0f921"
             ]
            ],
            "type": "histogram2d"
           }
          ],
          "histogram2dcontour": [
           {
            "colorbar": {
             "outlinewidth": 0,
             "ticks": ""
            },
            "colorscale": [
             [
              0,
              "#0d0887"
             ],
             [
              0.1111111111111111,
              "#46039f"
             ],
             [
              0.2222222222222222,
              "#7201a8"
             ],
             [
              0.3333333333333333,
              "#9c179e"
             ],
             [
              0.4444444444444444,
              "#bd3786"
             ],
             [
              0.5555555555555556,
              "#d8576b"
             ],
             [
              0.6666666666666666,
              "#ed7953"
             ],
             [
              0.7777777777777778,
              "#fb9f3a"
             ],
             [
              0.8888888888888888,
              "#fdca26"
             ],
             [
              1,
              "#f0f921"
             ]
            ],
            "type": "histogram2dcontour"
           }
          ],
          "mesh3d": [
           {
            "colorbar": {
             "outlinewidth": 0,
             "ticks": ""
            },
            "type": "mesh3d"
           }
          ],
          "parcoords": [
           {
            "line": {
             "colorbar": {
              "outlinewidth": 0,
              "ticks": ""
             }
            },
            "type": "parcoords"
           }
          ],
          "pie": [
           {
            "automargin": true,
            "type": "pie"
           }
          ],
          "scatter": [
           {
            "fillpattern": {
             "fillmode": "overlay",
             "size": 10,
             "solidity": 0.2
            },
            "type": "scatter"
           }
          ],
          "scatter3d": [
           {
            "line": {
             "colorbar": {
              "outlinewidth": 0,
              "ticks": ""
             }
            },
            "marker": {
             "colorbar": {
              "outlinewidth": 0,
              "ticks": ""
             }
            },
            "type": "scatter3d"
           }
          ],
          "scattercarpet": [
           {
            "marker": {
             "colorbar": {
              "outlinewidth": 0,
              "ticks": ""
             }
            },
            "type": "scattercarpet"
           }
          ],
          "scattergeo": [
           {
            "marker": {
             "colorbar": {
              "outlinewidth": 0,
              "ticks": ""
             }
            },
            "type": "scattergeo"
           }
          ],
          "scattergl": [
           {
            "marker": {
             "colorbar": {
              "outlinewidth": 0,
              "ticks": ""
             }
            },
            "type": "scattergl"
           }
          ],
          "scattermap": [
           {
            "marker": {
             "colorbar": {
              "outlinewidth": 0,
              "ticks": ""
             }
            },
            "type": "scattermap"
           }
          ],
          "scattermapbox": [
           {
            "marker": {
             "colorbar": {
              "outlinewidth": 0,
              "ticks": ""
             }
            },
            "type": "scattermapbox"
           }
          ],
          "scatterpolar": [
           {
            "marker": {
             "colorbar": {
              "outlinewidth": 0,
              "ticks": ""
             }
            },
            "type": "scatterpolar"
           }
          ],
          "scatterpolargl": [
           {
            "marker": {
             "colorbar": {
              "outlinewidth": 0,
              "ticks": ""
             }
            },
            "type": "scatterpolargl"
           }
          ],
          "scatterternary": [
           {
            "marker": {
             "colorbar": {
              "outlinewidth": 0,
              "ticks": ""
             }
            },
            "type": "scatterternary"
           }
          ],
          "surface": [
           {
            "colorbar": {
             "outlinewidth": 0,
             "ticks": ""
            },
            "colorscale": [
             [
              0,
              "#0d0887"
             ],
             [
              0.1111111111111111,
              "#46039f"
             ],
             [
              0.2222222222222222,
              "#7201a8"
             ],
             [
              0.3333333333333333,
              "#9c179e"
             ],
             [
              0.4444444444444444,
              "#bd3786"
             ],
             [
              0.5555555555555556,
              "#d8576b"
             ],
             [
              0.6666666666666666,
              "#ed7953"
             ],
             [
              0.7777777777777778,
              "#fb9f3a"
             ],
             [
              0.8888888888888888,
              "#fdca26"
             ],
             [
              1,
              "#f0f921"
             ]
            ],
            "type": "surface"
           }
          ],
          "table": [
           {
            "cells": {
             "fill": {
              "color": "#EBF0F8"
             },
             "line": {
              "color": "white"
             }
            },
            "header": {
             "fill": {
              "color": "#C8D4E3"
             },
             "line": {
              "color": "white"
             }
            },
            "type": "table"
           }
          ]
         },
         "layout": {
          "annotationdefaults": {
           "arrowcolor": "#2a3f5f",
           "arrowhead": 0,
           "arrowwidth": 1
          },
          "autotypenumbers": "strict",
          "coloraxis": {
           "colorbar": {
            "outlinewidth": 0,
            "ticks": ""
           }
          },
          "colorscale": {
           "diverging": [
            [
             0,
             "#8e0152"
            ],
            [
             0.1,
             "#c51b7d"
            ],
            [
             0.2,
             "#de77ae"
            ],
            [
             0.3,
             "#f1b6da"
            ],
            [
             0.4,
             "#fde0ef"
            ],
            [
             0.5,
             "#f7f7f7"
            ],
            [
             0.6,
             "#e6f5d0"
            ],
            [
             0.7,
             "#b8e186"
            ],
            [
             0.8,
             "#7fbc41"
            ],
            [
             0.9,
             "#4d9221"
            ],
            [
             1,
             "#276419"
            ]
           ],
           "sequential": [
            [
             0,
             "#0d0887"
            ],
            [
             0.1111111111111111,
             "#46039f"
            ],
            [
             0.2222222222222222,
             "#7201a8"
            ],
            [
             0.3333333333333333,
             "#9c179e"
            ],
            [
             0.4444444444444444,
             "#bd3786"
            ],
            [
             0.5555555555555556,
             "#d8576b"
            ],
            [
             0.6666666666666666,
             "#ed7953"
            ],
            [
             0.7777777777777778,
             "#fb9f3a"
            ],
            [
             0.8888888888888888,
             "#fdca26"
            ],
            [
             1,
             "#f0f921"
            ]
           ],
           "sequentialminus": [
            [
             0,
             "#0d0887"
            ],
            [
             0.1111111111111111,
             "#46039f"
            ],
            [
             0.2222222222222222,
             "#7201a8"
            ],
            [
             0.3333333333333333,
             "#9c179e"
            ],
            [
             0.4444444444444444,
             "#bd3786"
            ],
            [
             0.5555555555555556,
             "#d8576b"
            ],
            [
             0.6666666666666666,
             "#ed7953"
            ],
            [
             0.7777777777777778,
             "#fb9f3a"
            ],
            [
             0.8888888888888888,
             "#fdca26"
            ],
            [
             1,
             "#f0f921"
            ]
           ]
          },
          "colorway": [
           "#636efa",
           "#EF553B",
           "#00cc96",
           "#ab63fa",
           "#FFA15A",
           "#19d3f3",
           "#FF6692",
           "#B6E880",
           "#FF97FF",
           "#FECB52"
          ],
          "font": {
           "color": "#2a3f5f"
          },
          "geo": {
           "bgcolor": "white",
           "lakecolor": "white",
           "landcolor": "#E5ECF6",
           "showlakes": true,
           "showland": true,
           "subunitcolor": "white"
          },
          "hoverlabel": {
           "align": "left"
          },
          "hovermode": "closest",
          "mapbox": {
           "style": "light"
          },
          "paper_bgcolor": "white",
          "plot_bgcolor": "#E5ECF6",
          "polar": {
           "angularaxis": {
            "gridcolor": "white",
            "linecolor": "white",
            "ticks": ""
           },
           "bgcolor": "#E5ECF6",
           "radialaxis": {
            "gridcolor": "white",
            "linecolor": "white",
            "ticks": ""
           }
          },
          "scene": {
           "xaxis": {
            "backgroundcolor": "#E5ECF6",
            "gridcolor": "white",
            "gridwidth": 2,
            "linecolor": "white",
            "showbackground": true,
            "ticks": "",
            "zerolinecolor": "white"
           },
           "yaxis": {
            "backgroundcolor": "#E5ECF6",
            "gridcolor": "white",
            "gridwidth": 2,
            "linecolor": "white",
            "showbackground": true,
            "ticks": "",
            "zerolinecolor": "white"
           },
           "zaxis": {
            "backgroundcolor": "#E5ECF6",
            "gridcolor": "white",
            "gridwidth": 2,
            "linecolor": "white",
            "showbackground": true,
            "ticks": "",
            "zerolinecolor": "white"
           }
          },
          "shapedefaults": {
           "line": {
            "color": "#2a3f5f"
           }
          },
          "ternary": {
           "aaxis": {
            "gridcolor": "white",
            "linecolor": "white",
            "ticks": ""
           },
           "baxis": {
            "gridcolor": "white",
            "linecolor": "white",
            "ticks": ""
           },
           "bgcolor": "#E5ECF6",
           "caxis": {
            "gridcolor": "white",
            "linecolor": "white",
            "ticks": ""
           }
          },
          "title": {
           "x": 0.05
          },
          "xaxis": {
           "automargin": true,
           "gridcolor": "white",
           "linecolor": "white",
           "ticks": "",
           "title": {
            "standoff": 15
           },
           "zerolinecolor": "white",
           "zerolinewidth": 2
          },
          "yaxis": {
           "automargin": true,
           "gridcolor": "white",
           "linecolor": "white",
           "ticks": "",
           "title": {
            "standoff": 15
           },
           "zerolinecolor": "white",
           "zerolinewidth": 2
          }
         }
        },
        "title": {
         "text": "Histograma da Variável Income"
        },
        "xaxis": {
         "anchor": "y",
         "domain": [
          0,
          1
         ],
         "title": {
          "text": "value"
         }
        },
        "yaxis": {
         "anchor": "x",
         "domain": [
          0,
          1
         ],
         "title": {
          "text": "count"
         }
        }
       }
      }
     },
     "metadata": {},
     "output_type": "display_data"
    }
   ],
   "source": [
    "# Distribuição de renda\n",
    "px.histogram(df_countries['income'], title='Histograma da Variável Income')"
   ]
  },
  {
   "cell_type": "code",
   "execution_count": null,
   "metadata": {},
   "outputs": [
    {
     "data": {
      "application/vnd.plotly.v1+json": {
       "config": {
        "plotlyServerURL": "https://plot.ly"
       },
       "data": [
        {
         "bingroup": "x",
         "hovertemplate": "variable=gdpp<br>value=%{x}<br>count=%{y}<extra></extra>",
         "legendgroup": "gdpp",
         "marker": {
          "color": "#636efa",
          "pattern": {
           "shape": ""
          }
         },
         "name": "gdpp",
         "orientation": "v",
         "showlegend": true,
         "type": "histogram",
         "x": {
          "bdata": "KQIAAPoPAABsEQAAyg0AAKgvAAA8KAAAlAwAALzKAAA0twAA0BYAAGBtAADcUAAA9gIAAIA+AACOFwAAcK0AAPQQAAD2AgAAhAgAALwHAAACEgAAzhgAAMArAADkiQAAuBoAAD8CAADnAAAAEgMAAB4FAAAouQAA7gwAAL4BAACBAwAAZDIAANARAABqGAAAAQMAAE4BAAC0CgAACCAAAMQEAAC8NAAAUHgAAFhNAACQ4gAAShUAADQSAAAoCgAArgsAAMxCAADiAQAACDkAAEIOAAB4tAAAmJ4AAC4iAAAyAgAAkAsAAEijAAAeBQAAFGkAAMocAAAOCwAAiAIAACMCAADgCwAAlgIAACwzAACsowAARgUAACYMAACCGQAAlBEAADy+AACIdwAA2IsAAEgSAADUrQAAYA4AAG4jAADHAwAA0gUAAGSWAABwAwAAdAQAACQsAACcIgAAkgQAAEcBAABELwAA4C4AACiaAQCdAQAAywEAAG4jAAC8GwAAxAIAAGxSAACwBAAAQB8AACwLAABeBgAAWgoAABgaAAAOCwAAowEAANwDAABGFAAAUAIAAHzEAACkgwAAXAEAABoJAAD4VgEAZEsAABAEAACQHwAAngwAAJwTAABSCAAAODEAAORXAACcEgEAJiAAAMwpAAAzAgAAeg0AAGRLAADoAwAAIhUAADAqAACPAQAACLYAANhAAABoWwAACgUAAHAcAABUVgAA7HcAAPoKAABWGAAAyAUAAGwgAACEywAAaCMBAOICAAC+AgAA2BMAABAOAADoAQAA3g0AACwQAADMKQAAWBEAAFMCAACaCwAAuIgAAPSXAAAQvQAAfC4AAGQFAACaCwAAHgUAAB4FAAC0BQAA",
          "dtype": "i4"
         },
         "xaxis": "x",
         "yaxis": "y"
        }
       ],
       "layout": {
        "barmode": "relative",
        "legend": {
         "title": {
          "text": "variable"
         },
         "tracegroupgap": 0
        },
        "template": {
         "data": {
          "bar": [
           {
            "error_x": {
             "color": "#2a3f5f"
            },
            "error_y": {
             "color": "#2a3f5f"
            },
            "marker": {
             "line": {
              "color": "#E5ECF6",
              "width": 0.5
             },
             "pattern": {
              "fillmode": "overlay",
              "size": 10,
              "solidity": 0.2
             }
            },
            "type": "bar"
           }
          ],
          "barpolar": [
           {
            "marker": {
             "line": {
              "color": "#E5ECF6",
              "width": 0.5
             },
             "pattern": {
              "fillmode": "overlay",
              "size": 10,
              "solidity": 0.2
             }
            },
            "type": "barpolar"
           }
          ],
          "carpet": [
           {
            "aaxis": {
             "endlinecolor": "#2a3f5f",
             "gridcolor": "white",
             "linecolor": "white",
             "minorgridcolor": "white",
             "startlinecolor": "#2a3f5f"
            },
            "baxis": {
             "endlinecolor": "#2a3f5f",
             "gridcolor": "white",
             "linecolor": "white",
             "minorgridcolor": "white",
             "startlinecolor": "#2a3f5f"
            },
            "type": "carpet"
           }
          ],
          "choropleth": [
           {
            "colorbar": {
             "outlinewidth": 0,
             "ticks": ""
            },
            "type": "choropleth"
           }
          ],
          "contour": [
           {
            "colorbar": {
             "outlinewidth": 0,
             "ticks": ""
            },
            "colorscale": [
             [
              0,
              "#0d0887"
             ],
             [
              0.1111111111111111,
              "#46039f"
             ],
             [
              0.2222222222222222,
              "#7201a8"
             ],
             [
              0.3333333333333333,
              "#9c179e"
             ],
             [
              0.4444444444444444,
              "#bd3786"
             ],
             [
              0.5555555555555556,
              "#d8576b"
             ],
             [
              0.6666666666666666,
              "#ed7953"
             ],
             [
              0.7777777777777778,
              "#fb9f3a"
             ],
             [
              0.8888888888888888,
              "#fdca26"
             ],
             [
              1,
              "#f0f921"
             ]
            ],
            "type": "contour"
           }
          ],
          "contourcarpet": [
           {
            "colorbar": {
             "outlinewidth": 0,
             "ticks": ""
            },
            "type": "contourcarpet"
           }
          ],
          "heatmap": [
           {
            "colorbar": {
             "outlinewidth": 0,
             "ticks": ""
            },
            "colorscale": [
             [
              0,
              "#0d0887"
             ],
             [
              0.1111111111111111,
              "#46039f"
             ],
             [
              0.2222222222222222,
              "#7201a8"
             ],
             [
              0.3333333333333333,
              "#9c179e"
             ],
             [
              0.4444444444444444,
              "#bd3786"
             ],
             [
              0.5555555555555556,
              "#d8576b"
             ],
             [
              0.6666666666666666,
              "#ed7953"
             ],
             [
              0.7777777777777778,
              "#fb9f3a"
             ],
             [
              0.8888888888888888,
              "#fdca26"
             ],
             [
              1,
              "#f0f921"
             ]
            ],
            "type": "heatmap"
           }
          ],
          "histogram": [
           {
            "marker": {
             "pattern": {
              "fillmode": "overlay",
              "size": 10,
              "solidity": 0.2
             }
            },
            "type": "histogram"
           }
          ],
          "histogram2d": [
           {
            "colorbar": {
             "outlinewidth": 0,
             "ticks": ""
            },
            "colorscale": [
             [
              0,
              "#0d0887"
             ],
             [
              0.1111111111111111,
              "#46039f"
             ],
             [
              0.2222222222222222,
              "#7201a8"
             ],
             [
              0.3333333333333333,
              "#9c179e"
             ],
             [
              0.4444444444444444,
              "#bd3786"
             ],
             [
              0.5555555555555556,
              "#d8576b"
             ],
             [
              0.6666666666666666,
              "#ed7953"
             ],
             [
              0.7777777777777778,
              "#fb9f3a"
             ],
             [
              0.8888888888888888,
              "#fdca26"
             ],
             [
              1,
              "#f0f921"
             ]
            ],
            "type": "histogram2d"
           }
          ],
          "histogram2dcontour": [
           {
            "colorbar": {
             "outlinewidth": 0,
             "ticks": ""
            },
            "colorscale": [
             [
              0,
              "#0d0887"
             ],
             [
              0.1111111111111111,
              "#46039f"
             ],
             [
              0.2222222222222222,
              "#7201a8"
             ],
             [
              0.3333333333333333,
              "#9c179e"
             ],
             [
              0.4444444444444444,
              "#bd3786"
             ],
             [
              0.5555555555555556,
              "#d8576b"
             ],
             [
              0.6666666666666666,
              "#ed7953"
             ],
             [
              0.7777777777777778,
              "#fb9f3a"
             ],
             [
              0.8888888888888888,
              "#fdca26"
             ],
             [
              1,
              "#f0f921"
             ]
            ],
            "type": "histogram2dcontour"
           }
          ],
          "mesh3d": [
           {
            "colorbar": {
             "outlinewidth": 0,
             "ticks": ""
            },
            "type": "mesh3d"
           }
          ],
          "parcoords": [
           {
            "line": {
             "colorbar": {
              "outlinewidth": 0,
              "ticks": ""
             }
            },
            "type": "parcoords"
           }
          ],
          "pie": [
           {
            "automargin": true,
            "type": "pie"
           }
          ],
          "scatter": [
           {
            "fillpattern": {
             "fillmode": "overlay",
             "size": 10,
             "solidity": 0.2
            },
            "type": "scatter"
           }
          ],
          "scatter3d": [
           {
            "line": {
             "colorbar": {
              "outlinewidth": 0,
              "ticks": ""
             }
            },
            "marker": {
             "colorbar": {
              "outlinewidth": 0,
              "ticks": ""
             }
            },
            "type": "scatter3d"
           }
          ],
          "scattercarpet": [
           {
            "marker": {
             "colorbar": {
              "outlinewidth": 0,
              "ticks": ""
             }
            },
            "type": "scattercarpet"
           }
          ],
          "scattergeo": [
           {
            "marker": {
             "colorbar": {
              "outlinewidth": 0,
              "ticks": ""
             }
            },
            "type": "scattergeo"
           }
          ],
          "scattergl": [
           {
            "marker": {
             "colorbar": {
              "outlinewidth": 0,
              "ticks": ""
             }
            },
            "type": "scattergl"
           }
          ],
          "scattermap": [
           {
            "marker": {
             "colorbar": {
              "outlinewidth": 0,
              "ticks": ""
             }
            },
            "type": "scattermap"
           }
          ],
          "scattermapbox": [
           {
            "marker": {
             "colorbar": {
              "outlinewidth": 0,
              "ticks": ""
             }
            },
            "type": "scattermapbox"
           }
          ],
          "scatterpolar": [
           {
            "marker": {
             "colorbar": {
              "outlinewidth": 0,
              "ticks": ""
             }
            },
            "type": "scatterpolar"
           }
          ],
          "scatterpolargl": [
           {
            "marker": {
             "colorbar": {
              "outlinewidth": 0,
              "ticks": ""
             }
            },
            "type": "scatterpolargl"
           }
          ],
          "scatterternary": [
           {
            "marker": {
             "colorbar": {
              "outlinewidth": 0,
              "ticks": ""
             }
            },
            "type": "scatterternary"
           }
          ],
          "surface": [
           {
            "colorbar": {
             "outlinewidth": 0,
             "ticks": ""
            },
            "colorscale": [
             [
              0,
              "#0d0887"
             ],
             [
              0.1111111111111111,
              "#46039f"
             ],
             [
              0.2222222222222222,
              "#7201a8"
             ],
             [
              0.3333333333333333,
              "#9c179e"
             ],
             [
              0.4444444444444444,
              "#bd3786"
             ],
             [
              0.5555555555555556,
              "#d8576b"
             ],
             [
              0.6666666666666666,
              "#ed7953"
             ],
             [
              0.7777777777777778,
              "#fb9f3a"
             ],
             [
              0.8888888888888888,
              "#fdca26"
             ],
             [
              1,
              "#f0f921"
             ]
            ],
            "type": "surface"
           }
          ],
          "table": [
           {
            "cells": {
             "fill": {
              "color": "#EBF0F8"
             },
             "line": {
              "color": "white"
             }
            },
            "header": {
             "fill": {
              "color": "#C8D4E3"
             },
             "line": {
              "color": "white"
             }
            },
            "type": "table"
           }
          ]
         },
         "layout": {
          "annotationdefaults": {
           "arrowcolor": "#2a3f5f",
           "arrowhead": 0,
           "arrowwidth": 1
          },
          "autotypenumbers": "strict",
          "coloraxis": {
           "colorbar": {
            "outlinewidth": 0,
            "ticks": ""
           }
          },
          "colorscale": {
           "diverging": [
            [
             0,
             "#8e0152"
            ],
            [
             0.1,
             "#c51b7d"
            ],
            [
             0.2,
             "#de77ae"
            ],
            [
             0.3,
             "#f1b6da"
            ],
            [
             0.4,
             "#fde0ef"
            ],
            [
             0.5,
             "#f7f7f7"
            ],
            [
             0.6,
             "#e6f5d0"
            ],
            [
             0.7,
             "#b8e186"
            ],
            [
             0.8,
             "#7fbc41"
            ],
            [
             0.9,
             "#4d9221"
            ],
            [
             1,
             "#276419"
            ]
           ],
           "sequential": [
            [
             0,
             "#0d0887"
            ],
            [
             0.1111111111111111,
             "#46039f"
            ],
            [
             0.2222222222222222,
             "#7201a8"
            ],
            [
             0.3333333333333333,
             "#9c179e"
            ],
            [
             0.4444444444444444,
             "#bd3786"
            ],
            [
             0.5555555555555556,
             "#d8576b"
            ],
            [
             0.6666666666666666,
             "#ed7953"
            ],
            [
             0.7777777777777778,
             "#fb9f3a"
            ],
            [
             0.8888888888888888,
             "#fdca26"
            ],
            [
             1,
             "#f0f921"
            ]
           ],
           "sequentialminus": [
            [
             0,
             "#0d0887"
            ],
            [
             0.1111111111111111,
             "#46039f"
            ],
            [
             0.2222222222222222,
             "#7201a8"
            ],
            [
             0.3333333333333333,
             "#9c179e"
            ],
            [
             0.4444444444444444,
             "#bd3786"
            ],
            [
             0.5555555555555556,
             "#d8576b"
            ],
            [
             0.6666666666666666,
             "#ed7953"
            ],
            [
             0.7777777777777778,
             "#fb9f3a"
            ],
            [
             0.8888888888888888,
             "#fdca26"
            ],
            [
             1,
             "#f0f921"
            ]
           ]
          },
          "colorway": [
           "#636efa",
           "#EF553B",
           "#00cc96",
           "#ab63fa",
           "#FFA15A",
           "#19d3f3",
           "#FF6692",
           "#B6E880",
           "#FF97FF",
           "#FECB52"
          ],
          "font": {
           "color": "#2a3f5f"
          },
          "geo": {
           "bgcolor": "white",
           "lakecolor": "white",
           "landcolor": "#E5ECF6",
           "showlakes": true,
           "showland": true,
           "subunitcolor": "white"
          },
          "hoverlabel": {
           "align": "left"
          },
          "hovermode": "closest",
          "mapbox": {
           "style": "light"
          },
          "paper_bgcolor": "white",
          "plot_bgcolor": "#E5ECF6",
          "polar": {
           "angularaxis": {
            "gridcolor": "white",
            "linecolor": "white",
            "ticks": ""
           },
           "bgcolor": "#E5ECF6",
           "radialaxis": {
            "gridcolor": "white",
            "linecolor": "white",
            "ticks": ""
           }
          },
          "scene": {
           "xaxis": {
            "backgroundcolor": "#E5ECF6",
            "gridcolor": "white",
            "gridwidth": 2,
            "linecolor": "white",
            "showbackground": true,
            "ticks": "",
            "zerolinecolor": "white"
           },
           "yaxis": {
            "backgroundcolor": "#E5ECF6",
            "gridcolor": "white",
            "gridwidth": 2,
            "linecolor": "white",
            "showbackground": true,
            "ticks": "",
            "zerolinecolor": "white"
           },
           "zaxis": {
            "backgroundcolor": "#E5ECF6",
            "gridcolor": "white",
            "gridwidth": 2,
            "linecolor": "white",
            "showbackground": true,
            "ticks": "",
            "zerolinecolor": "white"
           }
          },
          "shapedefaults": {
           "line": {
            "color": "#2a3f5f"
           }
          },
          "ternary": {
           "aaxis": {
            "gridcolor": "white",
            "linecolor": "white",
            "ticks": ""
           },
           "baxis": {
            "gridcolor": "white",
            "linecolor": "white",
            "ticks": ""
           },
           "bgcolor": "#E5ECF6",
           "caxis": {
            "gridcolor": "white",
            "linecolor": "white",
            "ticks": ""
           }
          },
          "title": {
           "x": 0.05
          },
          "xaxis": {
           "automargin": true,
           "gridcolor": "white",
           "linecolor": "white",
           "ticks": "",
           "title": {
            "standoff": 15
           },
           "zerolinecolor": "white",
           "zerolinewidth": 2
          },
          "yaxis": {
           "automargin": true,
           "gridcolor": "white",
           "linecolor": "white",
           "ticks": "",
           "title": {
            "standoff": 15
           },
           "zerolinecolor": "white",
           "zerolinewidth": 2
          }
         }
        },
        "title": {
         "text": "Histograma da Variável GDPP (PIB per capita)"
        },
        "xaxis": {
         "anchor": "y",
         "domain": [
          0,
          1
         ],
         "title": {
          "text": "value"
         }
        },
        "yaxis": {
         "anchor": "x",
         "domain": [
          0,
          1
         ],
         "title": {
          "text": "count"
         }
        }
       }
      }
     },
     "metadata": {},
     "output_type": "display_data"
    }
   ],
   "source": [
    "# Distribuição do pib per capita\n",
    "px.histogram(df_countries['gdpp'], title='Histograma da Variável GDPP (PIB per capita)')"
   ]
  },
  {
   "cell_type": "code",
   "execution_count": null,
   "metadata": {},
   "outputs": [
    {
     "data": {
      "application/vnd.plotly.v1+json": {
       "config": {
        "plotlyServerURL": "https://plot.ly"
       },
       "data": [
        {
         "bingroup": "x",
         "hovertemplate": "variable=inflation<br>value=%{x}<br>count=%{y}<extra></extra>",
         "legendgroup": "inflation",
         "marker": {
          "color": "#636efa",
          "pattern": {
           "shape": ""
          }
         },
         "name": "inflation",
         "orientation": "v",
         "showlegend": true,
         "type": "histogram",
         "x": {
          "bdata": "4XoUrkfhIkD2KFyPwvURQJqZmZmZGTBAZmZmZmZmNkAK16NwPQr3P2ZmZmZm5jRAFK5H4XoUH0CPwvUoXI/yP1YOLbKd7+s/mpmZmZmZK0D0/dR46SbZv8P1KFyPwh1Aj8L1KFyPHEAlBoGVQ4vUPzMzMzMzMy5AFK5H4XoU/j89CtejcD3yP1K4HoXrUew/9ihcj8L1F0CPwvUoXI8hQGZmZmZmZvY/16NwPQrXIUBSuB6F69EgQDMzMzMzszBAw/UoXI/C8T89CtejcD0bQJqZmZmZmShA9ihcj8L1CECPwvUoXI/+P/YoXI/C9QZAKVyPwvUo4D8UrkfhehQAQI/C9ShcjxlA7FG4HoXrIUDD9Shcj8IbQOF6FK5H4Q5A9ihcj8L1DkDNzMzMzMw0QDMzMzMzszRASOF6FK5HGkCPwvUoXI8VQBKDwMqhReo/FK5H4XoUAEDhehSuR+H2v8P1KFyPwglAw/UoXI/CFUDhehSuR+EdQDMzMzMzMyRAMzMzMzMzBUBmZmZmZuY4QDMzMzMzMydA16NwPQrX+z/sUbgehesQQBBYObTIdtY/zczMzMzM8D+amZmZmZkwQDMzMzMzMxFAmpmZmZkZIUCoxks3iUHoP5qZmZmZmTBA8KfGSzeJ5T+4HoXrUbjeP4/C9ShcjxRAmpmZmZkZMEDD9Shcj8IHQOxRuB6F6xZAzczMzMzMFUCkcD0K16MCQOF6FK5H4RVA9ihcj8L1IUCamZmZmZkuQM3MzMzMzC9AmpmZmZmZMEDD9Shcj8IJwFK4HoXrUfw/0SLb+X5q1D8fhetRuJ4jQGZmZmZmZv6/XI/C9SjcIEAAAAAAAIAzQLgehetRuABAUrgehetR+D9mZmZmZmYmQAAAAAAAACRAZmZmZmZmIkCWQ4ts5/vpvxBYObTIds4/mpmZmZmZEEDhehSuR+EVQGZmZmZmZixACtejcD0KA0D2KFyPwvUMQBSuR+F6lCFAMzMzMzMzKEAUrkfhehQdQArXo3A9CgdAexSuR+F6EUCkcD0K16MOQGZmZmZm5jJAFK5H4XoU8j9mZmZmZmYOQDMzMzMzMyZAmpmZmZmZQ0CamZmZmZn5PwisHFpkO+8/j8L1KFyPHkApXI/C9SgcQHsUrkfhegxAMzMzMzMzLkCJQWDl0CLrP9ejcD0K1w1AZmZmZmZmBEAAAAAAAABaQM3MzMzMzBdAMzMzMzMzL0DNzMzMzMwlQLgehetRuARAZmZmZmZmGEDXo3A9CtcWQOF6FK5H4RBAj8L1KFyP+j/6fmq8dJPkP+xRuB6F6xtAPQrXo3A9DEBmZmZmZmYsQOF6FK5H4QRAhetRuB6F+z8zMzMzMzMxQJqZmZmZmf0/hetRuB6FF0DXo3A9CtcQwDMzMzMzMzFAWmQ730+Np78K16NwPQrfPy/dJAaBle+/PQrXo3A9G0BmZmZmZmYZQEjhehSuRwlAexSuR+F6xD/NzMzMzMw2QMP1KFyPwhFAmpmZmZmZM0DNzMzMzMwcQIPAyqFFtu8/fT81XrpJ1D8AAAAAAAApQAAAAAAAgCJAUrgehetREEAAAAAAAIA6QOF6FK5H4fI/cT0K16NwDUCPwvUoXI8OQArXo3A9ChxAexSuR+F6AkAzMzMzMzMlQM3MzMzMzCpAAAAAAAAAKUAfhetRuB75P4XrUbgehfM/pHA9CtejE0AAAAAAAIAwQPYoXI/C9QRAMzMzMzMzKECamZmZmZk3QAAAAAAAACxA",
          "dtype": "f8"
         },
         "xaxis": "x",
         "yaxis": "y"
        }
       ],
       "layout": {
        "barmode": "relative",
        "legend": {
         "title": {
          "text": "variable"
         },
         "tracegroupgap": 0
        },
        "template": {
         "data": {
          "bar": [
           {
            "error_x": {
             "color": "#2a3f5f"
            },
            "error_y": {
             "color": "#2a3f5f"
            },
            "marker": {
             "line": {
              "color": "#E5ECF6",
              "width": 0.5
             },
             "pattern": {
              "fillmode": "overlay",
              "size": 10,
              "solidity": 0.2
             }
            },
            "type": "bar"
           }
          ],
          "barpolar": [
           {
            "marker": {
             "line": {
              "color": "#E5ECF6",
              "width": 0.5
             },
             "pattern": {
              "fillmode": "overlay",
              "size": 10,
              "solidity": 0.2
             }
            },
            "type": "barpolar"
           }
          ],
          "carpet": [
           {
            "aaxis": {
             "endlinecolor": "#2a3f5f",
             "gridcolor": "white",
             "linecolor": "white",
             "minorgridcolor": "white",
             "startlinecolor": "#2a3f5f"
            },
            "baxis": {
             "endlinecolor": "#2a3f5f",
             "gridcolor": "white",
             "linecolor": "white",
             "minorgridcolor": "white",
             "startlinecolor": "#2a3f5f"
            },
            "type": "carpet"
           }
          ],
          "choropleth": [
           {
            "colorbar": {
             "outlinewidth": 0,
             "ticks": ""
            },
            "type": "choropleth"
           }
          ],
          "contour": [
           {
            "colorbar": {
             "outlinewidth": 0,
             "ticks": ""
            },
            "colorscale": [
             [
              0,
              "#0d0887"
             ],
             [
              0.1111111111111111,
              "#46039f"
             ],
             [
              0.2222222222222222,
              "#7201a8"
             ],
             [
              0.3333333333333333,
              "#9c179e"
             ],
             [
              0.4444444444444444,
              "#bd3786"
             ],
             [
              0.5555555555555556,
              "#d8576b"
             ],
             [
              0.6666666666666666,
              "#ed7953"
             ],
             [
              0.7777777777777778,
              "#fb9f3a"
             ],
             [
              0.8888888888888888,
              "#fdca26"
             ],
             [
              1,
              "#f0f921"
             ]
            ],
            "type": "contour"
           }
          ],
          "contourcarpet": [
           {
            "colorbar": {
             "outlinewidth": 0,
             "ticks": ""
            },
            "type": "contourcarpet"
           }
          ],
          "heatmap": [
           {
            "colorbar": {
             "outlinewidth": 0,
             "ticks": ""
            },
            "colorscale": [
             [
              0,
              "#0d0887"
             ],
             [
              0.1111111111111111,
              "#46039f"
             ],
             [
              0.2222222222222222,
              "#7201a8"
             ],
             [
              0.3333333333333333,
              "#9c179e"
             ],
             [
              0.4444444444444444,
              "#bd3786"
             ],
             [
              0.5555555555555556,
              "#d8576b"
             ],
             [
              0.6666666666666666,
              "#ed7953"
             ],
             [
              0.7777777777777778,
              "#fb9f3a"
             ],
             [
              0.8888888888888888,
              "#fdca26"
             ],
             [
              1,
              "#f0f921"
             ]
            ],
            "type": "heatmap"
           }
          ],
          "histogram": [
           {
            "marker": {
             "pattern": {
              "fillmode": "overlay",
              "size": 10,
              "solidity": 0.2
             }
            },
            "type": "histogram"
           }
          ],
          "histogram2d": [
           {
            "colorbar": {
             "outlinewidth": 0,
             "ticks": ""
            },
            "colorscale": [
             [
              0,
              "#0d0887"
             ],
             [
              0.1111111111111111,
              "#46039f"
             ],
             [
              0.2222222222222222,
              "#7201a8"
             ],
             [
              0.3333333333333333,
              "#9c179e"
             ],
             [
              0.4444444444444444,
              "#bd3786"
             ],
             [
              0.5555555555555556,
              "#d8576b"
             ],
             [
              0.6666666666666666,
              "#ed7953"
             ],
             [
              0.7777777777777778,
              "#fb9f3a"
             ],
             [
              0.8888888888888888,
              "#fdca26"
             ],
             [
              1,
              "#f0f921"
             ]
            ],
            "type": "histogram2d"
           }
          ],
          "histogram2dcontour": [
           {
            "colorbar": {
             "outlinewidth": 0,
             "ticks": ""
            },
            "colorscale": [
             [
              0,
              "#0d0887"
             ],
             [
              0.1111111111111111,
              "#46039f"
             ],
             [
              0.2222222222222222,
              "#7201a8"
             ],
             [
              0.3333333333333333,
              "#9c179e"
             ],
             [
              0.4444444444444444,
              "#bd3786"
             ],
             [
              0.5555555555555556,
              "#d8576b"
             ],
             [
              0.6666666666666666,
              "#ed7953"
             ],
             [
              0.7777777777777778,
              "#fb9f3a"
             ],
             [
              0.8888888888888888,
              "#fdca26"
             ],
             [
              1,
              "#f0f921"
             ]
            ],
            "type": "histogram2dcontour"
           }
          ],
          "mesh3d": [
           {
            "colorbar": {
             "outlinewidth": 0,
             "ticks": ""
            },
            "type": "mesh3d"
           }
          ],
          "parcoords": [
           {
            "line": {
             "colorbar": {
              "outlinewidth": 0,
              "ticks": ""
             }
            },
            "type": "parcoords"
           }
          ],
          "pie": [
           {
            "automargin": true,
            "type": "pie"
           }
          ],
          "scatter": [
           {
            "fillpattern": {
             "fillmode": "overlay",
             "size": 10,
             "solidity": 0.2
            },
            "type": "scatter"
           }
          ],
          "scatter3d": [
           {
            "line": {
             "colorbar": {
              "outlinewidth": 0,
              "ticks": ""
             }
            },
            "marker": {
             "colorbar": {
              "outlinewidth": 0,
              "ticks": ""
             }
            },
            "type": "scatter3d"
           }
          ],
          "scattercarpet": [
           {
            "marker": {
             "colorbar": {
              "outlinewidth": 0,
              "ticks": ""
             }
            },
            "type": "scattercarpet"
           }
          ],
          "scattergeo": [
           {
            "marker": {
             "colorbar": {
              "outlinewidth": 0,
              "ticks": ""
             }
            },
            "type": "scattergeo"
           }
          ],
          "scattergl": [
           {
            "marker": {
             "colorbar": {
              "outlinewidth": 0,
              "ticks": ""
             }
            },
            "type": "scattergl"
           }
          ],
          "scattermap": [
           {
            "marker": {
             "colorbar": {
              "outlinewidth": 0,
              "ticks": ""
             }
            },
            "type": "scattermap"
           }
          ],
          "scattermapbox": [
           {
            "marker": {
             "colorbar": {
              "outlinewidth": 0,
              "ticks": ""
             }
            },
            "type": "scattermapbox"
           }
          ],
          "scatterpolar": [
           {
            "marker": {
             "colorbar": {
              "outlinewidth": 0,
              "ticks": ""
             }
            },
            "type": "scatterpolar"
           }
          ],
          "scatterpolargl": [
           {
            "marker": {
             "colorbar": {
              "outlinewidth": 0,
              "ticks": ""
             }
            },
            "type": "scatterpolargl"
           }
          ],
          "scatterternary": [
           {
            "marker": {
             "colorbar": {
              "outlinewidth": 0,
              "ticks": ""
             }
            },
            "type": "scatterternary"
           }
          ],
          "surface": [
           {
            "colorbar": {
             "outlinewidth": 0,
             "ticks": ""
            },
            "colorscale": [
             [
              0,
              "#0d0887"
             ],
             [
              0.1111111111111111,
              "#46039f"
             ],
             [
              0.2222222222222222,
              "#7201a8"
             ],
             [
              0.3333333333333333,
              "#9c179e"
             ],
             [
              0.4444444444444444,
              "#bd3786"
             ],
             [
              0.5555555555555556,
              "#d8576b"
             ],
             [
              0.6666666666666666,
              "#ed7953"
             ],
             [
              0.7777777777777778,
              "#fb9f3a"
             ],
             [
              0.8888888888888888,
              "#fdca26"
             ],
             [
              1,
              "#f0f921"
             ]
            ],
            "type": "surface"
           }
          ],
          "table": [
           {
            "cells": {
             "fill": {
              "color": "#EBF0F8"
             },
             "line": {
              "color": "white"
             }
            },
            "header": {
             "fill": {
              "color": "#C8D4E3"
             },
             "line": {
              "color": "white"
             }
            },
            "type": "table"
           }
          ]
         },
         "layout": {
          "annotationdefaults": {
           "arrowcolor": "#2a3f5f",
           "arrowhead": 0,
           "arrowwidth": 1
          },
          "autotypenumbers": "strict",
          "coloraxis": {
           "colorbar": {
            "outlinewidth": 0,
            "ticks": ""
           }
          },
          "colorscale": {
           "diverging": [
            [
             0,
             "#8e0152"
            ],
            [
             0.1,
             "#c51b7d"
            ],
            [
             0.2,
             "#de77ae"
            ],
            [
             0.3,
             "#f1b6da"
            ],
            [
             0.4,
             "#fde0ef"
            ],
            [
             0.5,
             "#f7f7f7"
            ],
            [
             0.6,
             "#e6f5d0"
            ],
            [
             0.7,
             "#b8e186"
            ],
            [
             0.8,
             "#7fbc41"
            ],
            [
             0.9,
             "#4d9221"
            ],
            [
             1,
             "#276419"
            ]
           ],
           "sequential": [
            [
             0,
             "#0d0887"
            ],
            [
             0.1111111111111111,
             "#46039f"
            ],
            [
             0.2222222222222222,
             "#7201a8"
            ],
            [
             0.3333333333333333,
             "#9c179e"
            ],
            [
             0.4444444444444444,
             "#bd3786"
            ],
            [
             0.5555555555555556,
             "#d8576b"
            ],
            [
             0.6666666666666666,
             "#ed7953"
            ],
            [
             0.7777777777777778,
             "#fb9f3a"
            ],
            [
             0.8888888888888888,
             "#fdca26"
            ],
            [
             1,
             "#f0f921"
            ]
           ],
           "sequentialminus": [
            [
             0,
             "#0d0887"
            ],
            [
             0.1111111111111111,
             "#46039f"
            ],
            [
             0.2222222222222222,
             "#7201a8"
            ],
            [
             0.3333333333333333,
             "#9c179e"
            ],
            [
             0.4444444444444444,
             "#bd3786"
            ],
            [
             0.5555555555555556,
             "#d8576b"
            ],
            [
             0.6666666666666666,
             "#ed7953"
            ],
            [
             0.7777777777777778,
             "#fb9f3a"
            ],
            [
             0.8888888888888888,
             "#fdca26"
            ],
            [
             1,
             "#f0f921"
            ]
           ]
          },
          "colorway": [
           "#636efa",
           "#EF553B",
           "#00cc96",
           "#ab63fa",
           "#FFA15A",
           "#19d3f3",
           "#FF6692",
           "#B6E880",
           "#FF97FF",
           "#FECB52"
          ],
          "font": {
           "color": "#2a3f5f"
          },
          "geo": {
           "bgcolor": "white",
           "lakecolor": "white",
           "landcolor": "#E5ECF6",
           "showlakes": true,
           "showland": true,
           "subunitcolor": "white"
          },
          "hoverlabel": {
           "align": "left"
          },
          "hovermode": "closest",
          "mapbox": {
           "style": "light"
          },
          "paper_bgcolor": "white",
          "plot_bgcolor": "#E5ECF6",
          "polar": {
           "angularaxis": {
            "gridcolor": "white",
            "linecolor": "white",
            "ticks": ""
           },
           "bgcolor": "#E5ECF6",
           "radialaxis": {
            "gridcolor": "white",
            "linecolor": "white",
            "ticks": ""
           }
          },
          "scene": {
           "xaxis": {
            "backgroundcolor": "#E5ECF6",
            "gridcolor": "white",
            "gridwidth": 2,
            "linecolor": "white",
            "showbackground": true,
            "ticks": "",
            "zerolinecolor": "white"
           },
           "yaxis": {
            "backgroundcolor": "#E5ECF6",
            "gridcolor": "white",
            "gridwidth": 2,
            "linecolor": "white",
            "showbackground": true,
            "ticks": "",
            "zerolinecolor": "white"
           },
           "zaxis": {
            "backgroundcolor": "#E5ECF6",
            "gridcolor": "white",
            "gridwidth": 2,
            "linecolor": "white",
            "showbackground": true,
            "ticks": "",
            "zerolinecolor": "white"
           }
          },
          "shapedefaults": {
           "line": {
            "color": "#2a3f5f"
           }
          },
          "ternary": {
           "aaxis": {
            "gridcolor": "white",
            "linecolor": "white",
            "ticks": ""
           },
           "baxis": {
            "gridcolor": "white",
            "linecolor": "white",
            "ticks": ""
           },
           "bgcolor": "#E5ECF6",
           "caxis": {
            "gridcolor": "white",
            "linecolor": "white",
            "ticks": ""
           }
          },
          "title": {
           "x": 0.05
          },
          "xaxis": {
           "automargin": true,
           "gridcolor": "white",
           "linecolor": "white",
           "ticks": "",
           "title": {
            "standoff": 15
           },
           "zerolinecolor": "white",
           "zerolinewidth": 2
          },
          "yaxis": {
           "automargin": true,
           "gridcolor": "white",
           "linecolor": "white",
           "ticks": "",
           "title": {
            "standoff": 15
           },
           "zerolinecolor": "white",
           "zerolinewidth": 2
          }
         }
        },
        "title": {
         "text": "Histograma da Variável Inflation"
        },
        "xaxis": {
         "anchor": "y",
         "domain": [
          0,
          1
         ],
         "title": {
          "text": "value"
         }
        },
        "yaxis": {
         "anchor": "x",
         "domain": [
          0,
          1
         ],
         "title": {
          "text": "count"
         }
        }
       }
      }
     },
     "metadata": {},
     "output_type": "display_data"
    }
   ],
   "source": [
    "# Distriubição de inflation\n",
    "px.histogram(df_countries['inflation'], title='Histograma da Variável Inflation')"
   ]
  },
  {
   "cell_type": "code",
   "execution_count": null,
   "metadata": {},
   "outputs": [
    {
     "data": {
      "application/vnd.plotly.v1+json": {
       "config": {
        "plotlyServerURL": "https://plot.ly"
       },
       "data": [
        {
         "bingroup": "x",
         "hovertemplate": "variable=life_expec<br>value=%{x}<br>count=%{y}<extra></extra>",
         "legendgroup": "life_expec",
         "marker": {
          "color": "#636efa",
          "pattern": {
           "shape": ""
          }
         },
         "name": "life_expec",
         "orientation": "v",
         "showlegend": true,
         "type": "histogram",
         "x": {
          "bdata": "mpmZmZkZTEAzMzMzMxNTQAAAAAAAIFNAzczMzMwMTkAzMzMzMzNTQDMzMzMz81JAMzMzMzNTUkAAAAAAAIBUQAAAAAAAIFRAZmZmZmZGUUAzMzMzM3NSQAAAAAAAAFNAmpmZmZmZUUDNzMzMzCxTQJqZmZmZmVFAAAAAAAAAVECamZmZmdlRQGZmZmZm5k5AZmZmZmYGUkBmZmZmZuZRQDMzMzMzM1NAzczMzMyMTEDNzMzMzIxSQGZmZmZmRlNAmpmZmZl5UkAzMzMzM/NMQJqZmZmZ2UxAZmZmZmaGUEBmZmZmZqZMQDMzMzMzU1RAAAAAAAAgUkAAAAAAAMBHQAAAAAAAQExAZmZmZmbGU0BmZmZmZqZSQJqZmZmZGVNAmpmZmZl5UEAAAAAAAMBMQDMzMzMzM05AmpmZmZkZVEBmZmZmZiZMQDMzMzMzE1NAmpmZmZn5U0AAAAAAAGBTQAAAAAAA4FNAZmZmZmamUkDNzMzMzCxTQAAAAAAAoFFAZmZmZmaGUkAzMzMzM3NOQJqZmZmZ2U5AAAAAAAAAU0AzMzMzM1NQQAAAAAAAAFRAmpmZmZlZVEAzMzMzM3NPQAAAAAAAYFBAMzMzMzMzUkBmZmZmZgZUQJqZmZmZGU9AmpmZmZkZVEAzMzMzM9NRQDMzMzMz01FAAAAAAAAATUDNzMzMzMxLQAAAAAAAYFBAzczMzMwMQEAAAAAAAKBSQAAAAAAAgFRAzczMzMyMUECamZmZmXlRQAAAAAAAoFJAzczMzMzMUECamZmZmRlUQJqZmZmZWVRAzczMzMxsVEDNzMzMzKxSQDMzMzMzs1RAMzMzMzPzUkCamZmZmRlRQGZmZmZmZk9AmpmZmZlZTkDNzMzMzIxTQAAAAAAAIFFAZmZmZmbmT0BmZmZmZkZSQDMzMzMz81NAAAAAAABAR0BmZmZmZmZOQGZmZmZmBlNAzczMzMxMUkAzMzMzM1NUQGZmZmZmZk5AzczMzMyMSkAAAAAAAKBSQJqZmZmZeVNAAAAAAADATUAzMzMzMxNUQM3MzMzMDFFAmpmZmZlZUkCamZmZmVlQQM3MzMzMbFFAzczMzMyMUECamZmZmRlTQAAAAAAAYFJAAAAAAABAS0AzMzMzM7NQQM3MzMzMTE1AMzMzMzMTUUDNzMzMzCxUQJqZmZmZOVRAZmZmZmZmTUAAAAAAAEBOQAAAAAAAQFRAZmZmZmYGU0AzMzMzM1NQQDMzMzMzc1NAZmZmZmaGUkCamZmZmXlTQAAAAAAAQFFAMzMzMzMTU0AzMzMzM/NTQAAAAAAA4FNAzczMzMxsUkDNzMzMzExRQGZmZmZmJlBAAAAAAADgUUBmZmZmZsZSQAAAAAAAAFBAzczMzMysUkCamZmZmVlSQAAAAAAAgEtAzczMzMysVEAAAAAAAOBSQAAAAAAA4FNAmpmZmZnZTkBmZmZmZiZLQGZmZmZmBlRAmpmZmZl5VECamZmZmZlSQGZmZmZm5lFAMzMzMzOTUEAzMzMzM5NRQAAAAAAAYFRAzczMzMyMVEBmZmZmZmZRQGZmZmZmpk1AZmZmZmYmU0BmZmZmZsZRQJqZmZmZWU1AmpmZmZl5UUCamZmZmTlTQM3MzMzMjFNAmpmZmZn5UEBmZmZmZmZMQJqZmZmZmVFAAAAAAAAgU0AzMzMzMxNUQM3MzMzMrFNAmpmZmZkZU0AzMzMzMzNRQAAAAAAAgE9AZmZmZmZGUkAAAAAAAOBQQAAAAAAAAEpA",
          "dtype": "f8"
         },
         "xaxis": "x",
         "yaxis": "y"
        }
       ],
       "layout": {
        "barmode": "relative",
        "legend": {
         "title": {
          "text": "variable"
         },
         "tracegroupgap": 0
        },
        "template": {
         "data": {
          "bar": [
           {
            "error_x": {
             "color": "#2a3f5f"
            },
            "error_y": {
             "color": "#2a3f5f"
            },
            "marker": {
             "line": {
              "color": "#E5ECF6",
              "width": 0.5
             },
             "pattern": {
              "fillmode": "overlay",
              "size": 10,
              "solidity": 0.2
             }
            },
            "type": "bar"
           }
          ],
          "barpolar": [
           {
            "marker": {
             "line": {
              "color": "#E5ECF6",
              "width": 0.5
             },
             "pattern": {
              "fillmode": "overlay",
              "size": 10,
              "solidity": 0.2
             }
            },
            "type": "barpolar"
           }
          ],
          "carpet": [
           {
            "aaxis": {
             "endlinecolor": "#2a3f5f",
             "gridcolor": "white",
             "linecolor": "white",
             "minorgridcolor": "white",
             "startlinecolor": "#2a3f5f"
            },
            "baxis": {
             "endlinecolor": "#2a3f5f",
             "gridcolor": "white",
             "linecolor": "white",
             "minorgridcolor": "white",
             "startlinecolor": "#2a3f5f"
            },
            "type": "carpet"
           }
          ],
          "choropleth": [
           {
            "colorbar": {
             "outlinewidth": 0,
             "ticks": ""
            },
            "type": "choropleth"
           }
          ],
          "contour": [
           {
            "colorbar": {
             "outlinewidth": 0,
             "ticks": ""
            },
            "colorscale": [
             [
              0,
              "#0d0887"
             ],
             [
              0.1111111111111111,
              "#46039f"
             ],
             [
              0.2222222222222222,
              "#7201a8"
             ],
             [
              0.3333333333333333,
              "#9c179e"
             ],
             [
              0.4444444444444444,
              "#bd3786"
             ],
             [
              0.5555555555555556,
              "#d8576b"
             ],
             [
              0.6666666666666666,
              "#ed7953"
             ],
             [
              0.7777777777777778,
              "#fb9f3a"
             ],
             [
              0.8888888888888888,
              "#fdca26"
             ],
             [
              1,
              "#f0f921"
             ]
            ],
            "type": "contour"
           }
          ],
          "contourcarpet": [
           {
            "colorbar": {
             "outlinewidth": 0,
             "ticks": ""
            },
            "type": "contourcarpet"
           }
          ],
          "heatmap": [
           {
            "colorbar": {
             "outlinewidth": 0,
             "ticks": ""
            },
            "colorscale": [
             [
              0,
              "#0d0887"
             ],
             [
              0.1111111111111111,
              "#46039f"
             ],
             [
              0.2222222222222222,
              "#7201a8"
             ],
             [
              0.3333333333333333,
              "#9c179e"
             ],
             [
              0.4444444444444444,
              "#bd3786"
             ],
             [
              0.5555555555555556,
              "#d8576b"
             ],
             [
              0.6666666666666666,
              "#ed7953"
             ],
             [
              0.7777777777777778,
              "#fb9f3a"
             ],
             [
              0.8888888888888888,
              "#fdca26"
             ],
             [
              1,
              "#f0f921"
             ]
            ],
            "type": "heatmap"
           }
          ],
          "histogram": [
           {
            "marker": {
             "pattern": {
              "fillmode": "overlay",
              "size": 10,
              "solidity": 0.2
             }
            },
            "type": "histogram"
           }
          ],
          "histogram2d": [
           {
            "colorbar": {
             "outlinewidth": 0,
             "ticks": ""
            },
            "colorscale": [
             [
              0,
              "#0d0887"
             ],
             [
              0.1111111111111111,
              "#46039f"
             ],
             [
              0.2222222222222222,
              "#7201a8"
             ],
             [
              0.3333333333333333,
              "#9c179e"
             ],
             [
              0.4444444444444444,
              "#bd3786"
             ],
             [
              0.5555555555555556,
              "#d8576b"
             ],
             [
              0.6666666666666666,
              "#ed7953"
             ],
             [
              0.7777777777777778,
              "#fb9f3a"
             ],
             [
              0.8888888888888888,
              "#fdca26"
             ],
             [
              1,
              "#f0f921"
             ]
            ],
            "type": "histogram2d"
           }
          ],
          "histogram2dcontour": [
           {
            "colorbar": {
             "outlinewidth": 0,
             "ticks": ""
            },
            "colorscale": [
             [
              0,
              "#0d0887"
             ],
             [
              0.1111111111111111,
              "#46039f"
             ],
             [
              0.2222222222222222,
              "#7201a8"
             ],
             [
              0.3333333333333333,
              "#9c179e"
             ],
             [
              0.4444444444444444,
              "#bd3786"
             ],
             [
              0.5555555555555556,
              "#d8576b"
             ],
             [
              0.6666666666666666,
              "#ed7953"
             ],
             [
              0.7777777777777778,
              "#fb9f3a"
             ],
             [
              0.8888888888888888,
              "#fdca26"
             ],
             [
              1,
              "#f0f921"
             ]
            ],
            "type": "histogram2dcontour"
           }
          ],
          "mesh3d": [
           {
            "colorbar": {
             "outlinewidth": 0,
             "ticks": ""
            },
            "type": "mesh3d"
           }
          ],
          "parcoords": [
           {
            "line": {
             "colorbar": {
              "outlinewidth": 0,
              "ticks": ""
             }
            },
            "type": "parcoords"
           }
          ],
          "pie": [
           {
            "automargin": true,
            "type": "pie"
           }
          ],
          "scatter": [
           {
            "fillpattern": {
             "fillmode": "overlay",
             "size": 10,
             "solidity": 0.2
            },
            "type": "scatter"
           }
          ],
          "scatter3d": [
           {
            "line": {
             "colorbar": {
              "outlinewidth": 0,
              "ticks": ""
             }
            },
            "marker": {
             "colorbar": {
              "outlinewidth": 0,
              "ticks": ""
             }
            },
            "type": "scatter3d"
           }
          ],
          "scattercarpet": [
           {
            "marker": {
             "colorbar": {
              "outlinewidth": 0,
              "ticks": ""
             }
            },
            "type": "scattercarpet"
           }
          ],
          "scattergeo": [
           {
            "marker": {
             "colorbar": {
              "outlinewidth": 0,
              "ticks": ""
             }
            },
            "type": "scattergeo"
           }
          ],
          "scattergl": [
           {
            "marker": {
             "colorbar": {
              "outlinewidth": 0,
              "ticks": ""
             }
            },
            "type": "scattergl"
           }
          ],
          "scattermap": [
           {
            "marker": {
             "colorbar": {
              "outlinewidth": 0,
              "ticks": ""
             }
            },
            "type": "scattermap"
           }
          ],
          "scattermapbox": [
           {
            "marker": {
             "colorbar": {
              "outlinewidth": 0,
              "ticks": ""
             }
            },
            "type": "scattermapbox"
           }
          ],
          "scatterpolar": [
           {
            "marker": {
             "colorbar": {
              "outlinewidth": 0,
              "ticks": ""
             }
            },
            "type": "scatterpolar"
           }
          ],
          "scatterpolargl": [
           {
            "marker": {
             "colorbar": {
              "outlinewidth": 0,
              "ticks": ""
             }
            },
            "type": "scatterpolargl"
           }
          ],
          "scatterternary": [
           {
            "marker": {
             "colorbar": {
              "outlinewidth": 0,
              "ticks": ""
             }
            },
            "type": "scatterternary"
           }
          ],
          "surface": [
           {
            "colorbar": {
             "outlinewidth": 0,
             "ticks": ""
            },
            "colorscale": [
             [
              0,
              "#0d0887"
             ],
             [
              0.1111111111111111,
              "#46039f"
             ],
             [
              0.2222222222222222,
              "#7201a8"
             ],
             [
              0.3333333333333333,
              "#9c179e"
             ],
             [
              0.4444444444444444,
              "#bd3786"
             ],
             [
              0.5555555555555556,
              "#d8576b"
             ],
             [
              0.6666666666666666,
              "#ed7953"
             ],
             [
              0.7777777777777778,
              "#fb9f3a"
             ],
             [
              0.8888888888888888,
              "#fdca26"
             ],
             [
              1,
              "#f0f921"
             ]
            ],
            "type": "surface"
           }
          ],
          "table": [
           {
            "cells": {
             "fill": {
              "color": "#EBF0F8"
             },
             "line": {
              "color": "white"
             }
            },
            "header": {
             "fill": {
              "color": "#C8D4E3"
             },
             "line": {
              "color": "white"
             }
            },
            "type": "table"
           }
          ]
         },
         "layout": {
          "annotationdefaults": {
           "arrowcolor": "#2a3f5f",
           "arrowhead": 0,
           "arrowwidth": 1
          },
          "autotypenumbers": "strict",
          "coloraxis": {
           "colorbar": {
            "outlinewidth": 0,
            "ticks": ""
           }
          },
          "colorscale": {
           "diverging": [
            [
             0,
             "#8e0152"
            ],
            [
             0.1,
             "#c51b7d"
            ],
            [
             0.2,
             "#de77ae"
            ],
            [
             0.3,
             "#f1b6da"
            ],
            [
             0.4,
             "#fde0ef"
            ],
            [
             0.5,
             "#f7f7f7"
            ],
            [
             0.6,
             "#e6f5d0"
            ],
            [
             0.7,
             "#b8e186"
            ],
            [
             0.8,
             "#7fbc41"
            ],
            [
             0.9,
             "#4d9221"
            ],
            [
             1,
             "#276419"
            ]
           ],
           "sequential": [
            [
             0,
             "#0d0887"
            ],
            [
             0.1111111111111111,
             "#46039f"
            ],
            [
             0.2222222222222222,
             "#7201a8"
            ],
            [
             0.3333333333333333,
             "#9c179e"
            ],
            [
             0.4444444444444444,
             "#bd3786"
            ],
            [
             0.5555555555555556,
             "#d8576b"
            ],
            [
             0.6666666666666666,
             "#ed7953"
            ],
            [
             0.7777777777777778,
             "#fb9f3a"
            ],
            [
             0.8888888888888888,
             "#fdca26"
            ],
            [
             1,
             "#f0f921"
            ]
           ],
           "sequentialminus": [
            [
             0,
             "#0d0887"
            ],
            [
             0.1111111111111111,
             "#46039f"
            ],
            [
             0.2222222222222222,
             "#7201a8"
            ],
            [
             0.3333333333333333,
             "#9c179e"
            ],
            [
             0.4444444444444444,
             "#bd3786"
            ],
            [
             0.5555555555555556,
             "#d8576b"
            ],
            [
             0.6666666666666666,
             "#ed7953"
            ],
            [
             0.7777777777777778,
             "#fb9f3a"
            ],
            [
             0.8888888888888888,
             "#fdca26"
            ],
            [
             1,
             "#f0f921"
            ]
           ]
          },
          "colorway": [
           "#636efa",
           "#EF553B",
           "#00cc96",
           "#ab63fa",
           "#FFA15A",
           "#19d3f3",
           "#FF6692",
           "#B6E880",
           "#FF97FF",
           "#FECB52"
          ],
          "font": {
           "color": "#2a3f5f"
          },
          "geo": {
           "bgcolor": "white",
           "lakecolor": "white",
           "landcolor": "#E5ECF6",
           "showlakes": true,
           "showland": true,
           "subunitcolor": "white"
          },
          "hoverlabel": {
           "align": "left"
          },
          "hovermode": "closest",
          "mapbox": {
           "style": "light"
          },
          "paper_bgcolor": "white",
          "plot_bgcolor": "#E5ECF6",
          "polar": {
           "angularaxis": {
            "gridcolor": "white",
            "linecolor": "white",
            "ticks": ""
           },
           "bgcolor": "#E5ECF6",
           "radialaxis": {
            "gridcolor": "white",
            "linecolor": "white",
            "ticks": ""
           }
          },
          "scene": {
           "xaxis": {
            "backgroundcolor": "#E5ECF6",
            "gridcolor": "white",
            "gridwidth": 2,
            "linecolor": "white",
            "showbackground": true,
            "ticks": "",
            "zerolinecolor": "white"
           },
           "yaxis": {
            "backgroundcolor": "#E5ECF6",
            "gridcolor": "white",
            "gridwidth": 2,
            "linecolor": "white",
            "showbackground": true,
            "ticks": "",
            "zerolinecolor": "white"
           },
           "zaxis": {
            "backgroundcolor": "#E5ECF6",
            "gridcolor": "white",
            "gridwidth": 2,
            "linecolor": "white",
            "showbackground": true,
            "ticks": "",
            "zerolinecolor": "white"
           }
          },
          "shapedefaults": {
           "line": {
            "color": "#2a3f5f"
           }
          },
          "ternary": {
           "aaxis": {
            "gridcolor": "white",
            "linecolor": "white",
            "ticks": ""
           },
           "baxis": {
            "gridcolor": "white",
            "linecolor": "white",
            "ticks": ""
           },
           "bgcolor": "#E5ECF6",
           "caxis": {
            "gridcolor": "white",
            "linecolor": "white",
            "ticks": ""
           }
          },
          "title": {
           "x": 0.05
          },
          "xaxis": {
           "automargin": true,
           "gridcolor": "white",
           "linecolor": "white",
           "ticks": "",
           "title": {
            "standoff": 15
           },
           "zerolinecolor": "white",
           "zerolinewidth": 2
          },
          "yaxis": {
           "automargin": true,
           "gridcolor": "white",
           "linecolor": "white",
           "ticks": "",
           "title": {
            "standoff": 15
           },
           "zerolinecolor": "white",
           "zerolinewidth": 2
          }
         }
        },
        "title": {
         "text": "Histograma da Variável Life Expectation"
        },
        "xaxis": {
         "anchor": "y",
         "domain": [
          0,
          1
         ],
         "title": {
          "text": "value"
         }
        },
        "yaxis": {
         "anchor": "x",
         "domain": [
          0,
          1
         ],
         "title": {
          "text": "count"
         }
        }
       }
      }
     },
     "metadata": {},
     "output_type": "display_data"
    }
   ],
   "source": [
    "# Distriubição de life expectation\n",
    "px.histogram(df_countries['life_expec'], title='Histograma da Variável Life Expectation')"
   ]
  },
  {
   "cell_type": "markdown",
   "metadata": {},
   "source": [
    "#### Análise Bivariada"
   ]
  },
  {
   "cell_type": "code",
   "execution_count": null,
   "metadata": {},
   "outputs": [
    {
     "data": {
      "application/vnd.plotly.v1+json": {
       "config": {
        "plotlyServerURL": "https://plot.ly"
       },
       "data": [
        {
         "alignmentgroup": "True",
         "customdata": [
          [
           "Afghanistan"
          ],
          [
           "Burkina Faso"
          ],
          [
           "Burundi"
          ],
          [
           "Central African Republic"
          ],
          [
           "Chad"
          ],
          [
           "Congo Dem. Rep."
          ],
          [
           "Eritrea"
          ],
          [
           "Gambia"
          ],
          [
           "Guinea-Bissau"
          ],
          [
           "Liberia"
          ],
          [
           "Madagascar"
          ],
          [
           "Malawi"
          ],
          [
           "Mali"
          ],
          [
           "Mozambique"
          ],
          [
           "Niger"
          ],
          [
           "Rwanda"
          ],
          [
           "Sierra Leone"
          ],
          [
           "Sudan"
          ],
          [
           "Togo"
          ],
          [
           "Uganda"
          ],
          [
           "Yemen"
          ]
         ],
         "hovertemplate": "income_category=%{y}<br>income=%{x}<br>country=%{customdata[0]}<extra></extra>",
         "legendgroup": "Low income",
         "marker": {
          "color": "#636efa"
         },
         "name": "Low income",
         "notched": false,
         "offsetgroup": "Low income",
         "orientation": "h",
         "showlegend": true,
         "type": "box",
         "x": {
          "bdata": "SgaWBfwCeAOKB2ECjAV8Bm4FvAJuBQYETgeWAy4DRgXEBCoNugQEBoAR",
          "dtype": "i2"
         },
         "x0": " ",
         "xaxis": "x",
         "y": [
          "Low income",
          "Low income",
          "Low income",
          "Low income",
          "Low income",
          "Low income",
          "Low income",
          "Low income",
          "Low income",
          "Low income",
          "Low income",
          "Low income",
          "Low income",
          "Low income",
          "Low income",
          "Low income",
          "Low income",
          "Low income",
          "Low income",
          "Low income",
          "Low income"
         ],
         "y0": " ",
         "yaxis": "y"
        },
        {
         "alignmentgroup": "True",
         "customdata": [
          [
           "Albania"
          ],
          [
           "Argentina"
          ],
          [
           "Armenia"
          ],
          [
           "Azerbaijan"
          ],
          [
           "Belarus"
          ],
          [
           "Belize"
          ],
          [
           "Bosnia and Herzegovina"
          ],
          [
           "Botswana"
          ],
          [
           "Brazil"
          ],
          [
           "Bulgaria"
          ],
          [
           "China"
          ],
          [
           "Colombia"
          ],
          [
           "Costa Rica"
          ],
          [
           "Dominican Republic"
          ],
          [
           "Ecuador"
          ],
          [
           "El Salvador"
          ],
          [
           "Equatorial Guinea"
          ],
          [
           "Fiji"
          ],
          [
           "Gabon"
          ],
          [
           "Georgia"
          ],
          [
           "Grenada"
          ],
          [
           "Guatemala"
          ],
          [
           "Indonesia"
          ],
          [
           "Iraq"
          ],
          [
           "Jamaica"
          ],
          [
           "Kazakhstan"
          ],
          [
           "Libya"
          ],
          [
           "Malaysia"
          ],
          [
           "Maldives"
          ],
          [
           "Mauritius"
          ],
          [
           "Moldova"
          ],
          [
           "Montenegro"
          ],
          [
           "Namibia"
          ],
          [
           "Paraguay"
          ],
          [
           "Peru"
          ],
          [
           "Russia"
          ],
          [
           "Serbia"
          ],
          [
           "South Africa"
          ],
          [
           "St. Vincent and the Grenadines"
          ],
          [
           "Suriname"
          ],
          [
           "Thailand"
          ],
          [
           "Tonga"
          ],
          [
           "Turkey"
          ],
          [
           "Turkmenistan"
          ]
         ],
         "hovertemplate": "income_category=%{y}<br>income=%{x}<br>country=%{customdata[0]}<extra></extra>",
         "legendgroup": "Upper middle income",
         "marker": {
          "color": "#EF553B"
         },
         "name": "Upper middle income",
         "notched": false,
         "offsetgroup": "Upper middle income",
         "orientation": "h",
         "showlegend": true,
         "type": "box",
         "x": {
          "bdata": "yiYAAAxJAAAsGgAAgD4AAEg/AADIHgAA+CUAAPQzAACkOAAAxDsAADolAACUKgAAyDIAAFwrAACGJAAAhBwAAKSDAAC2HAAAKDwAAEoaAADAKwAANhoAAO4gAACcMQAAQB8AAIROAACgcwAAbFIAAAQpAAAcPgAARg8AALA2AAAMIQAAehwAAOgmAAA8WgAAnDEAAOAuAADAJgAAeDcAALw0AAB0EwAAUEYAANQmAAA=",
          "dtype": "i4"
         },
         "x0": " ",
         "xaxis": "x",
         "y": [
          "Upper middle income",
          "Upper middle income",
          "Upper middle income",
          "Upper middle income",
          "Upper middle income",
          "Upper middle income",
          "Upper middle income",
          "Upper middle income",
          "Upper middle income",
          "Upper middle income",
          "Upper middle income",
          "Upper middle income",
          "Upper middle income",
          "Upper middle income",
          "Upper middle income",
          "Upper middle income",
          "Upper middle income",
          "Upper middle income",
          "Upper middle income",
          "Upper middle income",
          "Upper middle income",
          "Upper middle income",
          "Upper middle income",
          "Upper middle income",
          "Upper middle income",
          "Upper middle income",
          "Upper middle income",
          "Upper middle income",
          "Upper middle income",
          "Upper middle income",
          "Upper middle income",
          "Upper middle income",
          "Upper middle income",
          "Upper middle income",
          "Upper middle income",
          "Upper middle income",
          "Upper middle income",
          "Upper middle income",
          "Upper middle income",
          "Upper middle income",
          "Upper middle income",
          "Upper middle income",
          "Upper middle income",
          "Upper middle income"
         ],
         "y0": " ",
         "yaxis": "y"
        },
        {
         "alignmentgroup": "True",
         "customdata": [
          [
           "Algeria"
          ],
          [
           "Angola"
          ],
          [
           "Bangladesh"
          ],
          [
           "Benin"
          ],
          [
           "Bhutan"
          ],
          [
           "Bolivia"
          ],
          [
           "Cambodia"
          ],
          [
           "Cameroon"
          ],
          [
           "Cape Verde"
          ],
          [
           "Comoros"
          ],
          [
           "Congo Rep."
          ],
          [
           "Cote d'Ivoire"
          ],
          [
           "Egypt"
          ],
          [
           "Ghana"
          ],
          [
           "Guinea"
          ],
          [
           "Haiti"
          ],
          [
           "India"
          ],
          [
           "Iran"
          ],
          [
           "Jordan"
          ],
          [
           "Kenya"
          ],
          [
           "Kiribati"
          ],
          [
           "Kyrgyz Republic"
          ],
          [
           "Lao"
          ],
          [
           "Lebanon"
          ],
          [
           "Lesotho"
          ],
          [
           "Mauritania"
          ],
          [
           "Micronesia"
          ],
          [
           "Mongolia"
          ],
          [
           "Morocco"
          ],
          [
           "Myanmar"
          ],
          [
           "Nepal"
          ],
          [
           "Nigeria"
          ],
          [
           "Pakistan"
          ],
          [
           "Philippines"
          ],
          [
           "Samoa"
          ],
          [
           "Senegal"
          ],
          [
           "Solomon Islands"
          ],
          [
           "Sri Lanka"
          ],
          [
           "Tajikistan"
          ],
          [
           "Tanzania"
          ],
          [
           "Timor-Leste"
          ],
          [
           "Tunisia"
          ],
          [
           "Ukraine"
          ],
          [
           "Uzbekistan"
          ],
          [
           "Vanuatu"
          ],
          [
           "Vietnam"
          ],
          [
           "Zambia"
          ]
         ],
         "hovertemplate": "income_category=%{y}<br>income=%{x}<br>country=%{customdata[0]}<extra></extra>",
         "legendgroup": "Lower middle income",
         "marker": {
          "color": "#00cc96"
         },
         "name": "Lower middle income",
         "notched": false,
         "offsetgroup": "Lower middle income",
         "orientation": "h",
         "showlegend": true,
         "type": "box",
         "x": {
          "bdata": "ZDIMF4gJHAcUGSIV2AlkCsYWggVGFIIKhCb0C6YE3AU6EfhD/iSwCcIG5gqMD6w/TAn4DAwNHh4oGYgOxgceFLgQ4BUYFYQI9AZwIT4IKgg6B6AojB6QEIYLihHQDA==",
          "dtype": "i2"
         },
         "x0": " ",
         "xaxis": "x",
         "y": [
          "Lower middle income",
          "Lower middle income",
          "Lower middle income",
          "Lower middle income",
          "Lower middle income",
          "Lower middle income",
          "Lower middle income",
          "Lower middle income",
          "Lower middle income",
          "Lower middle income",
          "Lower middle income",
          "Lower middle income",
          "Lower middle income",
          "Lower middle income",
          "Lower middle income",
          "Lower middle income",
          "Lower middle income",
          "Lower middle income",
          "Lower middle income",
          "Lower middle income",
          "Lower middle income",
          "Lower middle income",
          "Lower middle income",
          "Lower middle income",
          "Lower middle income",
          "Lower middle income",
          "Lower middle income",
          "Lower middle income",
          "Lower middle income",
          "Lower middle income",
          "Lower middle income",
          "Lower middle income",
          "Lower middle income",
          "Lower middle income",
          "Lower middle income",
          "Lower middle income",
          "Lower middle income",
          "Lower middle income",
          "Lower middle income",
          "Lower middle income",
          "Lower middle income",
          "Lower middle income",
          "Lower middle income",
          "Lower middle income",
          "Lower middle income",
          "Lower middle income",
          "Lower middle income"
         ],
         "y0": " ",
         "yaxis": "y"
        },
        {
         "alignmentgroup": "True",
         "customdata": [
          [
           "Antigua and Barbuda"
          ],
          [
           "Australia"
          ],
          [
           "Austria"
          ],
          [
           "Bahamas"
          ],
          [
           "Bahrain"
          ],
          [
           "Barbados"
          ],
          [
           "Belgium"
          ],
          [
           "Brunei"
          ],
          [
           "Canada"
          ],
          [
           "Chile"
          ],
          [
           "Croatia"
          ],
          [
           "Cyprus"
          ],
          [
           "Czech Republic"
          ],
          [
           "Denmark"
          ],
          [
           "Estonia"
          ],
          [
           "Finland"
          ],
          [
           "France"
          ],
          [
           "Germany"
          ],
          [
           "Greece"
          ],
          [
           "Guyana"
          ],
          [
           "Hungary"
          ],
          [
           "Iceland"
          ],
          [
           "Ireland"
          ],
          [
           "Israel"
          ],
          [
           "Italy"
          ],
          [
           "Japan"
          ],
          [
           "Kuwait"
          ],
          [
           "Latvia"
          ],
          [
           "Lithuania"
          ],
          [
           "Luxembourg"
          ],
          [
           "Malta"
          ],
          [
           "Netherlands"
          ],
          [
           "New Zealand"
          ],
          [
           "Norway"
          ],
          [
           "Oman"
          ],
          [
           "Panama"
          ],
          [
           "Poland"
          ],
          [
           "Portugal"
          ],
          [
           "Qatar"
          ],
          [
           "Romania"
          ],
          [
           "Saudi Arabia"
          ],
          [
           "Seychelles"
          ],
          [
           "Singapore"
          ],
          [
           "Slovak Republic"
          ],
          [
           "Slovenia"
          ],
          [
           "South Korea"
          ],
          [
           "Spain"
          ],
          [
           "Sweden"
          ],
          [
           "Switzerland"
          ],
          [
           "United Arab Emirates"
          ],
          [
           "United Kingdom"
          ],
          [
           "United States"
          ],
          [
           "Uruguay"
          ]
         ],
         "hovertemplate": "income_category=%{y}<br>income=%{x}<br>country=%{customdata[0]}<extra></extra>",
         "legendgroup": "High income",
         "marker": {
          "color": "#ab63fa"
         },
         "name": "High income",
         "notched": false,
         "offsetgroup": "High income",
         "orientation": "h",
         "showlegend": true,
         "type": "box",
         "x": {
          "bdata": "nEoAALihAADAqAAAdFkAAIygAADEOwAAjKAAANg6AQD8ngAAyEsAAIROAABshAAAjG4AAOCrAACsWAAAeJsAACSQAADQnQAAHHAAANAWAAAcVwAAkJcAAISyAACgcwAAaI0AANiLAADAJQEAfEcAAGxSAAA0ZgEAjG4AALyxAAAsfgAAXPMAAPSwAAAoPAAAKFUAAEBqAABI6AEAiEUAAFixAACwTwAApBkBAHBiAAAccAAAwHYAAPR+AACUpwAAzNgAAADhAABojQAA+MAAAMxCAAA=",
          "dtype": "i4"
         },
         "x0": " ",
         "xaxis": "x",
         "y": [
          "High income",
          "High income",
          "High income",
          "High income",
          "High income",
          "High income",
          "High income",
          "High income",
          "High income",
          "High income",
          "High income",
          "High income",
          "High income",
          "High income",
          "High income",
          "High income",
          "High income",
          "High income",
          "High income",
          "High income",
          "High income",
          "High income",
          "High income",
          "High income",
          "High income",
          "High income",
          "High income",
          "High income",
          "High income",
          "High income",
          "High income",
          "High income",
          "High income",
          "High income",
          "High income",
          "High income",
          "High income",
          "High income",
          "High income",
          "High income",
          "High income",
          "High income",
          "High income",
          "High income",
          "High income",
          "High income",
          "High income",
          "High income",
          "High income",
          "High income",
          "High income",
          "High income",
          "High income"
         ],
         "y0": " ",
         "yaxis": "y"
        }
       ],
       "layout": {
        "boxmode": "overlay",
        "legend": {
         "title": {
          "text": "income_category"
         },
         "tracegroupgap": 0
        },
        "margin": {
         "t": 60
        },
        "template": {
         "data": {
          "bar": [
           {
            "error_x": {
             "color": "#2a3f5f"
            },
            "error_y": {
             "color": "#2a3f5f"
            },
            "marker": {
             "line": {
              "color": "#E5ECF6",
              "width": 0.5
             },
             "pattern": {
              "fillmode": "overlay",
              "size": 10,
              "solidity": 0.2
             }
            },
            "type": "bar"
           }
          ],
          "barpolar": [
           {
            "marker": {
             "line": {
              "color": "#E5ECF6",
              "width": 0.5
             },
             "pattern": {
              "fillmode": "overlay",
              "size": 10,
              "solidity": 0.2
             }
            },
            "type": "barpolar"
           }
          ],
          "carpet": [
           {
            "aaxis": {
             "endlinecolor": "#2a3f5f",
             "gridcolor": "white",
             "linecolor": "white",
             "minorgridcolor": "white",
             "startlinecolor": "#2a3f5f"
            },
            "baxis": {
             "endlinecolor": "#2a3f5f",
             "gridcolor": "white",
             "linecolor": "white",
             "minorgridcolor": "white",
             "startlinecolor": "#2a3f5f"
            },
            "type": "carpet"
           }
          ],
          "choropleth": [
           {
            "colorbar": {
             "outlinewidth": 0,
             "ticks": ""
            },
            "type": "choropleth"
           }
          ],
          "contour": [
           {
            "colorbar": {
             "outlinewidth": 0,
             "ticks": ""
            },
            "colorscale": [
             [
              0,
              "#0d0887"
             ],
             [
              0.1111111111111111,
              "#46039f"
             ],
             [
              0.2222222222222222,
              "#7201a8"
             ],
             [
              0.3333333333333333,
              "#9c179e"
             ],
             [
              0.4444444444444444,
              "#bd3786"
             ],
             [
              0.5555555555555556,
              "#d8576b"
             ],
             [
              0.6666666666666666,
              "#ed7953"
             ],
             [
              0.7777777777777778,
              "#fb9f3a"
             ],
             [
              0.8888888888888888,
              "#fdca26"
             ],
             [
              1,
              "#f0f921"
             ]
            ],
            "type": "contour"
           }
          ],
          "contourcarpet": [
           {
            "colorbar": {
             "outlinewidth": 0,
             "ticks": ""
            },
            "type": "contourcarpet"
           }
          ],
          "heatmap": [
           {
            "colorbar": {
             "outlinewidth": 0,
             "ticks": ""
            },
            "colorscale": [
             [
              0,
              "#0d0887"
             ],
             [
              0.1111111111111111,
              "#46039f"
             ],
             [
              0.2222222222222222,
              "#7201a8"
             ],
             [
              0.3333333333333333,
              "#9c179e"
             ],
             [
              0.4444444444444444,
              "#bd3786"
             ],
             [
              0.5555555555555556,
              "#d8576b"
             ],
             [
              0.6666666666666666,
              "#ed7953"
             ],
             [
              0.7777777777777778,
              "#fb9f3a"
             ],
             [
              0.8888888888888888,
              "#fdca26"
             ],
             [
              1,
              "#f0f921"
             ]
            ],
            "type": "heatmap"
           }
          ],
          "histogram": [
           {
            "marker": {
             "pattern": {
              "fillmode": "overlay",
              "size": 10,
              "solidity": 0.2
             }
            },
            "type": "histogram"
           }
          ],
          "histogram2d": [
           {
            "colorbar": {
             "outlinewidth": 0,
             "ticks": ""
            },
            "colorscale": [
             [
              0,
              "#0d0887"
             ],
             [
              0.1111111111111111,
              "#46039f"
             ],
             [
              0.2222222222222222,
              "#7201a8"
             ],
             [
              0.3333333333333333,
              "#9c179e"
             ],
             [
              0.4444444444444444,
              "#bd3786"
             ],
             [
              0.5555555555555556,
              "#d8576b"
             ],
             [
              0.6666666666666666,
              "#ed7953"
             ],
             [
              0.7777777777777778,
              "#fb9f3a"
             ],
             [
              0.8888888888888888,
              "#fdca26"
             ],
             [
              1,
              "#f0f921"
             ]
            ],
            "type": "histogram2d"
           }
          ],
          "histogram2dcontour": [
           {
            "colorbar": {
             "outlinewidth": 0,
             "ticks": ""
            },
            "colorscale": [
             [
              0,
              "#0d0887"
             ],
             [
              0.1111111111111111,
              "#46039f"
             ],
             [
              0.2222222222222222,
              "#7201a8"
             ],
             [
              0.3333333333333333,
              "#9c179e"
             ],
             [
              0.4444444444444444,
              "#bd3786"
             ],
             [
              0.5555555555555556,
              "#d8576b"
             ],
             [
              0.6666666666666666,
              "#ed7953"
             ],
             [
              0.7777777777777778,
              "#fb9f3a"
             ],
             [
              0.8888888888888888,
              "#fdca26"
             ],
             [
              1,
              "#f0f921"
             ]
            ],
            "type": "histogram2dcontour"
           }
          ],
          "mesh3d": [
           {
            "colorbar": {
             "outlinewidth": 0,
             "ticks": ""
            },
            "type": "mesh3d"
           }
          ],
          "parcoords": [
           {
            "line": {
             "colorbar": {
              "outlinewidth": 0,
              "ticks": ""
             }
            },
            "type": "parcoords"
           }
          ],
          "pie": [
           {
            "automargin": true,
            "type": "pie"
           }
          ],
          "scatter": [
           {
            "fillpattern": {
             "fillmode": "overlay",
             "size": 10,
             "solidity": 0.2
            },
            "type": "scatter"
           }
          ],
          "scatter3d": [
           {
            "line": {
             "colorbar": {
              "outlinewidth": 0,
              "ticks": ""
             }
            },
            "marker": {
             "colorbar": {
              "outlinewidth": 0,
              "ticks": ""
             }
            },
            "type": "scatter3d"
           }
          ],
          "scattercarpet": [
           {
            "marker": {
             "colorbar": {
              "outlinewidth": 0,
              "ticks": ""
             }
            },
            "type": "scattercarpet"
           }
          ],
          "scattergeo": [
           {
            "marker": {
             "colorbar": {
              "outlinewidth": 0,
              "ticks": ""
             }
            },
            "type": "scattergeo"
           }
          ],
          "scattergl": [
           {
            "marker": {
             "colorbar": {
              "outlinewidth": 0,
              "ticks": ""
             }
            },
            "type": "scattergl"
           }
          ],
          "scattermap": [
           {
            "marker": {
             "colorbar": {
              "outlinewidth": 0,
              "ticks": ""
             }
            },
            "type": "scattermap"
           }
          ],
          "scattermapbox": [
           {
            "marker": {
             "colorbar": {
              "outlinewidth": 0,
              "ticks": ""
             }
            },
            "type": "scattermapbox"
           }
          ],
          "scatterpolar": [
           {
            "marker": {
             "colorbar": {
              "outlinewidth": 0,
              "ticks": ""
             }
            },
            "type": "scatterpolar"
           }
          ],
          "scatterpolargl": [
           {
            "marker": {
             "colorbar": {
              "outlinewidth": 0,
              "ticks": ""
             }
            },
            "type": "scatterpolargl"
           }
          ],
          "scatterternary": [
           {
            "marker": {
             "colorbar": {
              "outlinewidth": 0,
              "ticks": ""
             }
            },
            "type": "scatterternary"
           }
          ],
          "surface": [
           {
            "colorbar": {
             "outlinewidth": 0,
             "ticks": ""
            },
            "colorscale": [
             [
              0,
              "#0d0887"
             ],
             [
              0.1111111111111111,
              "#46039f"
             ],
             [
              0.2222222222222222,
              "#7201a8"
             ],
             [
              0.3333333333333333,
              "#9c179e"
             ],
             [
              0.4444444444444444,
              "#bd3786"
             ],
             [
              0.5555555555555556,
              "#d8576b"
             ],
             [
              0.6666666666666666,
              "#ed7953"
             ],
             [
              0.7777777777777778,
              "#fb9f3a"
             ],
             [
              0.8888888888888888,
              "#fdca26"
             ],
             [
              1,
              "#f0f921"
             ]
            ],
            "type": "surface"
           }
          ],
          "table": [
           {
            "cells": {
             "fill": {
              "color": "#EBF0F8"
             },
             "line": {
              "color": "white"
             }
            },
            "header": {
             "fill": {
              "color": "#C8D4E3"
             },
             "line": {
              "color": "white"
             }
            },
            "type": "table"
           }
          ]
         },
         "layout": {
          "annotationdefaults": {
           "arrowcolor": "#2a3f5f",
           "arrowhead": 0,
           "arrowwidth": 1
          },
          "autotypenumbers": "strict",
          "coloraxis": {
           "colorbar": {
            "outlinewidth": 0,
            "ticks": ""
           }
          },
          "colorscale": {
           "diverging": [
            [
             0,
             "#8e0152"
            ],
            [
             0.1,
             "#c51b7d"
            ],
            [
             0.2,
             "#de77ae"
            ],
            [
             0.3,
             "#f1b6da"
            ],
            [
             0.4,
             "#fde0ef"
            ],
            [
             0.5,
             "#f7f7f7"
            ],
            [
             0.6,
             "#e6f5d0"
            ],
            [
             0.7,
             "#b8e186"
            ],
            [
             0.8,
             "#7fbc41"
            ],
            [
             0.9,
             "#4d9221"
            ],
            [
             1,
             "#276419"
            ]
           ],
           "sequential": [
            [
             0,
             "#0d0887"
            ],
            [
             0.1111111111111111,
             "#46039f"
            ],
            [
             0.2222222222222222,
             "#7201a8"
            ],
            [
             0.3333333333333333,
             "#9c179e"
            ],
            [
             0.4444444444444444,
             "#bd3786"
            ],
            [
             0.5555555555555556,
             "#d8576b"
            ],
            [
             0.6666666666666666,
             "#ed7953"
            ],
            [
             0.7777777777777778,
             "#fb9f3a"
            ],
            [
             0.8888888888888888,
             "#fdca26"
            ],
            [
             1,
             "#f0f921"
            ]
           ],
           "sequentialminus": [
            [
             0,
             "#0d0887"
            ],
            [
             0.1111111111111111,
             "#46039f"
            ],
            [
             0.2222222222222222,
             "#7201a8"
            ],
            [
             0.3333333333333333,
             "#9c179e"
            ],
            [
             0.4444444444444444,
             "#bd3786"
            ],
            [
             0.5555555555555556,
             "#d8576b"
            ],
            [
             0.6666666666666666,
             "#ed7953"
            ],
            [
             0.7777777777777778,
             "#fb9f3a"
            ],
            [
             0.8888888888888888,
             "#fdca26"
            ],
            [
             1,
             "#f0f921"
            ]
           ]
          },
          "colorway": [
           "#636efa",
           "#EF553B",
           "#00cc96",
           "#ab63fa",
           "#FFA15A",
           "#19d3f3",
           "#FF6692",
           "#B6E880",
           "#FF97FF",
           "#FECB52"
          ],
          "font": {
           "color": "#2a3f5f"
          },
          "geo": {
           "bgcolor": "white",
           "lakecolor": "white",
           "landcolor": "#E5ECF6",
           "showlakes": true,
           "showland": true,
           "subunitcolor": "white"
          },
          "hoverlabel": {
           "align": "left"
          },
          "hovermode": "closest",
          "mapbox": {
           "style": "light"
          },
          "paper_bgcolor": "white",
          "plot_bgcolor": "#E5ECF6",
          "polar": {
           "angularaxis": {
            "gridcolor": "white",
            "linecolor": "white",
            "ticks": ""
           },
           "bgcolor": "#E5ECF6",
           "radialaxis": {
            "gridcolor": "white",
            "linecolor": "white",
            "ticks": ""
           }
          },
          "scene": {
           "xaxis": {
            "backgroundcolor": "#E5ECF6",
            "gridcolor": "white",
            "gridwidth": 2,
            "linecolor": "white",
            "showbackground": true,
            "ticks": "",
            "zerolinecolor": "white"
           },
           "yaxis": {
            "backgroundcolor": "#E5ECF6",
            "gridcolor": "white",
            "gridwidth": 2,
            "linecolor": "white",
            "showbackground": true,
            "ticks": "",
            "zerolinecolor": "white"
           },
           "zaxis": {
            "backgroundcolor": "#E5ECF6",
            "gridcolor": "white",
            "gridwidth": 2,
            "linecolor": "white",
            "showbackground": true,
            "ticks": "",
            "zerolinecolor": "white"
           }
          },
          "shapedefaults": {
           "line": {
            "color": "#2a3f5f"
           }
          },
          "ternary": {
           "aaxis": {
            "gridcolor": "white",
            "linecolor": "white",
            "ticks": ""
           },
           "baxis": {
            "gridcolor": "white",
            "linecolor": "white",
            "ticks": ""
           },
           "bgcolor": "#E5ECF6",
           "caxis": {
            "gridcolor": "white",
            "linecolor": "white",
            "ticks": ""
           }
          },
          "title": {
           "x": 0.05
          },
          "xaxis": {
           "automargin": true,
           "gridcolor": "white",
           "linecolor": "white",
           "ticks": "",
           "title": {
            "standoff": 15
           },
           "zerolinecolor": "white",
           "zerolinewidth": 2
          },
          "yaxis": {
           "automargin": true,
           "gridcolor": "white",
           "linecolor": "white",
           "ticks": "",
           "title": {
            "standoff": 15
           },
           "zerolinecolor": "white",
           "zerolinewidth": 2
          }
         }
        },
        "xaxis": {
         "anchor": "y",
         "domain": [
          0,
          1
         ],
         "title": {
          "text": "income"
         }
        },
        "yaxis": {
         "anchor": "x",
         "categoryarray": [
          "High income",
          "Lower middle income",
          "Upper middle income",
          "Low income"
         ],
         "categoryorder": "array",
         "domain": [
          0,
          1
         ],
         "title": {
          "text": "income_category"
         }
        }
       }
      }
     },
     "metadata": {},
     "output_type": "display_data"
    }
   ],
   "source": [
    "# Visualizando comportamento da variável income com income_category\n",
    "px.box(df_countries, x='income', y='income_category', color='income_category', orientation='h', hover_data=['country'])"
   ]
  },
  {
   "cell_type": "code",
   "execution_count": null,
   "metadata": {},
   "outputs": [
    {
     "data": {
      "application/vnd.plotly.v1+json": {
       "config": {
        "plotlyServerURL": "https://plot.ly"
       },
       "data": [
        {
         "alignmentgroup": "True",
         "customdata": [
          [
           "Afghanistan"
          ],
          [
           "Burkina Faso"
          ],
          [
           "Burundi"
          ],
          [
           "Central African Republic"
          ],
          [
           "Chad"
          ],
          [
           "Congo Dem. Rep."
          ],
          [
           "Eritrea"
          ],
          [
           "Gambia"
          ],
          [
           "Guinea-Bissau"
          ],
          [
           "Liberia"
          ],
          [
           "Madagascar"
          ],
          [
           "Malawi"
          ],
          [
           "Mali"
          ],
          [
           "Mozambique"
          ],
          [
           "Niger"
          ],
          [
           "Rwanda"
          ],
          [
           "Sierra Leone"
          ],
          [
           "Sudan"
          ],
          [
           "Togo"
          ],
          [
           "Uganda"
          ],
          [
           "Yemen"
          ]
         ],
         "hovertemplate": "income_category=%{y}<br>gdpp=%{x}<br>country=%{customdata[0]}<extra></extra>",
         "legendgroup": "Low income",
         "marker": {
          "color": "#636efa"
         },
         "name": "Low income",
         "notched": false,
         "offsetgroup": "Low income",
         "orientation": "h",
         "showlegend": true,
         "type": "box",
         "x": {
          "bdata": "KQI/AucAvgGBA04B4gEyAiMCRwGdAcsBxAKjAVwBMwKPAcgF6AFTAh4F",
          "dtype": "i2"
         },
         "x0": " ",
         "xaxis": "x",
         "y": [
          "Low income",
          "Low income",
          "Low income",
          "Low income",
          "Low income",
          "Low income",
          "Low income",
          "Low income",
          "Low income",
          "Low income",
          "Low income",
          "Low income",
          "Low income",
          "Low income",
          "Low income",
          "Low income",
          "Low income",
          "Low income",
          "Low income",
          "Low income",
          "Low income"
         ],
         "y0": " ",
         "yaxis": "y"
        },
        {
         "alignmentgroup": "True",
         "customdata": [
          [
           "Albania"
          ],
          [
           "Argentina"
          ],
          [
           "Armenia"
          ],
          [
           "Azerbaijan"
          ],
          [
           "Belarus"
          ],
          [
           "Belize"
          ],
          [
           "Bosnia and Herzegovina"
          ],
          [
           "Botswana"
          ],
          [
           "Brazil"
          ],
          [
           "Bulgaria"
          ],
          [
           "China"
          ],
          [
           "Colombia"
          ],
          [
           "Costa Rica"
          ],
          [
           "Dominican Republic"
          ],
          [
           "Ecuador"
          ],
          [
           "El Salvador"
          ],
          [
           "Equatorial Guinea"
          ],
          [
           "Fiji"
          ],
          [
           "Gabon"
          ],
          [
           "Georgia"
          ],
          [
           "Grenada"
          ],
          [
           "Guatemala"
          ],
          [
           "Indonesia"
          ],
          [
           "Iraq"
          ],
          [
           "Jamaica"
          ],
          [
           "Kazakhstan"
          ],
          [
           "Libya"
          ],
          [
           "Malaysia"
          ],
          [
           "Maldives"
          ],
          [
           "Mauritius"
          ],
          [
           "Moldova"
          ],
          [
           "Montenegro"
          ],
          [
           "Namibia"
          ],
          [
           "Paraguay"
          ],
          [
           "Peru"
          ],
          [
           "Russia"
          ],
          [
           "Serbia"
          ],
          [
           "South Africa"
          ],
          [
           "St. Vincent and the Grenadines"
          ],
          [
           "Suriname"
          ],
          [
           "Thailand"
          ],
          [
           "Tonga"
          ],
          [
           "Turkey"
          ],
          [
           "Turkmenistan"
          ]
         ],
         "hovertemplate": "income_category=%{y}<br>gdpp=%{x}<br>country=%{customdata[0]}<extra></extra>",
         "legendgroup": "Upper middle income",
         "marker": {
          "color": "#EF553B"
         },
         "name": "Upper middle income",
         "notched": false,
         "offsetgroup": "Upper middle income",
         "orientation": "h",
         "showlegend": true,
         "type": "box",
         "x": {
          "bdata": "+g88KJQM0BaOF/QQAhLOGMAruBrQEWoYCCBKFTQSrgvMQkIOLiKQC8ocDgsmDJQRSBJuI0QvbiO8G0AfXgYYGkYUngycE8wpIhVwHFYYbCDYE94NzClYEQ==",
          "dtype": "i2"
         },
         "x0": " ",
         "xaxis": "x",
         "y": [
          "Upper middle income",
          "Upper middle income",
          "Upper middle income",
          "Upper middle income",
          "Upper middle income",
          "Upper middle income",
          "Upper middle income",
          "Upper middle income",
          "Upper middle income",
          "Upper middle income",
          "Upper middle income",
          "Upper middle income",
          "Upper middle income",
          "Upper middle income",
          "Upper middle income",
          "Upper middle income",
          "Upper middle income",
          "Upper middle income",
          "Upper middle income",
          "Upper middle income",
          "Upper middle income",
          "Upper middle income",
          "Upper middle income",
          "Upper middle income",
          "Upper middle income",
          "Upper middle income",
          "Upper middle income",
          "Upper middle income",
          "Upper middle income",
          "Upper middle income",
          "Upper middle income",
          "Upper middle income",
          "Upper middle income",
          "Upper middle income",
          "Upper middle income",
          "Upper middle income",
          "Upper middle income",
          "Upper middle income",
          "Upper middle income",
          "Upper middle income",
          "Upper middle income",
          "Upper middle income",
          "Upper middle income",
          "Upper middle income"
         ],
         "y0": " ",
         "yaxis": "y"
        },
        {
         "alignmentgroup": "True",
         "customdata": [
          [
           "Algeria"
          ],
          [
           "Angola"
          ],
          [
           "Bangladesh"
          ],
          [
           "Benin"
          ],
          [
           "Bhutan"
          ],
          [
           "Bolivia"
          ],
          [
           "Cambodia"
          ],
          [
           "Cameroon"
          ],
          [
           "Cape Verde"
          ],
          [
           "Comoros"
          ],
          [
           "Congo Rep."
          ],
          [
           "Cote d'Ivoire"
          ],
          [
           "Egypt"
          ],
          [
           "Ghana"
          ],
          [
           "Guinea"
          ],
          [
           "Haiti"
          ],
          [
           "India"
          ],
          [
           "Iran"
          ],
          [
           "Jordan"
          ],
          [
           "Kenya"
          ],
          [
           "Kiribati"
          ],
          [
           "Kyrgyz Republic"
          ],
          [
           "Lao"
          ],
          [
           "Lebanon"
          ],
          [
           "Lesotho"
          ],
          [
           "Mauritania"
          ],
          [
           "Micronesia"
          ],
          [
           "Mongolia"
          ],
          [
           "Morocco"
          ],
          [
           "Myanmar"
          ],
          [
           "Nepal"
          ],
          [
           "Nigeria"
          ],
          [
           "Pakistan"
          ],
          [
           "Philippines"
          ],
          [
           "Samoa"
          ],
          [
           "Senegal"
          ],
          [
           "Solomon Islands"
          ],
          [
           "Sri Lanka"
          ],
          [
           "Tajikistan"
          ],
          [
           "Tanzania"
          ],
          [
           "Timor-Leste"
          ],
          [
           "Tunisia"
          ],
          [
           "Ukraine"
          ],
          [
           "Uzbekistan"
          ],
          [
           "Vanuatu"
          ],
          [
           "Vietnam"
          ],
          [
           "Zambia"
          ]
         ],
         "hovertemplate": "income_category=%{y}<br>gdpp=%{x}<br>country=%{customdata[0]}<extra></extra>",
         "legendgroup": "Lower middle income",
         "marker": {
          "color": "#00cc96"
         },
         "name": "Lower middle income",
         "notched": false,
         "offsetgroup": "Lower middle income",
         "orientation": "h",
         "showlegend": true,
         "type": "box",
         "x": {
          "bdata": "bBHKDfYC9gKECLwHEgMeBe4MAQO0CsQEKAoeBYgClgJGBYIZYA7HA9IFcAN0BJwikgSwBCwLWgoOC9wDUAIaCRAEUgh6DegDCgX6CuICvgIQDiwQmgtkBZoLHgW0BQ==",
          "dtype": "i2"
         },
         "x0": " ",
         "xaxis": "x",
         "y": [
          "Lower middle income",
          "Lower middle income",
          "Lower middle income",
          "Lower middle income",
          "Lower middle income",
          "Lower middle income",
          "Lower middle income",
          "Lower middle income",
          "Lower middle income",
          "Lower middle income",
          "Lower middle income",
          "Lower middle income",
          "Lower middle income",
          "Lower middle income",
          "Lower middle income",
          "Lower middle income",
          "Lower middle income",
          "Lower middle income",
          "Lower middle income",
          "Lower middle income",
          "Lower middle income",
          "Lower middle income",
          "Lower middle income",
          "Lower middle income",
          "Lower middle income",
          "Lower middle income",
          "Lower middle income",
          "Lower middle income",
          "Lower middle income",
          "Lower middle income",
          "Lower middle income",
          "Lower middle income",
          "Lower middle income",
          "Lower middle income",
          "Lower middle income",
          "Lower middle income",
          "Lower middle income",
          "Lower middle income",
          "Lower middle income",
          "Lower middle income",
          "Lower middle income",
          "Lower middle income",
          "Lower middle income",
          "Lower middle income",
          "Lower middle income",
          "Lower middle income",
          "Lower middle income"
         ],
         "y0": " ",
         "yaxis": "y"
        },
        {
         "alignmentgroup": "True",
         "customdata": [
          [
           "Antigua and Barbuda"
          ],
          [
           "Australia"
          ],
          [
           "Austria"
          ],
          [
           "Bahamas"
          ],
          [
           "Bahrain"
          ],
          [
           "Barbados"
          ],
          [
           "Belgium"
          ],
          [
           "Brunei"
          ],
          [
           "Canada"
          ],
          [
           "Chile"
          ],
          [
           "Croatia"
          ],
          [
           "Cyprus"
          ],
          [
           "Czech Republic"
          ],
          [
           "Denmark"
          ],
          [
           "Estonia"
          ],
          [
           "Finland"
          ],
          [
           "France"
          ],
          [
           "Germany"
          ],
          [
           "Greece"
          ],
          [
           "Guyana"
          ],
          [
           "Hungary"
          ],
          [
           "Iceland"
          ],
          [
           "Ireland"
          ],
          [
           "Israel"
          ],
          [
           "Italy"
          ],
          [
           "Japan"
          ],
          [
           "Kuwait"
          ],
          [
           "Latvia"
          ],
          [
           "Lithuania"
          ],
          [
           "Luxembourg"
          ],
          [
           "Malta"
          ],
          [
           "Netherlands"
          ],
          [
           "New Zealand"
          ],
          [
           "Norway"
          ],
          [
           "Oman"
          ],
          [
           "Panama"
          ],
          [
           "Poland"
          ],
          [
           "Portugal"
          ],
          [
           "Qatar"
          ],
          [
           "Romania"
          ],
          [
           "Saudi Arabia"
          ],
          [
           "Seychelles"
          ],
          [
           "Singapore"
          ],
          [
           "Slovak Republic"
          ],
          [
           "Slovenia"
          ],
          [
           "South Korea"
          ],
          [
           "Spain"
          ],
          [
           "Sweden"
          ],
          [
           "Switzerland"
          ],
          [
           "United Arab Emirates"
          ],
          [
           "United Kingdom"
          ],
          [
           "United States"
          ],
          [
           "Uruguay"
          ]
         ],
         "hovertemplate": "income_category=%{y}<br>gdpp=%{x}<br>country=%{customdata[0]}<extra></extra>",
         "legendgroup": "High income",
         "marker": {
          "color": "#ab63fa"
         },
         "name": "High income",
         "notched": false,
         "offsetgroup": "High income",
         "orientation": "h",
         "showlegend": true,
         "type": "box",
         "x": {
          "bdata": "qC8AALzKAAA0twAAYG0AANxQAACAPgAAcK0AAOSJAAAouQAAZDIAALw0AABQeAAAWE0AAJDiAAAIOQAAeLQAAJieAABIowAAFGkAAOALAAAsMwAArKMAADy+AACIdwAA2IsAANStAABklgAAJCwAAOAuAAAomgEAbFIAAHzEAACkgwAA+FYBAGRLAACQHwAAODEAAORXAACcEgEAJiAAAGRLAAAwKgAACLYAANhAAABoWwAAVFYAAOx3AACEywAAaCMBALiIAAD0lwAAEL0AAHwuAAA=",
          "dtype": "i4"
         },
         "x0": " ",
         "xaxis": "x",
         "y": [
          "High income",
          "High income",
          "High income",
          "High income",
          "High income",
          "High income",
          "High income",
          "High income",
          "High income",
          "High income",
          "High income",
          "High income",
          "High income",
          "High income",
          "High income",
          "High income",
          "High income",
          "High income",
          "High income",
          "High income",
          "High income",
          "High income",
          "High income",
          "High income",
          "High income",
          "High income",
          "High income",
          "High income",
          "High income",
          "High income",
          "High income",
          "High income",
          "High income",
          "High income",
          "High income",
          "High income",
          "High income",
          "High income",
          "High income",
          "High income",
          "High income",
          "High income",
          "High income",
          "High income",
          "High income",
          "High income",
          "High income",
          "High income",
          "High income",
          "High income",
          "High income",
          "High income",
          "High income"
         ],
         "y0": " ",
         "yaxis": "y"
        }
       ],
       "layout": {
        "boxmode": "overlay",
        "legend": {
         "title": {
          "text": "income_category"
         },
         "tracegroupgap": 0
        },
        "margin": {
         "t": 60
        },
        "template": {
         "data": {
          "bar": [
           {
            "error_x": {
             "color": "#2a3f5f"
            },
            "error_y": {
             "color": "#2a3f5f"
            },
            "marker": {
             "line": {
              "color": "#E5ECF6",
              "width": 0.5
             },
             "pattern": {
              "fillmode": "overlay",
              "size": 10,
              "solidity": 0.2
             }
            },
            "type": "bar"
           }
          ],
          "barpolar": [
           {
            "marker": {
             "line": {
              "color": "#E5ECF6",
              "width": 0.5
             },
             "pattern": {
              "fillmode": "overlay",
              "size": 10,
              "solidity": 0.2
             }
            },
            "type": "barpolar"
           }
          ],
          "carpet": [
           {
            "aaxis": {
             "endlinecolor": "#2a3f5f",
             "gridcolor": "white",
             "linecolor": "white",
             "minorgridcolor": "white",
             "startlinecolor": "#2a3f5f"
            },
            "baxis": {
             "endlinecolor": "#2a3f5f",
             "gridcolor": "white",
             "linecolor": "white",
             "minorgridcolor": "white",
             "startlinecolor": "#2a3f5f"
            },
            "type": "carpet"
           }
          ],
          "choropleth": [
           {
            "colorbar": {
             "outlinewidth": 0,
             "ticks": ""
            },
            "type": "choropleth"
           }
          ],
          "contour": [
           {
            "colorbar": {
             "outlinewidth": 0,
             "ticks": ""
            },
            "colorscale": [
             [
              0,
              "#0d0887"
             ],
             [
              0.1111111111111111,
              "#46039f"
             ],
             [
              0.2222222222222222,
              "#7201a8"
             ],
             [
              0.3333333333333333,
              "#9c179e"
             ],
             [
              0.4444444444444444,
              "#bd3786"
             ],
             [
              0.5555555555555556,
              "#d8576b"
             ],
             [
              0.6666666666666666,
              "#ed7953"
             ],
             [
              0.7777777777777778,
              "#fb9f3a"
             ],
             [
              0.8888888888888888,
              "#fdca26"
             ],
             [
              1,
              "#f0f921"
             ]
            ],
            "type": "contour"
           }
          ],
          "contourcarpet": [
           {
            "colorbar": {
             "outlinewidth": 0,
             "ticks": ""
            },
            "type": "contourcarpet"
           }
          ],
          "heatmap": [
           {
            "colorbar": {
             "outlinewidth": 0,
             "ticks": ""
            },
            "colorscale": [
             [
              0,
              "#0d0887"
             ],
             [
              0.1111111111111111,
              "#46039f"
             ],
             [
              0.2222222222222222,
              "#7201a8"
             ],
             [
              0.3333333333333333,
              "#9c179e"
             ],
             [
              0.4444444444444444,
              "#bd3786"
             ],
             [
              0.5555555555555556,
              "#d8576b"
             ],
             [
              0.6666666666666666,
              "#ed7953"
             ],
             [
              0.7777777777777778,
              "#fb9f3a"
             ],
             [
              0.8888888888888888,
              "#fdca26"
             ],
             [
              1,
              "#f0f921"
             ]
            ],
            "type": "heatmap"
           }
          ],
          "histogram": [
           {
            "marker": {
             "pattern": {
              "fillmode": "overlay",
              "size": 10,
              "solidity": 0.2
             }
            },
            "type": "histogram"
           }
          ],
          "histogram2d": [
           {
            "colorbar": {
             "outlinewidth": 0,
             "ticks": ""
            },
            "colorscale": [
             [
              0,
              "#0d0887"
             ],
             [
              0.1111111111111111,
              "#46039f"
             ],
             [
              0.2222222222222222,
              "#7201a8"
             ],
             [
              0.3333333333333333,
              "#9c179e"
             ],
             [
              0.4444444444444444,
              "#bd3786"
             ],
             [
              0.5555555555555556,
              "#d8576b"
             ],
             [
              0.6666666666666666,
              "#ed7953"
             ],
             [
              0.7777777777777778,
              "#fb9f3a"
             ],
             [
              0.8888888888888888,
              "#fdca26"
             ],
             [
              1,
              "#f0f921"
             ]
            ],
            "type": "histogram2d"
           }
          ],
          "histogram2dcontour": [
           {
            "colorbar": {
             "outlinewidth": 0,
             "ticks": ""
            },
            "colorscale": [
             [
              0,
              "#0d0887"
             ],
             [
              0.1111111111111111,
              "#46039f"
             ],
             [
              0.2222222222222222,
              "#7201a8"
             ],
             [
              0.3333333333333333,
              "#9c179e"
             ],
             [
              0.4444444444444444,
              "#bd3786"
             ],
             [
              0.5555555555555556,
              "#d8576b"
             ],
             [
              0.6666666666666666,
              "#ed7953"
             ],
             [
              0.7777777777777778,
              "#fb9f3a"
             ],
             [
              0.8888888888888888,
              "#fdca26"
             ],
             [
              1,
              "#f0f921"
             ]
            ],
            "type": "histogram2dcontour"
           }
          ],
          "mesh3d": [
           {
            "colorbar": {
             "outlinewidth": 0,
             "ticks": ""
            },
            "type": "mesh3d"
           }
          ],
          "parcoords": [
           {
            "line": {
             "colorbar": {
              "outlinewidth": 0,
              "ticks": ""
             }
            },
            "type": "parcoords"
           }
          ],
          "pie": [
           {
            "automargin": true,
            "type": "pie"
           }
          ],
          "scatter": [
           {
            "fillpattern": {
             "fillmode": "overlay",
             "size": 10,
             "solidity": 0.2
            },
            "type": "scatter"
           }
          ],
          "scatter3d": [
           {
            "line": {
             "colorbar": {
              "outlinewidth": 0,
              "ticks": ""
             }
            },
            "marker": {
             "colorbar": {
              "outlinewidth": 0,
              "ticks": ""
             }
            },
            "type": "scatter3d"
           }
          ],
          "scattercarpet": [
           {
            "marker": {
             "colorbar": {
              "outlinewidth": 0,
              "ticks": ""
             }
            },
            "type": "scattercarpet"
           }
          ],
          "scattergeo": [
           {
            "marker": {
             "colorbar": {
              "outlinewidth": 0,
              "ticks": ""
             }
            },
            "type": "scattergeo"
           }
          ],
          "scattergl": [
           {
            "marker": {
             "colorbar": {
              "outlinewidth": 0,
              "ticks": ""
             }
            },
            "type": "scattergl"
           }
          ],
          "scattermap": [
           {
            "marker": {
             "colorbar": {
              "outlinewidth": 0,
              "ticks": ""
             }
            },
            "type": "scattermap"
           }
          ],
          "scattermapbox": [
           {
            "marker": {
             "colorbar": {
              "outlinewidth": 0,
              "ticks": ""
             }
            },
            "type": "scattermapbox"
           }
          ],
          "scatterpolar": [
           {
            "marker": {
             "colorbar": {
              "outlinewidth": 0,
              "ticks": ""
             }
            },
            "type": "scatterpolar"
           }
          ],
          "scatterpolargl": [
           {
            "marker": {
             "colorbar": {
              "outlinewidth": 0,
              "ticks": ""
             }
            },
            "type": "scatterpolargl"
           }
          ],
          "scatterternary": [
           {
            "marker": {
             "colorbar": {
              "outlinewidth": 0,
              "ticks": ""
             }
            },
            "type": "scatterternary"
           }
          ],
          "surface": [
           {
            "colorbar": {
             "outlinewidth": 0,
             "ticks": ""
            },
            "colorscale": [
             [
              0,
              "#0d0887"
             ],
             [
              0.1111111111111111,
              "#46039f"
             ],
             [
              0.2222222222222222,
              "#7201a8"
             ],
             [
              0.3333333333333333,
              "#9c179e"
             ],
             [
              0.4444444444444444,
              "#bd3786"
             ],
             [
              0.5555555555555556,
              "#d8576b"
             ],
             [
              0.6666666666666666,
              "#ed7953"
             ],
             [
              0.7777777777777778,
              "#fb9f3a"
             ],
             [
              0.8888888888888888,
              "#fdca26"
             ],
             [
              1,
              "#f0f921"
             ]
            ],
            "type": "surface"
           }
          ],
          "table": [
           {
            "cells": {
             "fill": {
              "color": "#EBF0F8"
             },
             "line": {
              "color": "white"
             }
            },
            "header": {
             "fill": {
              "color": "#C8D4E3"
             },
             "line": {
              "color": "white"
             }
            },
            "type": "table"
           }
          ]
         },
         "layout": {
          "annotationdefaults": {
           "arrowcolor": "#2a3f5f",
           "arrowhead": 0,
           "arrowwidth": 1
          },
          "autotypenumbers": "strict",
          "coloraxis": {
           "colorbar": {
            "outlinewidth": 0,
            "ticks": ""
           }
          },
          "colorscale": {
           "diverging": [
            [
             0,
             "#8e0152"
            ],
            [
             0.1,
             "#c51b7d"
            ],
            [
             0.2,
             "#de77ae"
            ],
            [
             0.3,
             "#f1b6da"
            ],
            [
             0.4,
             "#fde0ef"
            ],
            [
             0.5,
             "#f7f7f7"
            ],
            [
             0.6,
             "#e6f5d0"
            ],
            [
             0.7,
             "#b8e186"
            ],
            [
             0.8,
             "#7fbc41"
            ],
            [
             0.9,
             "#4d9221"
            ],
            [
             1,
             "#276419"
            ]
           ],
           "sequential": [
            [
             0,
             "#0d0887"
            ],
            [
             0.1111111111111111,
             "#46039f"
            ],
            [
             0.2222222222222222,
             "#7201a8"
            ],
            [
             0.3333333333333333,
             "#9c179e"
            ],
            [
             0.4444444444444444,
             "#bd3786"
            ],
            [
             0.5555555555555556,
             "#d8576b"
            ],
            [
             0.6666666666666666,
             "#ed7953"
            ],
            [
             0.7777777777777778,
             "#fb9f3a"
            ],
            [
             0.8888888888888888,
             "#fdca26"
            ],
            [
             1,
             "#f0f921"
            ]
           ],
           "sequentialminus": [
            [
             0,
             "#0d0887"
            ],
            [
             0.1111111111111111,
             "#46039f"
            ],
            [
             0.2222222222222222,
             "#7201a8"
            ],
            [
             0.3333333333333333,
             "#9c179e"
            ],
            [
             0.4444444444444444,
             "#bd3786"
            ],
            [
             0.5555555555555556,
             "#d8576b"
            ],
            [
             0.6666666666666666,
             "#ed7953"
            ],
            [
             0.7777777777777778,
             "#fb9f3a"
            ],
            [
             0.8888888888888888,
             "#fdca26"
            ],
            [
             1,
             "#f0f921"
            ]
           ]
          },
          "colorway": [
           "#636efa",
           "#EF553B",
           "#00cc96",
           "#ab63fa",
           "#FFA15A",
           "#19d3f3",
           "#FF6692",
           "#B6E880",
           "#FF97FF",
           "#FECB52"
          ],
          "font": {
           "color": "#2a3f5f"
          },
          "geo": {
           "bgcolor": "white",
           "lakecolor": "white",
           "landcolor": "#E5ECF6",
           "showlakes": true,
           "showland": true,
           "subunitcolor": "white"
          },
          "hoverlabel": {
           "align": "left"
          },
          "hovermode": "closest",
          "mapbox": {
           "style": "light"
          },
          "paper_bgcolor": "white",
          "plot_bgcolor": "#E5ECF6",
          "polar": {
           "angularaxis": {
            "gridcolor": "white",
            "linecolor": "white",
            "ticks": ""
           },
           "bgcolor": "#E5ECF6",
           "radialaxis": {
            "gridcolor": "white",
            "linecolor": "white",
            "ticks": ""
           }
          },
          "scene": {
           "xaxis": {
            "backgroundcolor": "#E5ECF6",
            "gridcolor": "white",
            "gridwidth": 2,
            "linecolor": "white",
            "showbackground": true,
            "ticks": "",
            "zerolinecolor": "white"
           },
           "yaxis": {
            "backgroundcolor": "#E5ECF6",
            "gridcolor": "white",
            "gridwidth": 2,
            "linecolor": "white",
            "showbackground": true,
            "ticks": "",
            "zerolinecolor": "white"
           },
           "zaxis": {
            "backgroundcolor": "#E5ECF6",
            "gridcolor": "white",
            "gridwidth": 2,
            "linecolor": "white",
            "showbackground": true,
            "ticks": "",
            "zerolinecolor": "white"
           }
          },
          "shapedefaults": {
           "line": {
            "color": "#2a3f5f"
           }
          },
          "ternary": {
           "aaxis": {
            "gridcolor": "white",
            "linecolor": "white",
            "ticks": ""
           },
           "baxis": {
            "gridcolor": "white",
            "linecolor": "white",
            "ticks": ""
           },
           "bgcolor": "#E5ECF6",
           "caxis": {
            "gridcolor": "white",
            "linecolor": "white",
            "ticks": ""
           }
          },
          "title": {
           "x": 0.05
          },
          "xaxis": {
           "automargin": true,
           "gridcolor": "white",
           "linecolor": "white",
           "ticks": "",
           "title": {
            "standoff": 15
           },
           "zerolinecolor": "white",
           "zerolinewidth": 2
          },
          "yaxis": {
           "automargin": true,
           "gridcolor": "white",
           "linecolor": "white",
           "ticks": "",
           "title": {
            "standoff": 15
           },
           "zerolinecolor": "white",
           "zerolinewidth": 2
          }
         }
        },
        "xaxis": {
         "anchor": "y",
         "domain": [
          0,
          1
         ],
         "title": {
          "text": "gdpp"
         }
        },
        "yaxis": {
         "anchor": "x",
         "categoryarray": [
          "High income",
          "Lower middle income",
          "Upper middle income",
          "Low income"
         ],
         "categoryorder": "array",
         "domain": [
          0,
          1
         ],
         "title": {
          "text": "income_category"
         }
        }
       }
      }
     },
     "metadata": {},
     "output_type": "display_data"
    }
   ],
   "source": [
    "# Comportamento da variável income_category com PIB per capita  \n",
    "px.box(df_countries, x='gdpp', y='income_category', color='income_category', orientation='h', hover_data=['country'])"
   ]
  },
  {
   "cell_type": "code",
   "execution_count": null,
   "metadata": {},
   "outputs": [
    {
     "data": {
      "application/vnd.plotly.v1+json": {
       "config": {
        "plotlyServerURL": "https://plot.ly"
       },
       "data": [
        {
         "alignmentgroup": "True",
         "customdata": [
          [
           "Afghanistan"
          ],
          [
           "Burkina Faso"
          ],
          [
           "Burundi"
          ],
          [
           "Central African Republic"
          ],
          [
           "Chad"
          ],
          [
           "Congo Dem. Rep."
          ],
          [
           "Eritrea"
          ],
          [
           "Gambia"
          ],
          [
           "Guinea-Bissau"
          ],
          [
           "Liberia"
          ],
          [
           "Madagascar"
          ],
          [
           "Malawi"
          ],
          [
           "Mali"
          ],
          [
           "Mozambique"
          ],
          [
           "Niger"
          ],
          [
           "Rwanda"
          ],
          [
           "Sierra Leone"
          ],
          [
           "Sudan"
          ],
          [
           "Togo"
          ],
          [
           "Uganda"
          ],
          [
           "Yemen"
          ]
         ],
         "hovertemplate": "income_category=%{y}<br>inflation=%{x}<br>country=%{customdata[0]}<extra></extra>",
         "legendgroup": "Low income",
         "marker": {
          "color": "#636efa"
         },
         "name": "Low income",
         "notched": false,
         "offsetgroup": "Low income",
         "orientation": "h",
         "showlegend": true,
         "type": "box",
         "x": {
          "bdata": "4XoUrkfhIkA9CtejcD0bQJqZmZmZmShAFK5H4XoUAECPwvUoXI8ZQM3MzMzMzDRAMzMzMzMzJ0AzMzMzMzMRQMP1KFyPwgdA4XoUrkfhFUAUrkfhepQhQDMzMzMzMyhAexSuR+F6EUCPwvUoXI8eQGZmZmZmZgRA4XoUrkfhBEAzMzMzMzMxQJqZmZmZmTNA4XoUrkfh8j8zMzMzMzMlQJqZmZmZmTdA",
          "dtype": "f8"
         },
         "x0": " ",
         "xaxis": "x",
         "y": [
          "Low income",
          "Low income",
          "Low income",
          "Low income",
          "Low income",
          "Low income",
          "Low income",
          "Low income",
          "Low income",
          "Low income",
          "Low income",
          "Low income",
          "Low income",
          "Low income",
          "Low income",
          "Low income",
          "Low income",
          "Low income",
          "Low income",
          "Low income",
          "Low income"
         ],
         "y0": " ",
         "yaxis": "y"
        },
        {
         "alignmentgroup": "True",
         "customdata": [
          [
           "Albania"
          ],
          [
           "Argentina"
          ],
          [
           "Armenia"
          ],
          [
           "Azerbaijan"
          ],
          [
           "Belarus"
          ],
          [
           "Belize"
          ],
          [
           "Bosnia and Herzegovina"
          ],
          [
           "Botswana"
          ],
          [
           "Brazil"
          ],
          [
           "Bulgaria"
          ],
          [
           "China"
          ],
          [
           "Colombia"
          ],
          [
           "Costa Rica"
          ],
          [
           "Dominican Republic"
          ],
          [
           "Ecuador"
          ],
          [
           "El Salvador"
          ],
          [
           "Equatorial Guinea"
          ],
          [
           "Fiji"
          ],
          [
           "Gabon"
          ],
          [
           "Georgia"
          ],
          [
           "Grenada"
          ],
          [
           "Guatemala"
          ],
          [
           "Indonesia"
          ],
          [
           "Iraq"
          ],
          [
           "Jamaica"
          ],
          [
           "Kazakhstan"
          ],
          [
           "Libya"
          ],
          [
           "Malaysia"
          ],
          [
           "Maldives"
          ],
          [
           "Mauritius"
          ],
          [
           "Moldova"
          ],
          [
           "Montenegro"
          ],
          [
           "Namibia"
          ],
          [
           "Paraguay"
          ],
          [
           "Peru"
          ],
          [
           "Russia"
          ],
          [
           "Serbia"
          ],
          [
           "South Africa"
          ],
          [
           "St. Vincent and the Grenadines"
          ],
          [
           "Suriname"
          ],
          [
           "Thailand"
          ],
          [
           "Tonga"
          ],
          [
           "Turkey"
          ],
          [
           "Turkmenistan"
          ]
         ],
         "hovertemplate": "income_category=%{y}<br>inflation=%{x}<br>country=%{customdata[0]}<extra></extra>",
         "legendgroup": "Upper middle income",
         "marker": {
          "color": "#EF553B"
         },
         "name": "Upper middle income",
         "notched": false,
         "offsetgroup": "Upper middle income",
         "orientation": "h",
         "showlegend": true,
         "type": "box",
         "x": {
          "bdata": "9ihcj8L1EUBmZmZmZuY0QBSuR+F6FB9AmpmZmZmZK0AzMzMzMzMuQD0K16NwPfI/ZmZmZmZm9j/Xo3A9CtchQFK4HoXr0SBAw/UoXI/C8T/D9Shcj8IbQOF6FK5H4Q5ASOF6FK5HGkDD9Shcj8IVQOF6FK5H4R1AMzMzMzMzBUBmZmZmZuY4QOxRuB6F6xBAmpmZmZmZMECamZmZmRkhQLgehetRuN4/j8L1KFyPFECamZmZmZkuQJqZmZmZmTBAH4XrUbieI0AAAAAAAIAzQGZmZmZmZixAFK5H4XoUHUAK16NwPQoHQBSuR+F6FPI/MzMzMzMzJkCamZmZmZn5P3sUrkfhegxAZmZmZmZmGEDXo3A9CtcWQGZmZmZmZixAhetRuB6FF0BmZmZmZmYZQMP1KFyPwhFAzczMzMzMHEBSuB6F61EQQHE9CtejcA1ACtejcD0KHEB7FK5H4XoCQA==",
          "dtype": "f8"
         },
         "x0": " ",
         "xaxis": "x",
         "y": [
          "Upper middle income",
          "Upper middle income",
          "Upper middle income",
          "Upper middle income",
          "Upper middle income",
          "Upper middle income",
          "Upper middle income",
          "Upper middle income",
          "Upper middle income",
          "Upper middle income",
          "Upper middle income",
          "Upper middle income",
          "Upper middle income",
          "Upper middle income",
          "Upper middle income",
          "Upper middle income",
          "Upper middle income",
          "Upper middle income",
          "Upper middle income",
          "Upper middle income",
          "Upper middle income",
          "Upper middle income",
          "Upper middle income",
          "Upper middle income",
          "Upper middle income",
          "Upper middle income",
          "Upper middle income",
          "Upper middle income",
          "Upper middle income",
          "Upper middle income",
          "Upper middle income",
          "Upper middle income",
          "Upper middle income",
          "Upper middle income",
          "Upper middle income",
          "Upper middle income",
          "Upper middle income",
          "Upper middle income",
          "Upper middle income",
          "Upper middle income",
          "Upper middle income",
          "Upper middle income",
          "Upper middle income",
          "Upper middle income"
         ],
         "y0": " ",
         "yaxis": "y"
        },
        {
         "alignmentgroup": "True",
         "customdata": [
          [
           "Algeria"
          ],
          [
           "Angola"
          ],
          [
           "Bangladesh"
          ],
          [
           "Benin"
          ],
          [
           "Bhutan"
          ],
          [
           "Bolivia"
          ],
          [
           "Cambodia"
          ],
          [
           "Cameroon"
          ],
          [
           "Cape Verde"
          ],
          [
           "Comoros"
          ],
          [
           "Congo Rep."
          ],
          [
           "Cote d'Ivoire"
          ],
          [
           "Egypt"
          ],
          [
           "Ghana"
          ],
          [
           "Guinea"
          ],
          [
           "Haiti"
          ],
          [
           "India"
          ],
          [
           "Iran"
          ],
          [
           "Jordan"
          ],
          [
           "Kenya"
          ],
          [
           "Kiribati"
          ],
          [
           "Kyrgyz Republic"
          ],
          [
           "Lao"
          ],
          [
           "Lebanon"
          ],
          [
           "Lesotho"
          ],
          [
           "Mauritania"
          ],
          [
           "Micronesia"
          ],
          [
           "Mongolia"
          ],
          [
           "Morocco"
          ],
          [
           "Myanmar"
          ],
          [
           "Nepal"
          ],
          [
           "Nigeria"
          ],
          [
           "Pakistan"
          ],
          [
           "Philippines"
          ],
          [
           "Samoa"
          ],
          [
           "Senegal"
          ],
          [
           "Solomon Islands"
          ],
          [
           "Sri Lanka"
          ],
          [
           "Tajikistan"
          ],
          [
           "Tanzania"
          ],
          [
           "Timor-Leste"
          ],
          [
           "Tunisia"
          ],
          [
           "Ukraine"
          ],
          [
           "Uzbekistan"
          ],
          [
           "Vanuatu"
          ],
          [
           "Vietnam"
          ],
          [
           "Zambia"
          ]
         ],
         "hovertemplate": "income_category=%{y}<br>inflation=%{x}<br>country=%{customdata[0]}<extra></extra>",
         "legendgroup": "Lower middle income",
         "marker": {
          "color": "#00cc96"
         },
         "name": "Lower middle income",
         "notched": false,
         "offsetgroup": "Lower middle income",
         "orientation": "h",
         "showlegend": true,
         "type": "box",
         "x": {
          "bdata": "mpmZmZkZMEBmZmZmZmY2QI/C9ShcjxxAUrgehetR7D/2KFyPwvUXQI/C9ShcjyFA9ihcj8L1CECPwvUoXI/+Pylcj8L1KOA/9ihcj8L1DkAzMzMzM7M0QI/C9ShcjxVAMzMzMzMzJECamZmZmZkwQJqZmZmZGTBAzczMzMzMFUD2KFyPwvUhQM3MzMzMzC9AXI/C9SjcIEC4HoXrUbgAQFK4HoXrUfg/AAAAAAAAJEBmZmZmZmYiQBBYObTIds4/mpmZmZmZEEBmZmZmZuYyQGZmZmZmZg5AmpmZmZmZQ0AIrBxaZDvvPylcj8L1KBxAMzMzMzMzLkAAAAAAAABaQM3MzMzMzCVA4XoUrkfhEECF61G4HoX7P5qZmZmZmf0/PQrXo3A9G0DNzMzMzMw2QAAAAAAAAClAAAAAAACAIkAAAAAAAIA6QI/C9Shcjw5AzczMzMzMKkAAAAAAAIAwQPYoXI/C9QRAMzMzMzMzKEAAAAAAAAAsQA==",
          "dtype": "f8"
         },
         "x0": " ",
         "xaxis": "x",
         "y": [
          "Lower middle income",
          "Lower middle income",
          "Lower middle income",
          "Lower middle income",
          "Lower middle income",
          "Lower middle income",
          "Lower middle income",
          "Lower middle income",
          "Lower middle income",
          "Lower middle income",
          "Lower middle income",
          "Lower middle income",
          "Lower middle income",
          "Lower middle income",
          "Lower middle income",
          "Lower middle income",
          "Lower middle income",
          "Lower middle income",
          "Lower middle income",
          "Lower middle income",
          "Lower middle income",
          "Lower middle income",
          "Lower middle income",
          "Lower middle income",
          "Lower middle income",
          "Lower middle income",
          "Lower middle income",
          "Lower middle income",
          "Lower middle income",
          "Lower middle income",
          "Lower middle income",
          "Lower middle income",
          "Lower middle income",
          "Lower middle income",
          "Lower middle income",
          "Lower middle income",
          "Lower middle income",
          "Lower middle income",
          "Lower middle income",
          "Lower middle income",
          "Lower middle income",
          "Lower middle income",
          "Lower middle income",
          "Lower middle income",
          "Lower middle income",
          "Lower middle income",
          "Lower middle income"
         ],
         "y0": " ",
         "yaxis": "y"
        },
        {
         "alignmentgroup": "True",
         "customdata": [
          [
           "Antigua and Barbuda"
          ],
          [
           "Australia"
          ],
          [
           "Austria"
          ],
          [
           "Bahamas"
          ],
          [
           "Bahrain"
          ],
          [
           "Barbados"
          ],
          [
           "Belgium"
          ],
          [
           "Brunei"
          ],
          [
           "Canada"
          ],
          [
           "Chile"
          ],
          [
           "Croatia"
          ],
          [
           "Cyprus"
          ],
          [
           "Czech Republic"
          ],
          [
           "Denmark"
          ],
          [
           "Estonia"
          ],
          [
           "Finland"
          ],
          [
           "France"
          ],
          [
           "Germany"
          ],
          [
           "Greece"
          ],
          [
           "Guyana"
          ],
          [
           "Hungary"
          ],
          [
           "Iceland"
          ],
          [
           "Ireland"
          ],
          [
           "Israel"
          ],
          [
           "Italy"
          ],
          [
           "Japan"
          ],
          [
           "Kuwait"
          ],
          [
           "Latvia"
          ],
          [
           "Lithuania"
          ],
          [
           "Luxembourg"
          ],
          [
           "Malta"
          ],
          [
           "Netherlands"
          ],
          [
           "New Zealand"
          ],
          [
           "Norway"
          ],
          [
           "Oman"
          ],
          [
           "Panama"
          ],
          [
           "Poland"
          ],
          [
           "Portugal"
          ],
          [
           "Qatar"
          ],
          [
           "Romania"
          ],
          [
           "Saudi Arabia"
          ],
          [
           "Seychelles"
          ],
          [
           "Singapore"
          ],
          [
           "Slovak Republic"
          ],
          [
           "Slovenia"
          ],
          [
           "South Korea"
          ],
          [
           "Spain"
          ],
          [
           "Sweden"
          ],
          [
           "Switzerland"
          ],
          [
           "United Arab Emirates"
          ],
          [
           "United Kingdom"
          ],
          [
           "United States"
          ],
          [
           "Uruguay"
          ]
         ],
         "hovertemplate": "income_category=%{y}<br>inflation=%{x}<br>country=%{customdata[0]}<extra></extra>",
         "legendgroup": "High income",
         "marker": {
          "color": "#ab63fa"
         },
         "name": "High income",
         "notched": false,
         "offsetgroup": "High income",
         "orientation": "h",
         "showlegend": true,
         "type": "box",
         "x": {
          "bdata": "CtejcD0K9z+PwvUoXI/yP1YOLbKd7+s/9P3UeOkm2b/D9Shcj8IdQCUGgZVDi9Q/FK5H4XoU/j8zMzMzM7MwQPYoXI/C9QZA7FG4HoXrIUASg8DKoUXqPxSuR+F6FABA4XoUrkfh9r/D9Shcj8IJQNejcD0K1/s/EFg5tMh21j/NzMzMzMzwP6jGSzeJQeg/8KfGSzeJ5T/sUbgehesWQKRwPQrXowJA4XoUrkfhFUDD9Shcj8IJwFK4HoXrUfw/0SLb+X5q1D9mZmZmZmb+v2ZmZmZmZiZAlkOLbOf76b8K16NwPQoDQPYoXI/C9QxApHA9CtejDkCJQWDl0CLrP9ejcD0K1w1AzczMzMzMF0AzMzMzMzMvQLgehetRuARAj8L1KFyP+j/6fmq8dJPkP+xRuB6F6xtAPQrXo3A9DEAzMzMzMzMxQNejcD0K1xDAWmQ730+Np78K16NwPQrfPy/dJAaBle+/SOF6FK5HCUB7FK5H4XrEP4PAyqFFtu8/fT81XrpJ1D8AAAAAAAApQB+F61G4Hvk/hetRuB6F8z+kcD0K16MTQA==",
          "dtype": "f8"
         },
         "x0": " ",
         "xaxis": "x",
         "y": [
          "High income",
          "High income",
          "High income",
          "High income",
          "High income",
          "High income",
          "High income",
          "High income",
          "High income",
          "High income",
          "High income",
          "High income",
          "High income",
          "High income",
          "High income",
          "High income",
          "High income",
          "High income",
          "High income",
          "High income",
          "High income",
          "High income",
          "High income",
          "High income",
          "High income",
          "High income",
          "High income",
          "High income",
          "High income",
          "High income",
          "High income",
          "High income",
          "High income",
          "High income",
          "High income",
          "High income",
          "High income",
          "High income",
          "High income",
          "High income",
          "High income",
          "High income",
          "High income",
          "High income",
          "High income",
          "High income",
          "High income",
          "High income",
          "High income",
          "High income",
          "High income",
          "High income",
          "High income"
         ],
         "y0": " ",
         "yaxis": "y"
        }
       ],
       "layout": {
        "boxmode": "overlay",
        "legend": {
         "title": {
          "text": "income_category"
         },
         "tracegroupgap": 0
        },
        "margin": {
         "t": 60
        },
        "template": {
         "data": {
          "bar": [
           {
            "error_x": {
             "color": "#2a3f5f"
            },
            "error_y": {
             "color": "#2a3f5f"
            },
            "marker": {
             "line": {
              "color": "#E5ECF6",
              "width": 0.5
             },
             "pattern": {
              "fillmode": "overlay",
              "size": 10,
              "solidity": 0.2
             }
            },
            "type": "bar"
           }
          ],
          "barpolar": [
           {
            "marker": {
             "line": {
              "color": "#E5ECF6",
              "width": 0.5
             },
             "pattern": {
              "fillmode": "overlay",
              "size": 10,
              "solidity": 0.2
             }
            },
            "type": "barpolar"
           }
          ],
          "carpet": [
           {
            "aaxis": {
             "endlinecolor": "#2a3f5f",
             "gridcolor": "white",
             "linecolor": "white",
             "minorgridcolor": "white",
             "startlinecolor": "#2a3f5f"
            },
            "baxis": {
             "endlinecolor": "#2a3f5f",
             "gridcolor": "white",
             "linecolor": "white",
             "minorgridcolor": "white",
             "startlinecolor": "#2a3f5f"
            },
            "type": "carpet"
           }
          ],
          "choropleth": [
           {
            "colorbar": {
             "outlinewidth": 0,
             "ticks": ""
            },
            "type": "choropleth"
           }
          ],
          "contour": [
           {
            "colorbar": {
             "outlinewidth": 0,
             "ticks": ""
            },
            "colorscale": [
             [
              0,
              "#0d0887"
             ],
             [
              0.1111111111111111,
              "#46039f"
             ],
             [
              0.2222222222222222,
              "#7201a8"
             ],
             [
              0.3333333333333333,
              "#9c179e"
             ],
             [
              0.4444444444444444,
              "#bd3786"
             ],
             [
              0.5555555555555556,
              "#d8576b"
             ],
             [
              0.6666666666666666,
              "#ed7953"
             ],
             [
              0.7777777777777778,
              "#fb9f3a"
             ],
             [
              0.8888888888888888,
              "#fdca26"
             ],
             [
              1,
              "#f0f921"
             ]
            ],
            "type": "contour"
           }
          ],
          "contourcarpet": [
           {
            "colorbar": {
             "outlinewidth": 0,
             "ticks": ""
            },
            "type": "contourcarpet"
           }
          ],
          "heatmap": [
           {
            "colorbar": {
             "outlinewidth": 0,
             "ticks": ""
            },
            "colorscale": [
             [
              0,
              "#0d0887"
             ],
             [
              0.1111111111111111,
              "#46039f"
             ],
             [
              0.2222222222222222,
              "#7201a8"
             ],
             [
              0.3333333333333333,
              "#9c179e"
             ],
             [
              0.4444444444444444,
              "#bd3786"
             ],
             [
              0.5555555555555556,
              "#d8576b"
             ],
             [
              0.6666666666666666,
              "#ed7953"
             ],
             [
              0.7777777777777778,
              "#fb9f3a"
             ],
             [
              0.8888888888888888,
              "#fdca26"
             ],
             [
              1,
              "#f0f921"
             ]
            ],
            "type": "heatmap"
           }
          ],
          "histogram": [
           {
            "marker": {
             "pattern": {
              "fillmode": "overlay",
              "size": 10,
              "solidity": 0.2
             }
            },
            "type": "histogram"
           }
          ],
          "histogram2d": [
           {
            "colorbar": {
             "outlinewidth": 0,
             "ticks": ""
            },
            "colorscale": [
             [
              0,
              "#0d0887"
             ],
             [
              0.1111111111111111,
              "#46039f"
             ],
             [
              0.2222222222222222,
              "#7201a8"
             ],
             [
              0.3333333333333333,
              "#9c179e"
             ],
             [
              0.4444444444444444,
              "#bd3786"
             ],
             [
              0.5555555555555556,
              "#d8576b"
             ],
             [
              0.6666666666666666,
              "#ed7953"
             ],
             [
              0.7777777777777778,
              "#fb9f3a"
             ],
             [
              0.8888888888888888,
              "#fdca26"
             ],
             [
              1,
              "#f0f921"
             ]
            ],
            "type": "histogram2d"
           }
          ],
          "histogram2dcontour": [
           {
            "colorbar": {
             "outlinewidth": 0,
             "ticks": ""
            },
            "colorscale": [
             [
              0,
              "#0d0887"
             ],
             [
              0.1111111111111111,
              "#46039f"
             ],
             [
              0.2222222222222222,
              "#7201a8"
             ],
             [
              0.3333333333333333,
              "#9c179e"
             ],
             [
              0.4444444444444444,
              "#bd3786"
             ],
             [
              0.5555555555555556,
              "#d8576b"
             ],
             [
              0.6666666666666666,
              "#ed7953"
             ],
             [
              0.7777777777777778,
              "#fb9f3a"
             ],
             [
              0.8888888888888888,
              "#fdca26"
             ],
             [
              1,
              "#f0f921"
             ]
            ],
            "type": "histogram2dcontour"
           }
          ],
          "mesh3d": [
           {
            "colorbar": {
             "outlinewidth": 0,
             "ticks": ""
            },
            "type": "mesh3d"
           }
          ],
          "parcoords": [
           {
            "line": {
             "colorbar": {
              "outlinewidth": 0,
              "ticks": ""
             }
            },
            "type": "parcoords"
           }
          ],
          "pie": [
           {
            "automargin": true,
            "type": "pie"
           }
          ],
          "scatter": [
           {
            "fillpattern": {
             "fillmode": "overlay",
             "size": 10,
             "solidity": 0.2
            },
            "type": "scatter"
           }
          ],
          "scatter3d": [
           {
            "line": {
             "colorbar": {
              "outlinewidth": 0,
              "ticks": ""
             }
            },
            "marker": {
             "colorbar": {
              "outlinewidth": 0,
              "ticks": ""
             }
            },
            "type": "scatter3d"
           }
          ],
          "scattercarpet": [
           {
            "marker": {
             "colorbar": {
              "outlinewidth": 0,
              "ticks": ""
             }
            },
            "type": "scattercarpet"
           }
          ],
          "scattergeo": [
           {
            "marker": {
             "colorbar": {
              "outlinewidth": 0,
              "ticks": ""
             }
            },
            "type": "scattergeo"
           }
          ],
          "scattergl": [
           {
            "marker": {
             "colorbar": {
              "outlinewidth": 0,
              "ticks": ""
             }
            },
            "type": "scattergl"
           }
          ],
          "scattermap": [
           {
            "marker": {
             "colorbar": {
              "outlinewidth": 0,
              "ticks": ""
             }
            },
            "type": "scattermap"
           }
          ],
          "scattermapbox": [
           {
            "marker": {
             "colorbar": {
              "outlinewidth": 0,
              "ticks": ""
             }
            },
            "type": "scattermapbox"
           }
          ],
          "scatterpolar": [
           {
            "marker": {
             "colorbar": {
              "outlinewidth": 0,
              "ticks": ""
             }
            },
            "type": "scatterpolar"
           }
          ],
          "scatterpolargl": [
           {
            "marker": {
             "colorbar": {
              "outlinewidth": 0,
              "ticks": ""
             }
            },
            "type": "scatterpolargl"
           }
          ],
          "scatterternary": [
           {
            "marker": {
             "colorbar": {
              "outlinewidth": 0,
              "ticks": ""
             }
            },
            "type": "scatterternary"
           }
          ],
          "surface": [
           {
            "colorbar": {
             "outlinewidth": 0,
             "ticks": ""
            },
            "colorscale": [
             [
              0,
              "#0d0887"
             ],
             [
              0.1111111111111111,
              "#46039f"
             ],
             [
              0.2222222222222222,
              "#7201a8"
             ],
             [
              0.3333333333333333,
              "#9c179e"
             ],
             [
              0.4444444444444444,
              "#bd3786"
             ],
             [
              0.5555555555555556,
              "#d8576b"
             ],
             [
              0.6666666666666666,
              "#ed7953"
             ],
             [
              0.7777777777777778,
              "#fb9f3a"
             ],
             [
              0.8888888888888888,
              "#fdca26"
             ],
             [
              1,
              "#f0f921"
             ]
            ],
            "type": "surface"
           }
          ],
          "table": [
           {
            "cells": {
             "fill": {
              "color": "#EBF0F8"
             },
             "line": {
              "color": "white"
             }
            },
            "header": {
             "fill": {
              "color": "#C8D4E3"
             },
             "line": {
              "color": "white"
             }
            },
            "type": "table"
           }
          ]
         },
         "layout": {
          "annotationdefaults": {
           "arrowcolor": "#2a3f5f",
           "arrowhead": 0,
           "arrowwidth": 1
          },
          "autotypenumbers": "strict",
          "coloraxis": {
           "colorbar": {
            "outlinewidth": 0,
            "ticks": ""
           }
          },
          "colorscale": {
           "diverging": [
            [
             0,
             "#8e0152"
            ],
            [
             0.1,
             "#c51b7d"
            ],
            [
             0.2,
             "#de77ae"
            ],
            [
             0.3,
             "#f1b6da"
            ],
            [
             0.4,
             "#fde0ef"
            ],
            [
             0.5,
             "#f7f7f7"
            ],
            [
             0.6,
             "#e6f5d0"
            ],
            [
             0.7,
             "#b8e186"
            ],
            [
             0.8,
             "#7fbc41"
            ],
            [
             0.9,
             "#4d9221"
            ],
            [
             1,
             "#276419"
            ]
           ],
           "sequential": [
            [
             0,
             "#0d0887"
            ],
            [
             0.1111111111111111,
             "#46039f"
            ],
            [
             0.2222222222222222,
             "#7201a8"
            ],
            [
             0.3333333333333333,
             "#9c179e"
            ],
            [
             0.4444444444444444,
             "#bd3786"
            ],
            [
             0.5555555555555556,
             "#d8576b"
            ],
            [
             0.6666666666666666,
             "#ed7953"
            ],
            [
             0.7777777777777778,
             "#fb9f3a"
            ],
            [
             0.8888888888888888,
             "#fdca26"
            ],
            [
             1,
             "#f0f921"
            ]
           ],
           "sequentialminus": [
            [
             0,
             "#0d0887"
            ],
            [
             0.1111111111111111,
             "#46039f"
            ],
            [
             0.2222222222222222,
             "#7201a8"
            ],
            [
             0.3333333333333333,
             "#9c179e"
            ],
            [
             0.4444444444444444,
             "#bd3786"
            ],
            [
             0.5555555555555556,
             "#d8576b"
            ],
            [
             0.6666666666666666,
             "#ed7953"
            ],
            [
             0.7777777777777778,
             "#fb9f3a"
            ],
            [
             0.8888888888888888,
             "#fdca26"
            ],
            [
             1,
             "#f0f921"
            ]
           ]
          },
          "colorway": [
           "#636efa",
           "#EF553B",
           "#00cc96",
           "#ab63fa",
           "#FFA15A",
           "#19d3f3",
           "#FF6692",
           "#B6E880",
           "#FF97FF",
           "#FECB52"
          ],
          "font": {
           "color": "#2a3f5f"
          },
          "geo": {
           "bgcolor": "white",
           "lakecolor": "white",
           "landcolor": "#E5ECF6",
           "showlakes": true,
           "showland": true,
           "subunitcolor": "white"
          },
          "hoverlabel": {
           "align": "left"
          },
          "hovermode": "closest",
          "mapbox": {
           "style": "light"
          },
          "paper_bgcolor": "white",
          "plot_bgcolor": "#E5ECF6",
          "polar": {
           "angularaxis": {
            "gridcolor": "white",
            "linecolor": "white",
            "ticks": ""
           },
           "bgcolor": "#E5ECF6",
           "radialaxis": {
            "gridcolor": "white",
            "linecolor": "white",
            "ticks": ""
           }
          },
          "scene": {
           "xaxis": {
            "backgroundcolor": "#E5ECF6",
            "gridcolor": "white",
            "gridwidth": 2,
            "linecolor": "white",
            "showbackground": true,
            "ticks": "",
            "zerolinecolor": "white"
           },
           "yaxis": {
            "backgroundcolor": "#E5ECF6",
            "gridcolor": "white",
            "gridwidth": 2,
            "linecolor": "white",
            "showbackground": true,
            "ticks": "",
            "zerolinecolor": "white"
           },
           "zaxis": {
            "backgroundcolor": "#E5ECF6",
            "gridcolor": "white",
            "gridwidth": 2,
            "linecolor": "white",
            "showbackground": true,
            "ticks": "",
            "zerolinecolor": "white"
           }
          },
          "shapedefaults": {
           "line": {
            "color": "#2a3f5f"
           }
          },
          "ternary": {
           "aaxis": {
            "gridcolor": "white",
            "linecolor": "white",
            "ticks": ""
           },
           "baxis": {
            "gridcolor": "white",
            "linecolor": "white",
            "ticks": ""
           },
           "bgcolor": "#E5ECF6",
           "caxis": {
            "gridcolor": "white",
            "linecolor": "white",
            "ticks": ""
           }
          },
          "title": {
           "x": 0.05
          },
          "xaxis": {
           "automargin": true,
           "gridcolor": "white",
           "linecolor": "white",
           "ticks": "",
           "title": {
            "standoff": 15
           },
           "zerolinecolor": "white",
           "zerolinewidth": 2
          },
          "yaxis": {
           "automargin": true,
           "gridcolor": "white",
           "linecolor": "white",
           "ticks": "",
           "title": {
            "standoff": 15
           },
           "zerolinecolor": "white",
           "zerolinewidth": 2
          }
         }
        },
        "xaxis": {
         "anchor": "y",
         "domain": [
          0,
          1
         ],
         "title": {
          "text": "inflation"
         }
        },
        "yaxis": {
         "anchor": "x",
         "categoryarray": [
          "High income",
          "Lower middle income",
          "Upper middle income",
          "Low income"
         ],
         "categoryorder": "array",
         "domain": [
          0,
          1
         ],
         "title": {
          "text": "income_category"
         }
        }
       }
      }
     },
     "metadata": {},
     "output_type": "display_data"
    }
   ],
   "source": [
    "# Comportamento da variável income_category com inflation\n",
    "px.box(df_countries, x='inflation', y='income_category', color='income_category', orientation='h', hover_data=['country'])"
   ]
  },
  {
   "cell_type": "code",
   "execution_count": null,
   "metadata": {},
   "outputs": [
    {
     "data": {
      "application/vnd.plotly.v1+json": {
       "config": {
        "plotlyServerURL": "https://plot.ly"
       },
       "data": [
        {
         "alignmentgroup": "True",
         "customdata": [
          [
           "Afghanistan"
          ],
          [
           "Burkina Faso"
          ],
          [
           "Burundi"
          ],
          [
           "Central African Republic"
          ],
          [
           "Chad"
          ],
          [
           "Congo Dem. Rep."
          ],
          [
           "Eritrea"
          ],
          [
           "Gambia"
          ],
          [
           "Guinea-Bissau"
          ],
          [
           "Liberia"
          ],
          [
           "Madagascar"
          ],
          [
           "Malawi"
          ],
          [
           "Mali"
          ],
          [
           "Mozambique"
          ],
          [
           "Niger"
          ],
          [
           "Rwanda"
          ],
          [
           "Sierra Leone"
          ],
          [
           "Sudan"
          ],
          [
           "Togo"
          ],
          [
           "Uganda"
          ],
          [
           "Yemen"
          ]
         ],
         "hovertemplate": "income_category=%{y}<br>life_expec=%{x}<br>country=%{customdata[0]}<extra></extra>",
         "legendgroup": "Low income",
         "marker": {
          "color": "#636efa"
         },
         "name": "Low income",
         "notched": false,
         "offsetgroup": "Low income",
         "orientation": "h",
         "showlegend": true,
         "type": "box",
         "x": {
          "bdata": "mpmZmZkZTEAzMzMzM/NMQJqZmZmZ2UxAAAAAAADAR0AAAAAAAEBMQAAAAAAAwExAmpmZmZnZTkAAAAAAAGBQQM3MzMzMzEtAZmZmZmZmTkBmZmZmZmZOQM3MzMzMjEpAAAAAAADATUAAAAAAAEBLQGZmZmZmZk1AZmZmZmYmUEAAAAAAAIBLQDMzMzMzk1BAmpmZmZlZTUBmZmZmZmZMQAAAAAAA4FBA",
          "dtype": "f8"
         },
         "x0": " ",
         "xaxis": "x",
         "y": [
          "Low income",
          "Low income",
          "Low income",
          "Low income",
          "Low income",
          "Low income",
          "Low income",
          "Low income",
          "Low income",
          "Low income",
          "Low income",
          "Low income",
          "Low income",
          "Low income",
          "Low income",
          "Low income",
          "Low income",
          "Low income",
          "Low income",
          "Low income",
          "Low income"
         ],
         "y0": " ",
         "yaxis": "y"
        },
        {
         "alignmentgroup": "True",
         "customdata": [
          [
           "Albania"
          ],
          [
           "Argentina"
          ],
          [
           "Armenia"
          ],
          [
           "Azerbaijan"
          ],
          [
           "Belarus"
          ],
          [
           "Belize"
          ],
          [
           "Bosnia and Herzegovina"
          ],
          [
           "Botswana"
          ],
          [
           "Brazil"
          ],
          [
           "Bulgaria"
          ],
          [
           "China"
          ],
          [
           "Colombia"
          ],
          [
           "Costa Rica"
          ],
          [
           "Dominican Republic"
          ],
          [
           "Ecuador"
          ],
          [
           "El Salvador"
          ],
          [
           "Equatorial Guinea"
          ],
          [
           "Fiji"
          ],
          [
           "Gabon"
          ],
          [
           "Georgia"
          ],
          [
           "Grenada"
          ],
          [
           "Guatemala"
          ],
          [
           "Indonesia"
          ],
          [
           "Iraq"
          ],
          [
           "Jamaica"
          ],
          [
           "Kazakhstan"
          ],
          [
           "Libya"
          ],
          [
           "Malaysia"
          ],
          [
           "Maldives"
          ],
          [
           "Mauritius"
          ],
          [
           "Moldova"
          ],
          [
           "Montenegro"
          ],
          [
           "Namibia"
          ],
          [
           "Paraguay"
          ],
          [
           "Peru"
          ],
          [
           "Russia"
          ],
          [
           "Serbia"
          ],
          [
           "South Africa"
          ],
          [
           "St. Vincent and the Grenadines"
          ],
          [
           "Suriname"
          ],
          [
           "Thailand"
          ],
          [
           "Tonga"
          ],
          [
           "Turkey"
          ],
          [
           "Turkmenistan"
          ]
         ],
         "hovertemplate": "income_category=%{y}<br>life_expec=%{x}<br>country=%{customdata[0]}<extra></extra>",
         "legendgroup": "Upper middle income",
         "marker": {
          "color": "#EF553B"
         },
         "name": "Upper middle income",
         "notched": false,
         "offsetgroup": "Upper middle income",
         "orientation": "h",
         "showlegend": true,
         "type": "box",
         "x": {
          "bdata": "MzMzMzMTU0AzMzMzM/NSQDMzMzMzU1JAZmZmZmZGUUCamZmZmZlRQJqZmZmZ2VFAMzMzMzMzU0DNzMzMzIxMQM3MzMzMjFJAmpmZmZl5UkBmZmZmZqZSQJqZmZmZGVNAmpmZmZkZVEBmZmZmZqZSQM3MzMzMLFNAZmZmZmaGUkAzMzMzM3NOQDMzMzMzU1BAMzMzMzNzT0AzMzMzMzNSQDMzMzMz01FAMzMzMzPTUUCamZmZmXlRQM3MzMzMzFBAzczMzMysUkCamZmZmRlRQGZmZmZmBlNAAAAAAACgUkCamZmZmXlTQJqZmZmZWVJAzczMzMxsUUCamZmZmRlTQM3MzMzMTE1AZmZmZmaGUkCamZmZmXlTQM3MzMzMTFFAzczMzMysUkBmZmZmZiZLQGZmZmZm5lFAMzMzMzOTUUBmZmZmZiZTQJqZmZmZeVFAzczMzMyMU0CamZmZmflQQA==",
          "dtype": "f8"
         },
         "x0": " ",
         "xaxis": "x",
         "y": [
          "Upper middle income",
          "Upper middle income",
          "Upper middle income",
          "Upper middle income",
          "Upper middle income",
          "Upper middle income",
          "Upper middle income",
          "Upper middle income",
          "Upper middle income",
          "Upper middle income",
          "Upper middle income",
          "Upper middle income",
          "Upper middle income",
          "Upper middle income",
          "Upper middle income",
          "Upper middle income",
          "Upper middle income",
          "Upper middle income",
          "Upper middle income",
          "Upper middle income",
          "Upper middle income",
          "Upper middle income",
          "Upper middle income",
          "Upper middle income",
          "Upper middle income",
          "Upper middle income",
          "Upper middle income",
          "Upper middle income",
          "Upper middle income",
          "Upper middle income",
          "Upper middle income",
          "Upper middle income",
          "Upper middle income",
          "Upper middle income",
          "Upper middle income",
          "Upper middle income",
          "Upper middle income",
          "Upper middle income",
          "Upper middle income",
          "Upper middle income",
          "Upper middle income",
          "Upper middle income",
          "Upper middle income",
          "Upper middle income"
         ],
         "y0": " ",
         "yaxis": "y"
        },
        {
         "alignmentgroup": "True",
         "customdata": [
          [
           "Algeria"
          ],
          [
           "Angola"
          ],
          [
           "Bangladesh"
          ],
          [
           "Benin"
          ],
          [
           "Bhutan"
          ],
          [
           "Bolivia"
          ],
          [
           "Cambodia"
          ],
          [
           "Cameroon"
          ],
          [
           "Cape Verde"
          ],
          [
           "Comoros"
          ],
          [
           "Congo Rep."
          ],
          [
           "Cote d'Ivoire"
          ],
          [
           "Egypt"
          ],
          [
           "Ghana"
          ],
          [
           "Guinea"
          ],
          [
           "Haiti"
          ],
          [
           "India"
          ],
          [
           "Iran"
          ],
          [
           "Jordan"
          ],
          [
           "Kenya"
          ],
          [
           "Kiribati"
          ],
          [
           "Kyrgyz Republic"
          ],
          [
           "Lao"
          ],
          [
           "Lebanon"
          ],
          [
           "Lesotho"
          ],
          [
           "Mauritania"
          ],
          [
           "Micronesia"
          ],
          [
           "Mongolia"
          ],
          [
           "Morocco"
          ],
          [
           "Myanmar"
          ],
          [
           "Nepal"
          ],
          [
           "Nigeria"
          ],
          [
           "Pakistan"
          ],
          [
           "Philippines"
          ],
          [
           "Samoa"
          ],
          [
           "Senegal"
          ],
          [
           "Solomon Islands"
          ],
          [
           "Sri Lanka"
          ],
          [
           "Tajikistan"
          ],
          [
           "Tanzania"
          ],
          [
           "Timor-Leste"
          ],
          [
           "Tunisia"
          ],
          [
           "Ukraine"
          ],
          [
           "Uzbekistan"
          ],
          [
           "Vanuatu"
          ],
          [
           "Vietnam"
          ],
          [
           "Zambia"
          ]
         ],
         "hovertemplate": "income_category=%{y}<br>life_expec=%{x}<br>country=%{customdata[0]}<extra></extra>",
         "legendgroup": "Lower middle income",
         "marker": {
          "color": "#00cc96"
         },
         "name": "Lower middle income",
         "notched": false,
         "offsetgroup": "Lower middle income",
         "orientation": "h",
         "showlegend": true,
         "type": "box",
         "x": {
          "bdata": "AAAAAAAgU0DNzMzMzAxOQJqZmZmZmVFAZmZmZmbmTkBmZmZmZgZSQGZmZmZm5lFAZmZmZmaGUEBmZmZmZqZMQAAAAAAAIFJAmpmZmZl5UEAzMzMzMzNOQGZmZmZmJkxAAAAAAACgUUCamZmZmRlPQAAAAAAAAE1AzczMzMwMQEDNzMzMzIxQQAAAAAAAoFJAMzMzMzPzUkBmZmZmZmZPQJqZmZmZWU5AAAAAAAAgUUBmZmZmZuZPQDMzMzMz81NAAAAAAABAR0DNzMzMzAxRQJqZmZmZWVBAzczMzMyMUEAAAAAAAGBSQDMzMzMzs1BAMzMzMzMTUUAAAAAAAEBOQDMzMzMzU1BAAAAAAABAUUAAAAAAAOBRQAAAAAAAAFBAmpmZmZnZTkCamZmZmZlSQGZmZmZmZlFAZmZmZmamTUBmZmZmZsZRQJqZmZmZOVNAmpmZmZmZUUAzMzMzMzNRQAAAAAAAgE9AZmZmZmZGUkAAAAAAAABKQA==",
          "dtype": "f8"
         },
         "x0": " ",
         "xaxis": "x",
         "y": [
          "Lower middle income",
          "Lower middle income",
          "Lower middle income",
          "Lower middle income",
          "Lower middle income",
          "Lower middle income",
          "Lower middle income",
          "Lower middle income",
          "Lower middle income",
          "Lower middle income",
          "Lower middle income",
          "Lower middle income",
          "Lower middle income",
          "Lower middle income",
          "Lower middle income",
          "Lower middle income",
          "Lower middle income",
          "Lower middle income",
          "Lower middle income",
          "Lower middle income",
          "Lower middle income",
          "Lower middle income",
          "Lower middle income",
          "Lower middle income",
          "Lower middle income",
          "Lower middle income",
          "Lower middle income",
          "Lower middle income",
          "Lower middle income",
          "Lower middle income",
          "Lower middle income",
          "Lower middle income",
          "Lower middle income",
          "Lower middle income",
          "Lower middle income",
          "Lower middle income",
          "Lower middle income",
          "Lower middle income",
          "Lower middle income",
          "Lower middle income",
          "Lower middle income",
          "Lower middle income",
          "Lower middle income",
          "Lower middle income",
          "Lower middle income",
          "Lower middle income",
          "Lower middle income"
         ],
         "y0": " ",
         "yaxis": "y"
        },
        {
         "alignmentgroup": "True",
         "customdata": [
          [
           "Antigua and Barbuda"
          ],
          [
           "Australia"
          ],
          [
           "Austria"
          ],
          [
           "Bahamas"
          ],
          [
           "Bahrain"
          ],
          [
           "Barbados"
          ],
          [
           "Belgium"
          ],
          [
           "Brunei"
          ],
          [
           "Canada"
          ],
          [
           "Chile"
          ],
          [
           "Croatia"
          ],
          [
           "Cyprus"
          ],
          [
           "Czech Republic"
          ],
          [
           "Denmark"
          ],
          [
           "Estonia"
          ],
          [
           "Finland"
          ],
          [
           "France"
          ],
          [
           "Germany"
          ],
          [
           "Greece"
          ],
          [
           "Guyana"
          ],
          [
           "Hungary"
          ],
          [
           "Iceland"
          ],
          [
           "Ireland"
          ],
          [
           "Israel"
          ],
          [
           "Italy"
          ],
          [
           "Japan"
          ],
          [
           "Kuwait"
          ],
          [
           "Latvia"
          ],
          [
           "Lithuania"
          ],
          [
           "Luxembourg"
          ],
          [
           "Malta"
          ],
          [
           "Netherlands"
          ],
          [
           "New Zealand"
          ],
          [
           "Norway"
          ],
          [
           "Oman"
          ],
          [
           "Panama"
          ],
          [
           "Poland"
          ],
          [
           "Portugal"
          ],
          [
           "Qatar"
          ],
          [
           "Romania"
          ],
          [
           "Saudi Arabia"
          ],
          [
           "Seychelles"
          ],
          [
           "Singapore"
          ],
          [
           "Slovak Republic"
          ],
          [
           "Slovenia"
          ],
          [
           "South Korea"
          ],
          [
           "Spain"
          ],
          [
           "Sweden"
          ],
          [
           "Switzerland"
          ],
          [
           "United Arab Emirates"
          ],
          [
           "United Kingdom"
          ],
          [
           "United States"
          ],
          [
           "Uruguay"
          ]
         ],
         "hovertemplate": "income_category=%{y}<br>life_expec=%{x}<br>country=%{customdata[0]}<extra></extra>",
         "legendgroup": "High income",
         "marker": {
          "color": "#ab63fa"
         },
         "name": "High income",
         "notched": false,
         "offsetgroup": "High income",
         "orientation": "h",
         "showlegend": true,
         "type": "box",
         "x": {
          "bdata": "MzMzMzMzU0AAAAAAAIBUQAAAAAAAIFRAMzMzMzNzUkAAAAAAAABTQM3MzMzMLFNAAAAAAAAAVEBmZmZmZkZTQDMzMzMzU1RAZmZmZmbGU0AzMzMzMxNTQJqZmZmZ+VNAAAAAAABgU0AAAAAAAOBTQAAAAAAAAFNAAAAAAAAAVECamZmZmVlUQGZmZmZmBlRAmpmZmZkZVEAAAAAAAGBQQAAAAAAAoFJAAAAAAACAVECamZmZmRlUQJqZmZmZWVRAzczMzMxsVEAzMzMzM7NUQM3MzMzMjFNAZmZmZmZGUkDNzMzMzExSQDMzMzMzU1RAMzMzMzMTVEDNzMzMzCxUQJqZmZmZOVRAAAAAAABAVEBmZmZmZgZTQDMzMzMzc1NAMzMzMzMTU0AzMzMzM/NTQAAAAAAA4FNAzczMzMxsUkBmZmZmZsZSQJqZmZmZWVJAzczMzMysVEAAAAAAAOBSQAAAAAAA4FNAZmZmZmYGVECamZmZmXlUQAAAAAAAYFRAzczMzMyMVEAAAAAAACBTQDMzMzMzE1RAzczMzMysU0CamZmZmRlTQA==",
          "dtype": "f8"
         },
         "x0": " ",
         "xaxis": "x",
         "y": [
          "High income",
          "High income",
          "High income",
          "High income",
          "High income",
          "High income",
          "High income",
          "High income",
          "High income",
          "High income",
          "High income",
          "High income",
          "High income",
          "High income",
          "High income",
          "High income",
          "High income",
          "High income",
          "High income",
          "High income",
          "High income",
          "High income",
          "High income",
          "High income",
          "High income",
          "High income",
          "High income",
          "High income",
          "High income",
          "High income",
          "High income",
          "High income",
          "High income",
          "High income",
          "High income",
          "High income",
          "High income",
          "High income",
          "High income",
          "High income",
          "High income",
          "High income",
          "High income",
          "High income",
          "High income",
          "High income",
          "High income",
          "High income",
          "High income",
          "High income",
          "High income",
          "High income",
          "High income"
         ],
         "y0": " ",
         "yaxis": "y"
        }
       ],
       "layout": {
        "boxmode": "overlay",
        "legend": {
         "title": {
          "text": "income_category"
         },
         "tracegroupgap": 0
        },
        "margin": {
         "t": 60
        },
        "template": {
         "data": {
          "bar": [
           {
            "error_x": {
             "color": "#2a3f5f"
            },
            "error_y": {
             "color": "#2a3f5f"
            },
            "marker": {
             "line": {
              "color": "#E5ECF6",
              "width": 0.5
             },
             "pattern": {
              "fillmode": "overlay",
              "size": 10,
              "solidity": 0.2
             }
            },
            "type": "bar"
           }
          ],
          "barpolar": [
           {
            "marker": {
             "line": {
              "color": "#E5ECF6",
              "width": 0.5
             },
             "pattern": {
              "fillmode": "overlay",
              "size": 10,
              "solidity": 0.2
             }
            },
            "type": "barpolar"
           }
          ],
          "carpet": [
           {
            "aaxis": {
             "endlinecolor": "#2a3f5f",
             "gridcolor": "white",
             "linecolor": "white",
             "minorgridcolor": "white",
             "startlinecolor": "#2a3f5f"
            },
            "baxis": {
             "endlinecolor": "#2a3f5f",
             "gridcolor": "white",
             "linecolor": "white",
             "minorgridcolor": "white",
             "startlinecolor": "#2a3f5f"
            },
            "type": "carpet"
           }
          ],
          "choropleth": [
           {
            "colorbar": {
             "outlinewidth": 0,
             "ticks": ""
            },
            "type": "choropleth"
           }
          ],
          "contour": [
           {
            "colorbar": {
             "outlinewidth": 0,
             "ticks": ""
            },
            "colorscale": [
             [
              0,
              "#0d0887"
             ],
             [
              0.1111111111111111,
              "#46039f"
             ],
             [
              0.2222222222222222,
              "#7201a8"
             ],
             [
              0.3333333333333333,
              "#9c179e"
             ],
             [
              0.4444444444444444,
              "#bd3786"
             ],
             [
              0.5555555555555556,
              "#d8576b"
             ],
             [
              0.6666666666666666,
              "#ed7953"
             ],
             [
              0.7777777777777778,
              "#fb9f3a"
             ],
             [
              0.8888888888888888,
              "#fdca26"
             ],
             [
              1,
              "#f0f921"
             ]
            ],
            "type": "contour"
           }
          ],
          "contourcarpet": [
           {
            "colorbar": {
             "outlinewidth": 0,
             "ticks": ""
            },
            "type": "contourcarpet"
           }
          ],
          "heatmap": [
           {
            "colorbar": {
             "outlinewidth": 0,
             "ticks": ""
            },
            "colorscale": [
             [
              0,
              "#0d0887"
             ],
             [
              0.1111111111111111,
              "#46039f"
             ],
             [
              0.2222222222222222,
              "#7201a8"
             ],
             [
              0.3333333333333333,
              "#9c179e"
             ],
             [
              0.4444444444444444,
              "#bd3786"
             ],
             [
              0.5555555555555556,
              "#d8576b"
             ],
             [
              0.6666666666666666,
              "#ed7953"
             ],
             [
              0.7777777777777778,
              "#fb9f3a"
             ],
             [
              0.8888888888888888,
              "#fdca26"
             ],
             [
              1,
              "#f0f921"
             ]
            ],
            "type": "heatmap"
           }
          ],
          "histogram": [
           {
            "marker": {
             "pattern": {
              "fillmode": "overlay",
              "size": 10,
              "solidity": 0.2
             }
            },
            "type": "histogram"
           }
          ],
          "histogram2d": [
           {
            "colorbar": {
             "outlinewidth": 0,
             "ticks": ""
            },
            "colorscale": [
             [
              0,
              "#0d0887"
             ],
             [
              0.1111111111111111,
              "#46039f"
             ],
             [
              0.2222222222222222,
              "#7201a8"
             ],
             [
              0.3333333333333333,
              "#9c179e"
             ],
             [
              0.4444444444444444,
              "#bd3786"
             ],
             [
              0.5555555555555556,
              "#d8576b"
             ],
             [
              0.6666666666666666,
              "#ed7953"
             ],
             [
              0.7777777777777778,
              "#fb9f3a"
             ],
             [
              0.8888888888888888,
              "#fdca26"
             ],
             [
              1,
              "#f0f921"
             ]
            ],
            "type": "histogram2d"
           }
          ],
          "histogram2dcontour": [
           {
            "colorbar": {
             "outlinewidth": 0,
             "ticks": ""
            },
            "colorscale": [
             [
              0,
              "#0d0887"
             ],
             [
              0.1111111111111111,
              "#46039f"
             ],
             [
              0.2222222222222222,
              "#7201a8"
             ],
             [
              0.3333333333333333,
              "#9c179e"
             ],
             [
              0.4444444444444444,
              "#bd3786"
             ],
             [
              0.5555555555555556,
              "#d8576b"
             ],
             [
              0.6666666666666666,
              "#ed7953"
             ],
             [
              0.7777777777777778,
              "#fb9f3a"
             ],
             [
              0.8888888888888888,
              "#fdca26"
             ],
             [
              1,
              "#f0f921"
             ]
            ],
            "type": "histogram2dcontour"
           }
          ],
          "mesh3d": [
           {
            "colorbar": {
             "outlinewidth": 0,
             "ticks": ""
            },
            "type": "mesh3d"
           }
          ],
          "parcoords": [
           {
            "line": {
             "colorbar": {
              "outlinewidth": 0,
              "ticks": ""
             }
            },
            "type": "parcoords"
           }
          ],
          "pie": [
           {
            "automargin": true,
            "type": "pie"
           }
          ],
          "scatter": [
           {
            "fillpattern": {
             "fillmode": "overlay",
             "size": 10,
             "solidity": 0.2
            },
            "type": "scatter"
           }
          ],
          "scatter3d": [
           {
            "line": {
             "colorbar": {
              "outlinewidth": 0,
              "ticks": ""
             }
            },
            "marker": {
             "colorbar": {
              "outlinewidth": 0,
              "ticks": ""
             }
            },
            "type": "scatter3d"
           }
          ],
          "scattercarpet": [
           {
            "marker": {
             "colorbar": {
              "outlinewidth": 0,
              "ticks": ""
             }
            },
            "type": "scattercarpet"
           }
          ],
          "scattergeo": [
           {
            "marker": {
             "colorbar": {
              "outlinewidth": 0,
              "ticks": ""
             }
            },
            "type": "scattergeo"
           }
          ],
          "scattergl": [
           {
            "marker": {
             "colorbar": {
              "outlinewidth": 0,
              "ticks": ""
             }
            },
            "type": "scattergl"
           }
          ],
          "scattermap": [
           {
            "marker": {
             "colorbar": {
              "outlinewidth": 0,
              "ticks": ""
             }
            },
            "type": "scattermap"
           }
          ],
          "scattermapbox": [
           {
            "marker": {
             "colorbar": {
              "outlinewidth": 0,
              "ticks": ""
             }
            },
            "type": "scattermapbox"
           }
          ],
          "scatterpolar": [
           {
            "marker": {
             "colorbar": {
              "outlinewidth": 0,
              "ticks": ""
             }
            },
            "type": "scatterpolar"
           }
          ],
          "scatterpolargl": [
           {
            "marker": {
             "colorbar": {
              "outlinewidth": 0,
              "ticks": ""
             }
            },
            "type": "scatterpolargl"
           }
          ],
          "scatterternary": [
           {
            "marker": {
             "colorbar": {
              "outlinewidth": 0,
              "ticks": ""
             }
            },
            "type": "scatterternary"
           }
          ],
          "surface": [
           {
            "colorbar": {
             "outlinewidth": 0,
             "ticks": ""
            },
            "colorscale": [
             [
              0,
              "#0d0887"
             ],
             [
              0.1111111111111111,
              "#46039f"
             ],
             [
              0.2222222222222222,
              "#7201a8"
             ],
             [
              0.3333333333333333,
              "#9c179e"
             ],
             [
              0.4444444444444444,
              "#bd3786"
             ],
             [
              0.5555555555555556,
              "#d8576b"
             ],
             [
              0.6666666666666666,
              "#ed7953"
             ],
             [
              0.7777777777777778,
              "#fb9f3a"
             ],
             [
              0.8888888888888888,
              "#fdca26"
             ],
             [
              1,
              "#f0f921"
             ]
            ],
            "type": "surface"
           }
          ],
          "table": [
           {
            "cells": {
             "fill": {
              "color": "#EBF0F8"
             },
             "line": {
              "color": "white"
             }
            },
            "header": {
             "fill": {
              "color": "#C8D4E3"
             },
             "line": {
              "color": "white"
             }
            },
            "type": "table"
           }
          ]
         },
         "layout": {
          "annotationdefaults": {
           "arrowcolor": "#2a3f5f",
           "arrowhead": 0,
           "arrowwidth": 1
          },
          "autotypenumbers": "strict",
          "coloraxis": {
           "colorbar": {
            "outlinewidth": 0,
            "ticks": ""
           }
          },
          "colorscale": {
           "diverging": [
            [
             0,
             "#8e0152"
            ],
            [
             0.1,
             "#c51b7d"
            ],
            [
             0.2,
             "#de77ae"
            ],
            [
             0.3,
             "#f1b6da"
            ],
            [
             0.4,
             "#fde0ef"
            ],
            [
             0.5,
             "#f7f7f7"
            ],
            [
             0.6,
             "#e6f5d0"
            ],
            [
             0.7,
             "#b8e186"
            ],
            [
             0.8,
             "#7fbc41"
            ],
            [
             0.9,
             "#4d9221"
            ],
            [
             1,
             "#276419"
            ]
           ],
           "sequential": [
            [
             0,
             "#0d0887"
            ],
            [
             0.1111111111111111,
             "#46039f"
            ],
            [
             0.2222222222222222,
             "#7201a8"
            ],
            [
             0.3333333333333333,
             "#9c179e"
            ],
            [
             0.4444444444444444,
             "#bd3786"
            ],
            [
             0.5555555555555556,
             "#d8576b"
            ],
            [
             0.6666666666666666,
             "#ed7953"
            ],
            [
             0.7777777777777778,
             "#fb9f3a"
            ],
            [
             0.8888888888888888,
             "#fdca26"
            ],
            [
             1,
             "#f0f921"
            ]
           ],
           "sequentialminus": [
            [
             0,
             "#0d0887"
            ],
            [
             0.1111111111111111,
             "#46039f"
            ],
            [
             0.2222222222222222,
             "#7201a8"
            ],
            [
             0.3333333333333333,
             "#9c179e"
            ],
            [
             0.4444444444444444,
             "#bd3786"
            ],
            [
             0.5555555555555556,
             "#d8576b"
            ],
            [
             0.6666666666666666,
             "#ed7953"
            ],
            [
             0.7777777777777778,
             "#fb9f3a"
            ],
            [
             0.8888888888888888,
             "#fdca26"
            ],
            [
             1,
             "#f0f921"
            ]
           ]
          },
          "colorway": [
           "#636efa",
           "#EF553B",
           "#00cc96",
           "#ab63fa",
           "#FFA15A",
           "#19d3f3",
           "#FF6692",
           "#B6E880",
           "#FF97FF",
           "#FECB52"
          ],
          "font": {
           "color": "#2a3f5f"
          },
          "geo": {
           "bgcolor": "white",
           "lakecolor": "white",
           "landcolor": "#E5ECF6",
           "showlakes": true,
           "showland": true,
           "subunitcolor": "white"
          },
          "hoverlabel": {
           "align": "left"
          },
          "hovermode": "closest",
          "mapbox": {
           "style": "light"
          },
          "paper_bgcolor": "white",
          "plot_bgcolor": "#E5ECF6",
          "polar": {
           "angularaxis": {
            "gridcolor": "white",
            "linecolor": "white",
            "ticks": ""
           },
           "bgcolor": "#E5ECF6",
           "radialaxis": {
            "gridcolor": "white",
            "linecolor": "white",
            "ticks": ""
           }
          },
          "scene": {
           "xaxis": {
            "backgroundcolor": "#E5ECF6",
            "gridcolor": "white",
            "gridwidth": 2,
            "linecolor": "white",
            "showbackground": true,
            "ticks": "",
            "zerolinecolor": "white"
           },
           "yaxis": {
            "backgroundcolor": "#E5ECF6",
            "gridcolor": "white",
            "gridwidth": 2,
            "linecolor": "white",
            "showbackground": true,
            "ticks": "",
            "zerolinecolor": "white"
           },
           "zaxis": {
            "backgroundcolor": "#E5ECF6",
            "gridcolor": "white",
            "gridwidth": 2,
            "linecolor": "white",
            "showbackground": true,
            "ticks": "",
            "zerolinecolor": "white"
           }
          },
          "shapedefaults": {
           "line": {
            "color": "#2a3f5f"
           }
          },
          "ternary": {
           "aaxis": {
            "gridcolor": "white",
            "linecolor": "white",
            "ticks": ""
           },
           "baxis": {
            "gridcolor": "white",
            "linecolor": "white",
            "ticks": ""
           },
           "bgcolor": "#E5ECF6",
           "caxis": {
            "gridcolor": "white",
            "linecolor": "white",
            "ticks": ""
           }
          },
          "title": {
           "x": 0.05
          },
          "xaxis": {
           "automargin": true,
           "gridcolor": "white",
           "linecolor": "white",
           "ticks": "",
           "title": {
            "standoff": 15
           },
           "zerolinecolor": "white",
           "zerolinewidth": 2
          },
          "yaxis": {
           "automargin": true,
           "gridcolor": "white",
           "linecolor": "white",
           "ticks": "",
           "title": {
            "standoff": 15
           },
           "zerolinecolor": "white",
           "zerolinewidth": 2
          }
         }
        },
        "xaxis": {
         "anchor": "y",
         "domain": [
          0,
          1
         ],
         "title": {
          "text": "life_expec"
         }
        },
        "yaxis": {
         "anchor": "x",
         "categoryarray": [
          "High income",
          "Lower middle income",
          "Upper middle income",
          "Low income"
         ],
         "categoryorder": "array",
         "domain": [
          0,
          1
         ],
         "title": {
          "text": "income_category"
         }
        }
       }
      }
     },
     "metadata": {},
     "output_type": "display_data"
    }
   ],
   "source": [
    "# Comportamento da variável income_category com life expectation\n",
    "px.box(df_countries, x='life_expec', y='income_category', color='income_category', orientation='h', hover_data=['country'])"
   ]
  },
  {
   "cell_type": "code",
   "execution_count": null,
   "metadata": {},
   "outputs": [
    {
     "data": {
      "application/vnd.plotly.v1+json": {
       "config": {
        "plotlyServerURL": "https://plot.ly"
       },
       "data": [
        {
         "customdata": [
          [
           "Afghanistan"
          ],
          [
           "Burkina Faso"
          ],
          [
           "Burundi"
          ],
          [
           "Central African Republic"
          ],
          [
           "Chad"
          ],
          [
           "Congo Dem. Rep."
          ],
          [
           "Eritrea"
          ],
          [
           "Gambia"
          ],
          [
           "Guinea-Bissau"
          ],
          [
           "Liberia"
          ],
          [
           "Madagascar"
          ],
          [
           "Malawi"
          ],
          [
           "Mali"
          ],
          [
           "Mozambique"
          ],
          [
           "Niger"
          ],
          [
           "Rwanda"
          ],
          [
           "Sierra Leone"
          ],
          [
           "Sudan"
          ],
          [
           "Togo"
          ],
          [
           "Uganda"
          ],
          [
           "Yemen"
          ]
         ],
         "hovertemplate": "income_category=Low income<br>income=%{x}<br>gdpp=%{y}<br>country=%{customdata[0]}<extra></extra>",
         "legendgroup": "Low income",
         "marker": {
          "color": "#636efa",
          "symbol": "circle"
         },
         "mode": "markers",
         "name": "Low income",
         "orientation": "v",
         "showlegend": true,
         "type": "scatter",
         "x": {
          "bdata": "SgaWBfwCeAOKB2ECjAV8Bm4FvAJuBQYETgeWAy4DRgXEBCoNugQEBoAR",
          "dtype": "i2"
         },
         "xaxis": "x",
         "y": {
          "bdata": "KQI/AucAvgGBA04B4gEyAiMCRwGdAcsBxAKjAVwBMwKPAcgF6AFTAh4F",
          "dtype": "i2"
         },
         "yaxis": "y"
        },
        {
         "customdata": [
          [
           "Albania"
          ],
          [
           "Argentina"
          ],
          [
           "Armenia"
          ],
          [
           "Azerbaijan"
          ],
          [
           "Belarus"
          ],
          [
           "Belize"
          ],
          [
           "Bosnia and Herzegovina"
          ],
          [
           "Botswana"
          ],
          [
           "Brazil"
          ],
          [
           "Bulgaria"
          ],
          [
           "China"
          ],
          [
           "Colombia"
          ],
          [
           "Costa Rica"
          ],
          [
           "Dominican Republic"
          ],
          [
           "Ecuador"
          ],
          [
           "El Salvador"
          ],
          [
           "Equatorial Guinea"
          ],
          [
           "Fiji"
          ],
          [
           "Gabon"
          ],
          [
           "Georgia"
          ],
          [
           "Grenada"
          ],
          [
           "Guatemala"
          ],
          [
           "Indonesia"
          ],
          [
           "Iraq"
          ],
          [
           "Jamaica"
          ],
          [
           "Kazakhstan"
          ],
          [
           "Libya"
          ],
          [
           "Malaysia"
          ],
          [
           "Maldives"
          ],
          [
           "Mauritius"
          ],
          [
           "Moldova"
          ],
          [
           "Montenegro"
          ],
          [
           "Namibia"
          ],
          [
           "Paraguay"
          ],
          [
           "Peru"
          ],
          [
           "Russia"
          ],
          [
           "Serbia"
          ],
          [
           "South Africa"
          ],
          [
           "St. Vincent and the Grenadines"
          ],
          [
           "Suriname"
          ],
          [
           "Thailand"
          ],
          [
           "Tonga"
          ],
          [
           "Turkey"
          ],
          [
           "Turkmenistan"
          ]
         ],
         "hovertemplate": "income_category=Upper middle income<br>income=%{x}<br>gdpp=%{y}<br>country=%{customdata[0]}<extra></extra>",
         "legendgroup": "Upper middle income",
         "marker": {
          "color": "#EF553B",
          "symbol": "circle"
         },
         "mode": "markers",
         "name": "Upper middle income",
         "orientation": "v",
         "showlegend": true,
         "type": "scatter",
         "x": {
          "bdata": "yiYAAAxJAAAsGgAAgD4AAEg/AADIHgAA+CUAAPQzAACkOAAAxDsAADolAACUKgAAyDIAAFwrAACGJAAAhBwAAKSDAAC2HAAAKDwAAEoaAADAKwAANhoAAO4gAACcMQAAQB8AAIROAACgcwAAbFIAAAQpAAAcPgAARg8AALA2AAAMIQAAehwAAOgmAAA8WgAAnDEAAOAuAADAJgAAeDcAALw0AAB0EwAAUEYAANQmAAA=",
          "dtype": "i4"
         },
         "xaxis": "x",
         "y": {
          "bdata": "+g88KJQM0BaOF/QQAhLOGMAruBrQEWoYCCBKFTQSrgvMQkIOLiKQC8ocDgsmDJQRSBJuI0QvbiO8G0AfXgYYGkYUngycE8wpIhVwHFYYbCDYE94NzClYEQ==",
          "dtype": "i2"
         },
         "yaxis": "y"
        },
        {
         "customdata": [
          [
           "Algeria"
          ],
          [
           "Angola"
          ],
          [
           "Bangladesh"
          ],
          [
           "Benin"
          ],
          [
           "Bhutan"
          ],
          [
           "Bolivia"
          ],
          [
           "Cambodia"
          ],
          [
           "Cameroon"
          ],
          [
           "Cape Verde"
          ],
          [
           "Comoros"
          ],
          [
           "Congo Rep."
          ],
          [
           "Cote d'Ivoire"
          ],
          [
           "Egypt"
          ],
          [
           "Ghana"
          ],
          [
           "Guinea"
          ],
          [
           "Haiti"
          ],
          [
           "India"
          ],
          [
           "Iran"
          ],
          [
           "Jordan"
          ],
          [
           "Kenya"
          ],
          [
           "Kiribati"
          ],
          [
           "Kyrgyz Republic"
          ],
          [
           "Lao"
          ],
          [
           "Lebanon"
          ],
          [
           "Lesotho"
          ],
          [
           "Mauritania"
          ],
          [
           "Micronesia"
          ],
          [
           "Mongolia"
          ],
          [
           "Morocco"
          ],
          [
           "Myanmar"
          ],
          [
           "Nepal"
          ],
          [
           "Nigeria"
          ],
          [
           "Pakistan"
          ],
          [
           "Philippines"
          ],
          [
           "Samoa"
          ],
          [
           "Senegal"
          ],
          [
           "Solomon Islands"
          ],
          [
           "Sri Lanka"
          ],
          [
           "Tajikistan"
          ],
          [
           "Tanzania"
          ],
          [
           "Timor-Leste"
          ],
          [
           "Tunisia"
          ],
          [
           "Ukraine"
          ],
          [
           "Uzbekistan"
          ],
          [
           "Vanuatu"
          ],
          [
           "Vietnam"
          ],
          [
           "Zambia"
          ]
         ],
         "hovertemplate": "income_category=Lower middle income<br>income=%{x}<br>gdpp=%{y}<br>country=%{customdata[0]}<extra></extra>",
         "legendgroup": "Lower middle income",
         "marker": {
          "color": "#00cc96",
          "symbol": "circle"
         },
         "mode": "markers",
         "name": "Lower middle income",
         "orientation": "v",
         "showlegend": true,
         "type": "scatter",
         "x": {
          "bdata": "ZDIMF4gJHAcUGSIV2AlkCsYWggVGFIIKhCb0C6YE3AU6EfhD/iSwCcIG5gqMD6w/TAn4DAwNHh4oGYgOxgceFLgQ4BUYFYQI9AZwIT4IKgg6B6AojB6QEIYLihHQDA==",
          "dtype": "i2"
         },
         "xaxis": "x",
         "y": {
          "bdata": "bBHKDfYC9gKECLwHEgMeBe4MAQO0CsQEKAoeBYgClgJGBYIZYA7HA9IFcAN0BJwikgSwBCwLWgoOC9wDUAIaCRAEUgh6DegDCgX6CuICvgIQDiwQmgtkBZoLHgW0BQ==",
          "dtype": "i2"
         },
         "yaxis": "y"
        },
        {
         "customdata": [
          [
           "Antigua and Barbuda"
          ],
          [
           "Australia"
          ],
          [
           "Austria"
          ],
          [
           "Bahamas"
          ],
          [
           "Bahrain"
          ],
          [
           "Barbados"
          ],
          [
           "Belgium"
          ],
          [
           "Brunei"
          ],
          [
           "Canada"
          ],
          [
           "Chile"
          ],
          [
           "Croatia"
          ],
          [
           "Cyprus"
          ],
          [
           "Czech Republic"
          ],
          [
           "Denmark"
          ],
          [
           "Estonia"
          ],
          [
           "Finland"
          ],
          [
           "France"
          ],
          [
           "Germany"
          ],
          [
           "Greece"
          ],
          [
           "Guyana"
          ],
          [
           "Hungary"
          ],
          [
           "Iceland"
          ],
          [
           "Ireland"
          ],
          [
           "Israel"
          ],
          [
           "Italy"
          ],
          [
           "Japan"
          ],
          [
           "Kuwait"
          ],
          [
           "Latvia"
          ],
          [
           "Lithuania"
          ],
          [
           "Luxembourg"
          ],
          [
           "Malta"
          ],
          [
           "Netherlands"
          ],
          [
           "New Zealand"
          ],
          [
           "Norway"
          ],
          [
           "Oman"
          ],
          [
           "Panama"
          ],
          [
           "Poland"
          ],
          [
           "Portugal"
          ],
          [
           "Qatar"
          ],
          [
           "Romania"
          ],
          [
           "Saudi Arabia"
          ],
          [
           "Seychelles"
          ],
          [
           "Singapore"
          ],
          [
           "Slovak Republic"
          ],
          [
           "Slovenia"
          ],
          [
           "South Korea"
          ],
          [
           "Spain"
          ],
          [
           "Sweden"
          ],
          [
           "Switzerland"
          ],
          [
           "United Arab Emirates"
          ],
          [
           "United Kingdom"
          ],
          [
           "United States"
          ],
          [
           "Uruguay"
          ]
         ],
         "hovertemplate": "income_category=High income<br>income=%{x}<br>gdpp=%{y}<br>country=%{customdata[0]}<extra></extra>",
         "legendgroup": "High income",
         "marker": {
          "color": "#ab63fa",
          "symbol": "circle"
         },
         "mode": "markers",
         "name": "High income",
         "orientation": "v",
         "showlegend": true,
         "type": "scatter",
         "x": {
          "bdata": "nEoAALihAADAqAAAdFkAAIygAADEOwAAjKAAANg6AQD8ngAAyEsAAIROAABshAAAjG4AAOCrAACsWAAAeJsAACSQAADQnQAAHHAAANAWAAAcVwAAkJcAAISyAACgcwAAaI0AANiLAADAJQEAfEcAAGxSAAA0ZgEAjG4AALyxAAAsfgAAXPMAAPSwAAAoPAAAKFUAAEBqAABI6AEAiEUAAFixAACwTwAApBkBAHBiAAAccAAAwHYAAPR+AACUpwAAzNgAAADhAABojQAA+MAAAMxCAAA=",
          "dtype": "i4"
         },
         "xaxis": "x",
         "y": {
          "bdata": "qC8AALzKAAA0twAAYG0AANxQAACAPgAAcK0AAOSJAAAouQAAZDIAALw0AABQeAAAWE0AAJDiAAAIOQAAeLQAAJieAABIowAAFGkAAOALAAAsMwAArKMAADy+AACIdwAA2IsAANStAABklgAAJCwAAOAuAAAomgEAbFIAAHzEAACkgwAA+FYBAGRLAACQHwAAODEAAORXAACcEgEAJiAAAGRLAAAwKgAACLYAANhAAABoWwAAVFYAAOx3AACEywAAaCMBALiIAAD0lwAAEL0AAHwuAAA=",
          "dtype": "i4"
         },
         "yaxis": "y"
        }
       ],
       "layout": {
        "legend": {
         "title": {
          "text": "income_category"
         },
         "tracegroupgap": 0
        },
        "margin": {
         "t": 60
        },
        "template": {
         "data": {
          "bar": [
           {
            "error_x": {
             "color": "#2a3f5f"
            },
            "error_y": {
             "color": "#2a3f5f"
            },
            "marker": {
             "line": {
              "color": "#E5ECF6",
              "width": 0.5
             },
             "pattern": {
              "fillmode": "overlay",
              "size": 10,
              "solidity": 0.2
             }
            },
            "type": "bar"
           }
          ],
          "barpolar": [
           {
            "marker": {
             "line": {
              "color": "#E5ECF6",
              "width": 0.5
             },
             "pattern": {
              "fillmode": "overlay",
              "size": 10,
              "solidity": 0.2
             }
            },
            "type": "barpolar"
           }
          ],
          "carpet": [
           {
            "aaxis": {
             "endlinecolor": "#2a3f5f",
             "gridcolor": "white",
             "linecolor": "white",
             "minorgridcolor": "white",
             "startlinecolor": "#2a3f5f"
            },
            "baxis": {
             "endlinecolor": "#2a3f5f",
             "gridcolor": "white",
             "linecolor": "white",
             "minorgridcolor": "white",
             "startlinecolor": "#2a3f5f"
            },
            "type": "carpet"
           }
          ],
          "choropleth": [
           {
            "colorbar": {
             "outlinewidth": 0,
             "ticks": ""
            },
            "type": "choropleth"
           }
          ],
          "contour": [
           {
            "colorbar": {
             "outlinewidth": 0,
             "ticks": ""
            },
            "colorscale": [
             [
              0,
              "#0d0887"
             ],
             [
              0.1111111111111111,
              "#46039f"
             ],
             [
              0.2222222222222222,
              "#7201a8"
             ],
             [
              0.3333333333333333,
              "#9c179e"
             ],
             [
              0.4444444444444444,
              "#bd3786"
             ],
             [
              0.5555555555555556,
              "#d8576b"
             ],
             [
              0.6666666666666666,
              "#ed7953"
             ],
             [
              0.7777777777777778,
              "#fb9f3a"
             ],
             [
              0.8888888888888888,
              "#fdca26"
             ],
             [
              1,
              "#f0f921"
             ]
            ],
            "type": "contour"
           }
          ],
          "contourcarpet": [
           {
            "colorbar": {
             "outlinewidth": 0,
             "ticks": ""
            },
            "type": "contourcarpet"
           }
          ],
          "heatmap": [
           {
            "colorbar": {
             "outlinewidth": 0,
             "ticks": ""
            },
            "colorscale": [
             [
              0,
              "#0d0887"
             ],
             [
              0.1111111111111111,
              "#46039f"
             ],
             [
              0.2222222222222222,
              "#7201a8"
             ],
             [
              0.3333333333333333,
              "#9c179e"
             ],
             [
              0.4444444444444444,
              "#bd3786"
             ],
             [
              0.5555555555555556,
              "#d8576b"
             ],
             [
              0.6666666666666666,
              "#ed7953"
             ],
             [
              0.7777777777777778,
              "#fb9f3a"
             ],
             [
              0.8888888888888888,
              "#fdca26"
             ],
             [
              1,
              "#f0f921"
             ]
            ],
            "type": "heatmap"
           }
          ],
          "histogram": [
           {
            "marker": {
             "pattern": {
              "fillmode": "overlay",
              "size": 10,
              "solidity": 0.2
             }
            },
            "type": "histogram"
           }
          ],
          "histogram2d": [
           {
            "colorbar": {
             "outlinewidth": 0,
             "ticks": ""
            },
            "colorscale": [
             [
              0,
              "#0d0887"
             ],
             [
              0.1111111111111111,
              "#46039f"
             ],
             [
              0.2222222222222222,
              "#7201a8"
             ],
             [
              0.3333333333333333,
              "#9c179e"
             ],
             [
              0.4444444444444444,
              "#bd3786"
             ],
             [
              0.5555555555555556,
              "#d8576b"
             ],
             [
              0.6666666666666666,
              "#ed7953"
             ],
             [
              0.7777777777777778,
              "#fb9f3a"
             ],
             [
              0.8888888888888888,
              "#fdca26"
             ],
             [
              1,
              "#f0f921"
             ]
            ],
            "type": "histogram2d"
           }
          ],
          "histogram2dcontour": [
           {
            "colorbar": {
             "outlinewidth": 0,
             "ticks": ""
            },
            "colorscale": [
             [
              0,
              "#0d0887"
             ],
             [
              0.1111111111111111,
              "#46039f"
             ],
             [
              0.2222222222222222,
              "#7201a8"
             ],
             [
              0.3333333333333333,
              "#9c179e"
             ],
             [
              0.4444444444444444,
              "#bd3786"
             ],
             [
              0.5555555555555556,
              "#d8576b"
             ],
             [
              0.6666666666666666,
              "#ed7953"
             ],
             [
              0.7777777777777778,
              "#fb9f3a"
             ],
             [
              0.8888888888888888,
              "#fdca26"
             ],
             [
              1,
              "#f0f921"
             ]
            ],
            "type": "histogram2dcontour"
           }
          ],
          "mesh3d": [
           {
            "colorbar": {
             "outlinewidth": 0,
             "ticks": ""
            },
            "type": "mesh3d"
           }
          ],
          "parcoords": [
           {
            "line": {
             "colorbar": {
              "outlinewidth": 0,
              "ticks": ""
             }
            },
            "type": "parcoords"
           }
          ],
          "pie": [
           {
            "automargin": true,
            "type": "pie"
           }
          ],
          "scatter": [
           {
            "fillpattern": {
             "fillmode": "overlay",
             "size": 10,
             "solidity": 0.2
            },
            "type": "scatter"
           }
          ],
          "scatter3d": [
           {
            "line": {
             "colorbar": {
              "outlinewidth": 0,
              "ticks": ""
             }
            },
            "marker": {
             "colorbar": {
              "outlinewidth": 0,
              "ticks": ""
             }
            },
            "type": "scatter3d"
           }
          ],
          "scattercarpet": [
           {
            "marker": {
             "colorbar": {
              "outlinewidth": 0,
              "ticks": ""
             }
            },
            "type": "scattercarpet"
           }
          ],
          "scattergeo": [
           {
            "marker": {
             "colorbar": {
              "outlinewidth": 0,
              "ticks": ""
             }
            },
            "type": "scattergeo"
           }
          ],
          "scattergl": [
           {
            "marker": {
             "colorbar": {
              "outlinewidth": 0,
              "ticks": ""
             }
            },
            "type": "scattergl"
           }
          ],
          "scattermap": [
           {
            "marker": {
             "colorbar": {
              "outlinewidth": 0,
              "ticks": ""
             }
            },
            "type": "scattermap"
           }
          ],
          "scattermapbox": [
           {
            "marker": {
             "colorbar": {
              "outlinewidth": 0,
              "ticks": ""
             }
            },
            "type": "scattermapbox"
           }
          ],
          "scatterpolar": [
           {
            "marker": {
             "colorbar": {
              "outlinewidth": 0,
              "ticks": ""
             }
            },
            "type": "scatterpolar"
           }
          ],
          "scatterpolargl": [
           {
            "marker": {
             "colorbar": {
              "outlinewidth": 0,
              "ticks": ""
             }
            },
            "type": "scatterpolargl"
           }
          ],
          "scatterternary": [
           {
            "marker": {
             "colorbar": {
              "outlinewidth": 0,
              "ticks": ""
             }
            },
            "type": "scatterternary"
           }
          ],
          "surface": [
           {
            "colorbar": {
             "outlinewidth": 0,
             "ticks": ""
            },
            "colorscale": [
             [
              0,
              "#0d0887"
             ],
             [
              0.1111111111111111,
              "#46039f"
             ],
             [
              0.2222222222222222,
              "#7201a8"
             ],
             [
              0.3333333333333333,
              "#9c179e"
             ],
             [
              0.4444444444444444,
              "#bd3786"
             ],
             [
              0.5555555555555556,
              "#d8576b"
             ],
             [
              0.6666666666666666,
              "#ed7953"
             ],
             [
              0.7777777777777778,
              "#fb9f3a"
             ],
             [
              0.8888888888888888,
              "#fdca26"
             ],
             [
              1,
              "#f0f921"
             ]
            ],
            "type": "surface"
           }
          ],
          "table": [
           {
            "cells": {
             "fill": {
              "color": "#EBF0F8"
             },
             "line": {
              "color": "white"
             }
            },
            "header": {
             "fill": {
              "color": "#C8D4E3"
             },
             "line": {
              "color": "white"
             }
            },
            "type": "table"
           }
          ]
         },
         "layout": {
          "annotationdefaults": {
           "arrowcolor": "#2a3f5f",
           "arrowhead": 0,
           "arrowwidth": 1
          },
          "autotypenumbers": "strict",
          "coloraxis": {
           "colorbar": {
            "outlinewidth": 0,
            "ticks": ""
           }
          },
          "colorscale": {
           "diverging": [
            [
             0,
             "#8e0152"
            ],
            [
             0.1,
             "#c51b7d"
            ],
            [
             0.2,
             "#de77ae"
            ],
            [
             0.3,
             "#f1b6da"
            ],
            [
             0.4,
             "#fde0ef"
            ],
            [
             0.5,
             "#f7f7f7"
            ],
            [
             0.6,
             "#e6f5d0"
            ],
            [
             0.7,
             "#b8e186"
            ],
            [
             0.8,
             "#7fbc41"
            ],
            [
             0.9,
             "#4d9221"
            ],
            [
             1,
             "#276419"
            ]
           ],
           "sequential": [
            [
             0,
             "#0d0887"
            ],
            [
             0.1111111111111111,
             "#46039f"
            ],
            [
             0.2222222222222222,
             "#7201a8"
            ],
            [
             0.3333333333333333,
             "#9c179e"
            ],
            [
             0.4444444444444444,
             "#bd3786"
            ],
            [
             0.5555555555555556,
             "#d8576b"
            ],
            [
             0.6666666666666666,
             "#ed7953"
            ],
            [
             0.7777777777777778,
             "#fb9f3a"
            ],
            [
             0.8888888888888888,
             "#fdca26"
            ],
            [
             1,
             "#f0f921"
            ]
           ],
           "sequentialminus": [
            [
             0,
             "#0d0887"
            ],
            [
             0.1111111111111111,
             "#46039f"
            ],
            [
             0.2222222222222222,
             "#7201a8"
            ],
            [
             0.3333333333333333,
             "#9c179e"
            ],
            [
             0.4444444444444444,
             "#bd3786"
            ],
            [
             0.5555555555555556,
             "#d8576b"
            ],
            [
             0.6666666666666666,
             "#ed7953"
            ],
            [
             0.7777777777777778,
             "#fb9f3a"
            ],
            [
             0.8888888888888888,
             "#fdca26"
            ],
            [
             1,
             "#f0f921"
            ]
           ]
          },
          "colorway": [
           "#636efa",
           "#EF553B",
           "#00cc96",
           "#ab63fa",
           "#FFA15A",
           "#19d3f3",
           "#FF6692",
           "#B6E880",
           "#FF97FF",
           "#FECB52"
          ],
          "font": {
           "color": "#2a3f5f"
          },
          "geo": {
           "bgcolor": "white",
           "lakecolor": "white",
           "landcolor": "#E5ECF6",
           "showlakes": true,
           "showland": true,
           "subunitcolor": "white"
          },
          "hoverlabel": {
           "align": "left"
          },
          "hovermode": "closest",
          "mapbox": {
           "style": "light"
          },
          "paper_bgcolor": "white",
          "plot_bgcolor": "#E5ECF6",
          "polar": {
           "angularaxis": {
            "gridcolor": "white",
            "linecolor": "white",
            "ticks": ""
           },
           "bgcolor": "#E5ECF6",
           "radialaxis": {
            "gridcolor": "white",
            "linecolor": "white",
            "ticks": ""
           }
          },
          "scene": {
           "xaxis": {
            "backgroundcolor": "#E5ECF6",
            "gridcolor": "white",
            "gridwidth": 2,
            "linecolor": "white",
            "showbackground": true,
            "ticks": "",
            "zerolinecolor": "white"
           },
           "yaxis": {
            "backgroundcolor": "#E5ECF6",
            "gridcolor": "white",
            "gridwidth": 2,
            "linecolor": "white",
            "showbackground": true,
            "ticks": "",
            "zerolinecolor": "white"
           },
           "zaxis": {
            "backgroundcolor": "#E5ECF6",
            "gridcolor": "white",
            "gridwidth": 2,
            "linecolor": "white",
            "showbackground": true,
            "ticks": "",
            "zerolinecolor": "white"
           }
          },
          "shapedefaults": {
           "line": {
            "color": "#2a3f5f"
           }
          },
          "ternary": {
           "aaxis": {
            "gridcolor": "white",
            "linecolor": "white",
            "ticks": ""
           },
           "baxis": {
            "gridcolor": "white",
            "linecolor": "white",
            "ticks": ""
           },
           "bgcolor": "#E5ECF6",
           "caxis": {
            "gridcolor": "white",
            "linecolor": "white",
            "ticks": ""
           }
          },
          "title": {
           "x": 0.05
          },
          "xaxis": {
           "automargin": true,
           "gridcolor": "white",
           "linecolor": "white",
           "ticks": "",
           "title": {
            "standoff": 15
           },
           "zerolinecolor": "white",
           "zerolinewidth": 2
          },
          "yaxis": {
           "automargin": true,
           "gridcolor": "white",
           "linecolor": "white",
           "ticks": "",
           "title": {
            "standoff": 15
           },
           "zerolinecolor": "white",
           "zerolinewidth": 2
          }
         }
        },
        "xaxis": {
         "anchor": "y",
         "domain": [
          0,
          1
         ],
         "title": {
          "text": "income"
         }
        },
        "yaxis": {
         "anchor": "x",
         "domain": [
          0,
          1
         ],
         "title": {
          "text": "gdpp"
         }
        }
       }
      }
     },
     "metadata": {},
     "output_type": "display_data"
    }
   ],
   "source": [
    "# Dispersão entre renda e PIB per capita\n",
    "px.scatter(df_countries, x='income', y='gdpp', hover_data=['country'], color='income_category')"
   ]
  },
  {
   "cell_type": "code",
   "execution_count": null,
   "metadata": {},
   "outputs": [],
   "source": [
    "# Criando objeto da matriz de correlação\n",
    "matriz_correlacao_countries = df_countries.corr(numeric_only=True)"
   ]
  },
  {
   "cell_type": "code",
   "execution_count": null,
   "metadata": {},
   "outputs": [
    {
     "data": {
      "text/plain": [
       "<Axes: >"
      ]
     },
     "execution_count": 17,
     "metadata": {},
     "output_type": "execute_result"
    },
    {
     "data": {
      "image/png": "[encoded data removed]",
      "text/plain": [
       "<Figure size 640x480 with 2 Axes>"
      ]
     },
     "metadata": {},
     "output_type": "display_data"
    }
   ],
   "source": [
    "# Visualizando matriz de correlação\n",
    "sns.heatmap(matriz_correlacao_countries, vmin=-1, vmax=1, annot=True)"
   ]
  },
  {
   "cell_type": "markdown",
   "metadata": {},
   "source": [
    "Realizamos uma análise exploratória para entender a distribuição das variáveis, identificar padrões, outliers e correlações relevantes.\n",
    "\n",
    "Essa etapa é essencial para validar a aplicabilidade do PCA, já que ele é fortemente baseado na variância dos dados e nas relações lineares entre as variáveis.\n"
   ]
  },
  {
   "cell_type": "markdown",
   "metadata": {},
   "source": [
    "### Treinar Algoritmo PCA"
   ]
  },
  {
   "cell_type": "code",
   "execution_count": null,
   "metadata": {},
   "outputs": [
    {
     "name": "stdout",
     "output_type": "stream",
     "text": [
      "<class 'pandas.core.frame.DataFrame'>\n",
      "RangeIndex: 165 entries, 0 to 164\n",
      "Data columns (total 9 columns):\n",
      " #   Column      Non-Null Count  Dtype  \n",
      "---  ------      --------------  -----  \n",
      " 0   child_mort  165 non-null    float64\n",
      " 1   exports     165 non-null    float64\n",
      " 2   health      165 non-null    float64\n",
      " 3   imports     165 non-null    float64\n",
      " 4   income      165 non-null    int64  \n",
      " 5   inflation   165 non-null    float64\n",
      " 6   life_expec  165 non-null    float64\n",
      " 7   total_fer   165 non-null    float64\n",
      " 8   gdpp        165 non-null    int64  \n",
      "dtypes: float64(7), int64(2)\n",
      "memory usage: 11.7 KB\n"
     ]
    }
   ],
   "source": [
    "# Copiando o DataFrame para evitar alterações no original\n",
    "X = df_countries.copy()\n",
    "# Excluindo variáveis categóricas\n",
    "X.drop(columns=['country', 'income_category'], axis=1, inplace=True)\n",
    "X.info()"
   ]
  },
  {
   "cell_type": "code",
   "execution_count": null,
   "metadata": {},
   "outputs": [],
   "source": [
    "# Normalizando as features numéricas\n",
    "numeric_features = ['child_mort', 'exports', 'health', 'imports', 'income', 'inflation', 'life_expec', 'total_fer', 'gdpp']\n",
    "\n",
    "numeric_tranformer = StandardScaler()\n",
    "\n",
    "# Criando objeto ColumnTransformer para aplicar a normalização apenas nas features numéricas\n",
    "preprocessor = ColumnTransformer(\n",
    "    transformers=[\n",
    "        ('num', numeric_tranformer, numeric_features)\n",
    "    ]\n",
    ")"
   ]
  },
  {
   "cell_type": "code",
   "execution_count": null,
   "metadata": {},
   "outputs": [],
   "source": [
    "# Treindando o preprocessor e transformando os dados\n",
    "X_transformed = preprocessor.fit_transform(X)"
   ]
  },
  {
   "cell_type": "markdown",
   "metadata": {},
   "source": [
    "### Normalização\n",
    "\n",
    "Antes de aplicar o PCA, os dados foram normalizados para garantir que todas as variáveis contribuam igualmente na análise. Variáveis com escalas diferentes (como PIB e expectativa de vida) poderiam dominar a análise sem esse ajuste.\n"
   ]
  },
  {
   "cell_type": "code",
   "execution_count": null,
   "metadata": {},
   "outputs": [],
   "source": [
    "# Criando objeto PCA para reduzir a dimensionalidade\n",
    "modelo_pca = PCA(n_components=3)"
   ]
  },
  {
   "cell_type": "code",
   "execution_count": null,
   "metadata": {},
   "outputs": [],
   "source": [
    "# Apliando PCA nos dados transformados\n",
    "X_pca = modelo_pca.fit_transform(X_transformed)"
   ]
  },
  {
   "cell_type": "code",
   "execution_count": null,
   "metadata": {},
   "outputs": [],
   "source": [
    "# Criando dataframe com os componentes principais\n",
    "df_pca = pd.DataFrame(X_pca, columns=['PC1', 'PC2', 'PC3'])"
   ]
  },
  {
   "cell_type": "code",
   "execution_count": null,
   "metadata": {},
   "outputs": [
    {
     "data": {
      "text/html": [
       "<div>\n",
       "<style scoped>\n",
       "    .dataframe tbody tr th:only-of-type {\n",
       "        vertical-align: middle;\n",
       "    }\n",
       "\n",
       "    .dataframe tbody tr th {\n",
       "        vertical-align: top;\n",
       "    }\n",
       "\n",
       "    .dataframe thead th {\n",
       "        text-align: right;\n",
       "    }\n",
       "</style>\n",
       "<table border=\"1\" class=\"dataframe\">\n",
       "  <thead>\n",
       "    <tr style=\"text-align: right;\">\n",
       "      <th></th>\n",
       "      <th>PC1</th>\n",
       "      <th>PC2</th>\n",
       "      <th>PC3</th>\n",
       "    </tr>\n",
       "  </thead>\n",
       "  <tbody>\n",
       "    <tr>\n",
       "      <th>0</th>\n",
       "      <td>-2.898491</td>\n",
       "      <td>0.043830</td>\n",
       "      <td>-0.674704</td>\n",
       "    </tr>\n",
       "    <tr>\n",
       "      <th>1</th>\n",
       "      <td>0.435969</td>\n",
       "      <td>-0.602095</td>\n",
       "      <td>-0.336181</td>\n",
       "    </tr>\n",
       "    <tr>\n",
       "      <th>2</th>\n",
       "      <td>-0.294489</td>\n",
       "      <td>-0.393013</td>\n",
       "      <td>1.237849</td>\n",
       "    </tr>\n",
       "    <tr>\n",
       "      <th>3</th>\n",
       "      <td>-2.941128</td>\n",
       "      <td>1.746346</td>\n",
       "      <td>1.498419</td>\n",
       "    </tr>\n",
       "    <tr>\n",
       "      <th>4</th>\n",
       "      <td>1.038913</td>\n",
       "      <td>0.117437</td>\n",
       "      <td>-0.255625</td>\n",
       "    </tr>\n",
       "  </tbody>\n",
       "</table>\n",
       "</div>"
      ],
      "text/plain": [
       "        PC1       PC2       PC3\n",
       "0 -2.898491  0.043830 -0.674704\n",
       "1  0.435969 -0.602095 -0.336181\n",
       "2 -0.294489 -0.393013  1.237849\n",
       "3 -2.941128  1.746346  1.498419\n",
       "4  1.038913  0.117437 -0.255625"
      ]
     },
     "execution_count": 24,
     "metadata": {},
     "output_type": "execute_result"
    }
   ],
   "source": [
    "# Vizualizando os componentes principais\n",
    "df_pca.head(5)"
   ]
  },
  {
   "cell_type": "code",
   "execution_count": null,
   "metadata": {},
   "outputs": [],
   "source": [
    "# Join dos componentes principais com o dataframe original\n",
    "df_countries['PC1'] = df_pca['PC1']\n",
    "df_countries['PC2'] = df_pca['PC2']\n",
    "df_countries['PC3'] = df_pca['PC3']"
   ]
  },
  {
   "cell_type": "code",
   "execution_count": null,
   "metadata": {},
   "outputs": [
    {
     "data": {
      "text/html": [
       "<div>\n",
       "<style scoped>\n",
       "    .dataframe tbody tr th:only-of-type {\n",
       "        vertical-align: middle;\n",
       "    }\n",
       "\n",
       "    .dataframe tbody tr th {\n",
       "        vertical-align: top;\n",
       "    }\n",
       "\n",
       "    .dataframe thead th {\n",
       "        text-align: right;\n",
       "    }\n",
       "</style>\n",
       "<table border=\"1\" class=\"dataframe\">\n",
       "  <thead>\n",
       "    <tr style=\"text-align: right;\">\n",
       "      <th></th>\n",
       "      <th>country</th>\n",
       "      <th>child_mort</th>\n",
       "      <th>exports</th>\n",
       "      <th>health</th>\n",
       "      <th>imports</th>\n",
       "      <th>income</th>\n",
       "      <th>inflation</th>\n",
       "      <th>life_expec</th>\n",
       "      <th>total_fer</th>\n",
       "      <th>gdpp</th>\n",
       "      <th>income_category</th>\n",
       "      <th>PC1</th>\n",
       "      <th>PC2</th>\n",
       "      <th>PC3</th>\n",
       "    </tr>\n",
       "  </thead>\n",
       "  <tbody>\n",
       "    <tr>\n",
       "      <th>0</th>\n",
       "      <td>Afghanistan</td>\n",
       "      <td>90.2</td>\n",
       "      <td>10.0</td>\n",
       "      <td>7.58</td>\n",
       "      <td>44.9</td>\n",
       "      <td>1610</td>\n",
       "      <td>9.44</td>\n",
       "      <td>56.2</td>\n",
       "      <td>5.82</td>\n",
       "      <td>553</td>\n",
       "      <td>Low income</td>\n",
       "      <td>-2.898491</td>\n",
       "      <td>0.043830</td>\n",
       "      <td>-0.674704</td>\n",
       "    </tr>\n",
       "    <tr>\n",
       "      <th>1</th>\n",
       "      <td>Albania</td>\n",
       "      <td>16.6</td>\n",
       "      <td>28.0</td>\n",
       "      <td>6.55</td>\n",
       "      <td>48.6</td>\n",
       "      <td>9930</td>\n",
       "      <td>4.49</td>\n",
       "      <td>76.3</td>\n",
       "      <td>1.65</td>\n",
       "      <td>4090</td>\n",
       "      <td>Upper middle income</td>\n",
       "      <td>0.435969</td>\n",
       "      <td>-0.602095</td>\n",
       "      <td>-0.336181</td>\n",
       "    </tr>\n",
       "    <tr>\n",
       "      <th>2</th>\n",
       "      <td>Algeria</td>\n",
       "      <td>27.3</td>\n",
       "      <td>38.4</td>\n",
       "      <td>4.17</td>\n",
       "      <td>31.4</td>\n",
       "      <td>12900</td>\n",
       "      <td>16.10</td>\n",
       "      <td>76.5</td>\n",
       "      <td>2.89</td>\n",
       "      <td>4460</td>\n",
       "      <td>Lower middle income</td>\n",
       "      <td>-0.294489</td>\n",
       "      <td>-0.393013</td>\n",
       "      <td>1.237849</td>\n",
       "    </tr>\n",
       "    <tr>\n",
       "      <th>3</th>\n",
       "      <td>Angola</td>\n",
       "      <td>119.0</td>\n",
       "      <td>62.3</td>\n",
       "      <td>2.85</td>\n",
       "      <td>42.9</td>\n",
       "      <td>5900</td>\n",
       "      <td>22.40</td>\n",
       "      <td>60.1</td>\n",
       "      <td>6.16</td>\n",
       "      <td>3530</td>\n",
       "      <td>Lower middle income</td>\n",
       "      <td>-2.941128</td>\n",
       "      <td>1.746346</td>\n",
       "      <td>1.498419</td>\n",
       "    </tr>\n",
       "    <tr>\n",
       "      <th>4</th>\n",
       "      <td>Antigua and Barbuda</td>\n",
       "      <td>10.3</td>\n",
       "      <td>45.5</td>\n",
       "      <td>6.03</td>\n",
       "      <td>58.9</td>\n",
       "      <td>19100</td>\n",
       "      <td>1.44</td>\n",
       "      <td>76.8</td>\n",
       "      <td>2.13</td>\n",
       "      <td>12200</td>\n",
       "      <td>High income</td>\n",
       "      <td>1.038913</td>\n",
       "      <td>0.117437</td>\n",
       "      <td>-0.255625</td>\n",
       "    </tr>\n",
       "  </tbody>\n",
       "</table>\n",
       "</div>"
      ],
      "text/plain": [
       "               country  child_mort  exports  health  imports  income  \\\n",
       "0          Afghanistan        90.2     10.0    7.58     44.9    1610   \n",
       "1              Albania        16.6     28.0    6.55     48.6    9930   \n",
       "2              Algeria        27.3     38.4    4.17     31.4   12900   \n",
       "3               Angola       119.0     62.3    2.85     42.9    5900   \n",
       "4  Antigua and Barbuda        10.3     45.5    6.03     58.9   19100   \n",
       "\n",
       "   inflation  life_expec  total_fer   gdpp      income_category       PC1  \\\n",
       "0       9.44        56.2       5.82    553           Low income -2.898491   \n",
       "1       4.49        76.3       1.65   4090  Upper middle income  0.435969   \n",
       "2      16.10        76.5       2.89   4460  Lower middle income -0.294489   \n",
       "3      22.40        60.1       6.16   3530  Lower middle income -2.941128   \n",
       "4       1.44        76.8       2.13  12200          High income  1.038913   \n",
       "\n",
       "        PC2       PC3  \n",
       "0  0.043830 -0.674704  \n",
       "1 -0.602095 -0.336181  \n",
       "2 -0.393013  1.237849  \n",
       "3  1.746346  1.498419  \n",
       "4  0.117437 -0.255625  "
      ]
     },
     "execution_count": 26,
     "metadata": {},
     "output_type": "execute_result"
    }
   ],
   "source": [
    "# Vizualizando os componentes principais no dataframe original\n",
    "df_countries.head(5)"
   ]
  },
  {
   "cell_type": "markdown",
   "metadata": {},
   "source": [
    "### Visualizar Resultados"
   ]
  },
  {
   "cell_type": "code",
   "execution_count": 27,
   "metadata": {},
   "outputs": [],
   "source": [
    "# Autovetores\n",
    "autovetores = modelo_pca.explained_variance_\n",
    "\n",
    "# Autovalores\n",
    "autovalores = modelo_pca.components_"
   ]
  },
  {
   "cell_type": "code",
   "execution_count": null,
   "metadata": {},
   "outputs": [
    {
     "name": "stdout",
     "output_type": "stream",
     "text": [
      "Autoverotes:\n",
      "[4.18194258 1.55676483 1.15683401]\n",
      "\n",
      "Autovalores:\n",
      "[[-0.41944537  0.28242091  0.15068193  0.16069962  0.39721431 -0.20064752\n",
      "   0.42542863 -0.40370133  0.39213733]\n",
      " [ 0.18639458  0.61906392 -0.26537269  0.6623149   0.03301443  0.03814569\n",
      "  -0.21355639  0.15172601 -0.04196516]\n",
      " [-0.02457745  0.11382205 -0.57151155 -0.33939771  0.32266099  0.63616571\n",
      "   0.11811594  0.02417555  0.14584745]]\n"
     ]
    }
   ],
   "source": [
    "# Visualizando as variancias explicadas por cada componente principal\n",
    "print('Autoverotes:')\n",
    "print(autovetores)\n",
    "print('\\nAutovalores:')\n",
    "print(autovalores)"
   ]
  },
  {
   "cell_type": "code",
   "execution_count": 30,
   "metadata": {},
   "outputs": [],
   "source": [
    "# Reconstrução dos dados\n",
    "X_recovered = modelo_pca.inverse_transform(X_pca)"
   ]
  },
  {
   "cell_type": "code",
   "execution_count": 37,
   "metadata": {},
   "outputs": [
    {
     "name": "stdout",
     "output_type": "stream",
     "text": [
      "165\n",
      "9\n"
     ]
    }
   ],
   "source": [
    "# Visualizar Recovered\n",
    "print(X_recovered.shape[0])\n",
    "print(X_recovered.shape[1])"
   ]
  },
  {
   "cell_type": "code",
   "execution_count": 32,
   "metadata": {},
   "outputs": [
    {
     "name": "stdout",
     "output_type": "stream",
     "text": [
      "Erro de Reconstrução: 0.23847219349860982\n"
     ]
    }
   ],
   "source": [
    "# Calcular o erro de reconstrução\n",
    "reconstruction_error = mean_squared_error(X_transformed, X_recovered)\n",
    "print('Erro de Reconstrução:', reconstruction_error)"
   ]
  },
  {
   "cell_type": "markdown",
   "metadata": {},
   "source": [
    "## Aplicação do PCA\n",
    "\n",
    "Aplicamos a Análise de Componentes Principais para reduzir a dimensionalidade dos dados. Foram extraídos os três primeiros componentes principais, que explicam a maior parte da variância dos dados.\n",
    "\n",
    "Esses componentes serão usados para gerar visualizações e interpretar padrões entre os países.\n"
   ]
  },
  {
   "cell_type": "markdown",
   "metadata": {},
   "source": [
    "### Visualizar Componentes vs Variáveis"
   ]
  },
  {
   "cell_type": "code",
   "execution_count": 61,
   "metadata": {},
   "outputs": [],
   "source": [
    "loadings_df = pd.DataFrame(autovalores, columns=X.columns, index=['PC1', 'PC2', 'PC3'])"
   ]
  },
  {
   "cell_type": "code",
   "execution_count": 53,
   "metadata": {},
   "outputs": [
    {
     "data": {
      "text/html": [
       "<div>\n",
       "<style scoped>\n",
       "    .dataframe tbody tr th:only-of-type {\n",
       "        vertical-align: middle;\n",
       "    }\n",
       "\n",
       "    .dataframe tbody tr th {\n",
       "        vertical-align: top;\n",
       "    }\n",
       "\n",
       "    .dataframe thead th {\n",
       "        text-align: right;\n",
       "    }\n",
       "</style>\n",
       "<table border=\"1\" class=\"dataframe\">\n",
       "  <thead>\n",
       "    <tr style=\"text-align: right;\">\n",
       "      <th></th>\n",
       "      <th>child_mort</th>\n",
       "      <th>exports</th>\n",
       "      <th>health</th>\n",
       "      <th>imports</th>\n",
       "      <th>income</th>\n",
       "      <th>inflation</th>\n",
       "      <th>life_expec</th>\n",
       "      <th>total_fer</th>\n",
       "      <th>gdpp</th>\n",
       "    </tr>\n",
       "  </thead>\n",
       "  <tbody>\n",
       "    <tr>\n",
       "      <th>PC1</th>\n",
       "      <td>-0.419445</td>\n",
       "      <td>0.282421</td>\n",
       "      <td>0.150682</td>\n",
       "      <td>0.160700</td>\n",
       "      <td>0.397214</td>\n",
       "      <td>-0.200648</td>\n",
       "      <td>0.425429</td>\n",
       "      <td>-0.403701</td>\n",
       "      <td>0.392137</td>\n",
       "    </tr>\n",
       "    <tr>\n",
       "      <th>PC2</th>\n",
       "      <td>0.186395</td>\n",
       "      <td>0.619064</td>\n",
       "      <td>-0.265373</td>\n",
       "      <td>0.662315</td>\n",
       "      <td>0.033014</td>\n",
       "      <td>0.038146</td>\n",
       "      <td>-0.213556</td>\n",
       "      <td>0.151726</td>\n",
       "      <td>-0.041965</td>\n",
       "    </tr>\n",
       "    <tr>\n",
       "      <th>PC3</th>\n",
       "      <td>-0.024577</td>\n",
       "      <td>0.113822</td>\n",
       "      <td>-0.571512</td>\n",
       "      <td>-0.339398</td>\n",
       "      <td>0.322661</td>\n",
       "      <td>0.636166</td>\n",
       "      <td>0.118116</td>\n",
       "      <td>0.024176</td>\n",
       "      <td>0.145847</td>\n",
       "    </tr>\n",
       "  </tbody>\n",
       "</table>\n",
       "</div>"
      ],
      "text/plain": [
       "     child_mort   exports    health   imports    income  inflation  \\\n",
       "PC1   -0.419445  0.282421  0.150682  0.160700  0.397214  -0.200648   \n",
       "PC2    0.186395  0.619064 -0.265373  0.662315  0.033014   0.038146   \n",
       "PC3   -0.024577  0.113822 -0.571512 -0.339398  0.322661   0.636166   \n",
       "\n",
       "     life_expec  total_fer      gdpp  \n",
       "PC1    0.425429  -0.403701  0.392137  \n",
       "PC2   -0.213556   0.151726 -0.041965  \n",
       "PC3    0.118116   0.024176  0.145847  "
      ]
     },
     "execution_count": 53,
     "metadata": {},
     "output_type": "execute_result"
    }
   ],
   "source": [
    "loadings_df"
   ]
  },
  {
   "cell_type": "code",
   "execution_count": 50,
   "metadata": {},
   "outputs": [
    {
     "data": {
      "text/plain": [
       "life_expec    0.425429\n",
       "income        0.397214\n",
       "gdpp          0.392137\n",
       "exports       0.282421\n",
       "imports       0.160700\n",
       "health        0.150682\n",
       "inflation    -0.200648\n",
       "total_fer    -0.403701\n",
       "child_mort   -0.419445\n",
       "Name: PC1, dtype: float64"
      ]
     },
     "execution_count": 50,
     "metadata": {},
     "output_type": "execute_result"
    }
   ],
   "source": [
    "# Exibir os pesos do PC1 ordenados por magnitude\n",
    "loadings_df.loc['PC1'].sort_values(ascending=False)\n"
   ]
  },
  {
   "cell_type": "markdown",
   "metadata": {},
   "source": [
    "O componente principal 1 (PC1) se mostrou fortemente associado a indicadores de qualidade de vida e desenvolvimento econômico. Países com altos valores em PC1 apresentam elevada expectativa de vida, renda e PIB per capita, enquanto países com valores negativos têm altos níveis de mortalidade infantil, fertilidade e inflação. Esse componente pode ser interpretado como um índice de __desenvolvimento socioeconômico__."
   ]
  },
  {
   "cell_type": "code",
   "execution_count": 54,
   "metadata": {},
   "outputs": [
    {
     "data": {
      "text/plain": [
       "imports       0.662315\n",
       "exports       0.619064\n",
       "child_mort    0.186395\n",
       "total_fer     0.151726\n",
       "inflation     0.038146\n",
       "income        0.033014\n",
       "gdpp         -0.041965\n",
       "life_expec   -0.213556\n",
       "health       -0.265373\n",
       "Name: PC2, dtype: float64"
      ]
     },
     "execution_count": 54,
     "metadata": {},
     "output_type": "execute_result"
    }
   ],
   "source": [
    "# Exibir os pesos do PC2 ordenados por magnitude\n",
    "loadings_df.loc['PC2'].sort_values(ascending=False)\n"
   ]
  },
  {
   "cell_type": "markdown",
   "metadata": {},
   "source": [
    "O PC2 reflete um eixo de __abertura econômica__, onde países com forte atividade de comércio internacional (importação/exportação) se diferenciam de países com maiores índices de saúde e longevidade. Isso pode indicar perfis voltados para produção/exportação em detrimento de qualidade de vida local."
   ]
  },
  {
   "cell_type": "code",
   "execution_count": 55,
   "metadata": {},
   "outputs": [
    {
     "data": {
      "text/plain": [
       "inflation     0.636166\n",
       "income        0.322661\n",
       "gdpp          0.145847\n",
       "life_expec    0.118116\n",
       "exports       0.113822\n",
       "total_fer     0.024176\n",
       "child_mort   -0.024577\n",
       "imports      -0.339398\n",
       "health       -0.571512\n",
       "Name: PC3, dtype: float64"
      ]
     },
     "execution_count": 55,
     "metadata": {},
     "output_type": "execute_result"
    }
   ],
   "source": [
    "# Exibir os pesos do PC3 ordenados por magnitude\n",
    "loadings_df.loc['PC3'].sort_values(ascending=False)\n"
   ]
  },
  {
   "cell_type": "markdown",
   "metadata": {},
   "source": [
    "O PC3 distingue países com __altos níveis de inflação e renda__,possivelmente refletindo economias instáveis com desigualdade, daqueles que priorizam infraestrutura de saúde e mantêm relações comerciais externas estáveis."
   ]
  },
  {
   "cell_type": "markdown",
   "metadata": {},
   "source": [
    "## Interpretação dos Componentes\n",
    "\n",
    "Através dos loadings, foi possível interpretar o significado de cada componente:\n",
    "\n",
    "- **PC1**: Representa o nível de desenvolvimento socioeconômico (alta expectativa de vida, renda, PIB, baixa mortalidade infantil).\n",
    "- **PC2**: Reflete o grau de abertura econômica (importações e exportações).\n",
    "- **PC3**: Relacionado à inflação e infraestrutura de saúde.\n",
    "\n",
    "Essa interpretação será usada para direcionar a visualização e as recomendações estratégicas.\n"
   ]
  },
  {
   "cell_type": "markdown",
   "metadata": {},
   "source": [
    "### Visualizar Chart 3D"
   ]
  },
  {
   "cell_type": "code",
   "execution_count": 66,
   "metadata": {},
   "outputs": [
    {
     "data": {
      "application/vnd.plotly.v1+json": {
       "config": {
        "plotlyServerURL": "https://plot.ly"
       },
       "data": [
        {
         "hovertemplate": "<b>%{hovertext}</b><br><br>Desenvolvimento Socioeconômico=%{x}<br>Abertura Econômica=%{y}<br>Inflação vs Saúde Pública=%{z}<br>grupo=%{marker.color}<extra></extra>",
         "hovertext": [
          "Afghanistan",
          "Albania",
          "Algeria",
          "Angola",
          "Antigua and Barbuda",
          "Argentina",
          "Armenia",
          "Australia",
          "Austria",
          "Azerbaijan",
          "Bahamas",
          "Bahrain",
          "Bangladesh",
          "Barbados",
          "Belarus",
          "Belgium",
          "Belize",
          "Benin",
          "Bhutan",
          "Bolivia",
          "Bosnia and Herzegovina",
          "Botswana",
          "Brazil",
          "Brunei",
          "Bulgaria",
          "Burkina Faso",
          "Burundi",
          "Cambodia",
          "Cameroon",
          "Canada",
          "Cape Verde",
          "Central African Republic",
          "Chad",
          "Chile",
          "China",
          "Colombia",
          "Comoros",
          "Congo Dem. Rep.",
          "Congo Rep.",
          "Costa Rica",
          "Cote d'Ivoire",
          "Croatia",
          "Cyprus",
          "Czech Republic",
          "Denmark",
          "Dominican Republic",
          "Ecuador",
          "Egypt",
          "El Salvador",
          "Equatorial Guinea",
          "Eritrea",
          "Estonia",
          "Fiji",
          "Finland",
          "France",
          "Gabon",
          "Gambia",
          "Georgia",
          "Germany",
          "Ghana",
          "Greece",
          "Grenada",
          "Guatemala",
          "Guinea",
          "Guinea-Bissau",
          "Guyana",
          "Haiti",
          "Hungary",
          "Iceland",
          "India",
          "Indonesia",
          "Iran",
          "Iraq",
          "Ireland",
          "Israel",
          "Italy",
          "Jamaica",
          "Japan",
          "Jordan",
          "Kazakhstan",
          "Kenya",
          "Kiribati",
          "Kuwait",
          "Kyrgyz Republic",
          "Lao",
          "Latvia",
          "Lebanon",
          "Lesotho",
          "Liberia",
          "Libya",
          "Lithuania",
          "Luxembourg",
          "Madagascar",
          "Malawi",
          "Malaysia",
          "Maldives",
          "Mali",
          "Malta",
          "Mauritania",
          "Mauritius",
          "Micronesia",
          "Moldova",
          "Mongolia",
          "Montenegro",
          "Morocco",
          "Mozambique",
          "Myanmar",
          "Namibia",
          "Nepal",
          "Netherlands",
          "New Zealand",
          "Niger",
          "Nigeria",
          "Norway",
          "Oman",
          "Pakistan",
          "Panama",
          "Paraguay",
          "Peru",
          "Philippines",
          "Poland",
          "Portugal",
          "Qatar",
          "Romania",
          "Russia",
          "Rwanda",
          "Samoa",
          "Saudi Arabia",
          "Senegal",
          "Serbia",
          "Seychelles",
          "Sierra Leone",
          "Singapore",
          "Slovak Republic",
          "Slovenia",
          "Solomon Islands",
          "South Africa",
          "South Korea",
          "Spain",
          "Sri Lanka",
          "St. Vincent and the Grenadines",
          "Sudan",
          "Suriname",
          "Sweden",
          "Switzerland",
          "Tajikistan",
          "Tanzania",
          "Thailand",
          "Timor-Leste",
          "Togo",
          "Tonga",
          "Tunisia",
          "Turkey",
          "Turkmenistan",
          "Uganda",
          "Ukraine",
          "United Arab Emirates",
          "United Kingdom",
          "United States",
          "Uruguay",
          "Uzbekistan",
          "Vanuatu",
          "Vietnam",
          "Yemen",
          "Zambia"
         ],
         "legendgroup": "",
         "marker": {
          "color": {
           "bdata": "AQAAAAAAAAAAAAAAAQAAAAAAAAAAAAAAAAAAAAAAAAACAAAAAAAAAAAAAAACAAAAAAAAAAAAAAAAAAAAAgAAAAAAAAABAAAAAAAAAAAAAAAAAAAAAQAAAAAAAAACAAAAAAAAAAEAAAABAAAAAAAAAAEAAAAAAAAAAAAAAAEAAAABAAAAAAAAAAAAAAAAAAAAAQAAAAEAAAABAAAAAAAAAAEAAAAAAAAAAgAAAAIAAAACAAAAAAAAAAAAAAAAAAAAAAAAAAEAAAABAAAAAgAAAAAAAAACAAAAAAAAAAEAAAABAAAAAAAAAAIAAAABAAAAAAAAAAAAAAAAAAAAAQAAAAEAAAAAAAAAAQAAAAIAAAACAAAAAQAAAAAAAAAAAAAAAQAAAAIAAAAAAAAAAAAAAAAAAAAAAAAAAAAAAAAAAAABAAAAAQAAAAIAAAAAAAAAAQAAAAAAAAAAAAAAAQAAAAEAAAAAAAAAAAAAAAIAAAABAAAAAQAAAAIAAAAAAAAAAQAAAAIAAAABAAAAAAAAAAAAAAAAAAAAAQAAAAAAAAAAAAAAAQAAAAEAAAABAAAAAQAAAAIAAAAAAAAAAQAAAAEAAAACAAAAAAAAAAEAAAAAAAAAAAAAAAAAAAAAAAAAAAAAAAAAAAACAAAAAAAAAAAAAAABAAAAAAAAAAAAAAABAAAAAAAAAAIAAAABAAAAAgAAAAIAAAACAAAAAQAAAAEAAAAAAAAAAAAAAAAAAAAAAAAAAQAAAAAAAAACAAAAAgAAAAEAAAABAAAAAAAAAAEAAAABAAAAAAAAAAAAAAAAAAAAAAAAAAEAAAAAAAAAAgAAAAAAAAAAAAAAAAAAAAAAAAABAAAAAAAAAAEAAAABAAAA",
           "dtype": "i4"
          },
          "coloraxis": "coloraxis",
          "symbol": "circle"
         },
         "mode": "markers",
         "name": "",
         "scene": "scene",
         "showlegend": false,
         "type": "scatter3d",
         "x": {
          "bdata": "M5Ot7RswB8DniEqD6ObbP3W5yjXp2NK/El53622HB8BxnIGaY5/wP3JsO7EztXU/J2Bbe7XRuL88i+7r+LcCQOYH7ICCvAdA+YfsK3odyL8iTwss7Gj0Pwyqqs7Zkvo/PKika6rO8b+ojoATwWvxPw5VAGwRLOI/Vn7E/7gQCUBYXTCNKlXMP9GppzUJLQXAfCvbGWhTw78xBTsQrELpv08Pbf1kD/A/SDNs9EQY7L8UJAWbA0nCP40corV3bgNA+mdqGeM87T/HcHRwm9MIwONe8UvTHAfAVY15x+5D4r9WVdeazEMGwBJr7Oe3TARA9insCZ0Xwr8aef+NwXgPwJE1ksKCTQzAmt1wWo1L7j9gfNoURM6vP6uN0n8bqMA/EkT7QBKZAMBYpP0bimoJwIyaPmAnzvu/1vwUejf+7T9BQYuMPoUEwOTscZlAfPI/9CgcjE9fAUBFDbG7m3IAQIUkCT3m/gdAsCtpiROfzL+n+DccKQOKP8PkseMWBeu/tyEQCzqotz+NIvDO7RT1v5WV4kFutgPAQCFbGXWL+j8du0T1CjDHv9vmpgHypgNAj/7/3ZUFAkAuqHS0j9n2vzF9GG7rkAHAH7OGp3Oe1D855d7/zVYFQG2a1GCNcADAt1oGCtGF/D8GBg1RrFXEP/E884Ov6eS/qTCpis+5B8C+oQeflXoGwL1QYdE3QNS/NqcGhoCGEcDxUwreY2X9P3J5lY0qwgNAoL4sSGhZ9b8PNhNZXKbuv8BCmD0QBIW/SryjJnuV8L+pzSRUaEkNQAj9cOTUyPc/wlpEvAVVAUCmnd+b/OySP0GqZeuPKAJAWy+rdcxgxD86I8lnX7rTv3S57vbNqf2/rx9rXc+G87/m90rS44oDQH7TMTnkwNW/e04jtM9R+L/T6wOtyibzP4lX56I93/I/2gwDsMiW/L+vF7Z+DSb8v4FobqEhvOk/8tiwTmeT9j/WlAFbrn4bQAIVl1Jm/gDA3Wtm3/nAB8Cd7qpl55XzP85D3S6bw/E/nFH0ElMdC8AkSf8kBkkNQP6j9I1oX/+/rwT95WgD7T/HnLx1ubPXv5QWC7OAK+A/OZv0XxSH77+Jav4yWofwPymmpQdm/8u/cgsaJgg8B8Bw/7BD0yX9v1QmnxnjffC/a9vn0Gbp9L9KGQih+vIKQKFlPYgNAf0/CulUWZ1lC8ACMza7bh8UwNQw6acLmw1AZr3q6Kq38T8lGlBO7swCwI9gEr6npPI/xrIXArUAvz+I46WFM+WNv4/Dtdr3qui/8o/X12uP8z8XHg6oPxL9P7zGWwZP2RBA7qOjKHaF4j+3hVWI8vDDP3AucAYNkfq/6gh8ozaQ4b/5ADEQLL7qP2Bs5GgnRP6/00taaUOw6j92juli6sT5P0VPo2qdBAvAahRcVewCF0ARO1CjMzwAQKkZy6bXPQJAOvH9eSWU6b9FVa72keXyv2DErda7pf4//BoOAcgrAEB0du8HYuviv0UFmZ4qu6E/kYmPoPSVAsBwD0M7QBvGP/KnycorfwZA5P4uUwtMEEBUYMTMm97zvzX0fH0qVATAntOwvN2w7T/XPzGo2RUDwMi74DM/oP+/CpY71m675785TjerpmrjP4fCCgCozdk/vLiHXg4K3b+zL6aJCb4GwJsyi2VX4tI/PIOX7lc6A0BktZ4BwIgAQKMVK1ieGAVAI0TDAM7e4z8yepQOunzrv/59Ufg40em/c1P6E6Nk3z++Er1qmGX+v0zbiUir3AbA",
          "dtype": "f8"
         },
         "y": {
          "bdata": "kIyj8uNwpj9eX1QoXUTjv7SYU4cgJ9m/8JVVXgjx+z9+s4s/VxC+P3gcOfSOavu/bYWgrbPI4b/2aHV59Mz/v1GrjleCXei/RhErfblS17/rufy4PBrmvyewFdFAE+M/dFJIC1le7r8hqjP29Zfgv+2MCvP3TOI/r8SOBVc05D86d6LI0G7lP56Zu97BONc/rYus915K6D+aYsyFl6m8v4ugICTkhfC/icBaRvP02j+KLmoTbTYBwCtDH6V8pMI/pIt6mTgoST9YQapzlOaMv+NyIRwoZ9+/9z37jV5Z6z/UI76eEUuVP7z1dBzc4/u/kmVV7WeZ1D8OjLzQh0/UP7E2m1i6zvM/NCLtGS388L8bKrRiFMLyv9/jfY59g/y/Y147aeBU0z/mOBqYlrDwP/gI8pLt2wFAxYy/u/z99b+xeN3NVojyPxY9j9xk0+u/4WDdzFI/Sb8opOY4X8nYP3xLv5bnOuy/aGFZqjxu7L/8kb0VeN7wv0b33hIojOm/KooWXTQm47+nIsShH3QDQJ25B7qDIuO/XnsEXN8Y8D/TSfqujMTwP+GW8DCMb/G/LaJrN89h/r/VFcrOgejXP0yM1NPowsY/UzzO4/iP4b/5wPXBpOD0v3TFTAVCSNk/QrsqtLS7/L8Gk/TlMbfdvwiM/EhUaeS/cTjjCLla5z9HP2/TOMfGv2/48Mv+SPU/8/JAbi4K+j8mDetFX/DzP4CkscWrJeS/2unMG4DV4L9uNYcSxW3lv6naHFQcaPS/4ldMZ4g80b/4Z5peK/36P+xTfSFB4/C/Fo9u7p6g/L826Ju4CCHMvw+HXPK1oQPA7MTZW7Sj4D/ee+rQa8LEv0q1Y/cXHcu/gMcbgHU+0D+VIDzXM27IPy1+P/ylfvQ/e0R2vtgq4T8+SLoJhVLAP7DEB0a0aNK/2BF9IRmJ/j+nr9V+SQvuPz7QX/BGQd0/DmGC6rSN5j8Dv8294H0TQJxLrjMFTdU/NMe2L0H7xz/0m6VPw+X5PzL0EZqDqO8/jLDOvDIu4D8jyiN2LuISQGLOJRSAlvY/BQ2E8Lrp2D+ESILg1HGLv6yEpCWWvr0/W0TcMPM55T/pHO/RzofTv7NvgoN7wNO/MjE8534u6z9+eMSPV2r5v5J7owsrTO4/4K0JQYBu6L97fo2nPR20P5zMgH/eiPm/EsVvmQq17D9qrr2bsj3UP5FHBYBfm/a/UbYpAhOv4j8xUPqrfSTdv4uM5BVsMvE/UsCX6sqS1j8VPB5PAzDxv1ma+zYP5bm/2+s7qT205b+2RzUL9tv3v0YR/CFHKbG/OAexxSx+5L/+KY+vki/wv+bapLeKU/G/IENG5+W2sL8SFdxdWny4v0UbqvOS5KM/1yPs9lfq7L94NFNEBicHQNok22tUYNO/NoHBD+W9GkCGoHewvhfwP8UBPSmfisM/txldP13h8z+8UY1wmFTjv8WTu7kJK9u/C37kVsre/L+PzGUXyKnsv2hxNAIDL5m/4BvSGXyG57/CMqeirr65v2iGPkqzpu2/iHpDhrq63L83mOzHrwugv9Ny02QRuc6/BN0uz6m06j/+QwaRcyryv2rntq/V4Os/Engins3bvb+IqHIAcDbEP2LJDlweafa/xK06OG+O9D8znPgSWaTZv6Ap9jetALa/SbMpVjup8z9bqZz5t8/4v8R91qxahwjAlsxPG5UO979DV+4ejb3jv6xDw0BwOuM/rx1/1hdB9j+w39MEvcKov094CoQ8Z94/",
          "dtype": "f8"
         },
         "z": {
          "bdata": "0jlK9yuX5b/IRO8f/4PVv8JpTsY6zvM/aouR6YX59z/bXrUeKVzQv0tc8NrLs+8/8eczKxudzT+D6/qVDGPWP7NeCmU4Jtu/6htrmeCx7D8ArclKUmvcvxlR8NjZRu8/YuvAwYKB4T/UT01hjuPkv5kkNeboUtw/ibqLgG8W5L8VVRKsRTPWvyPqN0MhytC/NP/K1fwj1r+LvRBVIUjZP37gPnNz9/e/0iqQyciC4r+Gc5H+1kaqv8J2c848xAhAmfX8PTkR4L/hCnfO3Arav0y0w48o9PO/ksCIZxsy4r+bCj9GnWnUv1Ib13U6CM+/x6jxzne71r9JViZiiSzTv5SI/vTnAb2/4FLMfcCMyj8zeydwqj3dP5a74ggvv8W/Firm4Ijy1b+VmC7m8YSZP+lOE2DnbfY/aNf4VY0F6L+rJKGWua3Qv7ko7ZjAVdi/gBzi46Wm0D/Fq+zUsFjiv80mT/AB08q/9s6hd5xEab9o+gDWhNHMvzwfKt0gteM/fHWQ1Otu4r+lMqRqbSz8P/HeOZkYveo/aVQprsDbx799F+3hwIHRv543MbLRwVo/d1kXJPnf4b8GsrHJDub4P3ULdG2Bxti/08n4AqOH7r+4RgObMSnhv2DVf9ImL9s/SRB3nT5Y4r/LKnz0bpfev7GazG6NttO/KibMYj2J2T/gQ6rq4XDyv1zCxH7JCeK/k5Nb5xST978zHwivVovhv84dYQlSBcg/Bs+kR5YR3z+cjN29g1n2P7VAY/Z6c/E/Gi35GIXfzz8gIWjisDfiv47Ch5qNyMM/63/OaqaTxL8CKykucEDUP33yAZnX7rC/Hc3LWE/g4r8TvlNZ7034P53aBf2CSM+/A2pSi07vAsD/xBSt1rYFQLA5iVPVd+C/72GSfOfmuz87fYCHHMngvxKmqUoJceS/aLEUaD17BMCJRcT1BjQDwOp3Np+Wl/c/FFA24OS83b9DPY8aAZTsP5Zt08pc/8s//L5O62Kgxb/Aixywn5jbP3C1NhN2xda/d++runFDzb8mXXgCSX30v7ZKd6VsF+Y/uoXMXPzZ27+3XzseQokFwNtqncf6R/m/Qke5fWO4/T89fWf/cMrxv5UDCA9G8dG/PtSJy71I0b+PxcXSTx7xP2Ofok40wOi/1gMaEBgX2z+TBUXXTp3lv96XTV52scG/sYWnaZi64r/jHC1oB0cZQLnV9KW2dfE/HbxWqhMWAUCvIKYPMrLwP6PBLb0bmeu/X9ETpL0Mt7+k91n0WMnbP+ndFVcJN9I/zstZVlO50r/QyL0ddUHrv8lLqs/SWw5A+o9iCPwIuD9cBEeuF2LyP5/tDyT9N/a/fwlJcL/s5L9R5eec9Un/P9tvkcOHL+C/K5CMrb1r77+042Qzp9fivwUOMV2OzfO//s48rAoU1T/kmmX9oVLtv+2AbkE12Om/HDQDOByz9L/XHS26K/nkvxHpkZtZecQ/qbVphLMT0b8+PjU8SI78P8WOmTmdjLK/7R164Twc6j8HAfct43mRPyb4rBLk53U/sRrvAaK+wb/DbBdLaB/Dv/AGkp5ALai/R7+EyXEd0D/pFjXMjPTgP++rYRRE6fO/41mEA3xz3L8ezVumAzvSvxIJXyj9ztI/DzhSLH9L4D/SZC2SAe7jv5xg1m47t7m/Aif3gIQA/T/IVQSPlr7Av0XkEnQuM/e/MLAtib7xxb/VsUb4LcvkP2zEUz4DY9y/9RDjAWqJ1b9ZvZGzC1fyP5vUd532pM8/",
          "dtype": "f8"
         }
        }
       ],
       "layout": {
        "coloraxis": {
         "colorbar": {
          "title": {
           "text": "grupo"
          }
         },
         "colorscale": [
          [
           0,
           "#0d0887"
          ],
          [
           0.1111111111111111,
           "#46039f"
          ],
          [
           0.2222222222222222,
           "#7201a8"
          ],
          [
           0.3333333333333333,
           "#9c179e"
          ],
          [
           0.4444444444444444,
           "#bd3786"
          ],
          [
           0.5555555555555556,
           "#d8576b"
          ],
          [
           0.6666666666666666,
           "#ed7953"
          ],
          [
           0.7777777777777778,
           "#fb9f3a"
          ],
          [
           0.8888888888888888,
           "#fdca26"
          ],
          [
           1,
           "#f0f921"
          ]
         ]
        },
        "legend": {
         "tracegroupgap": 0
        },
        "scene": {
         "domain": {
          "x": [
           0,
           1
          ],
          "y": [
           0,
           1
          ]
         },
         "xaxis": {
          "title": {
           "text": "Desenvolvimento Socioeconômico"
          }
         },
         "yaxis": {
          "title": {
           "text": "Abertura Econômica"
          }
         },
         "zaxis": {
          "title": {
           "text": "Inflação vs Saúde Pública"
          }
         }
        },
        "template": {
         "data": {
          "bar": [
           {
            "error_x": {
             "color": "#2a3f5f"
            },
            "error_y": {
             "color": "#2a3f5f"
            },
            "marker": {
             "line": {
              "color": "#E5ECF6",
              "width": 0.5
             },
             "pattern": {
              "fillmode": "overlay",
              "size": 10,
              "solidity": 0.2
             }
            },
            "type": "bar"
           }
          ],
          "barpolar": [
           {
            "marker": {
             "line": {
              "color": "#E5ECF6",
              "width": 0.5
             },
             "pattern": {
              "fillmode": "overlay",
              "size": 10,
              "solidity": 0.2
             }
            },
            "type": "barpolar"
           }
          ],
          "carpet": [
           {
            "aaxis": {
             "endlinecolor": "#2a3f5f",
             "gridcolor": "white",
             "linecolor": "white",
             "minorgridcolor": "white",
             "startlinecolor": "#2a3f5f"
            },
            "baxis": {
             "endlinecolor": "#2a3f5f",
             "gridcolor": "white",
             "linecolor": "white",
             "minorgridcolor": "white",
             "startlinecolor": "#2a3f5f"
            },
            "type": "carpet"
           }
          ],
          "choropleth": [
           {
            "colorbar": {
             "outlinewidth": 0,
             "ticks": ""
            },
            "type": "choropleth"
           }
          ],
          "contour": [
           {
            "colorbar": {
             "outlinewidth": 0,
             "ticks": ""
            },
            "colorscale": [
             [
              0,
              "#0d0887"
             ],
             [
              0.1111111111111111,
              "#46039f"
             ],
             [
              0.2222222222222222,
              "#7201a8"
             ],
             [
              0.3333333333333333,
              "#9c179e"
             ],
             [
              0.4444444444444444,
              "#bd3786"
             ],
             [
              0.5555555555555556,
              "#d8576b"
             ],
             [
              0.6666666666666666,
              "#ed7953"
             ],
             [
              0.7777777777777778,
              "#fb9f3a"
             ],
             [
              0.8888888888888888,
              "#fdca26"
             ],
             [
              1,
              "#f0f921"
             ]
            ],
            "type": "contour"
           }
          ],
          "contourcarpet": [
           {
            "colorbar": {
             "outlinewidth": 0,
             "ticks": ""
            },
            "type": "contourcarpet"
           }
          ],
          "heatmap": [
           {
            "colorbar": {
             "outlinewidth": 0,
             "ticks": ""
            },
            "colorscale": [
             [
              0,
              "#0d0887"
             ],
             [
              0.1111111111111111,
              "#46039f"
             ],
             [
              0.2222222222222222,
              "#7201a8"
             ],
             [
              0.3333333333333333,
              "#9c179e"
             ],
             [
              0.4444444444444444,
              "#bd3786"
             ],
             [
              0.5555555555555556,
              "#d8576b"
             ],
             [
              0.6666666666666666,
              "#ed7953"
             ],
             [
              0.7777777777777778,
              "#fb9f3a"
             ],
             [
              0.8888888888888888,
              "#fdca26"
             ],
             [
              1,
              "#f0f921"
             ]
            ],
            "type": "heatmap"
           }
          ],
          "histogram": [
           {
            "marker": {
             "pattern": {
              "fillmode": "overlay",
              "size": 10,
              "solidity": 0.2
             }
            },
            "type": "histogram"
           }
          ],
          "histogram2d": [
           {
            "colorbar": {
             "outlinewidth": 0,
             "ticks": ""
            },
            "colorscale": [
             [
              0,
              "#0d0887"
             ],
             [
              0.1111111111111111,
              "#46039f"
             ],
             [
              0.2222222222222222,
              "#7201a8"
             ],
             [
              0.3333333333333333,
              "#9c179e"
             ],
             [
              0.4444444444444444,
              "#bd3786"
             ],
             [
              0.5555555555555556,
              "#d8576b"
             ],
             [
              0.6666666666666666,
              "#ed7953"
             ],
             [
              0.7777777777777778,
              "#fb9f3a"
             ],
             [
              0.8888888888888888,
              "#fdca26"
             ],
             [
              1,
              "#f0f921"
             ]
            ],
            "type": "histogram2d"
           }
          ],
          "histogram2dcontour": [
           {
            "colorbar": {
             "outlinewidth": 0,
             "ticks": ""
            },
            "colorscale": [
             [
              0,
              "#0d0887"
             ],
             [
              0.1111111111111111,
              "#46039f"
             ],
             [
              0.2222222222222222,
              "#7201a8"
             ],
             [
              0.3333333333333333,
              "#9c179e"
             ],
             [
              0.4444444444444444,
              "#bd3786"
             ],
             [
              0.5555555555555556,
              "#d8576b"
             ],
             [
              0.6666666666666666,
              "#ed7953"
             ],
             [
              0.7777777777777778,
              "#fb9f3a"
             ],
             [
              0.8888888888888888,
              "#fdca26"
             ],
             [
              1,
              "#f0f921"
             ]
            ],
            "type": "histogram2dcontour"
           }
          ],
          "mesh3d": [
           {
            "colorbar": {
             "outlinewidth": 0,
             "ticks": ""
            },
            "type": "mesh3d"
           }
          ],
          "parcoords": [
           {
            "line": {
             "colorbar": {
              "outlinewidth": 0,
              "ticks": ""
             }
            },
            "type": "parcoords"
           }
          ],
          "pie": [
           {
            "automargin": true,
            "type": "pie"
           }
          ],
          "scatter": [
           {
            "fillpattern": {
             "fillmode": "overlay",
             "size": 10,
             "solidity": 0.2
            },
            "type": "scatter"
           }
          ],
          "scatter3d": [
           {
            "line": {
             "colorbar": {
              "outlinewidth": 0,
              "ticks": ""
             }
            },
            "marker": {
             "colorbar": {
              "outlinewidth": 0,
              "ticks": ""
             }
            },
            "type": "scatter3d"
           }
          ],
          "scattercarpet": [
           {
            "marker": {
             "colorbar": {
              "outlinewidth": 0,
              "ticks": ""
             }
            },
            "type": "scattercarpet"
           }
          ],
          "scattergeo": [
           {
            "marker": {
             "colorbar": {
              "outlinewidth": 0,
              "ticks": ""
             }
            },
            "type": "scattergeo"
           }
          ],
          "scattergl": [
           {
            "marker": {
             "colorbar": {
              "outlinewidth": 0,
              "ticks": ""
             }
            },
            "type": "scattergl"
           }
          ],
          "scattermap": [
           {
            "marker": {
             "colorbar": {
              "outlinewidth": 0,
              "ticks": ""
             }
            },
            "type": "scattermap"
           }
          ],
          "scattermapbox": [
           {
            "marker": {
             "colorbar": {
              "outlinewidth": 0,
              "ticks": ""
             }
            },
            "type": "scattermapbox"
           }
          ],
          "scatterpolar": [
           {
            "marker": {
             "colorbar": {
              "outlinewidth": 0,
              "ticks": ""
             }
            },
            "type": "scatterpolar"
           }
          ],
          "scatterpolargl": [
           {
            "marker": {
             "colorbar": {
              "outlinewidth": 0,
              "ticks": ""
             }
            },
            "type": "scatterpolargl"
           }
          ],
          "scatterternary": [
           {
            "marker": {
             "colorbar": {
              "outlinewidth": 0,
              "ticks": ""
             }
            },
            "type": "scatterternary"
           }
          ],
          "surface": [
           {
            "colorbar": {
             "outlinewidth": 0,
             "ticks": ""
            },
            "colorscale": [
             [
              0,
              "#0d0887"
             ],
             [
              0.1111111111111111,
              "#46039f"
             ],
             [
              0.2222222222222222,
              "#7201a8"
             ],
             [
              0.3333333333333333,
              "#9c179e"
             ],
             [
              0.4444444444444444,
              "#bd3786"
             ],
             [
              0.5555555555555556,
              "#d8576b"
             ],
             [
              0.6666666666666666,
              "#ed7953"
             ],
             [
              0.7777777777777778,
              "#fb9f3a"
             ],
             [
              0.8888888888888888,
              "#fdca26"
             ],
             [
              1,
              "#f0f921"
             ]
            ],
            "type": "surface"
           }
          ],
          "table": [
           {
            "cells": {
             "fill": {
              "color": "#EBF0F8"
             },
             "line": {
              "color": "white"
             }
            },
            "header": {
             "fill": {
              "color": "#C8D4E3"
             },
             "line": {
              "color": "white"
             }
            },
            "type": "table"
           }
          ]
         },
         "layout": {
          "annotationdefaults": {
           "arrowcolor": "#2a3f5f",
           "arrowhead": 0,
           "arrowwidth": 1
          },
          "autotypenumbers": "strict",
          "coloraxis": {
           "colorbar": {
            "outlinewidth": 0,
            "ticks": ""
           }
          },
          "colorscale": {
           "diverging": [
            [
             0,
             "#8e0152"
            ],
            [
             0.1,
             "#c51b7d"
            ],
            [
             0.2,
             "#de77ae"
            ],
            [
             0.3,
             "#f1b6da"
            ],
            [
             0.4,
             "#fde0ef"
            ],
            [
             0.5,
             "#f7f7f7"
            ],
            [
             0.6,
             "#e6f5d0"
            ],
            [
             0.7,
             "#b8e186"
            ],
            [
             0.8,
             "#7fbc41"
            ],
            [
             0.9,
             "#4d9221"
            ],
            [
             1,
             "#276419"
            ]
           ],
           "sequential": [
            [
             0,
             "#0d0887"
            ],
            [
             0.1111111111111111,
             "#46039f"
            ],
            [
             0.2222222222222222,
             "#7201a8"
            ],
            [
             0.3333333333333333,
             "#9c179e"
            ],
            [
             0.4444444444444444,
             "#bd3786"
            ],
            [
             0.5555555555555556,
             "#d8576b"
            ],
            [
             0.6666666666666666,
             "#ed7953"
            ],
            [
             0.7777777777777778,
             "#fb9f3a"
            ],
            [
             0.8888888888888888,
             "#fdca26"
            ],
            [
             1,
             "#f0f921"
            ]
           ],
           "sequentialminus": [
            [
             0,
             "#0d0887"
            ],
            [
             0.1111111111111111,
             "#46039f"
            ],
            [
             0.2222222222222222,
             "#7201a8"
            ],
            [
             0.3333333333333333,
             "#9c179e"
            ],
            [
             0.4444444444444444,
             "#bd3786"
            ],
            [
             0.5555555555555556,
             "#d8576b"
            ],
            [
             0.6666666666666666,
             "#ed7953"
            ],
            [
             0.7777777777777778,
             "#fb9f3a"
            ],
            [
             0.8888888888888888,
             "#fdca26"
            ],
            [
             1,
             "#f0f921"
            ]
           ]
          },
          "colorway": [
           "#636efa",
           "#EF553B",
           "#00cc96",
           "#ab63fa",
           "#FFA15A",
           "#19d3f3",
           "#FF6692",
           "#B6E880",
           "#FF97FF",
           "#FECB52"
          ],
          "font": {
           "color": "#2a3f5f"
          },
          "geo": {
           "bgcolor": "white",
           "lakecolor": "white",
           "landcolor": "#E5ECF6",
           "showlakes": true,
           "showland": true,
           "subunitcolor": "white"
          },
          "hoverlabel": {
           "align": "left"
          },
          "hovermode": "closest",
          "mapbox": {
           "style": "light"
          },
          "paper_bgcolor": "white",
          "plot_bgcolor": "#E5ECF6",
          "polar": {
           "angularaxis": {
            "gridcolor": "white",
            "linecolor": "white",
            "ticks": ""
           },
           "bgcolor": "#E5ECF6",
           "radialaxis": {
            "gridcolor": "white",
            "linecolor": "white",
            "ticks": ""
           }
          },
          "scene": {
           "xaxis": {
            "backgroundcolor": "#E5ECF6",
            "gridcolor": "white",
            "gridwidth": 2,
            "linecolor": "white",
            "showbackground": true,
            "ticks": "",
            "zerolinecolor": "white"
           },
           "yaxis": {
            "backgroundcolor": "#E5ECF6",
            "gridcolor": "white",
            "gridwidth": 2,
            "linecolor": "white",
            "showbackground": true,
            "ticks": "",
            "zerolinecolor": "white"
           },
           "zaxis": {
            "backgroundcolor": "#E5ECF6",
            "gridcolor": "white",
            "gridwidth": 2,
            "linecolor": "white",
            "showbackground": true,
            "ticks": "",
            "zerolinecolor": "white"
           }
          },
          "shapedefaults": {
           "line": {
            "color": "#2a3f5f"
           }
          },
          "ternary": {
           "aaxis": {
            "gridcolor": "white",
            "linecolor": "white",
            "ticks": ""
           },
           "baxis": {
            "gridcolor": "white",
            "linecolor": "white",
            "ticks": ""
           },
           "bgcolor": "#E5ECF6",
           "caxis": {
            "gridcolor": "white",
            "linecolor": "white",
            "ticks": ""
           }
          },
          "title": {
           "x": 0.05
          },
          "xaxis": {
           "automargin": true,
           "gridcolor": "white",
           "linecolor": "white",
           "ticks": "",
           "title": {
            "standoff": 15
           },
           "zerolinecolor": "white",
           "zerolinewidth": 2
          },
          "yaxis": {
           "automargin": true,
           "gridcolor": "white",
           "linecolor": "white",
           "ticks": "",
           "title": {
            "standoff": 15
           },
           "zerolinecolor": "white",
           "zerolinewidth": 2
          }
         }
        },
        "title": {
         "text": "Distribuição dos Países nos Componentes Principais (PCA)"
        }
       }
      }
     },
     "metadata": {},
     "output_type": "display_data"
    }
   ],
   "source": [
    "# Dataset com componentes + país + grupo (ex: continente ou categoria socioeconômica)\n",
    "from sklearn.cluster import KMeans\n",
    "\n",
    "# Copiar o Dataframe com os componentes principais para plotagem\n",
    "df_pca_plot = df_countries.copy()\n",
    "# Clustering nos componentes\n",
    "kmeans = KMeans(n_clusters=3, random_state=42)\n",
    "df_pca_plot['grupo'] = kmeans.fit_predict(df_pca_plot[['PC1', 'PC2', 'PC3']])\n",
    "\n",
    "df_pca_plot['país'] = df_countries['country']  # Substituir com a coluna real de nomes\n",
    "fig = px.scatter_3d(\n",
    "    df_pca_plot,\n",
    "    x='PC1', y='PC2', z='PC3',\n",
    "    color='grupo',\n",
    "    hover_name='país',\n",
    "    title=\"Distribuição dos Países nos Componentes Principais (PCA)\",\n",
    "    labels={\n",
    "        'PC1': 'Desenvolvimento Socioeconômico',\n",
    "        'PC2': 'Abertura Econômica',\n",
    "        'PC3': 'Inflação vs Saúde Pública'\n",
    "    }\n",
    ")\n",
    "\n",
    "fig.show()\n"
   ]
  },
  {
   "cell_type": "markdown",
   "metadata": {},
   "source": [
    "## Visualização Tridimensional\n",
    "\n",
    "Geramos um gráfico 3D interativo usando os três principais componentes. Esse gráfico permite identificar agrupamentos de países com perfis semelhantes, facilitando a análise comparativa e a identificação de oportunidades de mercado.\n"
   ]
  },
  {
   "cell_type": "code",
   "execution_count": 67,
   "metadata": {},
   "outputs": [
    {
     "name": "stdout",
     "output_type": "stream",
     "text": [
      "            país       PC1\n",
      "91    Luxembourg  6.873712\n",
      "132    Singapore  5.752855\n",
      "122        Qatar  4.212216\n",
      "144  Switzerland  4.074262\n",
      "113       Norway  3.700706\n",
      "73       Ireland  3.660844\n",
      "97         Malta  3.660656\n",
      "109  Netherlands  3.368642\n",
      "15       Belgium  3.133165\n",
      "44       Denmark  2.999463\n"
     ]
    }
   ],
   "source": [
    "# Ordena países do maior para o menor em PC1\n",
    "top_paises = df_pca_plot.sort_values(by='PC1', ascending=False).head(10)\n",
    "print(top_paises[['país', 'PC1']])\n"
   ]
  },
  {
   "cell_type": "code",
   "execution_count": 68,
   "metadata": {},
   "outputs": [
    {
     "name": "stderr",
     "output_type": "stream",
     "text": [
      "C:\\Users\\Carolina\\AppData\\Local\\Temp\\ipykernel_2752\\182053485.py:3: FutureWarning:\n",
      "\n",
      "\n",
      "\n",
      "Passing `palette` without assigning `hue` is deprecated and will be removed in v0.14.0. Assign the `y` variable to `hue` and set `legend=False` for the same effect.\n",
      "\n",
      "\n"
     ]
    },
    {
     "data": {
      "image/png": "[encoded data removed]",
      "text/plain": [
       "<Figure size 1000x600 with 1 Axes>"
      ]
     },
     "metadata": {},
     "output_type": "display_data"
    }
   ],
   "source": [
    "# Criando Plot com os 10 países com maior PC1\n",
    "plt.figure(figsize=(10, 6))\n",
    "sns.barplot(data=top_paises, y='país', x='PC1', palette='viridis')\n",
    "plt.title(\"Top 10 Países por Desenvolvimento Socioeconômico (PC1)\")\n",
    "plt.xlabel(\"Score no Componente PC1\")\n",
    "plt.ylabel(\"País\")\n",
    "plt.tight_layout()\n",
    "plt.show()\n"
   ]
  },
  {
   "cell_type": "markdown",
   "metadata": {},
   "source": [
    "## Conclusão e Recomendação Estratégica\n",
    "\n",
    "A análise por PCA revelou padrões estruturais entre os países analisados. O PC1 se destacou como um eixo claro de desenvolvimento socioeconômico, o que permite orientar decisões de negócio com base em dados objetivos.\n",
    "\n",
    "A recomendação é iniciar a expansão internacional priorizando os países com maior score no PC1, pois apresentam maior potencial de retorno e menor risco de operação.\n",
    "\n",
    "Esta análise pode ser complementada futuramente com dados de consumo específicos do setor alimentício para refinar ainda mais as decisões.\n"
   ]
  },
  {
   "cell_type": "markdown",
   "metadata": {},
   "source": [
    "## Próximos Passos e Considerações Estratégicas\n",
    "\n",
    "A análise por PCA permitiu uma primeira triagem de países com base em fatores macroeconômicos estruturais, uma etapa essencial para reduzir riscos iniciais em uma estratégia de expansão global.\n",
    "\n",
    "Entretanto, para uma recomendação de implantação ainda mais robusta, recomenda-se aprofundar a análise com dados complementares diretamente ligados ao mercado de atuação da rede, como:\n",
    "\n",
    "- **Consumo per capita de fast-food** ou produtos similares\n",
    "- **Perfil demográfico urbano/rural** da população\n",
    "- **Poder de compra local e comportamento do consumidor**\n",
    "- **Presença e força de concorrentes diretos** em cada país\n",
    "- **Indicadores de logística, infraestrutura e custo operacional**\n",
    "\n",
    "Essa segunda camada de análise, mais específica e voltada ao comportamento de consumo, pode ser integrada por meio de fontes como Euromonitor, Nielsen, dados governamentais, ou APIs de inteligência de mercado.\n",
    "\n",
    "Essa abordagem combinada entre análise estrutural (via PCA) e análise de mercado (via dados setoriais) cria um modelo decisório de alto valor estratégico para a diretoria, unindo clareza visual com foco em resultado real.\n",
    "\n",
    "---\n"
   ]
  },
  {
   "cell_type": "markdown",
   "metadata": {},
   "source": []
  }
 ],
 "metadata": {
  "kernelspec": {
   "display_name": "ROCKETSEAT-znLm4meT",
   "language": "python",
   "name": "python3"
  },
  "language_info": {
   "codemirror_mode": {
    "name": "ipython",
    "version": 3
   },
   "file_extension": ".py",
   "mimetype": "text/x-python",
   "name": "python",
   "nbconvert_exporter": "python",
   "pygments_lexer": "ipython3",
   "version": "3.12.4"
  }
 },
 "nbformat": 4,
 "nbformat_minor": 2
}
