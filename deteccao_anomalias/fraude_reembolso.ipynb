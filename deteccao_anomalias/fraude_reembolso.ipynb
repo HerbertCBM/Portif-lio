{
 "cells": [
  {
   "cell_type": "code",
   "execution_count": 1,
   "id": "7b2860dd",
   "metadata": {},
   "outputs": [],
   "source": [
    "# Manipulação e Análise dos dados\n",
    "import pandas as pd\n",
    "import numpy as np\n",
    "\n",
    "# Visualização de dados\n",
    "import matplotlib.pyplot as plt\n",
    "import seaborn as sns\n",
    "\n",
    "# Pré-processamento e Machine Learning\n",
    "from sklearn.preprocessing import StandardScaler, OneHotEncoder\n",
    "from sklearn.ensemble import IsolationForest\n",
    "from sklearn.pipeline import Pipeline\n",
    "from sklearn.compose import ColumnTransformer\n",
    "\n",
    "# Avaliação de Metricas e Visualização de Outliers\n",
    "from sklearn.metrics import classification_report, r2_score, root_mean_squared_error, f1_score\n",
    "import plotly.express as px"
   ]
  },
  {
   "cell_type": "markdown",
   "id": "b078af4c",
   "metadata": {},
   "source": [
    "### Perguntas que queremos responder\n",
    "\n",
    "- Como os dados estão distribuídos?\n",
    "- Existem valores fora do padrão já visíveis?\n",
    "- Quais vairáveis podem ajudar o modelo a detectar anomalias?"
   ]
  },
  {
   "cell_type": "markdown",
   "id": "1424a959",
   "metadata": {},
   "source": [
    "#### Pensamento Analítico\n",
    "- Antes de detectar o incomum, preciso entender o que é comum\n",
    "\n",
    "\" Avaliar estatísticas básicas ajuda a definir o que é \"normal\" \"\n",
    "\n",
    "\" Outliers muitas vezes podem ser percebidos só olhando a dispersão dos dados \"\n",
    "\n",
    "\" Categorias como \"Outros\" ou valores muitos altos podem esconder padrões de fraude ou exceções \" \n",
    "\n",
    "---\n",
    "#### Ações que vamos fazer:\n",
    "1. Carregar o dataset\n",
    "\n",
    "2. Ver primeiras linhas e tipos de dados\n",
    "\n",
    "3. Feature Engineering & Data Cleaning\n",
    "\n",
    "4. Análise estatística das variáveis numéricas (valor)\n",
    "\n",
    "5. Distribuição de reembolsos por categoria\n",
    "\n",
    "6. Distribuição de reembolsos por funcionário\n",
    "\n",
    "7. Análise visual com gráficos\n",
    "\n",
    "---\n",
    "#### Resultado esperado:\n",
    "- Identificar padrões esperados (ex: alimentação = valores menores)\n",
    "\n",
    "- Levantar hipóteses: “Por que esse funcionário tem mais reembolsos?”, “Essa categoria costuma ter valores muito acima?”\n",
    "\n",
    "- Pensar em features úteis para o modelo: valor, categoria, frequência, etc.\n",
    "\n"
   ]
  },
  {
   "cell_type": "markdown",
   "id": "393e72c2",
   "metadata": {},
   "source": [
    "### Carregar Dados"
   ]
  },
  {
   "cell_type": "markdown",
   "id": "55343f8b",
   "metadata": {},
   "source": [
    "- Como os dados estão estruturados?\n",
    "\n",
    "- Vamos observar as primeira linhas para entender o formato do dataset, valores possíveis e o que pode ser ruído"
   ]
  },
  {
   "cell_type": "code",
   "execution_count": 2,
   "id": "d91308cc",
   "metadata": {},
   "outputs": [
    {
     "name": "stderr",
     "output_type": "stream",
     "text": [
      "<>:2: SyntaxWarning: invalid escape sequence '\\d'\n",
      "<>:2: SyntaxWarning: invalid escape sequence '\\d'\n",
      "C:\\Users\\Carolina\\AppData\\Local\\Temp\\ipykernel_14040\\2106397421.py:2: SyntaxWarning: invalid escape sequence '\\d'\n",
      "  df_reembolso = pd.read_csv('.\\datasets\\dados_reembolsos.csv')\n"
     ]
    }
   ],
   "source": [
    "# Carregar DataSet\n",
    "df_reembolso = pd.read_csv('.\\datasets\\dados_reembolsos.csv')"
   ]
  },
  {
   "cell_type": "code",
   "execution_count": 3,
   "id": "ca3ba49e",
   "metadata": {},
   "outputs": [
    {
     "name": "stdout",
     "output_type": "stream",
     "text": [
      "<class 'pandas.core.frame.DataFrame'>\n",
      "RangeIndex: 1000 entries, 0 to 999\n",
      "Data columns (total 5 columns):\n",
      " #   Column          Non-Null Count  Dtype  \n",
      "---  ------          --------------  -----  \n",
      " 0   id_funcionario  1000 non-null   int64  \n",
      " 1   data_reembolso  1000 non-null   object \n",
      " 2   categoria       1000 non-null   object \n",
      " 3   valor           1000 non-null   float64\n",
      " 4   descricao       1000 non-null   object \n",
      "dtypes: float64(1), int64(1), object(3)\n",
      "memory usage: 39.2+ KB\n"
     ]
    }
   ],
   "source": [
    "df_reembolso.info()"
   ]
  },
  {
   "cell_type": "markdown",
   "id": "a4fd53ae",
   "metadata": {},
   "source": [
    "- Não temos dados ausentes, então não é necessário aplicar um Data Cleaning\n",
    "\n",
    "- Temos 2 variáveis numéricas e 3 variáveis categóricas\n",
    "\n",
    "- O Dataset é composto por __5 Colunas e 1000 Linhas__"
   ]
  },
  {
   "cell_type": "code",
   "execution_count": 8,
   "id": "35bdd4bc",
   "metadata": {},
   "outputs": [
    {
     "data": {
      "text/html": [
       "<div>\n",
       "<style scoped>\n",
       "    .dataframe tbody tr th:only-of-type {\n",
       "        vertical-align: middle;\n",
       "    }\n",
       "\n",
       "    .dataframe tbody tr th {\n",
       "        vertical-align: top;\n",
       "    }\n",
       "\n",
       "    .dataframe thead th {\n",
       "        text-align: right;\n",
       "    }\n",
       "</style>\n",
       "<table border=\"1\" class=\"dataframe\">\n",
       "  <thead>\n",
       "    <tr style=\"text-align: right;\">\n",
       "      <th></th>\n",
       "      <th>id_funcionario</th>\n",
       "      <th>data_reembolso</th>\n",
       "      <th>categoria</th>\n",
       "      <th>valor</th>\n",
       "      <th>descricao</th>\n",
       "    </tr>\n",
       "  </thead>\n",
       "  <tbody>\n",
       "    <tr>\n",
       "      <th>0</th>\n",
       "      <td>1061</td>\n",
       "      <td>2024-12-20</td>\n",
       "      <td>Transporte</td>\n",
       "      <td>23.69</td>\n",
       "      <td>Reembolso de combustível</td>\n",
       "    </tr>\n",
       "    <tr>\n",
       "      <th>1</th>\n",
       "      <td>1088</td>\n",
       "      <td>2024-11-12</td>\n",
       "      <td>Educação</td>\n",
       "      <td>213.96</td>\n",
       "      <td>Inscrição em conferência da área</td>\n",
       "    </tr>\n",
       "    <tr>\n",
       "      <th>2</th>\n",
       "      <td>1027</td>\n",
       "      <td>2024-11-14</td>\n",
       "      <td>Outros</td>\n",
       "      <td>137.96</td>\n",
       "      <td>Compra emergencial durante viagem</td>\n",
       "    </tr>\n",
       "    <tr>\n",
       "      <th>3</th>\n",
       "      <td>1067</td>\n",
       "      <td>2024-10-31</td>\n",
       "      <td>Transporte</td>\n",
       "      <td>175.51</td>\n",
       "      <td>Reembolso de combustível</td>\n",
       "    </tr>\n",
       "    <tr>\n",
       "      <th>4</th>\n",
       "      <td>1097</td>\n",
       "      <td>2024-12-30</td>\n",
       "      <td>Educação</td>\n",
       "      <td>355.66</td>\n",
       "      <td>Treinamento obrigatório da empresa</td>\n",
       "    </tr>\n",
       "    <tr>\n",
       "      <th>5</th>\n",
       "      <td>1098</td>\n",
       "      <td>2025-01-31</td>\n",
       "      <td>Alimentação</td>\n",
       "      <td>39.94</td>\n",
       "      <td>Almoço com cliente em restaurante local</td>\n",
       "    </tr>\n",
       "    <tr>\n",
       "      <th>6</th>\n",
       "      <td>1088</td>\n",
       "      <td>2024-10-17</td>\n",
       "      <td>Educação</td>\n",
       "      <td>348.60</td>\n",
       "      <td>Inscrição em conferência da área</td>\n",
       "    </tr>\n",
       "    <tr>\n",
       "      <th>7</th>\n",
       "      <td>1024</td>\n",
       "      <td>2024-10-14</td>\n",
       "      <td>Transporte</td>\n",
       "      <td>38.11</td>\n",
       "      <td>Estacionamento em local de reunião</td>\n",
       "    </tr>\n",
       "    <tr>\n",
       "      <th>8</th>\n",
       "      <td>1098</td>\n",
       "      <td>2024-12-28</td>\n",
       "      <td>Outros</td>\n",
       "      <td>362.40</td>\n",
       "      <td>Compra de material de escritório</td>\n",
       "    </tr>\n",
       "    <tr>\n",
       "      <th>9</th>\n",
       "      <td>1091</td>\n",
       "      <td>2025-02-18</td>\n",
       "      <td>Hotel</td>\n",
       "      <td>505.78</td>\n",
       "      <td>Reembolso de hospedagem em congresso</td>\n",
       "    </tr>\n",
       "  </tbody>\n",
       "</table>\n",
       "</div>"
      ],
      "text/plain": [
       "   id_funcionario data_reembolso    categoria   valor  \\\n",
       "0            1061     2024-12-20   Transporte   23.69   \n",
       "1            1088     2024-11-12     Educação  213.96   \n",
       "2            1027     2024-11-14       Outros  137.96   \n",
       "3            1067     2024-10-31   Transporte  175.51   \n",
       "4            1097     2024-12-30     Educação  355.66   \n",
       "5            1098     2025-01-31  Alimentação   39.94   \n",
       "6            1088     2024-10-17     Educação  348.60   \n",
       "7            1024     2024-10-14   Transporte   38.11   \n",
       "8            1098     2024-12-28       Outros  362.40   \n",
       "9            1091     2025-02-18        Hotel  505.78   \n",
       "\n",
       "                                 descricao  \n",
       "0                 Reembolso de combustível  \n",
       "1         Inscrição em conferência da área  \n",
       "2        Compra emergencial durante viagem  \n",
       "3                 Reembolso de combustível  \n",
       "4       Treinamento obrigatório da empresa  \n",
       "5  Almoço com cliente em restaurante local  \n",
       "6         Inscrição em conferência da área  \n",
       "7       Estacionamento em local de reunião  \n",
       "8         Compra de material de escritório  \n",
       "9     Reembolso de hospedagem em congresso  "
      ]
     },
     "execution_count": 8,
     "metadata": {},
     "output_type": "execute_result"
    }
   ],
   "source": [
    "# Observar estrutura e Valores\n",
    "df_reembolso.head(10)"
   ]
  },
  {
   "cell_type": "markdown",
   "id": "4577ddbe",
   "metadata": {},
   "source": [
    "### Feature Engineering"
   ]
  },
  {
   "cell_type": "code",
   "execution_count": null,
   "id": "08f39cb1",
   "metadata": {},
   "outputs": [],
   "source": [
    "# Mostrar e remover (se houver) colunas categoricas que possuem somente um valor possível\n",
    "for column in df_reembolso.select_dtypes(include=['object']).columns:\n",
    "    if df_reembolso[column].nunique() == 1:\n",
    "        print(f'{column} tem soment um valor posssivel: {df_reembolso[column].unique()}')\n"
   ]
  },
  {
   "cell_type": "code",
   "execution_count": 9,
   "id": "1b82c553",
   "metadata": {},
   "outputs": [
    {
     "name": "stdout",
     "output_type": "stream",
     "text": [
      "data_reembolso Possui o valores de ['2024-12-20' '2024-11-12' '2024-11-14' '2024-10-31' '2024-12-30'\n",
      " '2025-01-31' '2024-10-17' '2024-10-14' '2024-12-28' '2025-02-18'\n",
      " '2025-02-07' '2025-01-08' '2024-11-27' '2025-03-08' '2025-03-20'\n",
      " '2025-02-11' '2024-12-05' '2024-12-18' '2024-11-09' '2025-03-30'\n",
      " '2025-03-21' '2024-11-05' '2024-11-29' '2024-11-23' '2025-04-14'\n",
      " '2025-04-05' '2025-02-06' '2024-11-07' '2024-12-01' '2025-04-13'\n",
      " '2025-03-27' '2024-11-21' '2024-10-15' '2025-04-10' '2025-01-30'\n",
      " '2025-04-06' '2025-03-01' '2024-12-07' '2024-12-03' '2025-03-29'\n",
      " '2025-03-16' '2025-01-01' '2025-02-16' '2025-01-25' '2025-03-05'\n",
      " '2024-10-16' '2025-02-27' '2025-02-12' '2025-02-23' '2024-12-02'\n",
      " '2025-01-24' '2025-02-28' '2025-03-07' '2025-04-01' '2024-12-12'\n",
      " '2025-04-12' '2025-02-09' '2025-04-09' '2025-04-11' '2024-12-25'\n",
      " '2025-02-04' '2024-11-06' '2025-01-20' '2025-02-05' '2025-02-25'\n",
      " '2024-12-31' '2025-02-02' '2024-11-08' '2024-10-21' '2025-02-22'\n",
      " '2025-04-02' '2025-02-14' '2025-01-22' '2025-01-03' '2024-12-06'\n",
      " '2025-01-29' '2024-10-28' '2024-11-30' '2024-11-19' '2025-03-13'\n",
      " '2025-03-28' '2025-01-28' '2024-11-10' '2024-10-18' '2024-12-09'\n",
      " '2024-12-21' '2024-12-24' '2025-01-10' '2025-03-03' '2025-01-19'\n",
      " '2024-12-08' '2025-02-08' '2024-12-14' '2024-11-13' '2024-11-28'\n",
      " '2025-02-03' '2025-03-25' '2025-03-02' '2025-03-09' '2024-12-16'\n",
      " '2024-12-11' '2024-11-15' '2024-11-25' '2025-03-15' '2024-12-19'\n",
      " '2024-12-15' '2025-01-16' '2024-10-26' '2025-01-13' '2024-12-29'\n",
      " '2025-02-01' '2024-12-10' '2025-04-03' '2025-02-10' '2025-03-24'\n",
      " '2025-04-08' '2024-11-18' '2024-10-25' '2025-03-06' '2025-02-19'\n",
      " '2025-02-17' '2024-12-26' '2024-12-13' '2025-01-02' '2025-03-18'\n",
      " '2024-11-17' '2024-11-03' '2024-12-04' '2025-01-27' '2025-04-07'\n",
      " '2024-11-20' '2024-10-24' '2025-01-04' '2025-02-13' '2025-01-14'\n",
      " '2025-03-04' '2025-01-05' '2024-11-24' '2024-11-04' '2025-03-26'\n",
      " '2025-01-07' '2025-01-17' '2025-03-11' '2024-10-20' '2024-12-22'\n",
      " '2024-11-01' '2024-12-17' '2024-11-11' '2025-03-14' '2025-01-26'\n",
      " '2024-11-02' '2024-10-23' '2024-10-19' '2025-01-11' '2025-03-19'\n",
      " '2024-10-27' '2024-10-29' '2025-04-04' '2025-03-10' '2024-10-30'\n",
      " '2024-11-22' '2025-03-31' '2025-02-20' '2025-02-21' '2024-12-23'\n",
      " '2024-10-22' '2025-02-24' '2025-01-18' '2024-11-16' '2024-12-27'\n",
      " '2025-03-12' '2025-03-17' '2025-01-12' '2025-02-15' '2024-11-26'\n",
      " '2025-03-22' '2025-01-15' '2025-01-09' '2025-02-26' '2025-01-21'\n",
      " '2025-01-06' '2025-03-23' '2025-01-23']\n",
      "categoria Possui o valores de ['Transporte' 'Educação' 'Outros' 'Alimentação' 'Hotel']\n",
      "descricao Possui o valores de ['Reembolso de combustível' 'Inscrição em conferência da área'\n",
      " 'Compra emergencial durante viagem' 'Treinamento obrigatório da empresa'\n",
      " 'Almoço com cliente em restaurante local'\n",
      " 'Estacionamento em local de reunião' 'Compra de material de escritório'\n",
      " 'Reembolso de hospedagem em congresso' 'Workshop de capacitação'\n",
      " 'Serviços de impressão para apresentação'\n",
      " 'Hospedagem em viagem a trabalho' 'Diária de hotel em missão comercial'\n",
      " 'Café da manhã durante evento corporativo'\n",
      " 'Reembolso de brindes para cliente' 'Jantar em viagem de negócios'\n",
      " 'Táxi do aeroporto ao hotel' 'Estadia para evento corporativo'\n",
      " 'Aluguel de carro para deslocamento profissional'\n",
      " 'Compra de lanche em aeroporto'\n",
      " 'Corrida de aplicativo para reunião externa'\n",
      " 'Diária em hotel durante treinamento' 'Compra de livro técnico'\n",
      " 'Refeição após reunião externa'\n",
      " 'Curso online de atualização profissional'\n",
      " 'Assinatura de software temporário']\n"
     ]
    }
   ],
   "source": [
    "# Mostrar os valores possíveis das colunas catagóricas\n",
    "for column in df_reembolso.select_dtypes(include=['object']).columns:\n",
    "    print(f'{column} Possui o valores de {df_reembolso[column].unique()}')"
   ]
  },
  {
   "cell_type": "markdown",
   "id": "d86b8175",
   "metadata": {},
   "source": [
    "#### Estatística Descritiva"
   ]
  },
  {
   "cell_type": "code",
   "execution_count": 6,
   "id": "b5d71eab",
   "metadata": {},
   "outputs": [
    {
     "data": {
      "text/html": [
       "<div>\n",
       "<style scoped>\n",
       "    .dataframe tbody tr th:only-of-type {\n",
       "        vertical-align: middle;\n",
       "    }\n",
       "\n",
       "    .dataframe tbody tr th {\n",
       "        vertical-align: top;\n",
       "    }\n",
       "\n",
       "    .dataframe thead th {\n",
       "        text-align: right;\n",
       "    }\n",
       "</style>\n",
       "<table border=\"1\" class=\"dataframe\">\n",
       "  <thead>\n",
       "    <tr style=\"text-align: right;\">\n",
       "      <th></th>\n",
       "      <th>id_funcionario</th>\n",
       "      <th>valor</th>\n",
       "    </tr>\n",
       "  </thead>\n",
       "  <tbody>\n",
       "    <tr>\n",
       "      <th>count</th>\n",
       "      <td>1000.000000</td>\n",
       "      <td>1000.000000</td>\n",
       "    </tr>\n",
       "    <tr>\n",
       "      <th>mean</th>\n",
       "      <td>1053.399000</td>\n",
       "      <td>253.495100</td>\n",
       "    </tr>\n",
       "    <tr>\n",
       "      <th>std</th>\n",
       "      <td>28.770498</td>\n",
       "      <td>217.906168</td>\n",
       "    </tr>\n",
       "    <tr>\n",
       "      <th>min</th>\n",
       "      <td>1000.000000</td>\n",
       "      <td>10.000000</td>\n",
       "    </tr>\n",
       "    <tr>\n",
       "      <th>25%</th>\n",
       "      <td>1028.000000</td>\n",
       "      <td>84.275000</td>\n",
       "    </tr>\n",
       "    <tr>\n",
       "      <th>50%</th>\n",
       "      <td>1049.000000</td>\n",
       "      <td>175.000000</td>\n",
       "    </tr>\n",
       "    <tr>\n",
       "      <th>75%</th>\n",
       "      <td>1081.000000</td>\n",
       "      <td>373.320000</td>\n",
       "    </tr>\n",
       "    <tr>\n",
       "      <th>max</th>\n",
       "      <td>1098.000000</td>\n",
       "      <td>1102.310000</td>\n",
       "    </tr>\n",
       "  </tbody>\n",
       "</table>\n",
       "</div>"
      ],
      "text/plain": [
       "       id_funcionario        valor\n",
       "count     1000.000000  1000.000000\n",
       "mean      1053.399000   253.495100\n",
       "std         28.770498   217.906168\n",
       "min       1000.000000    10.000000\n",
       "25%       1028.000000    84.275000\n",
       "50%       1049.000000   175.000000\n",
       "75%       1081.000000   373.320000\n",
       "max       1098.000000  1102.310000"
      ]
     },
     "execution_count": 6,
     "metadata": {},
     "output_type": "execute_result"
    }
   ],
   "source": [
    "df_reembolso.describe()"
   ]
  },
  {
   "cell_type": "markdown",
   "id": "29a253bd",
   "metadata": {},
   "source": [
    "- Ao observar a Estatística descritivas, notamos que o desvio padrão da variável \"valor\" está bem alto, um valor bem próximo a média dessa variável. Isso indica que provavelmente temos alguns Outliers para identificar \n",
    "\n",
    "---\n",
    "- Como esta a distribuição das categorias?"
   ]
  },
  {
   "cell_type": "code",
   "execution_count": null,
   "id": "f6664d96",
   "metadata": {},
   "outputs": [
    {
     "data": {
      "application/vnd.plotly.v1+json": {
       "config": {
        "plotlyServerURL": "https://plot.ly"
       },
       "data": [
        {
         "bingroup": "x",
         "hovertemplate": "variable=categoria<br>value=%{x}<br>count=%{y}<extra></extra>",
         "legendgroup": "categoria",
         "marker": {
          "color": "#636efa",
          "pattern": {
           "shape": ""
          }
         },
         "name": "categoria",
         "orientation": "v",
         "showlegend": true,
         "type": "histogram",
         "x": [
          "Transporte",
          "Educação",
          "Outros",
          "Transporte",
          "Educação",
          "Alimentação",
          "Educação",
          "Transporte",
          "Outros",
          "Hotel",
          "Educação",
          "Outros",
          "Hotel",
          "Hotel",
          "Alimentação",
          "Educação",
          "Outros",
          "Alimentação",
          "Transporte",
          "Alimentação",
          "Educação",
          "Transporte",
          "Hotel",
          "Alimentação",
          "Outros",
          "Transporte",
          "Hotel",
          "Alimentação",
          "Transporte",
          "Alimentação",
          "Alimentação",
          "Transporte",
          "Transporte",
          "Alimentação",
          "Transporte",
          "Hotel",
          "Educação",
          "Hotel",
          "Transporte",
          "Educação",
          "Hotel",
          "Outros",
          "Transporte",
          "Educação",
          "Hotel",
          "Alimentação",
          "Outros",
          "Outros",
          "Transporte",
          "Educação",
          "Alimentação",
          "Hotel",
          "Alimentação",
          "Alimentação",
          "Transporte",
          "Hotel",
          "Alimentação",
          "Educação",
          "Educação",
          "Hotel",
          "Alimentação",
          "Transporte",
          "Alimentação",
          "Alimentação",
          "Alimentação",
          "Transporte",
          "Alimentação",
          "Hotel",
          "Educação",
          "Transporte",
          "Transporte",
          "Hotel",
          "Educação",
          "Outros",
          "Hotel",
          "Alimentação",
          "Outros",
          "Transporte",
          "Alimentação",
          "Hotel",
          "Transporte",
          "Transporte",
          "Hotel",
          "Alimentação",
          "Educação",
          "Hotel",
          "Outros",
          "Hotel",
          "Transporte",
          "Hotel",
          "Hotel",
          "Outros",
          "Alimentação",
          "Hotel",
          "Outros",
          "Alimentação",
          "Educação",
          "Educação",
          "Educação",
          "Educação",
          "Outros",
          "Outros",
          "Educação",
          "Transporte",
          "Alimentação",
          "Educação",
          "Transporte",
          "Hotel",
          "Educação",
          "Outros",
          "Outros",
          "Outros",
          "Educação",
          "Transporte",
          "Outros",
          "Alimentação",
          "Alimentação",
          "Hotel",
          "Educação",
          "Outros",
          "Transporte",
          "Transporte",
          "Educação",
          "Hotel",
          "Educação",
          "Alimentação",
          "Hotel",
          "Alimentação",
          "Hotel",
          "Hotel",
          "Educação",
          "Alimentação",
          "Transporte",
          "Educação",
          "Alimentação",
          "Alimentação",
          "Outros",
          "Outros",
          "Transporte",
          "Alimentação",
          "Educação",
          "Transporte",
          "Educação",
          "Alimentação",
          "Hotel",
          "Educação",
          "Outros",
          "Hotel",
          "Alimentação",
          "Educação",
          "Outros",
          "Transporte",
          "Educação",
          "Alimentação",
          "Transporte",
          "Transporte",
          "Hotel",
          "Educação",
          "Hotel",
          "Hotel",
          "Educação",
          "Alimentação",
          "Hotel",
          "Outros",
          "Hotel",
          "Alimentação",
          "Hotel",
          "Hotel",
          "Outros",
          "Outros",
          "Hotel",
          "Alimentação",
          "Hotel",
          "Educação",
          "Outros",
          "Transporte",
          "Educação",
          "Hotel",
          "Outros",
          "Alimentação",
          "Hotel",
          "Transporte",
          "Alimentação",
          "Transporte",
          "Hotel",
          "Outros",
          "Alimentação",
          "Outros",
          "Alimentação",
          "Outros",
          "Educação",
          "Educação",
          "Transporte",
          "Educação",
          "Transporte",
          "Transporte",
          "Hotel",
          "Alimentação",
          "Hotel",
          "Transporte",
          "Transporte",
          "Alimentação",
          "Educação",
          "Educação",
          "Alimentação",
          "Transporte",
          "Hotel",
          "Alimentação",
          "Transporte",
          "Hotel",
          "Alimentação",
          "Outros",
          "Alimentação",
          "Hotel",
          "Outros",
          "Hotel",
          "Transporte",
          "Hotel",
          "Educação",
          "Transporte",
          "Alimentação",
          "Transporte",
          "Alimentação",
          "Hotel",
          "Alimentação",
          "Alimentação",
          "Alimentação",
          "Educação",
          "Hotel",
          "Transporte",
          "Alimentação",
          "Alimentação",
          "Outros",
          "Transporte",
          "Outros",
          "Hotel",
          "Educação",
          "Transporte",
          "Transporte",
          "Educação",
          "Alimentação",
          "Transporte",
          "Transporte",
          "Alimentação",
          "Educação",
          "Outros",
          "Alimentação",
          "Transporte",
          "Hotel",
          "Alimentação",
          "Hotel",
          "Hotel",
          "Alimentação",
          "Alimentação",
          "Transporte",
          "Educação",
          "Alimentação",
          "Transporte",
          "Educação",
          "Educação",
          "Transporte",
          "Alimentação",
          "Educação",
          "Outros",
          "Outros",
          "Hotel",
          "Transporte",
          "Alimentação",
          "Alimentação",
          "Hotel",
          "Outros",
          "Outros",
          "Hotel",
          "Outros",
          "Transporte",
          "Educação",
          "Outros",
          "Transporte",
          "Educação",
          "Educação",
          "Hotel",
          "Outros",
          "Educação",
          "Alimentação",
          "Outros",
          "Educação",
          "Alimentação",
          "Alimentação",
          "Educação",
          "Outros",
          "Outros",
          "Hotel",
          "Transporte",
          "Hotel",
          "Educação",
          "Outros",
          "Hotel",
          "Alimentação",
          "Hotel",
          "Hotel",
          "Hotel",
          "Transporte",
          "Educação",
          "Outros",
          "Alimentação",
          "Educação",
          "Hotel",
          "Educação",
          "Outros",
          "Educação",
          "Outros",
          "Educação",
          "Alimentação",
          "Outros",
          "Transporte",
          "Transporte",
          "Outros",
          "Outros",
          "Outros",
          "Educação",
          "Educação",
          "Educação",
          "Outros",
          "Outros",
          "Outros",
          "Transporte",
          "Hotel",
          "Transporte",
          "Outros",
          "Alimentação",
          "Educação",
          "Educação",
          "Educação",
          "Alimentação",
          "Transporte",
          "Alimentação",
          "Transporte",
          "Hotel",
          "Hotel",
          "Outros",
          "Educação",
          "Outros",
          "Outros",
          "Outros",
          "Alimentação",
          "Educação",
          "Alimentação",
          "Hotel",
          "Educação",
          "Hotel",
          "Outros",
          "Transporte",
          "Transporte",
          "Transporte",
          "Educação",
          "Hotel",
          "Transporte",
          "Hotel",
          "Educação",
          "Transporte",
          "Alimentação",
          "Hotel",
          "Outros",
          "Hotel",
          "Transporte",
          "Outros",
          "Outros",
          "Alimentação",
          "Transporte",
          "Hotel",
          "Outros",
          "Outros",
          "Hotel",
          "Outros",
          "Alimentação",
          "Alimentação",
          "Outros",
          "Outros",
          "Outros",
          "Alimentação",
          "Transporte",
          "Alimentação",
          "Outros",
          "Alimentação",
          "Transporte",
          "Transporte",
          "Educação",
          "Transporte",
          "Hotel",
          "Alimentação",
          "Hotel",
          "Outros",
          "Educação",
          "Educação",
          "Alimentação",
          "Alimentação",
          "Outros",
          "Outros",
          "Alimentação",
          "Alimentação",
          "Hotel",
          "Hotel",
          "Educação",
          "Transporte",
          "Transporte",
          "Hotel",
          "Hotel",
          "Outros",
          "Alimentação",
          "Outros",
          "Outros",
          "Transporte",
          "Educação",
          "Transporte",
          "Outros",
          "Alimentação",
          "Outros",
          "Outros",
          "Outros",
          "Alimentação",
          "Transporte",
          "Hotel",
          "Transporte",
          "Outros",
          "Hotel",
          "Hotel",
          "Hotel",
          "Outros",
          "Hotel",
          "Alimentação",
          "Transporte",
          "Hotel",
          "Hotel",
          "Educação",
          "Hotel",
          "Alimentação",
          "Outros",
          "Transporte",
          "Hotel",
          "Alimentação",
          "Alimentação",
          "Educação",
          "Alimentação",
          "Outros",
          "Transporte",
          "Transporte",
          "Hotel",
          "Outros",
          "Educação",
          "Alimentação",
          "Transporte",
          "Educação",
          "Outros",
          "Transporte",
          "Alimentação",
          "Educação",
          "Hotel",
          "Alimentação",
          "Hotel",
          "Educação",
          "Hotel",
          "Outros",
          "Hotel",
          "Outros",
          "Educação",
          "Alimentação",
          "Educação",
          "Educação",
          "Educação",
          "Alimentação",
          "Educação",
          "Alimentação",
          "Hotel",
          "Transporte",
          "Outros",
          "Transporte",
          "Alimentação",
          "Educação",
          "Outros",
          "Educação",
          "Alimentação",
          "Outros",
          "Outros",
          "Transporte",
          "Hotel",
          "Educação",
          "Alimentação",
          "Transporte",
          "Educação",
          "Transporte",
          "Transporte",
          "Transporte",
          "Outros",
          "Hotel",
          "Outros",
          "Educação",
          "Alimentação",
          "Outros",
          "Educação",
          "Alimentação",
          "Outros",
          "Outros",
          "Alimentação",
          "Transporte",
          "Alimentação",
          "Educação",
          "Outros",
          "Educação",
          "Outros",
          "Educação",
          "Educação",
          "Hotel",
          "Educação",
          "Alimentação",
          "Outros",
          "Alimentação",
          "Transporte",
          "Hotel",
          "Educação",
          "Hotel",
          "Outros",
          "Hotel",
          "Transporte",
          "Outros",
          "Hotel",
          "Educação",
          "Outros",
          "Educação",
          "Alimentação",
          "Transporte",
          "Outros",
          "Outros",
          "Alimentação",
          "Alimentação",
          "Educação",
          "Alimentação",
          "Transporte",
          "Outros",
          "Educação",
          "Outros",
          "Outros",
          "Transporte",
          "Alimentação",
          "Outros",
          "Alimentação",
          "Outros",
          "Transporte",
          "Transporte",
          "Alimentação",
          "Educação",
          "Educação",
          "Transporte",
          "Alimentação",
          "Hotel",
          "Hotel",
          "Transporte",
          "Educação",
          "Alimentação",
          "Educação",
          "Outros",
          "Hotel",
          "Outros",
          "Outros",
          "Educação",
          "Educação",
          "Hotel",
          "Educação",
          "Educação",
          "Alimentação",
          "Transporte",
          "Educação",
          "Outros",
          "Hotel",
          "Alimentação",
          "Hotel",
          "Transporte",
          "Hotel",
          "Hotel",
          "Transporte",
          "Transporte",
          "Transporte",
          "Transporte",
          "Outros",
          "Alimentação",
          "Educação",
          "Outros",
          "Hotel",
          "Educação",
          "Educação",
          "Outros",
          "Transporte",
          "Alimentação",
          "Educação",
          "Outros",
          "Transporte",
          "Outros",
          "Alimentação",
          "Transporte",
          "Alimentação",
          "Outros",
          "Outros",
          "Hotel",
          "Hotel",
          "Educação",
          "Educação",
          "Educação",
          "Transporte",
          "Outros",
          "Hotel",
          "Educação",
          "Transporte",
          "Alimentação",
          "Educação",
          "Outros",
          "Hotel",
          "Hotel",
          "Alimentação",
          "Transporte",
          "Hotel",
          "Alimentação",
          "Hotel",
          "Hotel",
          "Hotel",
          "Educação",
          "Outros",
          "Outros",
          "Hotel",
          "Outros",
          "Educação",
          "Outros",
          "Transporte",
          "Hotel",
          "Outros",
          "Alimentação",
          "Hotel",
          "Hotel",
          "Hotel",
          "Educação",
          "Hotel",
          "Educação",
          "Transporte",
          "Transporte",
          "Alimentação",
          "Educação",
          "Alimentação",
          "Alimentação",
          "Educação",
          "Alimentação",
          "Outros",
          "Educação",
          "Transporte",
          "Transporte",
          "Transporte",
          "Hotel",
          "Educação",
          "Outros",
          "Outros",
          "Outros",
          "Outros",
          "Outros",
          "Educação",
          "Alimentação",
          "Hotel",
          "Transporte",
          "Alimentação",
          "Transporte",
          "Educação",
          "Educação",
          "Alimentação",
          "Outros",
          "Outros",
          "Educação",
          "Educação",
          "Educação",
          "Hotel",
          "Transporte",
          "Outros",
          "Outros",
          "Transporte",
          "Transporte",
          "Educação",
          "Hotel",
          "Transporte",
          "Transporte",
          "Alimentação",
          "Hotel",
          "Educação",
          "Alimentação",
          "Educação",
          "Educação",
          "Hotel",
          "Alimentação",
          "Transporte",
          "Educação",
          "Educação",
          "Hotel",
          "Alimentação",
          "Educação",
          "Alimentação",
          "Alimentação",
          "Transporte",
          "Hotel",
          "Alimentação",
          "Alimentação",
          "Hotel",
          "Alimentação",
          "Transporte",
          "Alimentação",
          "Outros",
          "Transporte",
          "Outros",
          "Outros",
          "Alimentação",
          "Educação",
          "Outros",
          "Alimentação",
          "Transporte",
          "Transporte",
          "Hotel",
          "Hotel",
          "Transporte",
          "Educação",
          "Transporte",
          "Educação",
          "Hotel",
          "Educação",
          "Transporte",
          "Hotel",
          "Outros",
          "Alimentação",
          "Educação",
          "Outros",
          "Alimentação",
          "Transporte",
          "Hotel",
          "Hotel",
          "Outros",
          "Outros",
          "Outros",
          "Hotel",
          "Hotel",
          "Outros",
          "Transporte",
          "Transporte",
          "Transporte",
          "Outros",
          "Educação",
          "Outros",
          "Hotel",
          "Alimentação",
          "Educação",
          "Alimentação",
          "Educação",
          "Alimentação",
          "Outros",
          "Alimentação",
          "Transporte",
          "Alimentação",
          "Educação",
          "Outros",
          "Transporte",
          "Outros",
          "Alimentação",
          "Educação",
          "Transporte",
          "Educação",
          "Transporte",
          "Educação",
          "Outros",
          "Educação",
          "Hotel",
          "Outros",
          "Educação",
          "Hotel",
          "Educação",
          "Alimentação",
          "Alimentação",
          "Hotel",
          "Transporte",
          "Alimentação",
          "Outros",
          "Outros",
          "Alimentação",
          "Transporte",
          "Hotel",
          "Transporte",
          "Alimentação",
          "Outros",
          "Alimentação",
          "Transporte",
          "Outros",
          "Hotel",
          "Outros",
          "Alimentação",
          "Educação",
          "Transporte",
          "Educação",
          "Outros",
          "Outros",
          "Hotel",
          "Transporte",
          "Educação",
          "Outros",
          "Alimentação",
          "Hotel",
          "Transporte",
          "Educação",
          "Alimentação",
          "Hotel",
          "Outros",
          "Transporte",
          "Outros",
          "Educação",
          "Outros",
          "Outros",
          "Alimentação",
          "Educação",
          "Outros",
          "Educação",
          "Hotel",
          "Hotel",
          "Alimentação",
          "Hotel",
          "Outros",
          "Alimentação",
          "Hotel",
          "Alimentação",
          "Alimentação",
          "Transporte",
          "Hotel",
          "Educação",
          "Hotel",
          "Outros",
          "Outros",
          "Hotel",
          "Outros",
          "Alimentação",
          "Outros",
          "Transporte",
          "Transporte",
          "Alimentação",
          "Alimentação",
          "Hotel",
          "Alimentação",
          "Educação",
          "Outros",
          "Educação",
          "Alimentação",
          "Outros",
          "Alimentação",
          "Outros",
          "Educação",
          "Transporte",
          "Hotel",
          "Hotel",
          "Hotel",
          "Hotel",
          "Outros",
          "Transporte",
          "Transporte",
          "Educação",
          "Outros",
          "Transporte",
          "Educação",
          "Hotel",
          "Transporte",
          "Transporte",
          "Transporte",
          "Outros",
          "Transporte",
          "Hotel",
          "Outros",
          "Hotel",
          "Alimentação",
          "Educação",
          "Hotel",
          "Transporte",
          "Transporte",
          "Outros",
          "Outros",
          "Transporte",
          "Transporte",
          "Alimentação",
          "Outros",
          "Hotel",
          "Educação",
          "Transporte",
          "Alimentação",
          "Alimentação",
          "Transporte",
          "Transporte",
          "Educação",
          "Hotel",
          "Educação",
          "Alimentação",
          "Educação",
          "Outros",
          "Outros",
          "Alimentação",
          "Educação",
          "Transporte",
          "Educação",
          "Educação",
          "Alimentação",
          "Educação",
          "Hotel",
          "Educação",
          "Alimentação",
          "Educação",
          "Outros",
          "Outros",
          "Educação",
          "Educação",
          "Educação",
          "Transporte",
          "Hotel",
          "Transporte",
          "Alimentação",
          "Hotel",
          "Educação",
          "Transporte",
          "Educação",
          "Transporte",
          "Transporte",
          "Transporte",
          "Hotel",
          "Educação",
          "Transporte",
          "Transporte",
          "Hotel",
          "Educação",
          "Alimentação",
          "Transporte",
          "Educação",
          "Educação",
          "Outros",
          "Outros",
          "Outros",
          "Transporte",
          "Hotel",
          "Alimentação",
          "Hotel",
          "Alimentação",
          "Transporte",
          "Hotel",
          "Outros",
          "Transporte",
          "Outros",
          "Alimentação",
          "Hotel",
          "Educação",
          "Hotel",
          "Alimentação",
          "Outros",
          "Transporte",
          "Alimentação",
          "Outros",
          "Outros",
          "Outros",
          "Outros",
          "Hotel",
          "Outros",
          "Educação",
          "Outros",
          "Hotel",
          "Alimentação",
          "Alimentação",
          "Educação",
          "Hotel",
          "Transporte",
          "Transporte",
          "Alimentação",
          "Outros",
          "Alimentação",
          "Hotel",
          "Outros",
          "Transporte",
          "Hotel",
          "Alimentação",
          "Transporte",
          "Hotel",
          "Alimentação",
          "Outros",
          "Outros",
          "Outros",
          "Alimentação",
          "Alimentação",
          "Outros",
          "Outros",
          "Outros",
          "Hotel",
          "Alimentação",
          "Alimentação",
          "Hotel",
          "Transporte",
          "Transporte",
          "Alimentação",
          "Educação",
          "Educação",
          "Transporte"
         ],
         "xaxis": "x",
         "yaxis": "y"
        }
       ],
       "layout": {
        "barmode": "relative",
        "legend": {
         "title": {
          "text": "variable"
         },
         "tracegroupgap": 0
        },
        "template": {
         "data": {
          "bar": [
           {
            "error_x": {
             "color": "#2a3f5f"
            },
            "error_y": {
             "color": "#2a3f5f"
            },
            "marker": {
             "line": {
              "color": "#E5ECF6",
              "width": 0.5
             },
             "pattern": {
              "fillmode": "overlay",
              "size": 10,
              "solidity": 0.2
             }
            },
            "type": "bar"
           }
          ],
          "barpolar": [
           {
            "marker": {
             "line": {
              "color": "#E5ECF6",
              "width": 0.5
             },
             "pattern": {
              "fillmode": "overlay",
              "size": 10,
              "solidity": 0.2
             }
            },
            "type": "barpolar"
           }
          ],
          "carpet": [
           {
            "aaxis": {
             "endlinecolor": "#2a3f5f",
             "gridcolor": "white",
             "linecolor": "white",
             "minorgridcolor": "white",
             "startlinecolor": "#2a3f5f"
            },
            "baxis": {
             "endlinecolor": "#2a3f5f",
             "gridcolor": "white",
             "linecolor": "white",
             "minorgridcolor": "white",
             "startlinecolor": "#2a3f5f"
            },
            "type": "carpet"
           }
          ],
          "choropleth": [
           {
            "colorbar": {
             "outlinewidth": 0,
             "ticks": ""
            },
            "type": "choropleth"
           }
          ],
          "contour": [
           {
            "colorbar": {
             "outlinewidth": 0,
             "ticks": ""
            },
            "colorscale": [
             [
              0,
              "#0d0887"
             ],
             [
              0.1111111111111111,
              "#46039f"
             ],
             [
              0.2222222222222222,
              "#7201a8"
             ],
             [
              0.3333333333333333,
              "#9c179e"
             ],
             [
              0.4444444444444444,
              "#bd3786"
             ],
             [
              0.5555555555555556,
              "#d8576b"
             ],
             [
              0.6666666666666666,
              "#ed7953"
             ],
             [
              0.7777777777777778,
              "#fb9f3a"
             ],
             [
              0.8888888888888888,
              "#fdca26"
             ],
             [
              1,
              "#f0f921"
             ]
            ],
            "type": "contour"
           }
          ],
          "contourcarpet": [
           {
            "colorbar": {
             "outlinewidth": 0,
             "ticks": ""
            },
            "type": "contourcarpet"
           }
          ],
          "heatmap": [
           {
            "colorbar": {
             "outlinewidth": 0,
             "ticks": ""
            },
            "colorscale": [
             [
              0,
              "#0d0887"
             ],
             [
              0.1111111111111111,
              "#46039f"
             ],
             [
              0.2222222222222222,
              "#7201a8"
             ],
             [
              0.3333333333333333,
              "#9c179e"
             ],
             [
              0.4444444444444444,
              "#bd3786"
             ],
             [
              0.5555555555555556,
              "#d8576b"
             ],
             [
              0.6666666666666666,
              "#ed7953"
             ],
             [
              0.7777777777777778,
              "#fb9f3a"
             ],
             [
              0.8888888888888888,
              "#fdca26"
             ],
             [
              1,
              "#f0f921"
             ]
            ],
            "type": "heatmap"
           }
          ],
          "histogram": [
           {
            "marker": {
             "pattern": {
              "fillmode": "overlay",
              "size": 10,
              "solidity": 0.2
             }
            },
            "type": "histogram"
           }
          ],
          "histogram2d": [
           {
            "colorbar": {
             "outlinewidth": 0,
             "ticks": ""
            },
            "colorscale": [
             [
              0,
              "#0d0887"
             ],
             [
              0.1111111111111111,
              "#46039f"
             ],
             [
              0.2222222222222222,
              "#7201a8"
             ],
             [
              0.3333333333333333,
              "#9c179e"
             ],
             [
              0.4444444444444444,
              "#bd3786"
             ],
             [
              0.5555555555555556,
              "#d8576b"
             ],
             [
              0.6666666666666666,
              "#ed7953"
             ],
             [
              0.7777777777777778,
              "#fb9f3a"
             ],
             [
              0.8888888888888888,
              "#fdca26"
             ],
             [
              1,
              "#f0f921"
             ]
            ],
            "type": "histogram2d"
           }
          ],
          "histogram2dcontour": [
           {
            "colorbar": {
             "outlinewidth": 0,
             "ticks": ""
            },
            "colorscale": [
             [
              0,
              "#0d0887"
             ],
             [
              0.1111111111111111,
              "#46039f"
             ],
             [
              0.2222222222222222,
              "#7201a8"
             ],
             [
              0.3333333333333333,
              "#9c179e"
             ],
             [
              0.4444444444444444,
              "#bd3786"
             ],
             [
              0.5555555555555556,
              "#d8576b"
             ],
             [
              0.6666666666666666,
              "#ed7953"
             ],
             [
              0.7777777777777778,
              "#fb9f3a"
             ],
             [
              0.8888888888888888,
              "#fdca26"
             ],
             [
              1,
              "#f0f921"
             ]
            ],
            "type": "histogram2dcontour"
           }
          ],
          "mesh3d": [
           {
            "colorbar": {
             "outlinewidth": 0,
             "ticks": ""
            },
            "type": "mesh3d"
           }
          ],
          "parcoords": [
           {
            "line": {
             "colorbar": {
              "outlinewidth": 0,
              "ticks": ""
             }
            },
            "type": "parcoords"
           }
          ],
          "pie": [
           {
            "automargin": true,
            "type": "pie"
           }
          ],
          "scatter": [
           {
            "fillpattern": {
             "fillmode": "overlay",
             "size": 10,
             "solidity": 0.2
            },
            "type": "scatter"
           }
          ],
          "scatter3d": [
           {
            "line": {
             "colorbar": {
              "outlinewidth": 0,
              "ticks": ""
             }
            },
            "marker": {
             "colorbar": {
              "outlinewidth": 0,
              "ticks": ""
             }
            },
            "type": "scatter3d"
           }
          ],
          "scattercarpet": [
           {
            "marker": {
             "colorbar": {
              "outlinewidth": 0,
              "ticks": ""
             }
            },
            "type": "scattercarpet"
           }
          ],
          "scattergeo": [
           {
            "marker": {
             "colorbar": {
              "outlinewidth": 0,
              "ticks": ""
             }
            },
            "type": "scattergeo"
           }
          ],
          "scattergl": [
           {
            "marker": {
             "colorbar": {
              "outlinewidth": 0,
              "ticks": ""
             }
            },
            "type": "scattergl"
           }
          ],
          "scattermap": [
           {
            "marker": {
             "colorbar": {
              "outlinewidth": 0,
              "ticks": ""
             }
            },
            "type": "scattermap"
           }
          ],
          "scattermapbox": [
           {
            "marker": {
             "colorbar": {
              "outlinewidth": 0,
              "ticks": ""
             }
            },
            "type": "scattermapbox"
           }
          ],
          "scatterpolar": [
           {
            "marker": {
             "colorbar": {
              "outlinewidth": 0,
              "ticks": ""
             }
            },
            "type": "scatterpolar"
           }
          ],
          "scatterpolargl": [
           {
            "marker": {
             "colorbar": {
              "outlinewidth": 0,
              "ticks": ""
             }
            },
            "type": "scatterpolargl"
           }
          ],
          "scatterternary": [
           {
            "marker": {
             "colorbar": {
              "outlinewidth": 0,
              "ticks": ""
             }
            },
            "type": "scatterternary"
           }
          ],
          "surface": [
           {
            "colorbar": {
             "outlinewidth": 0,
             "ticks": ""
            },
            "colorscale": [
             [
              0,
              "#0d0887"
             ],
             [
              0.1111111111111111,
              "#46039f"
             ],
             [
              0.2222222222222222,
              "#7201a8"
             ],
             [
              0.3333333333333333,
              "#9c179e"
             ],
             [
              0.4444444444444444,
              "#bd3786"
             ],
             [
              0.5555555555555556,
              "#d8576b"
             ],
             [
              0.6666666666666666,
              "#ed7953"
             ],
             [
              0.7777777777777778,
              "#fb9f3a"
             ],
             [
              0.8888888888888888,
              "#fdca26"
             ],
             [
              1,
              "#f0f921"
             ]
            ],
            "type": "surface"
           }
          ],
          "table": [
           {
            "cells": {
             "fill": {
              "color": "#EBF0F8"
             },
             "line": {
              "color": "white"
             }
            },
            "header": {
             "fill": {
              "color": "#C8D4E3"
             },
             "line": {
              "color": "white"
             }
            },
            "type": "table"
           }
          ]
         },
         "layout": {
          "annotationdefaults": {
           "arrowcolor": "#2a3f5f",
           "arrowhead": 0,
           "arrowwidth": 1
          },
          "autotypenumbers": "strict",
          "coloraxis": {
           "colorbar": {
            "outlinewidth": 0,
            "ticks": ""
           }
          },
          "colorscale": {
           "diverging": [
            [
             0,
             "#8e0152"
            ],
            [
             0.1,
             "#c51b7d"
            ],
            [
             0.2,
             "#de77ae"
            ],
            [
             0.3,
             "#f1b6da"
            ],
            [
             0.4,
             "#fde0ef"
            ],
            [
             0.5,
             "#f7f7f7"
            ],
            [
             0.6,
             "#e6f5d0"
            ],
            [
             0.7,
             "#b8e186"
            ],
            [
             0.8,
             "#7fbc41"
            ],
            [
             0.9,
             "#4d9221"
            ],
            [
             1,
             "#276419"
            ]
           ],
           "sequential": [
            [
             0,
             "#0d0887"
            ],
            [
             0.1111111111111111,
             "#46039f"
            ],
            [
             0.2222222222222222,
             "#7201a8"
            ],
            [
             0.3333333333333333,
             "#9c179e"
            ],
            [
             0.4444444444444444,
             "#bd3786"
            ],
            [
             0.5555555555555556,
             "#d8576b"
            ],
            [
             0.6666666666666666,
             "#ed7953"
            ],
            [
             0.7777777777777778,
             "#fb9f3a"
            ],
            [
             0.8888888888888888,
             "#fdca26"
            ],
            [
             1,
             "#f0f921"
            ]
           ],
           "sequentialminus": [
            [
             0,
             "#0d0887"
            ],
            [
             0.1111111111111111,
             "#46039f"
            ],
            [
             0.2222222222222222,
             "#7201a8"
            ],
            [
             0.3333333333333333,
             "#9c179e"
            ],
            [
             0.4444444444444444,
             "#bd3786"
            ],
            [
             0.5555555555555556,
             "#d8576b"
            ],
            [
             0.6666666666666666,
             "#ed7953"
            ],
            [
             0.7777777777777778,
             "#fb9f3a"
            ],
            [
             0.8888888888888888,
             "#fdca26"
            ],
            [
             1,
             "#f0f921"
            ]
           ]
          },
          "colorway": [
           "#636efa",
           "#EF553B",
           "#00cc96",
           "#ab63fa",
           "#FFA15A",
           "#19d3f3",
           "#FF6692",
           "#B6E880",
           "#FF97FF",
           "#FECB52"
          ],
          "font": {
           "color": "#2a3f5f"
          },
          "geo": {
           "bgcolor": "white",
           "lakecolor": "white",
           "landcolor": "#E5ECF6",
           "showlakes": true,
           "showland": true,
           "subunitcolor": "white"
          },
          "hoverlabel": {
           "align": "left"
          },
          "hovermode": "closest",
          "mapbox": {
           "style": "light"
          },
          "paper_bgcolor": "white",
          "plot_bgcolor": "#E5ECF6",
          "polar": {
           "angularaxis": {
            "gridcolor": "white",
            "linecolor": "white",
            "ticks": ""
           },
           "bgcolor": "#E5ECF6",
           "radialaxis": {
            "gridcolor": "white",
            "linecolor": "white",
            "ticks": ""
           }
          },
          "scene": {
           "xaxis": {
            "backgroundcolor": "#E5ECF6",
            "gridcolor": "white",
            "gridwidth": 2,
            "linecolor": "white",
            "showbackground": true,
            "ticks": "",
            "zerolinecolor": "white"
           },
           "yaxis": {
            "backgroundcolor": "#E5ECF6",
            "gridcolor": "white",
            "gridwidth": 2,
            "linecolor": "white",
            "showbackground": true,
            "ticks": "",
            "zerolinecolor": "white"
           },
           "zaxis": {
            "backgroundcolor": "#E5ECF6",
            "gridcolor": "white",
            "gridwidth": 2,
            "linecolor": "white",
            "showbackground": true,
            "ticks": "",
            "zerolinecolor": "white"
           }
          },
          "shapedefaults": {
           "line": {
            "color": "#2a3f5f"
           }
          },
          "ternary": {
           "aaxis": {
            "gridcolor": "white",
            "linecolor": "white",
            "ticks": ""
           },
           "baxis": {
            "gridcolor": "white",
            "linecolor": "white",
            "ticks": ""
           },
           "bgcolor": "#E5ECF6",
           "caxis": {
            "gridcolor": "white",
            "linecolor": "white",
            "ticks": ""
           }
          },
          "title": {
           "x": 0.05
          },
          "xaxis": {
           "automargin": true,
           "gridcolor": "white",
           "linecolor": "white",
           "ticks": "",
           "title": {
            "standoff": 15
           },
           "zerolinecolor": "white",
           "zerolinewidth": 2
          },
          "yaxis": {
           "automargin": true,
           "gridcolor": "white",
           "linecolor": "white",
           "ticks": "",
           "title": {
            "standoff": 15
           },
           "zerolinecolor": "white",
           "zerolinewidth": 2
          }
         }
        },
        "title": {
         "text": "Quantidade de Reembolso por Categoria"
        },
        "xaxis": {
         "anchor": "y",
         "domain": [
          0,
          1
         ],
         "title": {
          "text": "value"
         }
        },
        "yaxis": {
         "anchor": "x",
         "domain": [
          0,
          1
         ],
         "title": {
          "text": "count"
         }
        }
       }
      }
     },
     "metadata": {},
     "output_type": "display_data"
    }
   ],
   "source": [
    "# Distribuição por categoria\n",
    "fig = px.histogram(df_reembolso['categoria'], title='Quantidade de Reembolso por Categoria')\n",
    "\n",
    "fig.show()"
   ]
  },
  {
   "cell_type": "markdown",
   "id": "db74af86",
   "metadata": {},
   "source": [
    "- Nota-se uma base de dados relativamaente equilibrada, não temos a necessidade de agrupar ou considerar alguma categoria como rara\n",
    "- A distribuição esta saudável, podemos aplicar OneHotEncondes sem gerar sparsidade excessiva."
   ]
  },
  {
   "cell_type": "code",
   "execution_count": 10,
   "id": "5e2f5c35",
   "metadata": {},
   "outputs": [
    {
     "data": {
      "application/vnd.plotly.v1+json": {
       "config": {
        "plotlyServerURL": "https://plot.ly"
       },
       "data": [
        {
         "bingroup": "x",
         "histfunc": "sum",
         "hovertemplate": "categoria=%{x}<br>sum of valor=%{y}<extra></extra>",
         "legendgroup": "",
         "marker": {
          "color": "#636efa",
          "pattern": {
           "shape": ""
          }
         },
         "name": "",
         "orientation": "v",
         "showlegend": false,
         "type": "histogram",
         "x": [
          "Transporte",
          "Educação",
          "Outros",
          "Transporte",
          "Educação",
          "Alimentação",
          "Educação",
          "Transporte",
          "Outros",
          "Hotel",
          "Educação",
          "Outros",
          "Hotel",
          "Hotel",
          "Alimentação",
          "Educação",
          "Outros",
          "Alimentação",
          "Transporte",
          "Alimentação",
          "Educação",
          "Transporte",
          "Hotel",
          "Alimentação",
          "Outros",
          "Transporte",
          "Hotel",
          "Alimentação",
          "Transporte",
          "Alimentação",
          "Alimentação",
          "Transporte",
          "Transporte",
          "Alimentação",
          "Transporte",
          "Hotel",
          "Educação",
          "Hotel",
          "Transporte",
          "Educação",
          "Hotel",
          "Outros",
          "Transporte",
          "Educação",
          "Hotel",
          "Alimentação",
          "Outros",
          "Outros",
          "Transporte",
          "Educação",
          "Alimentação",
          "Hotel",
          "Alimentação",
          "Alimentação",
          "Transporte",
          "Hotel",
          "Alimentação",
          "Educação",
          "Educação",
          "Hotel",
          "Alimentação",
          "Transporte",
          "Alimentação",
          "Alimentação",
          "Alimentação",
          "Transporte",
          "Alimentação",
          "Hotel",
          "Educação",
          "Transporte",
          "Transporte",
          "Hotel",
          "Educação",
          "Outros",
          "Hotel",
          "Alimentação",
          "Outros",
          "Transporte",
          "Alimentação",
          "Hotel",
          "Transporte",
          "Transporte",
          "Hotel",
          "Alimentação",
          "Educação",
          "Hotel",
          "Outros",
          "Hotel",
          "Transporte",
          "Hotel",
          "Hotel",
          "Outros",
          "Alimentação",
          "Hotel",
          "Outros",
          "Alimentação",
          "Educação",
          "Educação",
          "Educação",
          "Educação",
          "Outros",
          "Outros",
          "Educação",
          "Transporte",
          "Alimentação",
          "Educação",
          "Transporte",
          "Hotel",
          "Educação",
          "Outros",
          "Outros",
          "Outros",
          "Educação",
          "Transporte",
          "Outros",
          "Alimentação",
          "Alimentação",
          "Hotel",
          "Educação",
          "Outros",
          "Transporte",
          "Transporte",
          "Educação",
          "Hotel",
          "Educação",
          "Alimentação",
          "Hotel",
          "Alimentação",
          "Hotel",
          "Hotel",
          "Educação",
          "Alimentação",
          "Transporte",
          "Educação",
          "Alimentação",
          "Alimentação",
          "Outros",
          "Outros",
          "Transporte",
          "Alimentação",
          "Educação",
          "Transporte",
          "Educação",
          "Alimentação",
          "Hotel",
          "Educação",
          "Outros",
          "Hotel",
          "Alimentação",
          "Educação",
          "Outros",
          "Transporte",
          "Educação",
          "Alimentação",
          "Transporte",
          "Transporte",
          "Hotel",
          "Educação",
          "Hotel",
          "Hotel",
          "Educação",
          "Alimentação",
          "Hotel",
          "Outros",
          "Hotel",
          "Alimentação",
          "Hotel",
          "Hotel",
          "Outros",
          "Outros",
          "Hotel",
          "Alimentação",
          "Hotel",
          "Educação",
          "Outros",
          "Transporte",
          "Educação",
          "Hotel",
          "Outros",
          "Alimentação",
          "Hotel",
          "Transporte",
          "Alimentação",
          "Transporte",
          "Hotel",
          "Outros",
          "Alimentação",
          "Outros",
          "Alimentação",
          "Outros",
          "Educação",
          "Educação",
          "Transporte",
          "Educação",
          "Transporte",
          "Transporte",
          "Hotel",
          "Alimentação",
          "Hotel",
          "Transporte",
          "Transporte",
          "Alimentação",
          "Educação",
          "Educação",
          "Alimentação",
          "Transporte",
          "Hotel",
          "Alimentação",
          "Transporte",
          "Hotel",
          "Alimentação",
          "Outros",
          "Alimentação",
          "Hotel",
          "Outros",
          "Hotel",
          "Transporte",
          "Hotel",
          "Educação",
          "Transporte",
          "Alimentação",
          "Transporte",
          "Alimentação",
          "Hotel",
          "Alimentação",
          "Alimentação",
          "Alimentação",
          "Educação",
          "Hotel",
          "Transporte",
          "Alimentação",
          "Alimentação",
          "Outros",
          "Transporte",
          "Outros",
          "Hotel",
          "Educação",
          "Transporte",
          "Transporte",
          "Educação",
          "Alimentação",
          "Transporte",
          "Transporte",
          "Alimentação",
          "Educação",
          "Outros",
          "Alimentação",
          "Transporte",
          "Hotel",
          "Alimentação",
          "Hotel",
          "Hotel",
          "Alimentação",
          "Alimentação",
          "Transporte",
          "Educação",
          "Alimentação",
          "Transporte",
          "Educação",
          "Educação",
          "Transporte",
          "Alimentação",
          "Educação",
          "Outros",
          "Outros",
          "Hotel",
          "Transporte",
          "Alimentação",
          "Alimentação",
          "Hotel",
          "Outros",
          "Outros",
          "Hotel",
          "Outros",
          "Transporte",
          "Educação",
          "Outros",
          "Transporte",
          "Educação",
          "Educação",
          "Hotel",
          "Outros",
          "Educação",
          "Alimentação",
          "Outros",
          "Educação",
          "Alimentação",
          "Alimentação",
          "Educação",
          "Outros",
          "Outros",
          "Hotel",
          "Transporte",
          "Hotel",
          "Educação",
          "Outros",
          "Hotel",
          "Alimentação",
          "Hotel",
          "Hotel",
          "Hotel",
          "Transporte",
          "Educação",
          "Outros",
          "Alimentação",
          "Educação",
          "Hotel",
          "Educação",
          "Outros",
          "Educação",
          "Outros",
          "Educação",
          "Alimentação",
          "Outros",
          "Transporte",
          "Transporte",
          "Outros",
          "Outros",
          "Outros",
          "Educação",
          "Educação",
          "Educação",
          "Outros",
          "Outros",
          "Outros",
          "Transporte",
          "Hotel",
          "Transporte",
          "Outros",
          "Alimentação",
          "Educação",
          "Educação",
          "Educação",
          "Alimentação",
          "Transporte",
          "Alimentação",
          "Transporte",
          "Hotel",
          "Hotel",
          "Outros",
          "Educação",
          "Outros",
          "Outros",
          "Outros",
          "Alimentação",
          "Educação",
          "Alimentação",
          "Hotel",
          "Educação",
          "Hotel",
          "Outros",
          "Transporte",
          "Transporte",
          "Transporte",
          "Educação",
          "Hotel",
          "Transporte",
          "Hotel",
          "Educação",
          "Transporte",
          "Alimentação",
          "Hotel",
          "Outros",
          "Hotel",
          "Transporte",
          "Outros",
          "Outros",
          "Alimentação",
          "Transporte",
          "Hotel",
          "Outros",
          "Outros",
          "Hotel",
          "Outros",
          "Alimentação",
          "Alimentação",
          "Outros",
          "Outros",
          "Outros",
          "Alimentação",
          "Transporte",
          "Alimentação",
          "Outros",
          "Alimentação",
          "Transporte",
          "Transporte",
          "Educação",
          "Transporte",
          "Hotel",
          "Alimentação",
          "Hotel",
          "Outros",
          "Educação",
          "Educação",
          "Alimentação",
          "Alimentação",
          "Outros",
          "Outros",
          "Alimentação",
          "Alimentação",
          "Hotel",
          "Hotel",
          "Educação",
          "Transporte",
          "Transporte",
          "Hotel",
          "Hotel",
          "Outros",
          "Alimentação",
          "Outros",
          "Outros",
          "Transporte",
          "Educação",
          "Transporte",
          "Outros",
          "Alimentação",
          "Outros",
          "Outros",
          "Outros",
          "Alimentação",
          "Transporte",
          "Hotel",
          "Transporte",
          "Outros",
          "Hotel",
          "Hotel",
          "Hotel",
          "Outros",
          "Hotel",
          "Alimentação",
          "Transporte",
          "Hotel",
          "Hotel",
          "Educação",
          "Hotel",
          "Alimentação",
          "Outros",
          "Transporte",
          "Hotel",
          "Alimentação",
          "Alimentação",
          "Educação",
          "Alimentação",
          "Outros",
          "Transporte",
          "Transporte",
          "Hotel",
          "Outros",
          "Educação",
          "Alimentação",
          "Transporte",
          "Educação",
          "Outros",
          "Transporte",
          "Alimentação",
          "Educação",
          "Hotel",
          "Alimentação",
          "Hotel",
          "Educação",
          "Hotel",
          "Outros",
          "Hotel",
          "Outros",
          "Educação",
          "Alimentação",
          "Educação",
          "Educação",
          "Educação",
          "Alimentação",
          "Educação",
          "Alimentação",
          "Hotel",
          "Transporte",
          "Outros",
          "Transporte",
          "Alimentação",
          "Educação",
          "Outros",
          "Educação",
          "Alimentação",
          "Outros",
          "Outros",
          "Transporte",
          "Hotel",
          "Educação",
          "Alimentação",
          "Transporte",
          "Educação",
          "Transporte",
          "Transporte",
          "Transporte",
          "Outros",
          "Hotel",
          "Outros",
          "Educação",
          "Alimentação",
          "Outros",
          "Educação",
          "Alimentação",
          "Outros",
          "Outros",
          "Alimentação",
          "Transporte",
          "Alimentação",
          "Educação",
          "Outros",
          "Educação",
          "Outros",
          "Educação",
          "Educação",
          "Hotel",
          "Educação",
          "Alimentação",
          "Outros",
          "Alimentação",
          "Transporte",
          "Hotel",
          "Educação",
          "Hotel",
          "Outros",
          "Hotel",
          "Transporte",
          "Outros",
          "Hotel",
          "Educação",
          "Outros",
          "Educação",
          "Alimentação",
          "Transporte",
          "Outros",
          "Outros",
          "Alimentação",
          "Alimentação",
          "Educação",
          "Alimentação",
          "Transporte",
          "Outros",
          "Educação",
          "Outros",
          "Outros",
          "Transporte",
          "Alimentação",
          "Outros",
          "Alimentação",
          "Outros",
          "Transporte",
          "Transporte",
          "Alimentação",
          "Educação",
          "Educação",
          "Transporte",
          "Alimentação",
          "Hotel",
          "Hotel",
          "Transporte",
          "Educação",
          "Alimentação",
          "Educação",
          "Outros",
          "Hotel",
          "Outros",
          "Outros",
          "Educação",
          "Educação",
          "Hotel",
          "Educação",
          "Educação",
          "Alimentação",
          "Transporte",
          "Educação",
          "Outros",
          "Hotel",
          "Alimentação",
          "Hotel",
          "Transporte",
          "Hotel",
          "Hotel",
          "Transporte",
          "Transporte",
          "Transporte",
          "Transporte",
          "Outros",
          "Alimentação",
          "Educação",
          "Outros",
          "Hotel",
          "Educação",
          "Educação",
          "Outros",
          "Transporte",
          "Alimentação",
          "Educação",
          "Outros",
          "Transporte",
          "Outros",
          "Alimentação",
          "Transporte",
          "Alimentação",
          "Outros",
          "Outros",
          "Hotel",
          "Hotel",
          "Educação",
          "Educação",
          "Educação",
          "Transporte",
          "Outros",
          "Hotel",
          "Educação",
          "Transporte",
          "Alimentação",
          "Educação",
          "Outros",
          "Hotel",
          "Hotel",
          "Alimentação",
          "Transporte",
          "Hotel",
          "Alimentação",
          "Hotel",
          "Hotel",
          "Hotel",
          "Educação",
          "Outros",
          "Outros",
          "Hotel",
          "Outros",
          "Educação",
          "Outros",
          "Transporte",
          "Hotel",
          "Outros",
          "Alimentação",
          "Hotel",
          "Hotel",
          "Hotel",
          "Educação",
          "Hotel",
          "Educação",
          "Transporte",
          "Transporte",
          "Alimentação",
          "Educação",
          "Alimentação",
          "Alimentação",
          "Educação",
          "Alimentação",
          "Outros",
          "Educação",
          "Transporte",
          "Transporte",
          "Transporte",
          "Hotel",
          "Educação",
          "Outros",
          "Outros",
          "Outros",
          "Outros",
          "Outros",
          "Educação",
          "Alimentação",
          "Hotel",
          "Transporte",
          "Alimentação",
          "Transporte",
          "Educação",
          "Educação",
          "Alimentação",
          "Outros",
          "Outros",
          "Educação",
          "Educação",
          "Educação",
          "Hotel",
          "Transporte",
          "Outros",
          "Outros",
          "Transporte",
          "Transporte",
          "Educação",
          "Hotel",
          "Transporte",
          "Transporte",
          "Alimentação",
          "Hotel",
          "Educação",
          "Alimentação",
          "Educação",
          "Educação",
          "Hotel",
          "Alimentação",
          "Transporte",
          "Educação",
          "Educação",
          "Hotel",
          "Alimentação",
          "Educação",
          "Alimentação",
          "Alimentação",
          "Transporte",
          "Hotel",
          "Alimentação",
          "Alimentação",
          "Hotel",
          "Alimentação",
          "Transporte",
          "Alimentação",
          "Outros",
          "Transporte",
          "Outros",
          "Outros",
          "Alimentação",
          "Educação",
          "Outros",
          "Alimentação",
          "Transporte",
          "Transporte",
          "Hotel",
          "Hotel",
          "Transporte",
          "Educação",
          "Transporte",
          "Educação",
          "Hotel",
          "Educação",
          "Transporte",
          "Hotel",
          "Outros",
          "Alimentação",
          "Educação",
          "Outros",
          "Alimentação",
          "Transporte",
          "Hotel",
          "Hotel",
          "Outros",
          "Outros",
          "Outros",
          "Hotel",
          "Hotel",
          "Outros",
          "Transporte",
          "Transporte",
          "Transporte",
          "Outros",
          "Educação",
          "Outros",
          "Hotel",
          "Alimentação",
          "Educação",
          "Alimentação",
          "Educação",
          "Alimentação",
          "Outros",
          "Alimentação",
          "Transporte",
          "Alimentação",
          "Educação",
          "Outros",
          "Transporte",
          "Outros",
          "Alimentação",
          "Educação",
          "Transporte",
          "Educação",
          "Transporte",
          "Educação",
          "Outros",
          "Educação",
          "Hotel",
          "Outros",
          "Educação",
          "Hotel",
          "Educação",
          "Alimentação",
          "Alimentação",
          "Hotel",
          "Transporte",
          "Alimentação",
          "Outros",
          "Outros",
          "Alimentação",
          "Transporte",
          "Hotel",
          "Transporte",
          "Alimentação",
          "Outros",
          "Alimentação",
          "Transporte",
          "Outros",
          "Hotel",
          "Outros",
          "Alimentação",
          "Educação",
          "Transporte",
          "Educação",
          "Outros",
          "Outros",
          "Hotel",
          "Transporte",
          "Educação",
          "Outros",
          "Alimentação",
          "Hotel",
          "Transporte",
          "Educação",
          "Alimentação",
          "Hotel",
          "Outros",
          "Transporte",
          "Outros",
          "Educação",
          "Outros",
          "Outros",
          "Alimentação",
          "Educação",
          "Outros",
          "Educação",
          "Hotel",
          "Hotel",
          "Alimentação",
          "Hotel",
          "Outros",
          "Alimentação",
          "Hotel",
          "Alimentação",
          "Alimentação",
          "Transporte",
          "Hotel",
          "Educação",
          "Hotel",
          "Outros",
          "Outros",
          "Hotel",
          "Outros",
          "Alimentação",
          "Outros",
          "Transporte",
          "Transporte",
          "Alimentação",
          "Alimentação",
          "Hotel",
          "Alimentação",
          "Educação",
          "Outros",
          "Educação",
          "Alimentação",
          "Outros",
          "Alimentação",
          "Outros",
          "Educação",
          "Transporte",
          "Hotel",
          "Hotel",
          "Hotel",
          "Hotel",
          "Outros",
          "Transporte",
          "Transporte",
          "Educação",
          "Outros",
          "Transporte",
          "Educação",
          "Hotel",
          "Transporte",
          "Transporte",
          "Transporte",
          "Outros",
          "Transporte",
          "Hotel",
          "Outros",
          "Hotel",
          "Alimentação",
          "Educação",
          "Hotel",
          "Transporte",
          "Transporte",
          "Outros",
          "Outros",
          "Transporte",
          "Transporte",
          "Alimentação",
          "Outros",
          "Hotel",
          "Educação",
          "Transporte",
          "Alimentação",
          "Alimentação",
          "Transporte",
          "Transporte",
          "Educação",
          "Hotel",
          "Educação",
          "Alimentação",
          "Educação",
          "Outros",
          "Outros",
          "Alimentação",
          "Educação",
          "Transporte",
          "Educação",
          "Educação",
          "Alimentação",
          "Educação",
          "Hotel",
          "Educação",
          "Alimentação",
          "Educação",
          "Outros",
          "Outros",
          "Educação",
          "Educação",
          "Educação",
          "Transporte",
          "Hotel",
          "Transporte",
          "Alimentação",
          "Hotel",
          "Educação",
          "Transporte",
          "Educação",
          "Transporte",
          "Transporte",
          "Transporte",
          "Hotel",
          "Educação",
          "Transporte",
          "Transporte",
          "Hotel",
          "Educação",
          "Alimentação",
          "Transporte",
          "Educação",
          "Educação",
          "Outros",
          "Outros",
          "Outros",
          "Transporte",
          "Hotel",
          "Alimentação",
          "Hotel",
          "Alimentação",
          "Transporte",
          "Hotel",
          "Outros",
          "Transporte",
          "Outros",
          "Alimentação",
          "Hotel",
          "Educação",
          "Hotel",
          "Alimentação",
          "Outros",
          "Transporte",
          "Alimentação",
          "Outros",
          "Outros",
          "Outros",
          "Outros",
          "Hotel",
          "Outros",
          "Educação",
          "Outros",
          "Hotel",
          "Alimentação",
          "Alimentação",
          "Educação",
          "Hotel",
          "Transporte",
          "Transporte",
          "Alimentação",
          "Outros",
          "Alimentação",
          "Hotel",
          "Outros",
          "Transporte",
          "Hotel",
          "Alimentação",
          "Transporte",
          "Hotel",
          "Alimentação",
          "Outros",
          "Outros",
          "Outros",
          "Alimentação",
          "Alimentação",
          "Outros",
          "Outros",
          "Outros",
          "Hotel",
          "Alimentação",
          "Alimentação",
          "Hotel",
          "Transporte",
          "Transporte",
          "Alimentação",
          "Educação",
          "Educação",
          "Transporte"
         ],
         "xaxis": "x",
         "y": {
          "bdata": "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",
          "dtype": "f8"
         },
         "yaxis": "y"
        }
       ],
       "layout": {
        "barmode": "relative",
        "legend": {
         "tracegroupgap": 0
        },
        "template": {
         "data": {
          "bar": [
           {
            "error_x": {
             "color": "#2a3f5f"
            },
            "error_y": {
             "color": "#2a3f5f"
            },
            "marker": {
             "line": {
              "color": "#E5ECF6",
              "width": 0.5
             },
             "pattern": {
              "fillmode": "overlay",
              "size": 10,
              "solidity": 0.2
             }
            },
            "type": "bar"
           }
          ],
          "barpolar": [
           {
            "marker": {
             "line": {
              "color": "#E5ECF6",
              "width": 0.5
             },
             "pattern": {
              "fillmode": "overlay",
              "size": 10,
              "solidity": 0.2
             }
            },
            "type": "barpolar"
           }
          ],
          "carpet": [
           {
            "aaxis": {
             "endlinecolor": "#2a3f5f",
             "gridcolor": "white",
             "linecolor": "white",
             "minorgridcolor": "white",
             "startlinecolor": "#2a3f5f"
            },
            "baxis": {
             "endlinecolor": "#2a3f5f",
             "gridcolor": "white",
             "linecolor": "white",
             "minorgridcolor": "white",
             "startlinecolor": "#2a3f5f"
            },
            "type": "carpet"
           }
          ],
          "choropleth": [
           {
            "colorbar": {
             "outlinewidth": 0,
             "ticks": ""
            },
            "type": "choropleth"
           }
          ],
          "contour": [
           {
            "colorbar": {
             "outlinewidth": 0,
             "ticks": ""
            },
            "colorscale": [
             [
              0,
              "#0d0887"
             ],
             [
              0.1111111111111111,
              "#46039f"
             ],
             [
              0.2222222222222222,
              "#7201a8"
             ],
             [
              0.3333333333333333,
              "#9c179e"
             ],
             [
              0.4444444444444444,
              "#bd3786"
             ],
             [
              0.5555555555555556,
              "#d8576b"
             ],
             [
              0.6666666666666666,
              "#ed7953"
             ],
             [
              0.7777777777777778,
              "#fb9f3a"
             ],
             [
              0.8888888888888888,
              "#fdca26"
             ],
             [
              1,
              "#f0f921"
             ]
            ],
            "type": "contour"
           }
          ],
          "contourcarpet": [
           {
            "colorbar": {
             "outlinewidth": 0,
             "ticks": ""
            },
            "type": "contourcarpet"
           }
          ],
          "heatmap": [
           {
            "colorbar": {
             "outlinewidth": 0,
             "ticks": ""
            },
            "colorscale": [
             [
              0,
              "#0d0887"
             ],
             [
              0.1111111111111111,
              "#46039f"
             ],
             [
              0.2222222222222222,
              "#7201a8"
             ],
             [
              0.3333333333333333,
              "#9c179e"
             ],
             [
              0.4444444444444444,
              "#bd3786"
             ],
             [
              0.5555555555555556,
              "#d8576b"
             ],
             [
              0.6666666666666666,
              "#ed7953"
             ],
             [
              0.7777777777777778,
              "#fb9f3a"
             ],
             [
              0.8888888888888888,
              "#fdca26"
             ],
             [
              1,
              "#f0f921"
             ]
            ],
            "type": "heatmap"
           }
          ],
          "histogram": [
           {
            "marker": {
             "pattern": {
              "fillmode": "overlay",
              "size": 10,
              "solidity": 0.2
             }
            },
            "type": "histogram"
           }
          ],
          "histogram2d": [
           {
            "colorbar": {
             "outlinewidth": 0,
             "ticks": ""
            },
            "colorscale": [
             [
              0,
              "#0d0887"
             ],
             [
              0.1111111111111111,
              "#46039f"
             ],
             [
              0.2222222222222222,
              "#7201a8"
             ],
             [
              0.3333333333333333,
              "#9c179e"
             ],
             [
              0.4444444444444444,
              "#bd3786"
             ],
             [
              0.5555555555555556,
              "#d8576b"
             ],
             [
              0.6666666666666666,
              "#ed7953"
             ],
             [
              0.7777777777777778,
              "#fb9f3a"
             ],
             [
              0.8888888888888888,
              "#fdca26"
             ],
             [
              1,
              "#f0f921"
             ]
            ],
            "type": "histogram2d"
           }
          ],
          "histogram2dcontour": [
           {
            "colorbar": {
             "outlinewidth": 0,
             "ticks": ""
            },
            "colorscale": [
             [
              0,
              "#0d0887"
             ],
             [
              0.1111111111111111,
              "#46039f"
             ],
             [
              0.2222222222222222,
              "#7201a8"
             ],
             [
              0.3333333333333333,
              "#9c179e"
             ],
             [
              0.4444444444444444,
              "#bd3786"
             ],
             [
              0.5555555555555556,
              "#d8576b"
             ],
             [
              0.6666666666666666,
              "#ed7953"
             ],
             [
              0.7777777777777778,
              "#fb9f3a"
             ],
             [
              0.8888888888888888,
              "#fdca26"
             ],
             [
              1,
              "#f0f921"
             ]
            ],
            "type": "histogram2dcontour"
           }
          ],
          "mesh3d": [
           {
            "colorbar": {
             "outlinewidth": 0,
             "ticks": ""
            },
            "type": "mesh3d"
           }
          ],
          "parcoords": [
           {
            "line": {
             "colorbar": {
              "outlinewidth": 0,
              "ticks": ""
             }
            },
            "type": "parcoords"
           }
          ],
          "pie": [
           {
            "automargin": true,
            "type": "pie"
           }
          ],
          "scatter": [
           {
            "fillpattern": {
             "fillmode": "overlay",
             "size": 10,
             "solidity": 0.2
            },
            "type": "scatter"
           }
          ],
          "scatter3d": [
           {
            "line": {
             "colorbar": {
              "outlinewidth": 0,
              "ticks": ""
             }
            },
            "marker": {
             "colorbar": {
              "outlinewidth": 0,
              "ticks": ""
             }
            },
            "type": "scatter3d"
           }
          ],
          "scattercarpet": [
           {
            "marker": {
             "colorbar": {
              "outlinewidth": 0,
              "ticks": ""
             }
            },
            "type": "scattercarpet"
           }
          ],
          "scattergeo": [
           {
            "marker": {
             "colorbar": {
              "outlinewidth": 0,
              "ticks": ""
             }
            },
            "type": "scattergeo"
           }
          ],
          "scattergl": [
           {
            "marker": {
             "colorbar": {
              "outlinewidth": 0,
              "ticks": ""
             }
            },
            "type": "scattergl"
           }
          ],
          "scattermap": [
           {
            "marker": {
             "colorbar": {
              "outlinewidth": 0,
              "ticks": ""
             }
            },
            "type": "scattermap"
           }
          ],
          "scattermapbox": [
           {
            "marker": {
             "colorbar": {
              "outlinewidth": 0,
              "ticks": ""
             }
            },
            "type": "scattermapbox"
           }
          ],
          "scatterpolar": [
           {
            "marker": {
             "colorbar": {
              "outlinewidth": 0,
              "ticks": ""
             }
            },
            "type": "scatterpolar"
           }
          ],
          "scatterpolargl": [
           {
            "marker": {
             "colorbar": {
              "outlinewidth": 0,
              "ticks": ""
             }
            },
            "type": "scatterpolargl"
           }
          ],
          "scatterternary": [
           {
            "marker": {
             "colorbar": {
              "outlinewidth": 0,
              "ticks": ""
             }
            },
            "type": "scatterternary"
           }
          ],
          "surface": [
           {
            "colorbar": {
             "outlinewidth": 0,
             "ticks": ""
            },
            "colorscale": [
             [
              0,
              "#0d0887"
             ],
             [
              0.1111111111111111,
              "#46039f"
             ],
             [
              0.2222222222222222,
              "#7201a8"
             ],
             [
              0.3333333333333333,
              "#9c179e"
             ],
             [
              0.4444444444444444,
              "#bd3786"
             ],
             [
              0.5555555555555556,
              "#d8576b"
             ],
             [
              0.6666666666666666,
              "#ed7953"
             ],
             [
              0.7777777777777778,
              "#fb9f3a"
             ],
             [
              0.8888888888888888,
              "#fdca26"
             ],
             [
              1,
              "#f0f921"
             ]
            ],
            "type": "surface"
           }
          ],
          "table": [
           {
            "cells": {
             "fill": {
              "color": "#EBF0F8"
             },
             "line": {
              "color": "white"
             }
            },
            "header": {
             "fill": {
              "color": "#C8D4E3"
             },
             "line": {
              "color": "white"
             }
            },
            "type": "table"
           }
          ]
         },
         "layout": {
          "annotationdefaults": {
           "arrowcolor": "#2a3f5f",
           "arrowhead": 0,
           "arrowwidth": 1
          },
          "autotypenumbers": "strict",
          "coloraxis": {
           "colorbar": {
            "outlinewidth": 0,
            "ticks": ""
           }
          },
          "colorscale": {
           "diverging": [
            [
             0,
             "#8e0152"
            ],
            [
             0.1,
             "#c51b7d"
            ],
            [
             0.2,
             "#de77ae"
            ],
            [
             0.3,
             "#f1b6da"
            ],
            [
             0.4,
             "#fde0ef"
            ],
            [
             0.5,
             "#f7f7f7"
            ],
            [
             0.6,
             "#e6f5d0"
            ],
            [
             0.7,
             "#b8e186"
            ],
            [
             0.8,
             "#7fbc41"
            ],
            [
             0.9,
             "#4d9221"
            ],
            [
             1,
             "#276419"
            ]
           ],
           "sequential": [
            [
             0,
             "#0d0887"
            ],
            [
             0.1111111111111111,
             "#46039f"
            ],
            [
             0.2222222222222222,
             "#7201a8"
            ],
            [
             0.3333333333333333,
             "#9c179e"
            ],
            [
             0.4444444444444444,
             "#bd3786"
            ],
            [
             0.5555555555555556,
             "#d8576b"
            ],
            [
             0.6666666666666666,
             "#ed7953"
            ],
            [
             0.7777777777777778,
             "#fb9f3a"
            ],
            [
             0.8888888888888888,
             "#fdca26"
            ],
            [
             1,
             "#f0f921"
            ]
           ],
           "sequentialminus": [
            [
             0,
             "#0d0887"
            ],
            [
             0.1111111111111111,
             "#46039f"
            ],
            [
             0.2222222222222222,
             "#7201a8"
            ],
            [
             0.3333333333333333,
             "#9c179e"
            ],
            [
             0.4444444444444444,
             "#bd3786"
            ],
            [
             0.5555555555555556,
             "#d8576b"
            ],
            [
             0.6666666666666666,
             "#ed7953"
            ],
            [
             0.7777777777777778,
             "#fb9f3a"
            ],
            [
             0.8888888888888888,
             "#fdca26"
            ],
            [
             1,
             "#f0f921"
            ]
           ]
          },
          "colorway": [
           "#636efa",
           "#EF553B",
           "#00cc96",
           "#ab63fa",
           "#FFA15A",
           "#19d3f3",
           "#FF6692",
           "#B6E880",
           "#FF97FF",
           "#FECB52"
          ],
          "font": {
           "color": "#2a3f5f"
          },
          "geo": {
           "bgcolor": "white",
           "lakecolor": "white",
           "landcolor": "#E5ECF6",
           "showlakes": true,
           "showland": true,
           "subunitcolor": "white"
          },
          "hoverlabel": {
           "align": "left"
          },
          "hovermode": "closest",
          "mapbox": {
           "style": "light"
          },
          "paper_bgcolor": "white",
          "plot_bgcolor": "#E5ECF6",
          "polar": {
           "angularaxis": {
            "gridcolor": "white",
            "linecolor": "white",
            "ticks": ""
           },
           "bgcolor": "#E5ECF6",
           "radialaxis": {
            "gridcolor": "white",
            "linecolor": "white",
            "ticks": ""
           }
          },
          "scene": {
           "xaxis": {
            "backgroundcolor": "#E5ECF6",
            "gridcolor": "white",
            "gridwidth": 2,
            "linecolor": "white",
            "showbackground": true,
            "ticks": "",
            "zerolinecolor": "white"
           },
           "yaxis": {
            "backgroundcolor": "#E5ECF6",
            "gridcolor": "white",
            "gridwidth": 2,
            "linecolor": "white",
            "showbackground": true,
            "ticks": "",
            "zerolinecolor": "white"
           },
           "zaxis": {
            "backgroundcolor": "#E5ECF6",
            "gridcolor": "white",
            "gridwidth": 2,
            "linecolor": "white",
            "showbackground": true,
            "ticks": "",
            "zerolinecolor": "white"
           }
          },
          "shapedefaults": {
           "line": {
            "color": "#2a3f5f"
           }
          },
          "ternary": {
           "aaxis": {
            "gridcolor": "white",
            "linecolor": "white",
            "ticks": ""
           },
           "baxis": {
            "gridcolor": "white",
            "linecolor": "white",
            "ticks": ""
           },
           "bgcolor": "#E5ECF6",
           "caxis": {
            "gridcolor": "white",
            "linecolor": "white",
            "ticks": ""
           }
          },
          "title": {
           "x": 0.05
          },
          "xaxis": {
           "automargin": true,
           "gridcolor": "white",
           "linecolor": "white",
           "ticks": "",
           "title": {
            "standoff": 15
           },
           "zerolinecolor": "white",
           "zerolinewidth": 2
          },
          "yaxis": {
           "automargin": true,
           "gridcolor": "white",
           "linecolor": "white",
           "ticks": "",
           "title": {
            "standoff": 15
           },
           "zerolinecolor": "white",
           "zerolinewidth": 2
          }
         }
        },
        "title": {
         "text": "Distribuição de Valores por Categoria"
        },
        "xaxis": {
         "anchor": "y",
         "domain": [
          0,
          1
         ],
         "title": {
          "text": "categoria"
         }
        },
        "yaxis": {
         "anchor": "x",
         "domain": [
          0,
          1
         ],
         "title": {
          "text": "sum of valor"
         }
        }
       }
      }
     },
     "metadata": {},
     "output_type": "display_data"
    }
   ],
   "source": [
    "# Distribuição dos valores por categoria\n",
    "fig = px.histogram(df_reembolso, x='categoria', y='valor', title='Distribuição de Valores por Categoria')\n",
    "\n",
    "fig.show()"
   ]
  },
  {
   "cell_type": "markdown",
   "id": "77ce006d",
   "metadata": {},
   "source": [
    "- Vemos que em algumas categorias o valor do reembolso é bem alto.\n",
    "\n",
    "- Onde estão os Outliers?"
   ]
  },
  {
   "cell_type": "code",
   "execution_count": 11,
   "id": "2883f1f1",
   "metadata": {},
   "outputs": [
    {
     "data": {
      "application/vnd.plotly.v1+json": {
       "config": {
        "plotlyServerURL": "https://plot.ly"
       },
       "data": [
        {
         "alignmentgroup": "True",
         "hovertemplate": "categoria=%{x}<br>valor=%{y}<extra></extra>",
         "legendgroup": "Transporte",
         "marker": {
          "color": "#636efa"
         },
         "name": "Transporte",
         "notched": false,
         "offsetgroup": "Transporte",
         "orientation": "v",
         "showlegend": true,
         "type": "box",
         "x": [
          "Transporte",
          "Transporte",
          "Transporte",
          "Transporte",
          "Transporte",
          "Transporte",
          "Transporte",
          "Transporte",
          "Transporte",
          "Transporte",
          "Transporte",
          "Transporte",
          "Transporte",
          "Transporte",
          "Transporte",
          "Transporte",
          "Transporte",
          "Transporte",
          "Transporte",
          "Transporte",
          "Transporte",
          "Transporte",
          "Transporte",
          "Transporte",
          "Transporte",
          "Transporte",
          "Transporte",
          "Transporte",
          "Transporte",
          "Transporte",
          "Transporte",
          "Transporte",
          "Transporte",
          "Transporte",
          "Transporte",
          "Transporte",
          "Transporte",
          "Transporte",
          "Transporte",
          "Transporte",
          "Transporte",
          "Transporte",
          "Transporte",
          "Transporte",
          "Transporte",
          "Transporte",
          "Transporte",
          "Transporte",
          "Transporte",
          "Transporte",
          "Transporte",
          "Transporte",
          "Transporte",
          "Transporte",
          "Transporte",
          "Transporte",
          "Transporte",
          "Transporte",
          "Transporte",
          "Transporte",
          "Transporte",
          "Transporte",
          "Transporte",
          "Transporte",
          "Transporte",
          "Transporte",
          "Transporte",
          "Transporte",
          "Transporte",
          "Transporte",
          "Transporte",
          "Transporte",
          "Transporte",
          "Transporte",
          "Transporte",
          "Transporte",
          "Transporte",
          "Transporte",
          "Transporte",
          "Transporte",
          "Transporte",
          "Transporte",
          "Transporte",
          "Transporte",
          "Transporte",
          "Transporte",
          "Transporte",
          "Transporte",
          "Transporte",
          "Transporte",
          "Transporte",
          "Transporte",
          "Transporte",
          "Transporte",
          "Transporte",
          "Transporte",
          "Transporte",
          "Transporte",
          "Transporte",
          "Transporte",
          "Transporte",
          "Transporte",
          "Transporte",
          "Transporte",
          "Transporte",
          "Transporte",
          "Transporte",
          "Transporte",
          "Transporte",
          "Transporte",
          "Transporte",
          "Transporte",
          "Transporte",
          "Transporte",
          "Transporte",
          "Transporte",
          "Transporte",
          "Transporte",
          "Transporte",
          "Transporte",
          "Transporte",
          "Transporte",
          "Transporte",
          "Transporte",
          "Transporte",
          "Transporte",
          "Transporte",
          "Transporte",
          "Transporte",
          "Transporte",
          "Transporte",
          "Transporte",
          "Transporte",
          "Transporte",
          "Transporte",
          "Transporte",
          "Transporte",
          "Transporte",
          "Transporte",
          "Transporte",
          "Transporte",
          "Transporte",
          "Transporte",
          "Transporte",
          "Transporte",
          "Transporte",
          "Transporte",
          "Transporte",
          "Transporte",
          "Transporte",
          "Transporte",
          "Transporte",
          "Transporte",
          "Transporte",
          "Transporte",
          "Transporte",
          "Transporte",
          "Transporte",
          "Transporte",
          "Transporte",
          "Transporte",
          "Transporte",
          "Transporte",
          "Transporte",
          "Transporte",
          "Transporte",
          "Transporte",
          "Transporte",
          "Transporte",
          "Transporte",
          "Transporte",
          "Transporte",
          "Transporte",
          "Transporte",
          "Transporte",
          "Transporte",
          "Transporte",
          "Transporte",
          "Transporte",
          "Transporte",
          "Transporte",
          "Transporte",
          "Transporte",
          "Transporte",
          "Transporte",
          "Transporte",
          "Transporte",
          "Transporte",
          "Transporte",
          "Transporte",
          "Transporte",
          "Transporte",
          "Transporte",
          "Transporte",
          "Transporte",
          "Transporte"
         ],
         "x0": " ",
         "xaxis": "x",
         "y": {
          "bdata": "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",
          "dtype": "f8"
         },
         "y0": " ",
         "yaxis": "y"
        },
        {
         "alignmentgroup": "True",
         "hovertemplate": "categoria=%{x}<br>valor=%{y}<extra></extra>",
         "legendgroup": "Educação",
         "marker": {
          "color": "#EF553B"
         },
         "name": "Educação",
         "notched": false,
         "offsetgroup": "Educação",
         "orientation": "v",
         "showlegend": true,
         "type": "box",
         "x": [
          "Educação",
          "Educação",
          "Educação",
          "Educação",
          "Educação",
          "Educação",
          "Educação",
          "Educação",
          "Educação",
          "Educação",
          "Educação",
          "Educação",
          "Educação",
          "Educação",
          "Educação",
          "Educação",
          "Educação",
          "Educação",
          "Educação",
          "Educação",
          "Educação",
          "Educação",
          "Educação",
          "Educação",
          "Educação",
          "Educação",
          "Educação",
          "Educação",
          "Educação",
          "Educação",
          "Educação",
          "Educação",
          "Educação",
          "Educação",
          "Educação",
          "Educação",
          "Educação",
          "Educação",
          "Educação",
          "Educação",
          "Educação",
          "Educação",
          "Educação",
          "Educação",
          "Educação",
          "Educação",
          "Educação",
          "Educação",
          "Educação",
          "Educação",
          "Educação",
          "Educação",
          "Educação",
          "Educação",
          "Educação",
          "Educação",
          "Educação",
          "Educação",
          "Educação",
          "Educação",
          "Educação",
          "Educação",
          "Educação",
          "Educação",
          "Educação",
          "Educação",
          "Educação",
          "Educação",
          "Educação",
          "Educação",
          "Educação",
          "Educação",
          "Educação",
          "Educação",
          "Educação",
          "Educação",
          "Educação",
          "Educação",
          "Educação",
          "Educação",
          "Educação",
          "Educação",
          "Educação",
          "Educação",
          "Educação",
          "Educação",
          "Educação",
          "Educação",
          "Educação",
          "Educação",
          "Educação",
          "Educação",
          "Educação",
          "Educação",
          "Educação",
          "Educação",
          "Educação",
          "Educação",
          "Educação",
          "Educação",
          "Educação",
          "Educação",
          "Educação",
          "Educação",
          "Educação",
          "Educação",
          "Educação",
          "Educação",
          "Educação",
          "Educação",
          "Educação",
          "Educação",
          "Educação",
          "Educação",
          "Educação",
          "Educação",
          "Educação",
          "Educação",
          "Educação",
          "Educação",
          "Educação",
          "Educação",
          "Educação",
          "Educação",
          "Educação",
          "Educação",
          "Educação",
          "Educação",
          "Educação",
          "Educação",
          "Educação",
          "Educação",
          "Educação",
          "Educação",
          "Educação",
          "Educação",
          "Educação",
          "Educação",
          "Educação",
          "Educação",
          "Educação",
          "Educação",
          "Educação",
          "Educação",
          "Educação",
          "Educação",
          "Educação",
          "Educação",
          "Educação",
          "Educação",
          "Educação",
          "Educação",
          "Educação",
          "Educação",
          "Educação",
          "Educação",
          "Educação",
          "Educação",
          "Educação",
          "Educação",
          "Educação",
          "Educação",
          "Educação",
          "Educação",
          "Educação",
          "Educação",
          "Educação",
          "Educação",
          "Educação",
          "Educação",
          "Educação",
          "Educação",
          "Educação",
          "Educação",
          "Educação",
          "Educação",
          "Educação",
          "Educação",
          "Educação",
          "Educação",
          "Educação",
          "Educação",
          "Educação",
          "Educação",
          "Educação",
          "Educação",
          "Educação",
          "Educação",
          "Educação",
          "Educação",
          "Educação",
          "Educação",
          "Educação",
          "Educação",
          "Educação",
          "Educação",
          "Educação",
          "Educação"
         ],
         "x0": " ",
         "xaxis": "x",
         "y": {
          "bdata": "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",
          "dtype": "f8"
         },
         "y0": " ",
         "yaxis": "y"
        },
        {
         "alignmentgroup": "True",
         "hovertemplate": "categoria=%{x}<br>valor=%{y}<extra></extra>",
         "legendgroup": "Outros",
         "marker": {
          "color": "#00cc96"
         },
         "name": "Outros",
         "notched": false,
         "offsetgroup": "Outros",
         "orientation": "v",
         "showlegend": true,
         "type": "box",
         "x": [
          "Outros",
          "Outros",
          "Outros",
          "Outros",
          "Outros",
          "Outros",
          "Outros",
          "Outros",
          "Outros",
          "Outros",
          "Outros",
          "Outros",
          "Outros",
          "Outros",
          "Outros",
          "Outros",
          "Outros",
          "Outros",
          "Outros",
          "Outros",
          "Outros",
          "Outros",
          "Outros",
          "Outros",
          "Outros",
          "Outros",
          "Outros",
          "Outros",
          "Outros",
          "Outros",
          "Outros",
          "Outros",
          "Outros",
          "Outros",
          "Outros",
          "Outros",
          "Outros",
          "Outros",
          "Outros",
          "Outros",
          "Outros",
          "Outros",
          "Outros",
          "Outros",
          "Outros",
          "Outros",
          "Outros",
          "Outros",
          "Outros",
          "Outros",
          "Outros",
          "Outros",
          "Outros",
          "Outros",
          "Outros",
          "Outros",
          "Outros",
          "Outros",
          "Outros",
          "Outros",
          "Outros",
          "Outros",
          "Outros",
          "Outros",
          "Outros",
          "Outros",
          "Outros",
          "Outros",
          "Outros",
          "Outros",
          "Outros",
          "Outros",
          "Outros",
          "Outros",
          "Outros",
          "Outros",
          "Outros",
          "Outros",
          "Outros",
          "Outros",
          "Outros",
          "Outros",
          "Outros",
          "Outros",
          "Outros",
          "Outros",
          "Outros",
          "Outros",
          "Outros",
          "Outros",
          "Outros",
          "Outros",
          "Outros",
          "Outros",
          "Outros",
          "Outros",
          "Outros",
          "Outros",
          "Outros",
          "Outros",
          "Outros",
          "Outros",
          "Outros",
          "Outros",
          "Outros",
          "Outros",
          "Outros",
          "Outros",
          "Outros",
          "Outros",
          "Outros",
          "Outros",
          "Outros",
          "Outros",
          "Outros",
          "Outros",
          "Outros",
          "Outros",
          "Outros",
          "Outros",
          "Outros",
          "Outros",
          "Outros",
          "Outros",
          "Outros",
          "Outros",
          "Outros",
          "Outros",
          "Outros",
          "Outros",
          "Outros",
          "Outros",
          "Outros",
          "Outros",
          "Outros",
          "Outros",
          "Outros",
          "Outros",
          "Outros",
          "Outros",
          "Outros",
          "Outros",
          "Outros",
          "Outros",
          "Outros",
          "Outros",
          "Outros",
          "Outros",
          "Outros",
          "Outros",
          "Outros",
          "Outros",
          "Outros",
          "Outros",
          "Outros",
          "Outros",
          "Outros",
          "Outros",
          "Outros",
          "Outros",
          "Outros",
          "Outros",
          "Outros",
          "Outros",
          "Outros",
          "Outros",
          "Outros",
          "Outros",
          "Outros",
          "Outros",
          "Outros",
          "Outros",
          "Outros",
          "Outros",
          "Outros",
          "Outros",
          "Outros",
          "Outros",
          "Outros",
          "Outros",
          "Outros",
          "Outros",
          "Outros",
          "Outros",
          "Outros",
          "Outros",
          "Outros",
          "Outros",
          "Outros",
          "Outros",
          "Outros",
          "Outros",
          "Outros",
          "Outros",
          "Outros",
          "Outros",
          "Outros",
          "Outros",
          "Outros",
          "Outros",
          "Outros",
          "Outros",
          "Outros",
          "Outros",
          "Outros",
          "Outros",
          "Outros",
          "Outros",
          "Outros",
          "Outros",
          "Outros"
         ],
         "x0": " ",
         "xaxis": "x",
         "y": {
          "bdata": "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",
          "dtype": "f8"
         },
         "y0": " ",
         "yaxis": "y"
        },
        {
         "alignmentgroup": "True",
         "hovertemplate": "categoria=%{x}<br>valor=%{y}<extra></extra>",
         "legendgroup": "Alimentação",
         "marker": {
          "color": "#ab63fa"
         },
         "name": "Alimentação",
         "notched": false,
         "offsetgroup": "Alimentação",
         "orientation": "v",
         "showlegend": true,
         "type": "box",
         "x": [
          "Alimentação",
          "Alimentação",
          "Alimentação",
          "Alimentação",
          "Alimentação",
          "Alimentação",
          "Alimentação",
          "Alimentação",
          "Alimentação",
          "Alimentação",
          "Alimentação",
          "Alimentação",
          "Alimentação",
          "Alimentação",
          "Alimentação",
          "Alimentação",
          "Alimentação",
          "Alimentação",
          "Alimentação",
          "Alimentação",
          "Alimentação",
          "Alimentação",
          "Alimentação",
          "Alimentação",
          "Alimentação",
          "Alimentação",
          "Alimentação",
          "Alimentação",
          "Alimentação",
          "Alimentação",
          "Alimentação",
          "Alimentação",
          "Alimentação",
          "Alimentação",
          "Alimentação",
          "Alimentação",
          "Alimentação",
          "Alimentação",
          "Alimentação",
          "Alimentação",
          "Alimentação",
          "Alimentação",
          "Alimentação",
          "Alimentação",
          "Alimentação",
          "Alimentação",
          "Alimentação",
          "Alimentação",
          "Alimentação",
          "Alimentação",
          "Alimentação",
          "Alimentação",
          "Alimentação",
          "Alimentação",
          "Alimentação",
          "Alimentação",
          "Alimentação",
          "Alimentação",
          "Alimentação",
          "Alimentação",
          "Alimentação",
          "Alimentação",
          "Alimentação",
          "Alimentação",
          "Alimentação",
          "Alimentação",
          "Alimentação",
          "Alimentação",
          "Alimentação",
          "Alimentação",
          "Alimentação",
          "Alimentação",
          "Alimentação",
          "Alimentação",
          "Alimentação",
          "Alimentação",
          "Alimentação",
          "Alimentação",
          "Alimentação",
          "Alimentação",
          "Alimentação",
          "Alimentação",
          "Alimentação",
          "Alimentação",
          "Alimentação",
          "Alimentação",
          "Alimentação",
          "Alimentação",
          "Alimentação",
          "Alimentação",
          "Alimentação",
          "Alimentação",
          "Alimentação",
          "Alimentação",
          "Alimentação",
          "Alimentação",
          "Alimentação",
          "Alimentação",
          "Alimentação",
          "Alimentação",
          "Alimentação",
          "Alimentação",
          "Alimentação",
          "Alimentação",
          "Alimentação",
          "Alimentação",
          "Alimentação",
          "Alimentação",
          "Alimentação",
          "Alimentação",
          "Alimentação",
          "Alimentação",
          "Alimentação",
          "Alimentação",
          "Alimentação",
          "Alimentação",
          "Alimentação",
          "Alimentação",
          "Alimentação",
          "Alimentação",
          "Alimentação",
          "Alimentação",
          "Alimentação",
          "Alimentação",
          "Alimentação",
          "Alimentação",
          "Alimentação",
          "Alimentação",
          "Alimentação",
          "Alimentação",
          "Alimentação",
          "Alimentação",
          "Alimentação",
          "Alimentação",
          "Alimentação",
          "Alimentação",
          "Alimentação",
          "Alimentação",
          "Alimentação",
          "Alimentação",
          "Alimentação",
          "Alimentação",
          "Alimentação",
          "Alimentação",
          "Alimentação",
          "Alimentação",
          "Alimentação",
          "Alimentação",
          "Alimentação",
          "Alimentação",
          "Alimentação",
          "Alimentação",
          "Alimentação",
          "Alimentação",
          "Alimentação",
          "Alimentação",
          "Alimentação",
          "Alimentação",
          "Alimentação",
          "Alimentação",
          "Alimentação",
          "Alimentação",
          "Alimentação",
          "Alimentação",
          "Alimentação",
          "Alimentação",
          "Alimentação",
          "Alimentação",
          "Alimentação",
          "Alimentação",
          "Alimentação",
          "Alimentação",
          "Alimentação",
          "Alimentação",
          "Alimentação",
          "Alimentação",
          "Alimentação",
          "Alimentação",
          "Alimentação",
          "Alimentação",
          "Alimentação",
          "Alimentação",
          "Alimentação",
          "Alimentação",
          "Alimentação",
          "Alimentação",
          "Alimentação",
          "Alimentação",
          "Alimentação",
          "Alimentação",
          "Alimentação",
          "Alimentação",
          "Alimentação",
          "Alimentação",
          "Alimentação",
          "Alimentação",
          "Alimentação",
          "Alimentação",
          "Alimentação",
          "Alimentação",
          "Alimentação",
          "Alimentação",
          "Alimentação",
          "Alimentação"
         ],
         "x0": " ",
         "xaxis": "x",
         "y": {
          "bdata": "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",
          "dtype": "f8"
         },
         "y0": " ",
         "yaxis": "y"
        },
        {
         "alignmentgroup": "True",
         "hovertemplate": "categoria=%{x}<br>valor=%{y}<extra></extra>",
         "legendgroup": "Hotel",
         "marker": {
          "color": "#FFA15A"
         },
         "name": "Hotel",
         "notched": false,
         "offsetgroup": "Hotel",
         "orientation": "v",
         "showlegend": true,
         "type": "box",
         "x": [
          "Hotel",
          "Hotel",
          "Hotel",
          "Hotel",
          "Hotel",
          "Hotel",
          "Hotel",
          "Hotel",
          "Hotel",
          "Hotel",
          "Hotel",
          "Hotel",
          "Hotel",
          "Hotel",
          "Hotel",
          "Hotel",
          "Hotel",
          "Hotel",
          "Hotel",
          "Hotel",
          "Hotel",
          "Hotel",
          "Hotel",
          "Hotel",
          "Hotel",
          "Hotel",
          "Hotel",
          "Hotel",
          "Hotel",
          "Hotel",
          "Hotel",
          "Hotel",
          "Hotel",
          "Hotel",
          "Hotel",
          "Hotel",
          "Hotel",
          "Hotel",
          "Hotel",
          "Hotel",
          "Hotel",
          "Hotel",
          "Hotel",
          "Hotel",
          "Hotel",
          "Hotel",
          "Hotel",
          "Hotel",
          "Hotel",
          "Hotel",
          "Hotel",
          "Hotel",
          "Hotel",
          "Hotel",
          "Hotel",
          "Hotel",
          "Hotel",
          "Hotel",
          "Hotel",
          "Hotel",
          "Hotel",
          "Hotel",
          "Hotel",
          "Hotel",
          "Hotel",
          "Hotel",
          "Hotel",
          "Hotel",
          "Hotel",
          "Hotel",
          "Hotel",
          "Hotel",
          "Hotel",
          "Hotel",
          "Hotel",
          "Hotel",
          "Hotel",
          "Hotel",
          "Hotel",
          "Hotel",
          "Hotel",
          "Hotel",
          "Hotel",
          "Hotel",
          "Hotel",
          "Hotel",
          "Hotel",
          "Hotel",
          "Hotel",
          "Hotel",
          "Hotel",
          "Hotel",
          "Hotel",
          "Hotel",
          "Hotel",
          "Hotel",
          "Hotel",
          "Hotel",
          "Hotel",
          "Hotel",
          "Hotel",
          "Hotel",
          "Hotel",
          "Hotel",
          "Hotel",
          "Hotel",
          "Hotel",
          "Hotel",
          "Hotel",
          "Hotel",
          "Hotel",
          "Hotel",
          "Hotel",
          "Hotel",
          "Hotel",
          "Hotel",
          "Hotel",
          "Hotel",
          "Hotel",
          "Hotel",
          "Hotel",
          "Hotel",
          "Hotel",
          "Hotel",
          "Hotel",
          "Hotel",
          "Hotel",
          "Hotel",
          "Hotel",
          "Hotel",
          "Hotel",
          "Hotel",
          "Hotel",
          "Hotel",
          "Hotel",
          "Hotel",
          "Hotel",
          "Hotel",
          "Hotel",
          "Hotel",
          "Hotel",
          "Hotel",
          "Hotel",
          "Hotel",
          "Hotel",
          "Hotel",
          "Hotel",
          "Hotel",
          "Hotel",
          "Hotel",
          "Hotel",
          "Hotel",
          "Hotel",
          "Hotel",
          "Hotel",
          "Hotel",
          "Hotel",
          "Hotel",
          "Hotel",
          "Hotel",
          "Hotel",
          "Hotel",
          "Hotel",
          "Hotel",
          "Hotel",
          "Hotel",
          "Hotel",
          "Hotel",
          "Hotel",
          "Hotel",
          "Hotel",
          "Hotel",
          "Hotel",
          "Hotel",
          "Hotel",
          "Hotel",
          "Hotel",
          "Hotel",
          "Hotel",
          "Hotel",
          "Hotel",
          "Hotel",
          "Hotel",
          "Hotel",
          "Hotel",
          "Hotel",
          "Hotel",
          "Hotel",
          "Hotel",
          "Hotel",
          "Hotel"
         ],
         "x0": " ",
         "xaxis": "x",
         "y": {
          "bdata": "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",
          "dtype": "f8"
         },
         "y0": " ",
         "yaxis": "y"
        }
       ],
       "layout": {
        "boxmode": "overlay",
        "legend": {
         "title": {
          "text": "categoria"
         },
         "tracegroupgap": 0
        },
        "template": {
         "data": {
          "bar": [
           {
            "error_x": {
             "color": "#2a3f5f"
            },
            "error_y": {
             "color": "#2a3f5f"
            },
            "marker": {
             "line": {
              "color": "#E5ECF6",
              "width": 0.5
             },
             "pattern": {
              "fillmode": "overlay",
              "size": 10,
              "solidity": 0.2
             }
            },
            "type": "bar"
           }
          ],
          "barpolar": [
           {
            "marker": {
             "line": {
              "color": "#E5ECF6",
              "width": 0.5
             },
             "pattern": {
              "fillmode": "overlay",
              "size": 10,
              "solidity": 0.2
             }
            },
            "type": "barpolar"
           }
          ],
          "carpet": [
           {
            "aaxis": {
             "endlinecolor": "#2a3f5f",
             "gridcolor": "white",
             "linecolor": "white",
             "minorgridcolor": "white",
             "startlinecolor": "#2a3f5f"
            },
            "baxis": {
             "endlinecolor": "#2a3f5f",
             "gridcolor": "white",
             "linecolor": "white",
             "minorgridcolor": "white",
             "startlinecolor": "#2a3f5f"
            },
            "type": "carpet"
           }
          ],
          "choropleth": [
           {
            "colorbar": {
             "outlinewidth": 0,
             "ticks": ""
            },
            "type": "choropleth"
           }
          ],
          "contour": [
           {
            "colorbar": {
             "outlinewidth": 0,
             "ticks": ""
            },
            "colorscale": [
             [
              0,
              "#0d0887"
             ],
             [
              0.1111111111111111,
              "#46039f"
             ],
             [
              0.2222222222222222,
              "#7201a8"
             ],
             [
              0.3333333333333333,
              "#9c179e"
             ],
             [
              0.4444444444444444,
              "#bd3786"
             ],
             [
              0.5555555555555556,
              "#d8576b"
             ],
             [
              0.6666666666666666,
              "#ed7953"
             ],
             [
              0.7777777777777778,
              "#fb9f3a"
             ],
             [
              0.8888888888888888,
              "#fdca26"
             ],
             [
              1,
              "#f0f921"
             ]
            ],
            "type": "contour"
           }
          ],
          "contourcarpet": [
           {
            "colorbar": {
             "outlinewidth": 0,
             "ticks": ""
            },
            "type": "contourcarpet"
           }
          ],
          "heatmap": [
           {
            "colorbar": {
             "outlinewidth": 0,
             "ticks": ""
            },
            "colorscale": [
             [
              0,
              "#0d0887"
             ],
             [
              0.1111111111111111,
              "#46039f"
             ],
             [
              0.2222222222222222,
              "#7201a8"
             ],
             [
              0.3333333333333333,
              "#9c179e"
             ],
             [
              0.4444444444444444,
              "#bd3786"
             ],
             [
              0.5555555555555556,
              "#d8576b"
             ],
             [
              0.6666666666666666,
              "#ed7953"
             ],
             [
              0.7777777777777778,
              "#fb9f3a"
             ],
             [
              0.8888888888888888,
              "#fdca26"
             ],
             [
              1,
              "#f0f921"
             ]
            ],
            "type": "heatmap"
           }
          ],
          "histogram": [
           {
            "marker": {
             "pattern": {
              "fillmode": "overlay",
              "size": 10,
              "solidity": 0.2
             }
            },
            "type": "histogram"
           }
          ],
          "histogram2d": [
           {
            "colorbar": {
             "outlinewidth": 0,
             "ticks": ""
            },
            "colorscale": [
             [
              0,
              "#0d0887"
             ],
             [
              0.1111111111111111,
              "#46039f"
             ],
             [
              0.2222222222222222,
              "#7201a8"
             ],
             [
              0.3333333333333333,
              "#9c179e"
             ],
             [
              0.4444444444444444,
              "#bd3786"
             ],
             [
              0.5555555555555556,
              "#d8576b"
             ],
             [
              0.6666666666666666,
              "#ed7953"
             ],
             [
              0.7777777777777778,
              "#fb9f3a"
             ],
             [
              0.8888888888888888,
              "#fdca26"
             ],
             [
              1,
              "#f0f921"
             ]
            ],
            "type": "histogram2d"
           }
          ],
          "histogram2dcontour": [
           {
            "colorbar": {
             "outlinewidth": 0,
             "ticks": ""
            },
            "colorscale": [
             [
              0,
              "#0d0887"
             ],
             [
              0.1111111111111111,
              "#46039f"
             ],
             [
              0.2222222222222222,
              "#7201a8"
             ],
             [
              0.3333333333333333,
              "#9c179e"
             ],
             [
              0.4444444444444444,
              "#bd3786"
             ],
             [
              0.5555555555555556,
              "#d8576b"
             ],
             [
              0.6666666666666666,
              "#ed7953"
             ],
             [
              0.7777777777777778,
              "#fb9f3a"
             ],
             [
              0.8888888888888888,
              "#fdca26"
             ],
             [
              1,
              "#f0f921"
             ]
            ],
            "type": "histogram2dcontour"
           }
          ],
          "mesh3d": [
           {
            "colorbar": {
             "outlinewidth": 0,
             "ticks": ""
            },
            "type": "mesh3d"
           }
          ],
          "parcoords": [
           {
            "line": {
             "colorbar": {
              "outlinewidth": 0,
              "ticks": ""
             }
            },
            "type": "parcoords"
           }
          ],
          "pie": [
           {
            "automargin": true,
            "type": "pie"
           }
          ],
          "scatter": [
           {
            "fillpattern": {
             "fillmode": "overlay",
             "size": 10,
             "solidity": 0.2
            },
            "type": "scatter"
           }
          ],
          "scatter3d": [
           {
            "line": {
             "colorbar": {
              "outlinewidth": 0,
              "ticks": ""
             }
            },
            "marker": {
             "colorbar": {
              "outlinewidth": 0,
              "ticks": ""
             }
            },
            "type": "scatter3d"
           }
          ],
          "scattercarpet": [
           {
            "marker": {
             "colorbar": {
              "outlinewidth": 0,
              "ticks": ""
             }
            },
            "type": "scattercarpet"
           }
          ],
          "scattergeo": [
           {
            "marker": {
             "colorbar": {
              "outlinewidth": 0,
              "ticks": ""
             }
            },
            "type": "scattergeo"
           }
          ],
          "scattergl": [
           {
            "marker": {
             "colorbar": {
              "outlinewidth": 0,
              "ticks": ""
             }
            },
            "type": "scattergl"
           }
          ],
          "scattermap": [
           {
            "marker": {
             "colorbar": {
              "outlinewidth": 0,
              "ticks": ""
             }
            },
            "type": "scattermap"
           }
          ],
          "scattermapbox": [
           {
            "marker": {
             "colorbar": {
              "outlinewidth": 0,
              "ticks": ""
             }
            },
            "type": "scattermapbox"
           }
          ],
          "scatterpolar": [
           {
            "marker": {
             "colorbar": {
              "outlinewidth": 0,
              "ticks": ""
             }
            },
            "type": "scatterpolar"
           }
          ],
          "scatterpolargl": [
           {
            "marker": {
             "colorbar": {
              "outlinewidth": 0,
              "ticks": ""
             }
            },
            "type": "scatterpolargl"
           }
          ],
          "scatterternary": [
           {
            "marker": {
             "colorbar": {
              "outlinewidth": 0,
              "ticks": ""
             }
            },
            "type": "scatterternary"
           }
          ],
          "surface": [
           {
            "colorbar": {
             "outlinewidth": 0,
             "ticks": ""
            },
            "colorscale": [
             [
              0,
              "#0d0887"
             ],
             [
              0.1111111111111111,
              "#46039f"
             ],
             [
              0.2222222222222222,
              "#7201a8"
             ],
             [
              0.3333333333333333,
              "#9c179e"
             ],
             [
              0.4444444444444444,
              "#bd3786"
             ],
             [
              0.5555555555555556,
              "#d8576b"
             ],
             [
              0.6666666666666666,
              "#ed7953"
             ],
             [
              0.7777777777777778,
              "#fb9f3a"
             ],
             [
              0.8888888888888888,
              "#fdca26"
             ],
             [
              1,
              "#f0f921"
             ]
            ],
            "type": "surface"
           }
          ],
          "table": [
           {
            "cells": {
             "fill": {
              "color": "#EBF0F8"
             },
             "line": {
              "color": "white"
             }
            },
            "header": {
             "fill": {
              "color": "#C8D4E3"
             },
             "line": {
              "color": "white"
             }
            },
            "type": "table"
           }
          ]
         },
         "layout": {
          "annotationdefaults": {
           "arrowcolor": "#2a3f5f",
           "arrowhead": 0,
           "arrowwidth": 1
          },
          "autotypenumbers": "strict",
          "coloraxis": {
           "colorbar": {
            "outlinewidth": 0,
            "ticks": ""
           }
          },
          "colorscale": {
           "diverging": [
            [
             0,
             "#8e0152"
            ],
            [
             0.1,
             "#c51b7d"
            ],
            [
             0.2,
             "#de77ae"
            ],
            [
             0.3,
             "#f1b6da"
            ],
            [
             0.4,
             "#fde0ef"
            ],
            [
             0.5,
             "#f7f7f7"
            ],
            [
             0.6,
             "#e6f5d0"
            ],
            [
             0.7,
             "#b8e186"
            ],
            [
             0.8,
             "#7fbc41"
            ],
            [
             0.9,
             "#4d9221"
            ],
            [
             1,
             "#276419"
            ]
           ],
           "sequential": [
            [
             0,
             "#0d0887"
            ],
            [
             0.1111111111111111,
             "#46039f"
            ],
            [
             0.2222222222222222,
             "#7201a8"
            ],
            [
             0.3333333333333333,
             "#9c179e"
            ],
            [
             0.4444444444444444,
             "#bd3786"
            ],
            [
             0.5555555555555556,
             "#d8576b"
            ],
            [
             0.6666666666666666,
             "#ed7953"
            ],
            [
             0.7777777777777778,
             "#fb9f3a"
            ],
            [
             0.8888888888888888,
             "#fdca26"
            ],
            [
             1,
             "#f0f921"
            ]
           ],
           "sequentialminus": [
            [
             0,
             "#0d0887"
            ],
            [
             0.1111111111111111,
             "#46039f"
            ],
            [
             0.2222222222222222,
             "#7201a8"
            ],
            [
             0.3333333333333333,
             "#9c179e"
            ],
            [
             0.4444444444444444,
             "#bd3786"
            ],
            [
             0.5555555555555556,
             "#d8576b"
            ],
            [
             0.6666666666666666,
             "#ed7953"
            ],
            [
             0.7777777777777778,
             "#fb9f3a"
            ],
            [
             0.8888888888888888,
             "#fdca26"
            ],
            [
             1,
             "#f0f921"
            ]
           ]
          },
          "colorway": [
           "#636efa",
           "#EF553B",
           "#00cc96",
           "#ab63fa",
           "#FFA15A",
           "#19d3f3",
           "#FF6692",
           "#B6E880",
           "#FF97FF",
           "#FECB52"
          ],
          "font": {
           "color": "#2a3f5f"
          },
          "geo": {
           "bgcolor": "white",
           "lakecolor": "white",
           "landcolor": "#E5ECF6",
           "showlakes": true,
           "showland": true,
           "subunitcolor": "white"
          },
          "hoverlabel": {
           "align": "left"
          },
          "hovermode": "closest",
          "mapbox": {
           "style": "light"
          },
          "paper_bgcolor": "white",
          "plot_bgcolor": "#E5ECF6",
          "polar": {
           "angularaxis": {
            "gridcolor": "white",
            "linecolor": "white",
            "ticks": ""
           },
           "bgcolor": "#E5ECF6",
           "radialaxis": {
            "gridcolor": "white",
            "linecolor": "white",
            "ticks": ""
           }
          },
          "scene": {
           "xaxis": {
            "backgroundcolor": "#E5ECF6",
            "gridcolor": "white",
            "gridwidth": 2,
            "linecolor": "white",
            "showbackground": true,
            "ticks": "",
            "zerolinecolor": "white"
           },
           "yaxis": {
            "backgroundcolor": "#E5ECF6",
            "gridcolor": "white",
            "gridwidth": 2,
            "linecolor": "white",
            "showbackground": true,
            "ticks": "",
            "zerolinecolor": "white"
           },
           "zaxis": {
            "backgroundcolor": "#E5ECF6",
            "gridcolor": "white",
            "gridwidth": 2,
            "linecolor": "white",
            "showbackground": true,
            "ticks": "",
            "zerolinecolor": "white"
           }
          },
          "shapedefaults": {
           "line": {
            "color": "#2a3f5f"
           }
          },
          "ternary": {
           "aaxis": {
            "gridcolor": "white",
            "linecolor": "white",
            "ticks": ""
           },
           "baxis": {
            "gridcolor": "white",
            "linecolor": "white",
            "ticks": ""
           },
           "bgcolor": "#E5ECF6",
           "caxis": {
            "gridcolor": "white",
            "linecolor": "white",
            "ticks": ""
           }
          },
          "title": {
           "x": 0.05
          },
          "xaxis": {
           "automargin": true,
           "gridcolor": "white",
           "linecolor": "white",
           "ticks": "",
           "title": {
            "standoff": 15
           },
           "zerolinecolor": "white",
           "zerolinewidth": 2
          },
          "yaxis": {
           "automargin": true,
           "gridcolor": "white",
           "linecolor": "white",
           "ticks": "",
           "title": {
            "standoff": 15
           },
           "zerolinecolor": "white",
           "zerolinewidth": 2
          }
         }
        },
        "title": {
         "text": "BoxPlot dos Valores por Categoria"
        },
        "xaxis": {
         "anchor": "y",
         "categoryarray": [
          "Transporte",
          "Educação",
          "Outros",
          "Alimentação",
          "Hotel"
         ],
         "categoryorder": "array",
         "domain": [
          0,
          1
         ],
         "title": {
          "text": "categoria"
         }
        },
        "yaxis": {
         "anchor": "x",
         "domain": [
          0,
          1
         ],
         "title": {
          "text": "valor"
         }
        }
       }
      }
     },
     "metadata": {},
     "output_type": "display_data"
    }
   ],
   "source": [
    "# BoxPlot dos valores por categoria\n",
    "fig = px.box(df_reembolso, x='categoria', y='valor', color=df_reembolso['categoria'], title='BoxPlot dos Valores por Categoria')\n",
    "\n",
    "fig.show()"
   ]
  },
  {
   "cell_type": "markdown",
   "id": "1a9c5cf2",
   "metadata": {},
   "source": [
    "- Dentro do BoxPlot podemos observar que os valores altos estão bem distribuidos dentro da categoria, também podemos notar que existem alguns outliers na categoria Outros, Transporte e Educação. Vamos examinar melhor estas variáveis para entender se tem qualquer tipo de erro que justifique.\n",
    "\n",
    "---\n",
    "- Quem mais solicita reembolso?\n",
    "\n",
    "- Vamos observar a quantidade de reembolso por funcionário"
   ]
  },
  {
   "cell_type": "code",
   "execution_count": 59,
   "id": "5228e840",
   "metadata": {},
   "outputs": [
    {
     "data": {
      "image/png": "[encoded data removed]",
      "text/plain": [
       "<Figure size 1000x500 with 1 Axes>"
      ]
     },
     "metadata": {},
     "output_type": "display_data"
    }
   ],
   "source": [
    "# Preparar dados\n",
    "top_funcionarios = df_reembolso['id_funcionario'].value_counts().head(10)\n",
    "ids = top_funcionarios.index.astype(str)\n",
    "valores = top_funcionarios.values\n",
    "\n",
    "# Calcular média\n",
    "media_reembolsos = top_funcionarios.mean()\n",
    "\n",
    "# Criar o gráfico\n",
    "plt.figure(figsize=(10, 5))\n",
    "bars = sns.barplot(x=ids, y=valores, color='skyblue')\n",
    "\n",
    "# Adicionar valores no topo das barras\n",
    "for i, v in enumerate(valores):\n",
    "    plt.text(i, v + 1, str(v), ha='center', va='bottom', fontweight='bold')\n",
    "\n",
    "# Linha de referência e legenda\n",
    "plt.axhline(media_reembolsos, color='red', linestyle='--', label=f'Média do Top 10 ({media_reembolsos:.1f})')\n",
    "plt.legend(loc='upper right')\n",
    "\n",
    "# Títulos e eixos\n",
    "plt.title(\"Top 10 Funcionários com Mais Reembolsos\")\n",
    "plt.xlabel(\"ID do Funcionário\")\n",
    "plt.ylabel(\"Qtd. de Reembolsos\")\n",
    "plt.tight_layout()\n",
    "plt.show()\n"
   ]
  },
  {
   "cell_type": "markdown",
   "id": "a0fa7baf",
   "metadata": {},
   "source": [
    "#### Data Cleaning\n",
    "- Vamos retirar as variáveis que não funcionam para o modelo de Isolation Forest"
   ]
  },
  {
   "cell_type": "markdown",
   "id": "d367eb3e",
   "metadata": {},
   "source": []
  }
 ],
 "metadata": {
  "kernelspec": {
   "display_name": "ROCKETSEAT-znLm4meT",
   "language": "python",
   "name": "python3"
  },
  "language_info": {
   "codemirror_mode": {
    "name": "ipython",
    "version": 3
   },
   "file_extension": ".py",
   "mimetype": "text/x-python",
   "name": "python",
   "nbconvert_exporter": "python",
   "pygments_lexer": "ipython3",
   "version": "3.12.4"
  }
 },
 "nbformat": 4,
 "nbformat_minor": 5
}
