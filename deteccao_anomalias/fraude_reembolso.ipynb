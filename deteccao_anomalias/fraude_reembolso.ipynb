{
 "cells": [
  {
   "cell_type": "code",
   "execution_count": 9,
   "id": "7b2860dd",
   "metadata": {},
   "outputs": [],
   "source": [
    "# Manipulação e Análise dos dados\n",
    "import pandas as pd\n",
    "import numpy as np\n",
    "\n",
    "# Visualização de dados\n",
    "import matplotlib.pyplot as plt\n",
    "import seaborn as sns\n",
    "\n",
    "# Pré-processamento e Machine Learning\n",
    "from sklearn.preprocessing import StandardScaler, OneHotEncoder\n",
    "from sklearn.ensemble import IsolationForest\n",
    "from sklearn.pipeline import Pipeline\n",
    "from sklearn.compose import ColumnTransformer\n",
    "\n",
    "# Avaliação de Metricas e Visualização de Outliers\n",
    "from sklearn.metrics import classification_report, r2_score, root_mean_squared_error, f1_score\n",
    "import plotly.express as px"
   ]
  },
  {
   "cell_type": "markdown",
   "id": "b078af4c",
   "metadata": {},
   "source": [
    "### Perguntas que queremos responder\n",
    "\n",
    "- Como os dados estão distribuídos?\n",
    "- Existem valores fora do padrão já visíveis?\n",
    "- Quais vairáveis podem ajudar o modelo a detectar anomalias?"
   ]
  },
  {
   "cell_type": "markdown",
   "id": "1424a959",
   "metadata": {},
   "source": [
    "#### Pensamento Analítico Comum\n",
    "- Antes de detectar o anomalias, preciso entender o que é normal\n",
    "\n",
    "\" Avaliar estatísticas básicas ajuda a definir o que é \"normal\" \"\n",
    "\n",
    "\" Outliers muitas vezes podem ser percebidos só olhando a dispersão dos dados \"\n",
    "\n",
    "\" Categorias como 'Outros' ou valores muitos altos podem esconder padrões de fraude ou exceções \" \n",
    "\n",
    "---\n",
    "#### Ações que vamos fazer:\n",
    "1. Carregar o dataset\n",
    "\n",
    "2. Ver primeiras linhas e tipos de dados\n",
    "\n",
    "3. Feature Engineering & Data Cleaning\n",
    "\n",
    "4. Análise estatística das variáveis numéricas (valor)\n",
    "\n",
    "5. Distribuição de reembolsos por categoria\n",
    "\n",
    "6. Distribuição de reembolsos por funcionário\n",
    "\n",
    "7. Análise visual com gráficos\n",
    "\n",
    "---\n",
    "#### Resultado esperado:\n",
    "- Identificar padrões esperados (ex: reembolso alimentação = valores menores)\n",
    "\n",
    "- Levantar hipóteses: “Por que esse funcionário tem mais reembolsos?”, “Essa categoria costuma ter valores muito acima?”\n",
    "\n",
    "- Pensar em features úteis para o modelo: valor, categoria, frequência, etc.\n",
    "\n"
   ]
  },
  {
   "cell_type": "markdown",
   "id": "393e72c2",
   "metadata": {},
   "source": [
    "### Carregar Dados"
   ]
  },
  {
   "cell_type": "markdown",
   "id": "55343f8b",
   "metadata": {},
   "source": [
    "- Como os dados estão estruturados?\n",
    "\n",
    "- Vamos observar as primeira linhas para entender o formato do dataset, valores possíveis e o que pode ser ruído"
   ]
  },
  {
   "cell_type": "code",
   "execution_count": 10,
   "id": "d91308cc",
   "metadata": {},
   "outputs": [
    {
     "name": "stderr",
     "output_type": "stream",
     "text": [
      "<>:2: SyntaxWarning: invalid escape sequence '\\d'\n",
      "<>:2: SyntaxWarning: invalid escape sequence '\\d'\n",
      "C:\\Users\\Carolina\\AppData\\Local\\Temp\\ipykernel_8436\\2106397421.py:2: SyntaxWarning: invalid escape sequence '\\d'\n",
      "  df_reembolso = pd.read_csv('.\\datasets\\dados_reembolsos.csv')\n"
     ]
    }
   ],
   "source": [
    "# Carregar DataSet\n",
    "df_reembolso = pd.read_csv('.\\datasets\\dados_reembolsos.csv')"
   ]
  },
  {
   "cell_type": "code",
   "execution_count": 11,
   "id": "ca3ba49e",
   "metadata": {},
   "outputs": [
    {
     "name": "stdout",
     "output_type": "stream",
     "text": [
      "<class 'pandas.core.frame.DataFrame'>\n",
      "RangeIndex: 1000 entries, 0 to 999\n",
      "Data columns (total 5 columns):\n",
      " #   Column          Non-Null Count  Dtype  \n",
      "---  ------          --------------  -----  \n",
      " 0   id_funcionario  1000 non-null   int64  \n",
      " 1   data_reembolso  1000 non-null   object \n",
      " 2   categoria       1000 non-null   object \n",
      " 3   valor           1000 non-null   float64\n",
      " 4   descricao       1000 non-null   object \n",
      "dtypes: float64(1), int64(1), object(3)\n",
      "memory usage: 39.2+ KB\n"
     ]
    }
   ],
   "source": [
    "df_reembolso.info()"
   ]
  },
  {
   "cell_type": "markdown",
   "id": "a4fd53ae",
   "metadata": {},
   "source": [
    "- Os dados estão completos, não é necessário converter os tipos das variáveis, remover ou imputar dados ou padronizar categorias\n",
    "\n",
    "- Temos 2 variáveis numéricas e 3 variáveis categóricas\n",
    "\n",
    "- O Dataset é composto por __5 Colunas e 1000 Linhas__"
   ]
  },
  {
   "cell_type": "code",
   "execution_count": 12,
   "id": "35bdd4bc",
   "metadata": {},
   "outputs": [
    {
     "data": {
      "text/html": [
       "<div>\n",
       "<style scoped>\n",
       "    .dataframe tbody tr th:only-of-type {\n",
       "        vertical-align: middle;\n",
       "    }\n",
       "\n",
       "    .dataframe tbody tr th {\n",
       "        vertical-align: top;\n",
       "    }\n",
       "\n",
       "    .dataframe thead th {\n",
       "        text-align: right;\n",
       "    }\n",
       "</style>\n",
       "<table border=\"1\" class=\"dataframe\">\n",
       "  <thead>\n",
       "    <tr style=\"text-align: right;\">\n",
       "      <th></th>\n",
       "      <th>id_funcionario</th>\n",
       "      <th>data_reembolso</th>\n",
       "      <th>categoria</th>\n",
       "      <th>valor</th>\n",
       "      <th>descricao</th>\n",
       "    </tr>\n",
       "  </thead>\n",
       "  <tbody>\n",
       "    <tr>\n",
       "      <th>0</th>\n",
       "      <td>1061</td>\n",
       "      <td>2024-12-20</td>\n",
       "      <td>Transporte</td>\n",
       "      <td>23.69</td>\n",
       "      <td>Reembolso de combustível</td>\n",
       "    </tr>\n",
       "    <tr>\n",
       "      <th>1</th>\n",
       "      <td>1088</td>\n",
       "      <td>2024-11-12</td>\n",
       "      <td>Educação</td>\n",
       "      <td>213.96</td>\n",
       "      <td>Inscrição em conferência da área</td>\n",
       "    </tr>\n",
       "    <tr>\n",
       "      <th>2</th>\n",
       "      <td>1027</td>\n",
       "      <td>2024-11-14</td>\n",
       "      <td>Outros</td>\n",
       "      <td>137.96</td>\n",
       "      <td>Compra emergencial durante viagem</td>\n",
       "    </tr>\n",
       "    <tr>\n",
       "      <th>3</th>\n",
       "      <td>1067</td>\n",
       "      <td>2024-10-31</td>\n",
       "      <td>Transporte</td>\n",
       "      <td>175.51</td>\n",
       "      <td>Reembolso de combustível</td>\n",
       "    </tr>\n",
       "    <tr>\n",
       "      <th>4</th>\n",
       "      <td>1097</td>\n",
       "      <td>2024-12-30</td>\n",
       "      <td>Educação</td>\n",
       "      <td>355.66</td>\n",
       "      <td>Treinamento obrigatório da empresa</td>\n",
       "    </tr>\n",
       "    <tr>\n",
       "      <th>5</th>\n",
       "      <td>1098</td>\n",
       "      <td>2025-01-31</td>\n",
       "      <td>Alimentação</td>\n",
       "      <td>39.94</td>\n",
       "      <td>Almoço com cliente em restaurante local</td>\n",
       "    </tr>\n",
       "    <tr>\n",
       "      <th>6</th>\n",
       "      <td>1088</td>\n",
       "      <td>2024-10-17</td>\n",
       "      <td>Educação</td>\n",
       "      <td>348.60</td>\n",
       "      <td>Inscrição em conferência da área</td>\n",
       "    </tr>\n",
       "    <tr>\n",
       "      <th>7</th>\n",
       "      <td>1024</td>\n",
       "      <td>2024-10-14</td>\n",
       "      <td>Transporte</td>\n",
       "      <td>38.11</td>\n",
       "      <td>Estacionamento em local de reunião</td>\n",
       "    </tr>\n",
       "    <tr>\n",
       "      <th>8</th>\n",
       "      <td>1098</td>\n",
       "      <td>2024-12-28</td>\n",
       "      <td>Outros</td>\n",
       "      <td>362.40</td>\n",
       "      <td>Compra de material de escritório</td>\n",
       "    </tr>\n",
       "    <tr>\n",
       "      <th>9</th>\n",
       "      <td>1091</td>\n",
       "      <td>2025-02-18</td>\n",
       "      <td>Hotel</td>\n",
       "      <td>505.78</td>\n",
       "      <td>Reembolso de hospedagem em congresso</td>\n",
       "    </tr>\n",
       "  </tbody>\n",
       "</table>\n",
       "</div>"
      ],
      "text/plain": [
       "   id_funcionario data_reembolso    categoria   valor  \\\n",
       "0            1061     2024-12-20   Transporte   23.69   \n",
       "1            1088     2024-11-12     Educação  213.96   \n",
       "2            1027     2024-11-14       Outros  137.96   \n",
       "3            1067     2024-10-31   Transporte  175.51   \n",
       "4            1097     2024-12-30     Educação  355.66   \n",
       "5            1098     2025-01-31  Alimentação   39.94   \n",
       "6            1088     2024-10-17     Educação  348.60   \n",
       "7            1024     2024-10-14   Transporte   38.11   \n",
       "8            1098     2024-12-28       Outros  362.40   \n",
       "9            1091     2025-02-18        Hotel  505.78   \n",
       "\n",
       "                                 descricao  \n",
       "0                 Reembolso de combustível  \n",
       "1         Inscrição em conferência da área  \n",
       "2        Compra emergencial durante viagem  \n",
       "3                 Reembolso de combustível  \n",
       "4       Treinamento obrigatório da empresa  \n",
       "5  Almoço com cliente em restaurante local  \n",
       "6         Inscrição em conferência da área  \n",
       "7       Estacionamento em local de reunião  \n",
       "8         Compra de material de escritório  \n",
       "9     Reembolso de hospedagem em congresso  "
      ]
     },
     "execution_count": 12,
     "metadata": {},
     "output_type": "execute_result"
    }
   ],
   "source": [
    "# Observar estrutura e Valores\n",
    "df_reembolso.head(10)"
   ]
  },
  {
   "cell_type": "markdown",
   "id": "4577ddbe",
   "metadata": {},
   "source": [
    "### Feature Engineering"
   ]
  },
  {
   "cell_type": "code",
   "execution_count": 13,
   "id": "08f39cb1",
   "metadata": {},
   "outputs": [],
   "source": [
    "# Mostrar e remover (se houver) colunas categoricas que possuem somente um valor possível\n",
    "for column in df_reembolso.select_dtypes(include=['object']).columns:\n",
    "    if df_reembolso[column].nunique() == 1:\n",
    "        print(f'{column} tem soment um valor posssivel: {df_reembolso[column].unique()}')\n"
   ]
  },
  {
   "cell_type": "code",
   "execution_count": 14,
   "id": "1b82c553",
   "metadata": {},
   "outputs": [
    {
     "name": "stdout",
     "output_type": "stream",
     "text": [
      "data_reembolso Possui o valores de ['2024-12-20' '2024-11-12' '2024-11-14' '2024-10-31' '2024-12-30'\n",
      " '2025-01-31' '2024-10-17' '2024-10-14' '2024-12-28' '2025-02-18'\n",
      " '2025-02-07' '2025-01-08' '2024-11-27' '2025-03-08' '2025-03-20'\n",
      " '2025-02-11' '2024-12-05' '2024-12-18' '2024-11-09' '2025-03-30'\n",
      " '2025-03-21' '2024-11-05' '2024-11-29' '2024-11-23' '2025-04-14'\n",
      " '2025-04-05' '2025-02-06' '2024-11-07' '2024-12-01' '2025-04-13'\n",
      " '2025-03-27' '2024-11-21' '2024-10-15' '2025-04-10' '2025-01-30'\n",
      " '2025-04-06' '2025-03-01' '2024-12-07' '2024-12-03' '2025-03-29'\n",
      " '2025-03-16' '2025-01-01' '2025-02-16' '2025-01-25' '2025-03-05'\n",
      " '2024-10-16' '2025-02-27' '2025-02-12' '2025-02-23' '2024-12-02'\n",
      " '2025-01-24' '2025-02-28' '2025-03-07' '2025-04-01' '2024-12-12'\n",
      " '2025-04-12' '2025-02-09' '2025-04-09' '2025-04-11' '2024-12-25'\n",
      " '2025-02-04' '2024-11-06' '2025-01-20' '2025-02-05' '2025-02-25'\n",
      " '2024-12-31' '2025-02-02' '2024-11-08' '2024-10-21' '2025-02-22'\n",
      " '2025-04-02' '2025-02-14' '2025-01-22' '2025-01-03' '2024-12-06'\n",
      " '2025-01-29' '2024-10-28' '2024-11-30' '2024-11-19' '2025-03-13'\n",
      " '2025-03-28' '2025-01-28' '2024-11-10' '2024-10-18' '2024-12-09'\n",
      " '2024-12-21' '2024-12-24' '2025-01-10' '2025-03-03' '2025-01-19'\n",
      " '2024-12-08' '2025-02-08' '2024-12-14' '2024-11-13' '2024-11-28'\n",
      " '2025-02-03' '2025-03-25' '2025-03-02' '2025-03-09' '2024-12-16'\n",
      " '2024-12-11' '2024-11-15' '2024-11-25' '2025-03-15' '2024-12-19'\n",
      " '2024-12-15' '2025-01-16' '2024-10-26' '2025-01-13' '2024-12-29'\n",
      " '2025-02-01' '2024-12-10' '2025-04-03' '2025-02-10' '2025-03-24'\n",
      " '2025-04-08' '2024-11-18' '2024-10-25' '2025-03-06' '2025-02-19'\n",
      " '2025-02-17' '2024-12-26' '2024-12-13' '2025-01-02' '2025-03-18'\n",
      " '2024-11-17' '2024-11-03' '2024-12-04' '2025-01-27' '2025-04-07'\n",
      " '2024-11-20' '2024-10-24' '2025-01-04' '2025-02-13' '2025-01-14'\n",
      " '2025-03-04' '2025-01-05' '2024-11-24' '2024-11-04' '2025-03-26'\n",
      " '2025-01-07' '2025-01-17' '2025-03-11' '2024-10-20' '2024-12-22'\n",
      " '2024-11-01' '2024-12-17' '2024-11-11' '2025-03-14' '2025-01-26'\n",
      " '2024-11-02' '2024-10-23' '2024-10-19' '2025-01-11' '2025-03-19'\n",
      " '2024-10-27' '2024-10-29' '2025-04-04' '2025-03-10' '2024-10-30'\n",
      " '2024-11-22' '2025-03-31' '2025-02-20' '2025-02-21' '2024-12-23'\n",
      " '2024-10-22' '2025-02-24' '2025-01-18' '2024-11-16' '2024-12-27'\n",
      " '2025-03-12' '2025-03-17' '2025-01-12' '2025-02-15' '2024-11-26'\n",
      " '2025-03-22' '2025-01-15' '2025-01-09' '2025-02-26' '2025-01-21'\n",
      " '2025-01-06' '2025-03-23' '2025-01-23']\n",
      "categoria Possui o valores de ['Transporte' 'Educação' 'Outros' 'Alimentação' 'Hotel']\n",
      "descricao Possui o valores de ['Reembolso de combustível' 'Inscrição em conferência da área'\n",
      " 'Compra emergencial durante viagem' 'Treinamento obrigatório da empresa'\n",
      " 'Almoço com cliente em restaurante local'\n",
      " 'Estacionamento em local de reunião' 'Compra de material de escritório'\n",
      " 'Reembolso de hospedagem em congresso' 'Workshop de capacitação'\n",
      " 'Serviços de impressão para apresentação'\n",
      " 'Hospedagem em viagem a trabalho' 'Diária de hotel em missão comercial'\n",
      " 'Café da manhã durante evento corporativo'\n",
      " 'Reembolso de brindes para cliente' 'Jantar em viagem de negócios'\n",
      " 'Táxi do aeroporto ao hotel' 'Estadia para evento corporativo'\n",
      " 'Aluguel de carro para deslocamento profissional'\n",
      " 'Compra de lanche em aeroporto'\n",
      " 'Corrida de aplicativo para reunião externa'\n",
      " 'Diária em hotel durante treinamento' 'Compra de livro técnico'\n",
      " 'Refeição após reunião externa'\n",
      " 'Curso online de atualização profissional'\n",
      " 'Assinatura de software temporário']\n"
     ]
    }
   ],
   "source": [
    "# Mostrar os valores possíveis das colunas catagóricas\n",
    "for column in df_reembolso.select_dtypes(include=['object']).columns:\n",
    "    print(f'{column} Possui o valores de {df_reembolso[column].unique()}')"
   ]
  },
  {
   "cell_type": "markdown",
   "id": "d86b8175",
   "metadata": {},
   "source": [
    "#### Estatística Descritiva"
   ]
  },
  {
   "cell_type": "code",
   "execution_count": 15,
   "id": "b5d71eab",
   "metadata": {},
   "outputs": [
    {
     "data": {
      "text/html": [
       "<div>\n",
       "<style scoped>\n",
       "    .dataframe tbody tr th:only-of-type {\n",
       "        vertical-align: middle;\n",
       "    }\n",
       "\n",
       "    .dataframe tbody tr th {\n",
       "        vertical-align: top;\n",
       "    }\n",
       "\n",
       "    .dataframe thead th {\n",
       "        text-align: right;\n",
       "    }\n",
       "</style>\n",
       "<table border=\"1\" class=\"dataframe\">\n",
       "  <thead>\n",
       "    <tr style=\"text-align: right;\">\n",
       "      <th></th>\n",
       "      <th>id_funcionario</th>\n",
       "      <th>valor</th>\n",
       "    </tr>\n",
       "  </thead>\n",
       "  <tbody>\n",
       "    <tr>\n",
       "      <th>count</th>\n",
       "      <td>1000.000000</td>\n",
       "      <td>1000.000000</td>\n",
       "    </tr>\n",
       "    <tr>\n",
       "      <th>mean</th>\n",
       "      <td>1053.399000</td>\n",
       "      <td>253.495100</td>\n",
       "    </tr>\n",
       "    <tr>\n",
       "      <th>std</th>\n",
       "      <td>28.770498</td>\n",
       "      <td>217.906168</td>\n",
       "    </tr>\n",
       "    <tr>\n",
       "      <th>min</th>\n",
       "      <td>1000.000000</td>\n",
       "      <td>10.000000</td>\n",
       "    </tr>\n",
       "    <tr>\n",
       "      <th>25%</th>\n",
       "      <td>1028.000000</td>\n",
       "      <td>84.275000</td>\n",
       "    </tr>\n",
       "    <tr>\n",
       "      <th>50%</th>\n",
       "      <td>1049.000000</td>\n",
       "      <td>175.000000</td>\n",
       "    </tr>\n",
       "    <tr>\n",
       "      <th>75%</th>\n",
       "      <td>1081.000000</td>\n",
       "      <td>373.320000</td>\n",
       "    </tr>\n",
       "    <tr>\n",
       "      <th>max</th>\n",
       "      <td>1098.000000</td>\n",
       "      <td>1102.310000</td>\n",
       "    </tr>\n",
       "  </tbody>\n",
       "</table>\n",
       "</div>"
      ],
      "text/plain": [
       "       id_funcionario        valor\n",
       "count     1000.000000  1000.000000\n",
       "mean      1053.399000   253.495100\n",
       "std         28.770498   217.906168\n",
       "min       1000.000000    10.000000\n",
       "25%       1028.000000    84.275000\n",
       "50%       1049.000000   175.000000\n",
       "75%       1081.000000   373.320000\n",
       "max       1098.000000  1102.310000"
      ]
     },
     "execution_count": 15,
     "metadata": {},
     "output_type": "execute_result"
    }
   ],
   "source": [
    "df_reembolso.describe()"
   ]
  },
  {
   "cell_type": "markdown",
   "id": "29a253bd",
   "metadata": {},
   "source": [
    "- Ao observar a Estatística descritivas, notamos que o desvio padrão da variável \"valor\" está bem alto, um valor bem próximo a média dessa variável. Isso indica que provavelmente temos alguns Outliers para identificar \n",
    "\n",
    "---\n",
    "- Como esta a distribuição das categorias?"
   ]
  },
  {
   "cell_type": "code",
   "execution_count": 16,
   "id": "f6664d96",
   "metadata": {},
   "outputs": [
    {
     "data": {
      "application/vnd.plotly.v1+json": {
       "config": {
        "plotlyServerURL": "https://plot.ly"
       },
       "data": [
        {
         "bingroup": "x",
         "hovertemplate": "variable=categoria<br>value=%{x}<br>count=%{y}<extra></extra>",
         "legendgroup": "categoria",
         "marker": {
          "color": "#636efa",
          "pattern": {
           "shape": ""
          }
         },
         "name": "categoria",
         "orientation": "v",
         "showlegend": true,
         "type": "histogram",
         "x": [
          "Transporte",
          "Educação",
          "Outros",
          "Transporte",
          "Educação",
          "Alimentação",
          "Educação",
          "Transporte",
          "Outros",
          "Hotel",
          "Educação",
          "Outros",
          "Hotel",
          "Hotel",
          "Alimentação",
          "Educação",
          "Outros",
          "Alimentação",
          "Transporte",
          "Alimentação",
          "Educação",
          "Transporte",
          "Hotel",
          "Alimentação",
          "Outros",
          "Transporte",
          "Hotel",
          "Alimentação",
          "Transporte",
          "Alimentação",
          "Alimentação",
          "Transporte",
          "Transporte",
          "Alimentação",
          "Transporte",
          "Hotel",
          "Educação",
          "Hotel",
          "Transporte",
          "Educação",
          "Hotel",
          "Outros",
          "Transporte",
          "Educação",
          "Hotel",
          "Alimentação",
          "Outros",
          "Outros",
          "Transporte",
          "Educação",
          "Alimentação",
          "Hotel",
          "Alimentação",
          "Alimentação",
          "Transporte",
          "Hotel",
          "Alimentação",
          "Educação",
          "Educação",
          "Hotel",
          "Alimentação",
          "Transporte",
          "Alimentação",
          "Alimentação",
          "Alimentação",
          "Transporte",
          "Alimentação",
          "Hotel",
          "Educação",
          "Transporte",
          "Transporte",
          "Hotel",
          "Educação",
          "Outros",
          "Hotel",
          "Alimentação",
          "Outros",
          "Transporte",
          "Alimentação",
          "Hotel",
          "Transporte",
          "Transporte",
          "Hotel",
          "Alimentação",
          "Educação",
          "Hotel",
          "Outros",
          "Hotel",
          "Transporte",
          "Hotel",
          "Hotel",
          "Outros",
          "Alimentação",
          "Hotel",
          "Outros",
          "Alimentação",
          "Educação",
          "Educação",
          "Educação",
          "Educação",
          "Outros",
          "Outros",
          "Educação",
          "Transporte",
          "Alimentação",
          "Educação",
          "Transporte",
          "Hotel",
          "Educação",
          "Outros",
          "Outros",
          "Outros",
          "Educação",
          "Transporte",
          "Outros",
          "Alimentação",
          "Alimentação",
          "Hotel",
          "Educação",
          "Outros",
          "Transporte",
          "Transporte",
          "Educação",
          "Hotel",
          "Educação",
          "Alimentação",
          "Hotel",
          "Alimentação",
          "Hotel",
          "Hotel",
          "Educação",
          "Alimentação",
          "Transporte",
          "Educação",
          "Alimentação",
          "Alimentação",
          "Outros",
          "Outros",
          "Transporte",
          "Alimentação",
          "Educação",
          "Transporte",
          "Educação",
          "Alimentação",
          "Hotel",
          "Educação",
          "Outros",
          "Hotel",
          "Alimentação",
          "Educação",
          "Outros",
          "Transporte",
          "Educação",
          "Alimentação",
          "Transporte",
          "Transporte",
          "Hotel",
          "Educação",
          "Hotel",
          "Hotel",
          "Educação",
          "Alimentação",
          "Hotel",
          "Outros",
          "Hotel",
          "Alimentação",
          "Hotel",
          "Hotel",
          "Outros",
          "Outros",
          "Hotel",
          "Alimentação",
          "Hotel",
          "Educação",
          "Outros",
          "Transporte",
          "Educação",
          "Hotel",
          "Outros",
          "Alimentação",
          "Hotel",
          "Transporte",
          "Alimentação",
          "Transporte",
          "Hotel",
          "Outros",
          "Alimentação",
          "Outros",
          "Alimentação",
          "Outros",
          "Educação",
          "Educação",
          "Transporte",
          "Educação",
          "Transporte",
          "Transporte",
          "Hotel",
          "Alimentação",
          "Hotel",
          "Transporte",
          "Transporte",
          "Alimentação",
          "Educação",
          "Educação",
          "Alimentação",
          "Transporte",
          "Hotel",
          "Alimentação",
          "Transporte",
          "Hotel",
          "Alimentação",
          "Outros",
          "Alimentação",
          "Hotel",
          "Outros",
          "Hotel",
          "Transporte",
          "Hotel",
          "Educação",
          "Transporte",
          "Alimentação",
          "Transporte",
          "Alimentação",
          "Hotel",
          "Alimentação",
          "Alimentação",
          "Alimentação",
          "Educação",
          "Hotel",
          "Transporte",
          "Alimentação",
          "Alimentação",
          "Outros",
          "Transporte",
          "Outros",
          "Hotel",
          "Educação",
          "Transporte",
          "Transporte",
          "Educação",
          "Alimentação",
          "Transporte",
          "Transporte",
          "Alimentação",
          "Educação",
          "Outros",
          "Alimentação",
          "Transporte",
          "Hotel",
          "Alimentação",
          "Hotel",
          "Hotel",
          "Alimentação",
          "Alimentação",
          "Transporte",
          "Educação",
          "Alimentação",
          "Transporte",
          "Educação",
          "Educação",
          "Transporte",
          "Alimentação",
          "Educação",
          "Outros",
          "Outros",
          "Hotel",
          "Transporte",
          "Alimentação",
          "Alimentação",
          "Hotel",
          "Outros",
          "Outros",
          "Hotel",
          "Outros",
          "Transporte",
          "Educação",
          "Outros",
          "Transporte",
          "Educação",
          "Educação",
          "Hotel",
          "Outros",
          "Educação",
          "Alimentação",
          "Outros",
          "Educação",
          "Alimentação",
          "Alimentação",
          "Educação",
          "Outros",
          "Outros",
          "Hotel",
          "Transporte",
          "Hotel",
          "Educação",
          "Outros",
          "Hotel",
          "Alimentação",
          "Hotel",
          "Hotel",
          "Hotel",
          "Transporte",
          "Educação",
          "Outros",
          "Alimentação",
          "Educação",
          "Hotel",
          "Educação",
          "Outros",
          "Educação",
          "Outros",
          "Educação",
          "Alimentação",
          "Outros",
          "Transporte",
          "Transporte",
          "Outros",
          "Outros",
          "Outros",
          "Educação",
          "Educação",
          "Educação",
          "Outros",
          "Outros",
          "Outros",
          "Transporte",
          "Hotel",
          "Transporte",
          "Outros",
          "Alimentação",
          "Educação",
          "Educação",
          "Educação",
          "Alimentação",
          "Transporte",
          "Alimentação",
          "Transporte",
          "Hotel",
          "Hotel",
          "Outros",
          "Educação",
          "Outros",
          "Outros",
          "Outros",
          "Alimentação",
          "Educação",
          "Alimentação",
          "Hotel",
          "Educação",
          "Hotel",
          "Outros",
          "Transporte",
          "Transporte",
          "Transporte",
          "Educação",
          "Hotel",
          "Transporte",
          "Hotel",
          "Educação",
          "Transporte",
          "Alimentação",
          "Hotel",
          "Outros",
          "Hotel",
          "Transporte",
          "Outros",
          "Outros",
          "Alimentação",
          "Transporte",
          "Hotel",
          "Outros",
          "Outros",
          "Hotel",
          "Outros",
          "Alimentação",
          "Alimentação",
          "Outros",
          "Outros",
          "Outros",
          "Alimentação",
          "Transporte",
          "Alimentação",
          "Outros",
          "Alimentação",
          "Transporte",
          "Transporte",
          "Educação",
          "Transporte",
          "Hotel",
          "Alimentação",
          "Hotel",
          "Outros",
          "Educação",
          "Educação",
          "Alimentação",
          "Alimentação",
          "Outros",
          "Outros",
          "Alimentação",
          "Alimentação",
          "Hotel",
          "Hotel",
          "Educação",
          "Transporte",
          "Transporte",
          "Hotel",
          "Hotel",
          "Outros",
          "Alimentação",
          "Outros",
          "Outros",
          "Transporte",
          "Educação",
          "Transporte",
          "Outros",
          "Alimentação",
          "Outros",
          "Outros",
          "Outros",
          "Alimentação",
          "Transporte",
          "Hotel",
          "Transporte",
          "Outros",
          "Hotel",
          "Hotel",
          "Hotel",
          "Outros",
          "Hotel",
          "Alimentação",
          "Transporte",
          "Hotel",
          "Hotel",
          "Educação",
          "Hotel",
          "Alimentação",
          "Outros",
          "Transporte",
          "Hotel",
          "Alimentação",
          "Alimentação",
          "Educação",
          "Alimentação",
          "Outros",
          "Transporte",
          "Transporte",
          "Hotel",
          "Outros",
          "Educação",
          "Alimentação",
          "Transporte",
          "Educação",
          "Outros",
          "Transporte",
          "Alimentação",
          "Educação",
          "Hotel",
          "Alimentação",
          "Hotel",
          "Educação",
          "Hotel",
          "Outros",
          "Hotel",
          "Outros",
          "Educação",
          "Alimentação",
          "Educação",
          "Educação",
          "Educação",
          "Alimentação",
          "Educação",
          "Alimentação",
          "Hotel",
          "Transporte",
          "Outros",
          "Transporte",
          "Alimentação",
          "Educação",
          "Outros",
          "Educação",
          "Alimentação",
          "Outros",
          "Outros",
          "Transporte",
          "Hotel",
          "Educação",
          "Alimentação",
          "Transporte",
          "Educação",
          "Transporte",
          "Transporte",
          "Transporte",
          "Outros",
          "Hotel",
          "Outros",
          "Educação",
          "Alimentação",
          "Outros",
          "Educação",
          "Alimentação",
          "Outros",
          "Outros",
          "Alimentação",
          "Transporte",
          "Alimentação",
          "Educação",
          "Outros",
          "Educação",
          "Outros",
          "Educação",
          "Educação",
          "Hotel",
          "Educação",
          "Alimentação",
          "Outros",
          "Alimentação",
          "Transporte",
          "Hotel",
          "Educação",
          "Hotel",
          "Outros",
          "Hotel",
          "Transporte",
          "Outros",
          "Hotel",
          "Educação",
          "Outros",
          "Educação",
          "Alimentação",
          "Transporte",
          "Outros",
          "Outros",
          "Alimentação",
          "Alimentação",
          "Educação",
          "Alimentação",
          "Transporte",
          "Outros",
          "Educação",
          "Outros",
          "Outros",
          "Transporte",
          "Alimentação",
          "Outros",
          "Alimentação",
          "Outros",
          "Transporte",
          "Transporte",
          "Alimentação",
          "Educação",
          "Educação",
          "Transporte",
          "Alimentação",
          "Hotel",
          "Hotel",
          "Transporte",
          "Educação",
          "Alimentação",
          "Educação",
          "Outros",
          "Hotel",
          "Outros",
          "Outros",
          "Educação",
          "Educação",
          "Hotel",
          "Educação",
          "Educação",
          "Alimentação",
          "Transporte",
          "Educação",
          "Outros",
          "Hotel",
          "Alimentação",
          "Hotel",
          "Transporte",
          "Hotel",
          "Hotel",
          "Transporte",
          "Transporte",
          "Transporte",
          "Transporte",
          "Outros",
          "Alimentação",
          "Educação",
          "Outros",
          "Hotel",
          "Educação",
          "Educação",
          "Outros",
          "Transporte",
          "Alimentação",
          "Educação",
          "Outros",
          "Transporte",
          "Outros",
          "Alimentação",
          "Transporte",
          "Alimentação",
          "Outros",
          "Outros",
          "Hotel",
          "Hotel",
          "Educação",
          "Educação",
          "Educação",
          "Transporte",
          "Outros",
          "Hotel",
          "Educação",
          "Transporte",
          "Alimentação",
          "Educação",
          "Outros",
          "Hotel",
          "Hotel",
          "Alimentação",
          "Transporte",
          "Hotel",
          "Alimentação",
          "Hotel",
          "Hotel",
          "Hotel",
          "Educação",
          "Outros",
          "Outros",
          "Hotel",
          "Outros",
          "Educação",
          "Outros",
          "Transporte",
          "Hotel",
          "Outros",
          "Alimentação",
          "Hotel",
          "Hotel",
          "Hotel",
          "Educação",
          "Hotel",
          "Educação",
          "Transporte",
          "Transporte",
          "Alimentação",
          "Educação",
          "Alimentação",
          "Alimentação",
          "Educação",
          "Alimentação",
          "Outros",
          "Educação",
          "Transporte",
          "Transporte",
          "Transporte",
          "Hotel",
          "Educação",
          "Outros",
          "Outros",
          "Outros",
          "Outros",
          "Outros",
          "Educação",
          "Alimentação",
          "Hotel",
          "Transporte",
          "Alimentação",
          "Transporte",
          "Educação",
          "Educação",
          "Alimentação",
          "Outros",
          "Outros",
          "Educação",
          "Educação",
          "Educação",
          "Hotel",
          "Transporte",
          "Outros",
          "Outros",
          "Transporte",
          "Transporte",
          "Educação",
          "Hotel",
          "Transporte",
          "Transporte",
          "Alimentação",
          "Hotel",
          "Educação",
          "Alimentação",
          "Educação",
          "Educação",
          "Hotel",
          "Alimentação",
          "Transporte",
          "Educação",
          "Educação",
          "Hotel",
          "Alimentação",
          "Educação",
          "Alimentação",
          "Alimentação",
          "Transporte",
          "Hotel",
          "Alimentação",
          "Alimentação",
          "Hotel",
          "Alimentação",
          "Transporte",
          "Alimentação",
          "Outros",
          "Transporte",
          "Outros",
          "Outros",
          "Alimentação",
          "Educação",
          "Outros",
          "Alimentação",
          "Transporte",
          "Transporte",
          "Hotel",
          "Hotel",
          "Transporte",
          "Educação",
          "Transporte",
          "Educação",
          "Hotel",
          "Educação",
          "Transporte",
          "Hotel",
          "Outros",
          "Alimentação",
          "Educação",
          "Outros",
          "Alimentação",
          "Transporte",
          "Hotel",
          "Hotel",
          "Outros",
          "Outros",
          "Outros",
          "Hotel",
          "Hotel",
          "Outros",
          "Transporte",
          "Transporte",
          "Transporte",
          "Outros",
          "Educação",
          "Outros",
          "Hotel",
          "Alimentação",
          "Educação",
          "Alimentação",
          "Educação",
          "Alimentação",
          "Outros",
          "Alimentação",
          "Transporte",
          "Alimentação",
          "Educação",
          "Outros",
          "Transporte",
          "Outros",
          "Alimentação",
          "Educação",
          "Transporte",
          "Educação",
          "Transporte",
          "Educação",
          "Outros",
          "Educação",
          "Hotel",
          "Outros",
          "Educação",
          "Hotel",
          "Educação",
          "Alimentação",
          "Alimentação",
          "Hotel",
          "Transporte",
          "Alimentação",
          "Outros",
          "Outros",
          "Alimentação",
          "Transporte",
          "Hotel",
          "Transporte",
          "Alimentação",
          "Outros",
          "Alimentação",
          "Transporte",
          "Outros",
          "Hotel",
          "Outros",
          "Alimentação",
          "Educação",
          "Transporte",
          "Educação",
          "Outros",
          "Outros",
          "Hotel",
          "Transporte",
          "Educação",
          "Outros",
          "Alimentação",
          "Hotel",
          "Transporte",
          "Educação",
          "Alimentação",
          "Hotel",
          "Outros",
          "Transporte",
          "Outros",
          "Educação",
          "Outros",
          "Outros",
          "Alimentação",
          "Educação",
          "Outros",
          "Educação",
          "Hotel",
          "Hotel",
          "Alimentação",
          "Hotel",
          "Outros",
          "Alimentação",
          "Hotel",
          "Alimentação",
          "Alimentação",
          "Transporte",
          "Hotel",
          "Educação",
          "Hotel",
          "Outros",
          "Outros",
          "Hotel",
          "Outros",
          "Alimentação",
          "Outros",
          "Transporte",
          "Transporte",
          "Alimentação",
          "Alimentação",
          "Hotel",
          "Alimentação",
          "Educação",
          "Outros",
          "Educação",
          "Alimentação",
          "Outros",
          "Alimentação",
          "Outros",
          "Educação",
          "Transporte",
          "Hotel",
          "Hotel",
          "Hotel",
          "Hotel",
          "Outros",
          "Transporte",
          "Transporte",
          "Educação",
          "Outros",
          "Transporte",
          "Educação",
          "Hotel",
          "Transporte",
          "Transporte",
          "Transporte",
          "Outros",
          "Transporte",
          "Hotel",
          "Outros",
          "Hotel",
          "Alimentação",
          "Educação",
          "Hotel",
          "Transporte",
          "Transporte",
          "Outros",
          "Outros",
          "Transporte",
          "Transporte",
          "Alimentação",
          "Outros",
          "Hotel",
          "Educação",
          "Transporte",
          "Alimentação",
          "Alimentação",
          "Transporte",
          "Transporte",
          "Educação",
          "Hotel",
          "Educação",
          "Alimentação",
          "Educação",
          "Outros",
          "Outros",
          "Alimentação",
          "Educação",
          "Transporte",
          "Educação",
          "Educação",
          "Alimentação",
          "Educação",
          "Hotel",
          "Educação",
          "Alimentação",
          "Educação",
          "Outros",
          "Outros",
          "Educação",
          "Educação",
          "Educação",
          "Transporte",
          "Hotel",
          "Transporte",
          "Alimentação",
          "Hotel",
          "Educação",
          "Transporte",
          "Educação",
          "Transporte",
          "Transporte",
          "Transporte",
          "Hotel",
          "Educação",
          "Transporte",
          "Transporte",
          "Hotel",
          "Educação",
          "Alimentação",
          "Transporte",
          "Educação",
          "Educação",
          "Outros",
          "Outros",
          "Outros",
          "Transporte",
          "Hotel",
          "Alimentação",
          "Hotel",
          "Alimentação",
          "Transporte",
          "Hotel",
          "Outros",
          "Transporte",
          "Outros",
          "Alimentação",
          "Hotel",
          "Educação",
          "Hotel",
          "Alimentação",
          "Outros",
          "Transporte",
          "Alimentação",
          "Outros",
          "Outros",
          "Outros",
          "Outros",
          "Hotel",
          "Outros",
          "Educação",
          "Outros",
          "Hotel",
          "Alimentação",
          "Alimentação",
          "Educação",
          "Hotel",
          "Transporte",
          "Transporte",
          "Alimentação",
          "Outros",
          "Alimentação",
          "Hotel",
          "Outros",
          "Transporte",
          "Hotel",
          "Alimentação",
          "Transporte",
          "Hotel",
          "Alimentação",
          "Outros",
          "Outros",
          "Outros",
          "Alimentação",
          "Alimentação",
          "Outros",
          "Outros",
          "Outros",
          "Hotel",
          "Alimentação",
          "Alimentação",
          "Hotel",
          "Transporte",
          "Transporte",
          "Alimentação",
          "Educação",
          "Educação",
          "Transporte"
         ],
         "xaxis": "x",
         "yaxis": "y"
        }
       ],
       "layout": {
        "barmode": "relative",
        "legend": {
         "title": {
          "text": "variable"
         },
         "tracegroupgap": 0
        },
        "template": {
         "data": {
          "bar": [
           {
            "error_x": {
             "color": "#2a3f5f"
            },
            "error_y": {
             "color": "#2a3f5f"
            },
            "marker": {
             "line": {
              "color": "#E5ECF6",
              "width": 0.5
             },
             "pattern": {
              "fillmode": "overlay",
              "size": 10,
              "solidity": 0.2
             }
            },
            "type": "bar"
           }
          ],
          "barpolar": [
           {
            "marker": {
             "line": {
              "color": "#E5ECF6",
              "width": 0.5
             },
             "pattern": {
              "fillmode": "overlay",
              "size": 10,
              "solidity": 0.2
             }
            },
            "type": "barpolar"
           }
          ],
          "carpet": [
           {
            "aaxis": {
             "endlinecolor": "#2a3f5f",
             "gridcolor": "white",
             "linecolor": "white",
             "minorgridcolor": "white",
             "startlinecolor": "#2a3f5f"
            },
            "baxis": {
             "endlinecolor": "#2a3f5f",
             "gridcolor": "white",
             "linecolor": "white",
             "minorgridcolor": "white",
             "startlinecolor": "#2a3f5f"
            },
            "type": "carpet"
           }
          ],
          "choropleth": [
           {
            "colorbar": {
             "outlinewidth": 0,
             "ticks": ""
            },
            "type": "choropleth"
           }
          ],
          "contour": [
           {
            "colorbar": {
             "outlinewidth": 0,
             "ticks": ""
            },
            "colorscale": [
             [
              0,
              "#0d0887"
             ],
             [
              0.1111111111111111,
              "#46039f"
             ],
             [
              0.2222222222222222,
              "#7201a8"
             ],
             [
              0.3333333333333333,
              "#9c179e"
             ],
             [
              0.4444444444444444,
              "#bd3786"
             ],
             [
              0.5555555555555556,
              "#d8576b"
             ],
             [
              0.6666666666666666,
              "#ed7953"
             ],
             [
              0.7777777777777778,
              "#fb9f3a"
             ],
             [
              0.8888888888888888,
              "#fdca26"
             ],
             [
              1,
              "#f0f921"
             ]
            ],
            "type": "contour"
           }
          ],
          "contourcarpet": [
           {
            "colorbar": {
             "outlinewidth": 0,
             "ticks": ""
            },
            "type": "contourcarpet"
           }
          ],
          "heatmap": [
           {
            "colorbar": {
             "outlinewidth": 0,
             "ticks": ""
            },
            "colorscale": [
             [
              0,
              "#0d0887"
             ],
             [
              0.1111111111111111,
              "#46039f"
             ],
             [
              0.2222222222222222,
              "#7201a8"
             ],
             [
              0.3333333333333333,
              "#9c179e"
             ],
             [
              0.4444444444444444,
              "#bd3786"
             ],
             [
              0.5555555555555556,
              "#d8576b"
             ],
             [
              0.6666666666666666,
              "#ed7953"
             ],
             [
              0.7777777777777778,
              "#fb9f3a"
             ],
             [
              0.8888888888888888,
              "#fdca26"
             ],
             [
              1,
              "#f0f921"
             ]
            ],
            "type": "heatmap"
           }
          ],
          "histogram": [
           {
            "marker": {
             "pattern": {
              "fillmode": "overlay",
              "size": 10,
              "solidity": 0.2
             }
            },
            "type": "histogram"
           }
          ],
          "histogram2d": [
           {
            "colorbar": {
             "outlinewidth": 0,
             "ticks": ""
            },
            "colorscale": [
             [
              0,
              "#0d0887"
             ],
             [
              0.1111111111111111,
              "#46039f"
             ],
             [
              0.2222222222222222,
              "#7201a8"
             ],
             [
              0.3333333333333333,
              "#9c179e"
             ],
             [
              0.4444444444444444,
              "#bd3786"
             ],
             [
              0.5555555555555556,
              "#d8576b"
             ],
             [
              0.6666666666666666,
              "#ed7953"
             ],
             [
              0.7777777777777778,
              "#fb9f3a"
             ],
             [
              0.8888888888888888,
              "#fdca26"
             ],
             [
              1,
              "#f0f921"
             ]
            ],
            "type": "histogram2d"
           }
          ],
          "histogram2dcontour": [
           {
            "colorbar": {
             "outlinewidth": 0,
             "ticks": ""
            },
            "colorscale": [
             [
              0,
              "#0d0887"
             ],
             [
              0.1111111111111111,
              "#46039f"
             ],
             [
              0.2222222222222222,
              "#7201a8"
             ],
             [
              0.3333333333333333,
              "#9c179e"
             ],
             [
              0.4444444444444444,
              "#bd3786"
             ],
             [
              0.5555555555555556,
              "#d8576b"
             ],
             [
              0.6666666666666666,
              "#ed7953"
             ],
             [
              0.7777777777777778,
              "#fb9f3a"
             ],
             [
              0.8888888888888888,
              "#fdca26"
             ],
             [
              1,
              "#f0f921"
             ]
            ],
            "type": "histogram2dcontour"
           }
          ],
          "mesh3d": [
           {
            "colorbar": {
             "outlinewidth": 0,
             "ticks": ""
            },
            "type": "mesh3d"
           }
          ],
          "parcoords": [
           {
            "line": {
             "colorbar": {
              "outlinewidth": 0,
              "ticks": ""
             }
            },
            "type": "parcoords"
           }
          ],
          "pie": [
           {
            "automargin": true,
            "type": "pie"
           }
          ],
          "scatter": [
           {
            "fillpattern": {
             "fillmode": "overlay",
             "size": 10,
             "solidity": 0.2
            },
            "type": "scatter"
           }
          ],
          "scatter3d": [
           {
            "line": {
             "colorbar": {
              "outlinewidth": 0,
              "ticks": ""
             }
            },
            "marker": {
             "colorbar": {
              "outlinewidth": 0,
              "ticks": ""
             }
            },
            "type": "scatter3d"
           }
          ],
          "scattercarpet": [
           {
            "marker": {
             "colorbar": {
              "outlinewidth": 0,
              "ticks": ""
             }
            },
            "type": "scattercarpet"
           }
          ],
          "scattergeo": [
           {
            "marker": {
             "colorbar": {
              "outlinewidth": 0,
              "ticks": ""
             }
            },
            "type": "scattergeo"
           }
          ],
          "scattergl": [
           {
            "marker": {
             "colorbar": {
              "outlinewidth": 0,
              "ticks": ""
             }
            },
            "type": "scattergl"
           }
          ],
          "scattermap": [
           {
            "marker": {
             "colorbar": {
              "outlinewidth": 0,
              "ticks": ""
             }
            },
            "type": "scattermap"
           }
          ],
          "scattermapbox": [
           {
            "marker": {
             "colorbar": {
              "outlinewidth": 0,
              "ticks": ""
             }
            },
            "type": "scattermapbox"
           }
          ],
          "scatterpolar": [
           {
            "marker": {
             "colorbar": {
              "outlinewidth": 0,
              "ticks": ""
             }
            },
            "type": "scatterpolar"
           }
          ],
          "scatterpolargl": [
           {
            "marker": {
             "colorbar": {
              "outlinewidth": 0,
              "ticks": ""
             }
            },
            "type": "scatterpolargl"
           }
          ],
          "scatterternary": [
           {
            "marker": {
             "colorbar": {
              "outlinewidth": 0,
              "ticks": ""
             }
            },
            "type": "scatterternary"
           }
          ],
          "surface": [
           {
            "colorbar": {
             "outlinewidth": 0,
             "ticks": ""
            },
            "colorscale": [
             [
              0,
              "#0d0887"
             ],
             [
              0.1111111111111111,
              "#46039f"
             ],
             [
              0.2222222222222222,
              "#7201a8"
             ],
             [
              0.3333333333333333,
              "#9c179e"
             ],
             [
              0.4444444444444444,
              "#bd3786"
             ],
             [
              0.5555555555555556,
              "#d8576b"
             ],
             [
              0.6666666666666666,
              "#ed7953"
             ],
             [
              0.7777777777777778,
              "#fb9f3a"
             ],
             [
              0.8888888888888888,
              "#fdca26"
             ],
             [
              1,
              "#f0f921"
             ]
            ],
            "type": "surface"
           }
          ],
          "table": [
           {
            "cells": {
             "fill": {
              "color": "#EBF0F8"
             },
             "line": {
              "color": "white"
             }
            },
            "header": {
             "fill": {
              "color": "#C8D4E3"
             },
             "line": {
              "color": "white"
             }
            },
            "type": "table"
           }
          ]
         },
         "layout": {
          "annotationdefaults": {
           "arrowcolor": "#2a3f5f",
           "arrowhead": 0,
           "arrowwidth": 1
          },
          "autotypenumbers": "strict",
          "coloraxis": {
           "colorbar": {
            "outlinewidth": 0,
            "ticks": ""
           }
          },
          "colorscale": {
           "diverging": [
            [
             0,
             "#8e0152"
            ],
            [
             0.1,
             "#c51b7d"
            ],
            [
             0.2,
             "#de77ae"
            ],
            [
             0.3,
             "#f1b6da"
            ],
            [
             0.4,
             "#fde0ef"
            ],
            [
             0.5,
             "#f7f7f7"
            ],
            [
             0.6,
             "#e6f5d0"
            ],
            [
             0.7,
             "#b8e186"
            ],
            [
             0.8,
             "#7fbc41"
            ],
            [
             0.9,
             "#4d9221"
            ],
            [
             1,
             "#276419"
            ]
           ],
           "sequential": [
            [
             0,
             "#0d0887"
            ],
            [
             0.1111111111111111,
             "#46039f"
            ],
            [
             0.2222222222222222,
             "#7201a8"
            ],
            [
             0.3333333333333333,
             "#9c179e"
            ],
            [
             0.4444444444444444,
             "#bd3786"
            ],
            [
             0.5555555555555556,
             "#d8576b"
            ],
            [
             0.6666666666666666,
             "#ed7953"
            ],
            [
             0.7777777777777778,
             "#fb9f3a"
            ],
            [
             0.8888888888888888,
             "#fdca26"
            ],
            [
             1,
             "#f0f921"
            ]
           ],
           "sequentialminus": [
            [
             0,
             "#0d0887"
            ],
            [
             0.1111111111111111,
             "#46039f"
            ],
            [
             0.2222222222222222,
             "#7201a8"
            ],
            [
             0.3333333333333333,
             "#9c179e"
            ],
            [
             0.4444444444444444,
             "#bd3786"
            ],
            [
             0.5555555555555556,
             "#d8576b"
            ],
            [
             0.6666666666666666,
             "#ed7953"
            ],
            [
             0.7777777777777778,
             "#fb9f3a"
            ],
            [
             0.8888888888888888,
             "#fdca26"
            ],
            [
             1,
             "#f0f921"
            ]
           ]
          },
          "colorway": [
           "#636efa",
           "#EF553B",
           "#00cc96",
           "#ab63fa",
           "#FFA15A",
           "#19d3f3",
           "#FF6692",
           "#B6E880",
           "#FF97FF",
           "#FECB52"
          ],
          "font": {
           "color": "#2a3f5f"
          },
          "geo": {
           "bgcolor": "white",
           "lakecolor": "white",
           "landcolor": "#E5ECF6",
           "showlakes": true,
           "showland": true,
           "subunitcolor": "white"
          },
          "hoverlabel": {
           "align": "left"
          },
          "hovermode": "closest",
          "mapbox": {
           "style": "light"
          },
          "paper_bgcolor": "white",
          "plot_bgcolor": "#E5ECF6",
          "polar": {
           "angularaxis": {
            "gridcolor": "white",
            "linecolor": "white",
            "ticks": ""
           },
           "bgcolor": "#E5ECF6",
           "radialaxis": {
            "gridcolor": "white",
            "linecolor": "white",
            "ticks": ""
           }
          },
          "scene": {
           "xaxis": {
            "backgroundcolor": "#E5ECF6",
            "gridcolor": "white",
            "gridwidth": 2,
            "linecolor": "white",
            "showbackground": true,
            "ticks": "",
            "zerolinecolor": "white"
           },
           "yaxis": {
            "backgroundcolor": "#E5ECF6",
            "gridcolor": "white",
            "gridwidth": 2,
            "linecolor": "white",
            "showbackground": true,
            "ticks": "",
            "zerolinecolor": "white"
           },
           "zaxis": {
            "backgroundcolor": "#E5ECF6",
            "gridcolor": "white",
            "gridwidth": 2,
            "linecolor": "white",
            "showbackground": true,
            "ticks": "",
            "zerolinecolor": "white"
           }
          },
          "shapedefaults": {
           "line": {
            "color": "#2a3f5f"
           }
          },
          "ternary": {
           "aaxis": {
            "gridcolor": "white",
            "linecolor": "white",
            "ticks": ""
           },
           "baxis": {
            "gridcolor": "white",
            "linecolor": "white",
            "ticks": ""
           },
           "bgcolor": "#E5ECF6",
           "caxis": {
            "gridcolor": "white",
            "linecolor": "white",
            "ticks": ""
           }
          },
          "title": {
           "x": 0.05
          },
          "xaxis": {
           "automargin": true,
           "gridcolor": "white",
           "linecolor": "white",
           "ticks": "",
           "title": {
            "standoff": 15
           },
           "zerolinecolor": "white",
           "zerolinewidth": 2
          },
          "yaxis": {
           "automargin": true,
           "gridcolor": "white",
           "linecolor": "white",
           "ticks": "",
           "title": {
            "standoff": 15
           },
           "zerolinecolor": "white",
           "zerolinewidth": 2
          }
         }
        },
        "title": {
         "text": "Quantidade de Reembolso por Categoria"
        },
        "xaxis": {
         "anchor": "y",
         "domain": [
          0,
          1
         ],
         "title": {
          "text": "value"
         }
        },
        "yaxis": {
         "anchor": "x",
         "domain": [
          0,
          1
         ],
         "title": {
          "text": "count"
         }
        }
       }
      }
     },
     "metadata": {},
     "output_type": "display_data"
    }
   ],
   "source": [
    "# Distribuição por categoria\n",
    "fig = px.histogram(df_reembolso['categoria'], title='Quantidade de Reembolso por Categoria')\n",
    "\n",
    "fig.show()"
   ]
  },
  {
   "cell_type": "markdown",
   "id": "db74af86",
   "metadata": {},
   "source": [
    "- Nota-se uma base de dados relativamaente equilibrada, não temos a necessidade de agrupar ou considerar alguma categoria como rara\n",
    "- A distribuição esta saudável, podemos aplicar OneHotEncondes sem gerar sparsidade excessiva."
   ]
  },
  {
   "cell_type": "code",
   "execution_count": 17,
   "id": "5e2f5c35",
   "metadata": {},
   "outputs": [
    {
     "data": {
      "application/vnd.plotly.v1+json": {
       "config": {
        "plotlyServerURL": "https://plot.ly"
       },
       "data": [
        {
         "bingroup": "x",
         "histfunc": "sum",
         "hovertemplate": "categoria=%{x}<br>sum of valor=%{y}<extra></extra>",
         "legendgroup": "",
         "marker": {
          "color": "#636efa",
          "pattern": {
           "shape": ""
          }
         },
         "name": "",
         "orientation": "v",
         "showlegend": false,
         "type": "histogram",
         "x": [
          "Transporte",
          "Educação",
          "Outros",
          "Transporte",
          "Educação",
          "Alimentação",
          "Educação",
          "Transporte",
          "Outros",
          "Hotel",
          "Educação",
          "Outros",
          "Hotel",
          "Hotel",
          "Alimentação",
          "Educação",
          "Outros",
          "Alimentação",
          "Transporte",
          "Alimentação",
          "Educação",
          "Transporte",
          "Hotel",
          "Alimentação",
          "Outros",
          "Transporte",
          "Hotel",
          "Alimentação",
          "Transporte",
          "Alimentação",
          "Alimentação",
          "Transporte",
          "Transporte",
          "Alimentação",
          "Transporte",
          "Hotel",
          "Educação",
          "Hotel",
          "Transporte",
          "Educação",
          "Hotel",
          "Outros",
          "Transporte",
          "Educação",
          "Hotel",
          "Alimentação",
          "Outros",
          "Outros",
          "Transporte",
          "Educação",
          "Alimentação",
          "Hotel",
          "Alimentação",
          "Alimentação",
          "Transporte",
          "Hotel",
          "Alimentação",
          "Educação",
          "Educação",
          "Hotel",
          "Alimentação",
          "Transporte",
          "Alimentação",
          "Alimentação",
          "Alimentação",
          "Transporte",
          "Alimentação",
          "Hotel",
          "Educação",
          "Transporte",
          "Transporte",
          "Hotel",
          "Educação",
          "Outros",
          "Hotel",
          "Alimentação",
          "Outros",
          "Transporte",
          "Alimentação",
          "Hotel",
          "Transporte",
          "Transporte",
          "Hotel",
          "Alimentação",
          "Educação",
          "Hotel",
          "Outros",
          "Hotel",
          "Transporte",
          "Hotel",
          "Hotel",
          "Outros",
          "Alimentação",
          "Hotel",
          "Outros",
          "Alimentação",
          "Educação",
          "Educação",
          "Educação",
          "Educação",
          "Outros",
          "Outros",
          "Educação",
          "Transporte",
          "Alimentação",
          "Educação",
          "Transporte",
          "Hotel",
          "Educação",
          "Outros",
          "Outros",
          "Outros",
          "Educação",
          "Transporte",
          "Outros",
          "Alimentação",
          "Alimentação",
          "Hotel",
          "Educação",
          "Outros",
          "Transporte",
          "Transporte",
          "Educação",
          "Hotel",
          "Educação",
          "Alimentação",
          "Hotel",
          "Alimentação",
          "Hotel",
          "Hotel",
          "Educação",
          "Alimentação",
          "Transporte",
          "Educação",
          "Alimentação",
          "Alimentação",
          "Outros",
          "Outros",
          "Transporte",
          "Alimentação",
          "Educação",
          "Transporte",
          "Educação",
          "Alimentação",
          "Hotel",
          "Educação",
          "Outros",
          "Hotel",
          "Alimentação",
          "Educação",
          "Outros",
          "Transporte",
          "Educação",
          "Alimentação",
          "Transporte",
          "Transporte",
          "Hotel",
          "Educação",
          "Hotel",
          "Hotel",
          "Educação",
          "Alimentação",
          "Hotel",
          "Outros",
          "Hotel",
          "Alimentação",
          "Hotel",
          "Hotel",
          "Outros",
          "Outros",
          "Hotel",
          "Alimentação",
          "Hotel",
          "Educação",
          "Outros",
          "Transporte",
          "Educação",
          "Hotel",
          "Outros",
          "Alimentação",
          "Hotel",
          "Transporte",
          "Alimentação",
          "Transporte",
          "Hotel",
          "Outros",
          "Alimentação",
          "Outros",
          "Alimentação",
          "Outros",
          "Educação",
          "Educação",
          "Transporte",
          "Educação",
          "Transporte",
          "Transporte",
          "Hotel",
          "Alimentação",
          "Hotel",
          "Transporte",
          "Transporte",
          "Alimentação",
          "Educação",
          "Educação",
          "Alimentação",
          "Transporte",
          "Hotel",
          "Alimentação",
          "Transporte",
          "Hotel",
          "Alimentação",
          "Outros",
          "Alimentação",
          "Hotel",
          "Outros",
          "Hotel",
          "Transporte",
          "Hotel",
          "Educação",
          "Transporte",
          "Alimentação",
          "Transporte",
          "Alimentação",
          "Hotel",
          "Alimentação",
          "Alimentação",
          "Alimentação",
          "Educação",
          "Hotel",
          "Transporte",
          "Alimentação",
          "Alimentação",
          "Outros",
          "Transporte",
          "Outros",
          "Hotel",
          "Educação",
          "Transporte",
          "Transporte",
          "Educação",
          "Alimentação",
          "Transporte",
          "Transporte",
          "Alimentação",
          "Educação",
          "Outros",
          "Alimentação",
          "Transporte",
          "Hotel",
          "Alimentação",
          "Hotel",
          "Hotel",
          "Alimentação",
          "Alimentação",
          "Transporte",
          "Educação",
          "Alimentação",
          "Transporte",
          "Educação",
          "Educação",
          "Transporte",
          "Alimentação",
          "Educação",
          "Outros",
          "Outros",
          "Hotel",
          "Transporte",
          "Alimentação",
          "Alimentação",
          "Hotel",
          "Outros",
          "Outros",
          "Hotel",
          "Outros",
          "Transporte",
          "Educação",
          "Outros",
          "Transporte",
          "Educação",
          "Educação",
          "Hotel",
          "Outros",
          "Educação",
          "Alimentação",
          "Outros",
          "Educação",
          "Alimentação",
          "Alimentação",
          "Educação",
          "Outros",
          "Outros",
          "Hotel",
          "Transporte",
          "Hotel",
          "Educação",
          "Outros",
          "Hotel",
          "Alimentação",
          "Hotel",
          "Hotel",
          "Hotel",
          "Transporte",
          "Educação",
          "Outros",
          "Alimentação",
          "Educação",
          "Hotel",
          "Educação",
          "Outros",
          "Educação",
          "Outros",
          "Educação",
          "Alimentação",
          "Outros",
          "Transporte",
          "Transporte",
          "Outros",
          "Outros",
          "Outros",
          "Educação",
          "Educação",
          "Educação",
          "Outros",
          "Outros",
          "Outros",
          "Transporte",
          "Hotel",
          "Transporte",
          "Outros",
          "Alimentação",
          "Educação",
          "Educação",
          "Educação",
          "Alimentação",
          "Transporte",
          "Alimentação",
          "Transporte",
          "Hotel",
          "Hotel",
          "Outros",
          "Educação",
          "Outros",
          "Outros",
          "Outros",
          "Alimentação",
          "Educação",
          "Alimentação",
          "Hotel",
          "Educação",
          "Hotel",
          "Outros",
          "Transporte",
          "Transporte",
          "Transporte",
          "Educação",
          "Hotel",
          "Transporte",
          "Hotel",
          "Educação",
          "Transporte",
          "Alimentação",
          "Hotel",
          "Outros",
          "Hotel",
          "Transporte",
          "Outros",
          "Outros",
          "Alimentação",
          "Transporte",
          "Hotel",
          "Outros",
          "Outros",
          "Hotel",
          "Outros",
          "Alimentação",
          "Alimentação",
          "Outros",
          "Outros",
          "Outros",
          "Alimentação",
          "Transporte",
          "Alimentação",
          "Outros",
          "Alimentação",
          "Transporte",
          "Transporte",
          "Educação",
          "Transporte",
          "Hotel",
          "Alimentação",
          "Hotel",
          "Outros",
          "Educação",
          "Educação",
          "Alimentação",
          "Alimentação",
          "Outros",
          "Outros",
          "Alimentação",
          "Alimentação",
          "Hotel",
          "Hotel",
          "Educação",
          "Transporte",
          "Transporte",
          "Hotel",
          "Hotel",
          "Outros",
          "Alimentação",
          "Outros",
          "Outros",
          "Transporte",
          "Educação",
          "Transporte",
          "Outros",
          "Alimentação",
          "Outros",
          "Outros",
          "Outros",
          "Alimentação",
          "Transporte",
          "Hotel",
          "Transporte",
          "Outros",
          "Hotel",
          "Hotel",
          "Hotel",
          "Outros",
          "Hotel",
          "Alimentação",
          "Transporte",
          "Hotel",
          "Hotel",
          "Educação",
          "Hotel",
          "Alimentação",
          "Outros",
          "Transporte",
          "Hotel",
          "Alimentação",
          "Alimentação",
          "Educação",
          "Alimentação",
          "Outros",
          "Transporte",
          "Transporte",
          "Hotel",
          "Outros",
          "Educação",
          "Alimentação",
          "Transporte",
          "Educação",
          "Outros",
          "Transporte",
          "Alimentação",
          "Educação",
          "Hotel",
          "Alimentação",
          "Hotel",
          "Educação",
          "Hotel",
          "Outros",
          "Hotel",
          "Outros",
          "Educação",
          "Alimentação",
          "Educação",
          "Educação",
          "Educação",
          "Alimentação",
          "Educação",
          "Alimentação",
          "Hotel",
          "Transporte",
          "Outros",
          "Transporte",
          "Alimentação",
          "Educação",
          "Outros",
          "Educação",
          "Alimentação",
          "Outros",
          "Outros",
          "Transporte",
          "Hotel",
          "Educação",
          "Alimentação",
          "Transporte",
          "Educação",
          "Transporte",
          "Transporte",
          "Transporte",
          "Outros",
          "Hotel",
          "Outros",
          "Educação",
          "Alimentação",
          "Outros",
          "Educação",
          "Alimentação",
          "Outros",
          "Outros",
          "Alimentação",
          "Transporte",
          "Alimentação",
          "Educação",
          "Outros",
          "Educação",
          "Outros",
          "Educação",
          "Educação",
          "Hotel",
          "Educação",
          "Alimentação",
          "Outros",
          "Alimentação",
          "Transporte",
          "Hotel",
          "Educação",
          "Hotel",
          "Outros",
          "Hotel",
          "Transporte",
          "Outros",
          "Hotel",
          "Educação",
          "Outros",
          "Educação",
          "Alimentação",
          "Transporte",
          "Outros",
          "Outros",
          "Alimentação",
          "Alimentação",
          "Educação",
          "Alimentação",
          "Transporte",
          "Outros",
          "Educação",
          "Outros",
          "Outros",
          "Transporte",
          "Alimentação",
          "Outros",
          "Alimentação",
          "Outros",
          "Transporte",
          "Transporte",
          "Alimentação",
          "Educação",
          "Educação",
          "Transporte",
          "Alimentação",
          "Hotel",
          "Hotel",
          "Transporte",
          "Educação",
          "Alimentação",
          "Educação",
          "Outros",
          "Hotel",
          "Outros",
          "Outros",
          "Educação",
          "Educação",
          "Hotel",
          "Educação",
          "Educação",
          "Alimentação",
          "Transporte",
          "Educação",
          "Outros",
          "Hotel",
          "Alimentação",
          "Hotel",
          "Transporte",
          "Hotel",
          "Hotel",
          "Transporte",
          "Transporte",
          "Transporte",
          "Transporte",
          "Outros",
          "Alimentação",
          "Educação",
          "Outros",
          "Hotel",
          "Educação",
          "Educação",
          "Outros",
          "Transporte",
          "Alimentação",
          "Educação",
          "Outros",
          "Transporte",
          "Outros",
          "Alimentação",
          "Transporte",
          "Alimentação",
          "Outros",
          "Outros",
          "Hotel",
          "Hotel",
          "Educação",
          "Educação",
          "Educação",
          "Transporte",
          "Outros",
          "Hotel",
          "Educação",
          "Transporte",
          "Alimentação",
          "Educação",
          "Outros",
          "Hotel",
          "Hotel",
          "Alimentação",
          "Transporte",
          "Hotel",
          "Alimentação",
          "Hotel",
          "Hotel",
          "Hotel",
          "Educação",
          "Outros",
          "Outros",
          "Hotel",
          "Outros",
          "Educação",
          "Outros",
          "Transporte",
          "Hotel",
          "Outros",
          "Alimentação",
          "Hotel",
          "Hotel",
          "Hotel",
          "Educação",
          "Hotel",
          "Educação",
          "Transporte",
          "Transporte",
          "Alimentação",
          "Educação",
          "Alimentação",
          "Alimentação",
          "Educação",
          "Alimentação",
          "Outros",
          "Educação",
          "Transporte",
          "Transporte",
          "Transporte",
          "Hotel",
          "Educação",
          "Outros",
          "Outros",
          "Outros",
          "Outros",
          "Outros",
          "Educação",
          "Alimentação",
          "Hotel",
          "Transporte",
          "Alimentação",
          "Transporte",
          "Educação",
          "Educação",
          "Alimentação",
          "Outros",
          "Outros",
          "Educação",
          "Educação",
          "Educação",
          "Hotel",
          "Transporte",
          "Outros",
          "Outros",
          "Transporte",
          "Transporte",
          "Educação",
          "Hotel",
          "Transporte",
          "Transporte",
          "Alimentação",
          "Hotel",
          "Educação",
          "Alimentação",
          "Educação",
          "Educação",
          "Hotel",
          "Alimentação",
          "Transporte",
          "Educação",
          "Educação",
          "Hotel",
          "Alimentação",
          "Educação",
          "Alimentação",
          "Alimentação",
          "Transporte",
          "Hotel",
          "Alimentação",
          "Alimentação",
          "Hotel",
          "Alimentação",
          "Transporte",
          "Alimentação",
          "Outros",
          "Transporte",
          "Outros",
          "Outros",
          "Alimentação",
          "Educação",
          "Outros",
          "Alimentação",
          "Transporte",
          "Transporte",
          "Hotel",
          "Hotel",
          "Transporte",
          "Educação",
          "Transporte",
          "Educação",
          "Hotel",
          "Educação",
          "Transporte",
          "Hotel",
          "Outros",
          "Alimentação",
          "Educação",
          "Outros",
          "Alimentação",
          "Transporte",
          "Hotel",
          "Hotel",
          "Outros",
          "Outros",
          "Outros",
          "Hotel",
          "Hotel",
          "Outros",
          "Transporte",
          "Transporte",
          "Transporte",
          "Outros",
          "Educação",
          "Outros",
          "Hotel",
          "Alimentação",
          "Educação",
          "Alimentação",
          "Educação",
          "Alimentação",
          "Outros",
          "Alimentação",
          "Transporte",
          "Alimentação",
          "Educação",
          "Outros",
          "Transporte",
          "Outros",
          "Alimentação",
          "Educação",
          "Transporte",
          "Educação",
          "Transporte",
          "Educação",
          "Outros",
          "Educação",
          "Hotel",
          "Outros",
          "Educação",
          "Hotel",
          "Educação",
          "Alimentação",
          "Alimentação",
          "Hotel",
          "Transporte",
          "Alimentação",
          "Outros",
          "Outros",
          "Alimentação",
          "Transporte",
          "Hotel",
          "Transporte",
          "Alimentação",
          "Outros",
          "Alimentação",
          "Transporte",
          "Outros",
          "Hotel",
          "Outros",
          "Alimentação",
          "Educação",
          "Transporte",
          "Educação",
          "Outros",
          "Outros",
          "Hotel",
          "Transporte",
          "Educação",
          "Outros",
          "Alimentação",
          "Hotel",
          "Transporte",
          "Educação",
          "Alimentação",
          "Hotel",
          "Outros",
          "Transporte",
          "Outros",
          "Educação",
          "Outros",
          "Outros",
          "Alimentação",
          "Educação",
          "Outros",
          "Educação",
          "Hotel",
          "Hotel",
          "Alimentação",
          "Hotel",
          "Outros",
          "Alimentação",
          "Hotel",
          "Alimentação",
          "Alimentação",
          "Transporte",
          "Hotel",
          "Educação",
          "Hotel",
          "Outros",
          "Outros",
          "Hotel",
          "Outros",
          "Alimentação",
          "Outros",
          "Transporte",
          "Transporte",
          "Alimentação",
          "Alimentação",
          "Hotel",
          "Alimentação",
          "Educação",
          "Outros",
          "Educação",
          "Alimentação",
          "Outros",
          "Alimentação",
          "Outros",
          "Educação",
          "Transporte",
          "Hotel",
          "Hotel",
          "Hotel",
          "Hotel",
          "Outros",
          "Transporte",
          "Transporte",
          "Educação",
          "Outros",
          "Transporte",
          "Educação",
          "Hotel",
          "Transporte",
          "Transporte",
          "Transporte",
          "Outros",
          "Transporte",
          "Hotel",
          "Outros",
          "Hotel",
          "Alimentação",
          "Educação",
          "Hotel",
          "Transporte",
          "Transporte",
          "Outros",
          "Outros",
          "Transporte",
          "Transporte",
          "Alimentação",
          "Outros",
          "Hotel",
          "Educação",
          "Transporte",
          "Alimentação",
          "Alimentação",
          "Transporte",
          "Transporte",
          "Educação",
          "Hotel",
          "Educação",
          "Alimentação",
          "Educação",
          "Outros",
          "Outros",
          "Alimentação",
          "Educação",
          "Transporte",
          "Educação",
          "Educação",
          "Alimentação",
          "Educação",
          "Hotel",
          "Educação",
          "Alimentação",
          "Educação",
          "Outros",
          "Outros",
          "Educação",
          "Educação",
          "Educação",
          "Transporte",
          "Hotel",
          "Transporte",
          "Alimentação",
          "Hotel",
          "Educação",
          "Transporte",
          "Educação",
          "Transporte",
          "Transporte",
          "Transporte",
          "Hotel",
          "Educação",
          "Transporte",
          "Transporte",
          "Hotel",
          "Educação",
          "Alimentação",
          "Transporte",
          "Educação",
          "Educação",
          "Outros",
          "Outros",
          "Outros",
          "Transporte",
          "Hotel",
          "Alimentação",
          "Hotel",
          "Alimentação",
          "Transporte",
          "Hotel",
          "Outros",
          "Transporte",
          "Outros",
          "Alimentação",
          "Hotel",
          "Educação",
          "Hotel",
          "Alimentação",
          "Outros",
          "Transporte",
          "Alimentação",
          "Outros",
          "Outros",
          "Outros",
          "Outros",
          "Hotel",
          "Outros",
          "Educação",
          "Outros",
          "Hotel",
          "Alimentação",
          "Alimentação",
          "Educação",
          "Hotel",
          "Transporte",
          "Transporte",
          "Alimentação",
          "Outros",
          "Alimentação",
          "Hotel",
          "Outros",
          "Transporte",
          "Hotel",
          "Alimentação",
          "Transporte",
          "Hotel",
          "Alimentação",
          "Outros",
          "Outros",
          "Outros",
          "Alimentação",
          "Alimentação",
          "Outros",
          "Outros",
          "Outros",
          "Hotel",
          "Alimentação",
          "Alimentação",
          "Hotel",
          "Transporte",
          "Transporte",
          "Alimentação",
          "Educação",
          "Educação",
          "Transporte"
         ],
         "xaxis": "x",
         "y": {
          "bdata": "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",
          "dtype": "f8"
         },
         "yaxis": "y"
        }
       ],
       "layout": {
        "barmode": "relative",
        "legend": {
         "tracegroupgap": 0
        },
        "template": {
         "data": {
          "bar": [
           {
            "error_x": {
             "color": "#2a3f5f"
            },
            "error_y": {
             "color": "#2a3f5f"
            },
            "marker": {
             "line": {
              "color": "#E5ECF6",
              "width": 0.5
             },
             "pattern": {
              "fillmode": "overlay",
              "size": 10,
              "solidity": 0.2
             }
            },
            "type": "bar"
           }
          ],
          "barpolar": [
           {
            "marker": {
             "line": {
              "color": "#E5ECF6",
              "width": 0.5
             },
             "pattern": {
              "fillmode": "overlay",
              "size": 10,
              "solidity": 0.2
             }
            },
            "type": "barpolar"
           }
          ],
          "carpet": [
           {
            "aaxis": {
             "endlinecolor": "#2a3f5f",
             "gridcolor": "white",
             "linecolor": "white",
             "minorgridcolor": "white",
             "startlinecolor": "#2a3f5f"
            },
            "baxis": {
             "endlinecolor": "#2a3f5f",
             "gridcolor": "white",
             "linecolor": "white",
             "minorgridcolor": "white",
             "startlinecolor": "#2a3f5f"
            },
            "type": "carpet"
           }
          ],
          "choropleth": [
           {
            "colorbar": {
             "outlinewidth": 0,
             "ticks": ""
            },
            "type": "choropleth"
           }
          ],
          "contour": [
           {
            "colorbar": {
             "outlinewidth": 0,
             "ticks": ""
            },
            "colorscale": [
             [
              0,
              "#0d0887"
             ],
             [
              0.1111111111111111,
              "#46039f"
             ],
             [
              0.2222222222222222,
              "#7201a8"
             ],
             [
              0.3333333333333333,
              "#9c179e"
             ],
             [
              0.4444444444444444,
              "#bd3786"
             ],
             [
              0.5555555555555556,
              "#d8576b"
             ],
             [
              0.6666666666666666,
              "#ed7953"
             ],
             [
              0.7777777777777778,
              "#fb9f3a"
             ],
             [
              0.8888888888888888,
              "#fdca26"
             ],
             [
              1,
              "#f0f921"
             ]
            ],
            "type": "contour"
           }
          ],
          "contourcarpet": [
           {
            "colorbar": {
             "outlinewidth": 0,
             "ticks": ""
            },
            "type": "contourcarpet"
           }
          ],
          "heatmap": [
           {
            "colorbar": {
             "outlinewidth": 0,
             "ticks": ""
            },
            "colorscale": [
             [
              0,
              "#0d0887"
             ],
             [
              0.1111111111111111,
              "#46039f"
             ],
             [
              0.2222222222222222,
              "#7201a8"
             ],
             [
              0.3333333333333333,
              "#9c179e"
             ],
             [
              0.4444444444444444,
              "#bd3786"
             ],
             [
              0.5555555555555556,
              "#d8576b"
             ],
             [
              0.6666666666666666,
              "#ed7953"
             ],
             [
              0.7777777777777778,
              "#fb9f3a"
             ],
             [
              0.8888888888888888,
              "#fdca26"
             ],
             [
              1,
              "#f0f921"
             ]
            ],
            "type": "heatmap"
           }
          ],
          "histogram": [
           {
            "marker": {
             "pattern": {
              "fillmode": "overlay",
              "size": 10,
              "solidity": 0.2
             }
            },
            "type": "histogram"
           }
          ],
          "histogram2d": [
           {
            "colorbar": {
             "outlinewidth": 0,
             "ticks": ""
            },
            "colorscale": [
             [
              0,
              "#0d0887"
             ],
             [
              0.1111111111111111,
              "#46039f"
             ],
             [
              0.2222222222222222,
              "#7201a8"
             ],
             [
              0.3333333333333333,
              "#9c179e"
             ],
             [
              0.4444444444444444,
              "#bd3786"
             ],
             [
              0.5555555555555556,
              "#d8576b"
             ],
             [
              0.6666666666666666,
              "#ed7953"
             ],
             [
              0.7777777777777778,
              "#fb9f3a"
             ],
             [
              0.8888888888888888,
              "#fdca26"
             ],
             [
              1,
              "#f0f921"
             ]
            ],
            "type": "histogram2d"
           }
          ],
          "histogram2dcontour": [
           {
            "colorbar": {
             "outlinewidth": 0,
             "ticks": ""
            },
            "colorscale": [
             [
              0,
              "#0d0887"
             ],
             [
              0.1111111111111111,
              "#46039f"
             ],
             [
              0.2222222222222222,
              "#7201a8"
             ],
             [
              0.3333333333333333,
              "#9c179e"
             ],
             [
              0.4444444444444444,
              "#bd3786"
             ],
             [
              0.5555555555555556,
              "#d8576b"
             ],
             [
              0.6666666666666666,
              "#ed7953"
             ],
             [
              0.7777777777777778,
              "#fb9f3a"
             ],
             [
              0.8888888888888888,
              "#fdca26"
             ],
             [
              1,
              "#f0f921"
             ]
            ],
            "type": "histogram2dcontour"
           }
          ],
          "mesh3d": [
           {
            "colorbar": {
             "outlinewidth": 0,
             "ticks": ""
            },
            "type": "mesh3d"
           }
          ],
          "parcoords": [
           {
            "line": {
             "colorbar": {
              "outlinewidth": 0,
              "ticks": ""
             }
            },
            "type": "parcoords"
           }
          ],
          "pie": [
           {
            "automargin": true,
            "type": "pie"
           }
          ],
          "scatter": [
           {
            "fillpattern": {
             "fillmode": "overlay",
             "size": 10,
             "solidity": 0.2
            },
            "type": "scatter"
           }
          ],
          "scatter3d": [
           {
            "line": {
             "colorbar": {
              "outlinewidth": 0,
              "ticks": ""
             }
            },
            "marker": {
             "colorbar": {
              "outlinewidth": 0,
              "ticks": ""
             }
            },
            "type": "scatter3d"
           }
          ],
          "scattercarpet": [
           {
            "marker": {
             "colorbar": {
              "outlinewidth": 0,
              "ticks": ""
             }
            },
            "type": "scattercarpet"
           }
          ],
          "scattergeo": [
           {
            "marker": {
             "colorbar": {
              "outlinewidth": 0,
              "ticks": ""
             }
            },
            "type": "scattergeo"
           }
          ],
          "scattergl": [
           {
            "marker": {
             "colorbar": {
              "outlinewidth": 0,
              "ticks": ""
             }
            },
            "type": "scattergl"
           }
          ],
          "scattermap": [
           {
            "marker": {
             "colorbar": {
              "outlinewidth": 0,
              "ticks": ""
             }
            },
            "type": "scattermap"
           }
          ],
          "scattermapbox": [
           {
            "marker": {
             "colorbar": {
              "outlinewidth": 0,
              "ticks": ""
             }
            },
            "type": "scattermapbox"
           }
          ],
          "scatterpolar": [
           {
            "marker": {
             "colorbar": {
              "outlinewidth": 0,
              "ticks": ""
             }
            },
            "type": "scatterpolar"
           }
          ],
          "scatterpolargl": [
           {
            "marker": {
             "colorbar": {
              "outlinewidth": 0,
              "ticks": ""
             }
            },
            "type": "scatterpolargl"
           }
          ],
          "scatterternary": [
           {
            "marker": {
             "colorbar": {
              "outlinewidth": 0,
              "ticks": ""
             }
            },
            "type": "scatterternary"
           }
          ],
          "surface": [
           {
            "colorbar": {
             "outlinewidth": 0,
             "ticks": ""
            },
            "colorscale": [
             [
              0,
              "#0d0887"
             ],
             [
              0.1111111111111111,
              "#46039f"
             ],
             [
              0.2222222222222222,
              "#7201a8"
             ],
             [
              0.3333333333333333,
              "#9c179e"
             ],
             [
              0.4444444444444444,
              "#bd3786"
             ],
             [
              0.5555555555555556,
              "#d8576b"
             ],
             [
              0.6666666666666666,
              "#ed7953"
             ],
             [
              0.7777777777777778,
              "#fb9f3a"
             ],
             [
              0.8888888888888888,
              "#fdca26"
             ],
             [
              1,
              "#f0f921"
             ]
            ],
            "type": "surface"
           }
          ],
          "table": [
           {
            "cells": {
             "fill": {
              "color": "#EBF0F8"
             },
             "line": {
              "color": "white"
             }
            },
            "header": {
             "fill": {
              "color": "#C8D4E3"
             },
             "line": {
              "color": "white"
             }
            },
            "type": "table"
           }
          ]
         },
         "layout": {
          "annotationdefaults": {
           "arrowcolor": "#2a3f5f",
           "arrowhead": 0,
           "arrowwidth": 1
          },
          "autotypenumbers": "strict",
          "coloraxis": {
           "colorbar": {
            "outlinewidth": 0,
            "ticks": ""
           }
          },
          "colorscale": {
           "diverging": [
            [
             0,
             "#8e0152"
            ],
            [
             0.1,
             "#c51b7d"
            ],
            [
             0.2,
             "#de77ae"
            ],
            [
             0.3,
             "#f1b6da"
            ],
            [
             0.4,
             "#fde0ef"
            ],
            [
             0.5,
             "#f7f7f7"
            ],
            [
             0.6,
             "#e6f5d0"
            ],
            [
             0.7,
             "#b8e186"
            ],
            [
             0.8,
             "#7fbc41"
            ],
            [
             0.9,
             "#4d9221"
            ],
            [
             1,
             "#276419"
            ]
           ],
           "sequential": [
            [
             0,
             "#0d0887"
            ],
            [
             0.1111111111111111,
             "#46039f"
            ],
            [
             0.2222222222222222,
             "#7201a8"
            ],
            [
             0.3333333333333333,
             "#9c179e"
            ],
            [
             0.4444444444444444,
             "#bd3786"
            ],
            [
             0.5555555555555556,
             "#d8576b"
            ],
            [
             0.6666666666666666,
             "#ed7953"
            ],
            [
             0.7777777777777778,
             "#fb9f3a"
            ],
            [
             0.8888888888888888,
             "#fdca26"
            ],
            [
             1,
             "#f0f921"
            ]
           ],
           "sequentialminus": [
            [
             0,
             "#0d0887"
            ],
            [
             0.1111111111111111,
             "#46039f"
            ],
            [
             0.2222222222222222,
             "#7201a8"
            ],
            [
             0.3333333333333333,
             "#9c179e"
            ],
            [
             0.4444444444444444,
             "#bd3786"
            ],
            [
             0.5555555555555556,
             "#d8576b"
            ],
            [
             0.6666666666666666,
             "#ed7953"
            ],
            [
             0.7777777777777778,
             "#fb9f3a"
            ],
            [
             0.8888888888888888,
             "#fdca26"
            ],
            [
             1,
             "#f0f921"
            ]
           ]
          },
          "colorway": [
           "#636efa",
           "#EF553B",
           "#00cc96",
           "#ab63fa",
           "#FFA15A",
           "#19d3f3",
           "#FF6692",
           "#B6E880",
           "#FF97FF",
           "#FECB52"
          ],
          "font": {
           "color": "#2a3f5f"
          },
          "geo": {
           "bgcolor": "white",
           "lakecolor": "white",
           "landcolor": "#E5ECF6",
           "showlakes": true,
           "showland": true,
           "subunitcolor": "white"
          },
          "hoverlabel": {
           "align": "left"
          },
          "hovermode": "closest",
          "mapbox": {
           "style": "light"
          },
          "paper_bgcolor": "white",
          "plot_bgcolor": "#E5ECF6",
          "polar": {
           "angularaxis": {
            "gridcolor": "white",
            "linecolor": "white",
            "ticks": ""
           },
           "bgcolor": "#E5ECF6",
           "radialaxis": {
            "gridcolor": "white",
            "linecolor": "white",
            "ticks": ""
           }
          },
          "scene": {
           "xaxis": {
            "backgroundcolor": "#E5ECF6",
            "gridcolor": "white",
            "gridwidth": 2,
            "linecolor": "white",
            "showbackground": true,
            "ticks": "",
            "zerolinecolor": "white"
           },
           "yaxis": {
            "backgroundcolor": "#E5ECF6",
            "gridcolor": "white",
            "gridwidth": 2,
            "linecolor": "white",
            "showbackground": true,
            "ticks": "",
            "zerolinecolor": "white"
           },
           "zaxis": {
            "backgroundcolor": "#E5ECF6",
            "gridcolor": "white",
            "gridwidth": 2,
            "linecolor": "white",
            "showbackground": true,
            "ticks": "",
            "zerolinecolor": "white"
           }
          },
          "shapedefaults": {
           "line": {
            "color": "#2a3f5f"
           }
          },
          "ternary": {
           "aaxis": {
            "gridcolor": "white",
            "linecolor": "white",
            "ticks": ""
           },
           "baxis": {
            "gridcolor": "white",
            "linecolor": "white",
            "ticks": ""
           },
           "bgcolor": "#E5ECF6",
           "caxis": {
            "gridcolor": "white",
            "linecolor": "white",
            "ticks": ""
           }
          },
          "title": {
           "x": 0.05
          },
          "xaxis": {
           "automargin": true,
           "gridcolor": "white",
           "linecolor": "white",
           "ticks": "",
           "title": {
            "standoff": 15
           },
           "zerolinecolor": "white",
           "zerolinewidth": 2
          },
          "yaxis": {
           "automargin": true,
           "gridcolor": "white",
           "linecolor": "white",
           "ticks": "",
           "title": {
            "standoff": 15
           },
           "zerolinecolor": "white",
           "zerolinewidth": 2
          }
         }
        },
        "title": {
         "text": "Distribuição de Valores por Categoria"
        },
        "xaxis": {
         "anchor": "y",
         "domain": [
          0,
          1
         ],
         "title": {
          "text": "categoria"
         }
        },
        "yaxis": {
         "anchor": "x",
         "domain": [
          0,
          1
         ],
         "title": {
          "text": "sum of valor"
         }
        }
       }
      }
     },
     "metadata": {},
     "output_type": "display_data"
    }
   ],
   "source": [
    "# Distribuição dos valores por categoria\n",
    "fig = px.histogram(df_reembolso, x='categoria', y='valor', title='Distribuição de Valores por Categoria')\n",
    "\n",
    "fig.show()"
   ]
  },
  {
   "cell_type": "markdown",
   "id": "77ce006d",
   "metadata": {},
   "source": [
    "- Vemos que em algumas categorias o valor do reembolso é bem alto.\n",
    "\n",
    "- Onde estão os Outliers?"
   ]
  },
  {
   "cell_type": "code",
   "execution_count": 18,
   "id": "2883f1f1",
   "metadata": {},
   "outputs": [
    {
     "data": {
      "application/vnd.plotly.v1+json": {
       "config": {
        "plotlyServerURL": "https://plot.ly"
       },
       "data": [
        {
         "alignmentgroup": "True",
         "hovertemplate": "categoria=%{x}<br>valor=%{y}<extra></extra>",
         "legendgroup": "Transporte",
         "marker": {
          "color": "#636efa"
         },
         "name": "Transporte",
         "notched": false,
         "offsetgroup": "Transporte",
         "orientation": "v",
         "showlegend": true,
         "type": "box",
         "x": [
          "Transporte",
          "Transporte",
          "Transporte",
          "Transporte",
          "Transporte",
          "Transporte",
          "Transporte",
          "Transporte",
          "Transporte",
          "Transporte",
          "Transporte",
          "Transporte",
          "Transporte",
          "Transporte",
          "Transporte",
          "Transporte",
          "Transporte",
          "Transporte",
          "Transporte",
          "Transporte",
          "Transporte",
          "Transporte",
          "Transporte",
          "Transporte",
          "Transporte",
          "Transporte",
          "Transporte",
          "Transporte",
          "Transporte",
          "Transporte",
          "Transporte",
          "Transporte",
          "Transporte",
          "Transporte",
          "Transporte",
          "Transporte",
          "Transporte",
          "Transporte",
          "Transporte",
          "Transporte",
          "Transporte",
          "Transporte",
          "Transporte",
          "Transporte",
          "Transporte",
          "Transporte",
          "Transporte",
          "Transporte",
          "Transporte",
          "Transporte",
          "Transporte",
          "Transporte",
          "Transporte",
          "Transporte",
          "Transporte",
          "Transporte",
          "Transporte",
          "Transporte",
          "Transporte",
          "Transporte",
          "Transporte",
          "Transporte",
          "Transporte",
          "Transporte",
          "Transporte",
          "Transporte",
          "Transporte",
          "Transporte",
          "Transporte",
          "Transporte",
          "Transporte",
          "Transporte",
          "Transporte",
          "Transporte",
          "Transporte",
          "Transporte",
          "Transporte",
          "Transporte",
          "Transporte",
          "Transporte",
          "Transporte",
          "Transporte",
          "Transporte",
          "Transporte",
          "Transporte",
          "Transporte",
          "Transporte",
          "Transporte",
          "Transporte",
          "Transporte",
          "Transporte",
          "Transporte",
          "Transporte",
          "Transporte",
          "Transporte",
          "Transporte",
          "Transporte",
          "Transporte",
          "Transporte",
          "Transporte",
          "Transporte",
          "Transporte",
          "Transporte",
          "Transporte",
          "Transporte",
          "Transporte",
          "Transporte",
          "Transporte",
          "Transporte",
          "Transporte",
          "Transporte",
          "Transporte",
          "Transporte",
          "Transporte",
          "Transporte",
          "Transporte",
          "Transporte",
          "Transporte",
          "Transporte",
          "Transporte",
          "Transporte",
          "Transporte",
          "Transporte",
          "Transporte",
          "Transporte",
          "Transporte",
          "Transporte",
          "Transporte",
          "Transporte",
          "Transporte",
          "Transporte",
          "Transporte",
          "Transporte",
          "Transporte",
          "Transporte",
          "Transporte",
          "Transporte",
          "Transporte",
          "Transporte",
          "Transporte",
          "Transporte",
          "Transporte",
          "Transporte",
          "Transporte",
          "Transporte",
          "Transporte",
          "Transporte",
          "Transporte",
          "Transporte",
          "Transporte",
          "Transporte",
          "Transporte",
          "Transporte",
          "Transporte",
          "Transporte",
          "Transporte",
          "Transporte",
          "Transporte",
          "Transporte",
          "Transporte",
          "Transporte",
          "Transporte",
          "Transporte",
          "Transporte",
          "Transporte",
          "Transporte",
          "Transporte",
          "Transporte",
          "Transporte",
          "Transporte",
          "Transporte",
          "Transporte",
          "Transporte",
          "Transporte",
          "Transporte",
          "Transporte",
          "Transporte",
          "Transporte",
          "Transporte",
          "Transporte",
          "Transporte",
          "Transporte",
          "Transporte",
          "Transporte",
          "Transporte",
          "Transporte",
          "Transporte",
          "Transporte",
          "Transporte",
          "Transporte",
          "Transporte",
          "Transporte",
          "Transporte",
          "Transporte",
          "Transporte",
          "Transporte"
         ],
         "x0": " ",
         "xaxis": "x",
         "y": {
          "bdata": "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",
          "dtype": "f8"
         },
         "y0": " ",
         "yaxis": "y"
        },
        {
         "alignmentgroup": "True",
         "hovertemplate": "categoria=%{x}<br>valor=%{y}<extra></extra>",
         "legendgroup": "Educação",
         "marker": {
          "color": "#EF553B"
         },
         "name": "Educação",
         "notched": false,
         "offsetgroup": "Educação",
         "orientation": "v",
         "showlegend": true,
         "type": "box",
         "x": [
          "Educação",
          "Educação",
          "Educação",
          "Educação",
          "Educação",
          "Educação",
          "Educação",
          "Educação",
          "Educação",
          "Educação",
          "Educação",
          "Educação",
          "Educação",
          "Educação",
          "Educação",
          "Educação",
          "Educação",
          "Educação",
          "Educação",
          "Educação",
          "Educação",
          "Educação",
          "Educação",
          "Educação",
          "Educação",
          "Educação",
          "Educação",
          "Educação",
          "Educação",
          "Educação",
          "Educação",
          "Educação",
          "Educação",
          "Educação",
          "Educação",
          "Educação",
          "Educação",
          "Educação",
          "Educação",
          "Educação",
          "Educação",
          "Educação",
          "Educação",
          "Educação",
          "Educação",
          "Educação",
          "Educação",
          "Educação",
          "Educação",
          "Educação",
          "Educação",
          "Educação",
          "Educação",
          "Educação",
          "Educação",
          "Educação",
          "Educação",
          "Educação",
          "Educação",
          "Educação",
          "Educação",
          "Educação",
          "Educação",
          "Educação",
          "Educação",
          "Educação",
          "Educação",
          "Educação",
          "Educação",
          "Educação",
          "Educação",
          "Educação",
          "Educação",
          "Educação",
          "Educação",
          "Educação",
          "Educação",
          "Educação",
          "Educação",
          "Educação",
          "Educação",
          "Educação",
          "Educação",
          "Educação",
          "Educação",
          "Educação",
          "Educação",
          "Educação",
          "Educação",
          "Educação",
          "Educação",
          "Educação",
          "Educação",
          "Educação",
          "Educação",
          "Educação",
          "Educação",
          "Educação",
          "Educação",
          "Educação",
          "Educação",
          "Educação",
          "Educação",
          "Educação",
          "Educação",
          "Educação",
          "Educação",
          "Educação",
          "Educação",
          "Educação",
          "Educação",
          "Educação",
          "Educação",
          "Educação",
          "Educação",
          "Educação",
          "Educação",
          "Educação",
          "Educação",
          "Educação",
          "Educação",
          "Educação",
          "Educação",
          "Educação",
          "Educação",
          "Educação",
          "Educação",
          "Educação",
          "Educação",
          "Educação",
          "Educação",
          "Educação",
          "Educação",
          "Educação",
          "Educação",
          "Educação",
          "Educação",
          "Educação",
          "Educação",
          "Educação",
          "Educação",
          "Educação",
          "Educação",
          "Educação",
          "Educação",
          "Educação",
          "Educação",
          "Educação",
          "Educação",
          "Educação",
          "Educação",
          "Educação",
          "Educação",
          "Educação",
          "Educação",
          "Educação",
          "Educação",
          "Educação",
          "Educação",
          "Educação",
          "Educação",
          "Educação",
          "Educação",
          "Educação",
          "Educação",
          "Educação",
          "Educação",
          "Educação",
          "Educação",
          "Educação",
          "Educação",
          "Educação",
          "Educação",
          "Educação",
          "Educação",
          "Educação",
          "Educação",
          "Educação",
          "Educação",
          "Educação",
          "Educação",
          "Educação",
          "Educação",
          "Educação",
          "Educação",
          "Educação",
          "Educação",
          "Educação",
          "Educação",
          "Educação",
          "Educação",
          "Educação",
          "Educação",
          "Educação",
          "Educação",
          "Educação",
          "Educação",
          "Educação"
         ],
         "x0": " ",
         "xaxis": "x",
         "y": {
          "bdata": "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",
          "dtype": "f8"
         },
         "y0": " ",
         "yaxis": "y"
        },
        {
         "alignmentgroup": "True",
         "hovertemplate": "categoria=%{x}<br>valor=%{y}<extra></extra>",
         "legendgroup": "Outros",
         "marker": {
          "color": "#00cc96"
         },
         "name": "Outros",
         "notched": false,
         "offsetgroup": "Outros",
         "orientation": "v",
         "showlegend": true,
         "type": "box",
         "x": [
          "Outros",
          "Outros",
          "Outros",
          "Outros",
          "Outros",
          "Outros",
          "Outros",
          "Outros",
          "Outros",
          "Outros",
          "Outros",
          "Outros",
          "Outros",
          "Outros",
          "Outros",
          "Outros",
          "Outros",
          "Outros",
          "Outros",
          "Outros",
          "Outros",
          "Outros",
          "Outros",
          "Outros",
          "Outros",
          "Outros",
          "Outros",
          "Outros",
          "Outros",
          "Outros",
          "Outros",
          "Outros",
          "Outros",
          "Outros",
          "Outros",
          "Outros",
          "Outros",
          "Outros",
          "Outros",
          "Outros",
          "Outros",
          "Outros",
          "Outros",
          "Outros",
          "Outros",
          "Outros",
          "Outros",
          "Outros",
          "Outros",
          "Outros",
          "Outros",
          "Outros",
          "Outros",
          "Outros",
          "Outros",
          "Outros",
          "Outros",
          "Outros",
          "Outros",
          "Outros",
          "Outros",
          "Outros",
          "Outros",
          "Outros",
          "Outros",
          "Outros",
          "Outros",
          "Outros",
          "Outros",
          "Outros",
          "Outros",
          "Outros",
          "Outros",
          "Outros",
          "Outros",
          "Outros",
          "Outros",
          "Outros",
          "Outros",
          "Outros",
          "Outros",
          "Outros",
          "Outros",
          "Outros",
          "Outros",
          "Outros",
          "Outros",
          "Outros",
          "Outros",
          "Outros",
          "Outros",
          "Outros",
          "Outros",
          "Outros",
          "Outros",
          "Outros",
          "Outros",
          "Outros",
          "Outros",
          "Outros",
          "Outros",
          "Outros",
          "Outros",
          "Outros",
          "Outros",
          "Outros",
          "Outros",
          "Outros",
          "Outros",
          "Outros",
          "Outros",
          "Outros",
          "Outros",
          "Outros",
          "Outros",
          "Outros",
          "Outros",
          "Outros",
          "Outros",
          "Outros",
          "Outros",
          "Outros",
          "Outros",
          "Outros",
          "Outros",
          "Outros",
          "Outros",
          "Outros",
          "Outros",
          "Outros",
          "Outros",
          "Outros",
          "Outros",
          "Outros",
          "Outros",
          "Outros",
          "Outros",
          "Outros",
          "Outros",
          "Outros",
          "Outros",
          "Outros",
          "Outros",
          "Outros",
          "Outros",
          "Outros",
          "Outros",
          "Outros",
          "Outros",
          "Outros",
          "Outros",
          "Outros",
          "Outros",
          "Outros",
          "Outros",
          "Outros",
          "Outros",
          "Outros",
          "Outros",
          "Outros",
          "Outros",
          "Outros",
          "Outros",
          "Outros",
          "Outros",
          "Outros",
          "Outros",
          "Outros",
          "Outros",
          "Outros",
          "Outros",
          "Outros",
          "Outros",
          "Outros",
          "Outros",
          "Outros",
          "Outros",
          "Outros",
          "Outros",
          "Outros",
          "Outros",
          "Outros",
          "Outros",
          "Outros",
          "Outros",
          "Outros",
          "Outros",
          "Outros",
          "Outros",
          "Outros",
          "Outros",
          "Outros",
          "Outros",
          "Outros",
          "Outros",
          "Outros",
          "Outros",
          "Outros",
          "Outros",
          "Outros",
          "Outros",
          "Outros",
          "Outros",
          "Outros",
          "Outros",
          "Outros",
          "Outros",
          "Outros",
          "Outros",
          "Outros",
          "Outros"
         ],
         "x0": " ",
         "xaxis": "x",
         "y": {
          "bdata": "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",
          "dtype": "f8"
         },
         "y0": " ",
         "yaxis": "y"
        },
        {
         "alignmentgroup": "True",
         "hovertemplate": "categoria=%{x}<br>valor=%{y}<extra></extra>",
         "legendgroup": "Alimentação",
         "marker": {
          "color": "#ab63fa"
         },
         "name": "Alimentação",
         "notched": false,
         "offsetgroup": "Alimentação",
         "orientation": "v",
         "showlegend": true,
         "type": "box",
         "x": [
          "Alimentação",
          "Alimentação",
          "Alimentação",
          "Alimentação",
          "Alimentação",
          "Alimentação",
          "Alimentação",
          "Alimentação",
          "Alimentação",
          "Alimentação",
          "Alimentação",
          "Alimentação",
          "Alimentação",
          "Alimentação",
          "Alimentação",
          "Alimentação",
          "Alimentação",
          "Alimentação",
          "Alimentação",
          "Alimentação",
          "Alimentação",
          "Alimentação",
          "Alimentação",
          "Alimentação",
          "Alimentação",
          "Alimentação",
          "Alimentação",
          "Alimentação",
          "Alimentação",
          "Alimentação",
          "Alimentação",
          "Alimentação",
          "Alimentação",
          "Alimentação",
          "Alimentação",
          "Alimentação",
          "Alimentação",
          "Alimentação",
          "Alimentação",
          "Alimentação",
          "Alimentação",
          "Alimentação",
          "Alimentação",
          "Alimentação",
          "Alimentação",
          "Alimentação",
          "Alimentação",
          "Alimentação",
          "Alimentação",
          "Alimentação",
          "Alimentação",
          "Alimentação",
          "Alimentação",
          "Alimentação",
          "Alimentação",
          "Alimentação",
          "Alimentação",
          "Alimentação",
          "Alimentação",
          "Alimentação",
          "Alimentação",
          "Alimentação",
          "Alimentação",
          "Alimentação",
          "Alimentação",
          "Alimentação",
          "Alimentação",
          "Alimentação",
          "Alimentação",
          "Alimentação",
          "Alimentação",
          "Alimentação",
          "Alimentação",
          "Alimentação",
          "Alimentação",
          "Alimentação",
          "Alimentação",
          "Alimentação",
          "Alimentação",
          "Alimentação",
          "Alimentação",
          "Alimentação",
          "Alimentação",
          "Alimentação",
          "Alimentação",
          "Alimentação",
          "Alimentação",
          "Alimentação",
          "Alimentação",
          "Alimentação",
          "Alimentação",
          "Alimentação",
          "Alimentação",
          "Alimentação",
          "Alimentação",
          "Alimentação",
          "Alimentação",
          "Alimentação",
          "Alimentação",
          "Alimentação",
          "Alimentação",
          "Alimentação",
          "Alimentação",
          "Alimentação",
          "Alimentação",
          "Alimentação",
          "Alimentação",
          "Alimentação",
          "Alimentação",
          "Alimentação",
          "Alimentação",
          "Alimentação",
          "Alimentação",
          "Alimentação",
          "Alimentação",
          "Alimentação",
          "Alimentação",
          "Alimentação",
          "Alimentação",
          "Alimentação",
          "Alimentação",
          "Alimentação",
          "Alimentação",
          "Alimentação",
          "Alimentação",
          "Alimentação",
          "Alimentação",
          "Alimentação",
          "Alimentação",
          "Alimentação",
          "Alimentação",
          "Alimentação",
          "Alimentação",
          "Alimentação",
          "Alimentação",
          "Alimentação",
          "Alimentação",
          "Alimentação",
          "Alimentação",
          "Alimentação",
          "Alimentação",
          "Alimentação",
          "Alimentação",
          "Alimentação",
          "Alimentação",
          "Alimentação",
          "Alimentação",
          "Alimentação",
          "Alimentação",
          "Alimentação",
          "Alimentação",
          "Alimentação",
          "Alimentação",
          "Alimentação",
          "Alimentação",
          "Alimentação",
          "Alimentação",
          "Alimentação",
          "Alimentação",
          "Alimentação",
          "Alimentação",
          "Alimentação",
          "Alimentação",
          "Alimentação",
          "Alimentação",
          "Alimentação",
          "Alimentação",
          "Alimentação",
          "Alimentação",
          "Alimentação",
          "Alimentação",
          "Alimentação",
          "Alimentação",
          "Alimentação",
          "Alimentação",
          "Alimentação",
          "Alimentação",
          "Alimentação",
          "Alimentação",
          "Alimentação",
          "Alimentação",
          "Alimentação",
          "Alimentação",
          "Alimentação",
          "Alimentação",
          "Alimentação",
          "Alimentação",
          "Alimentação",
          "Alimentação",
          "Alimentação",
          "Alimentação",
          "Alimentação",
          "Alimentação",
          "Alimentação",
          "Alimentação",
          "Alimentação",
          "Alimentação",
          "Alimentação",
          "Alimentação",
          "Alimentação",
          "Alimentação",
          "Alimentação",
          "Alimentação",
          "Alimentação"
         ],
         "x0": " ",
         "xaxis": "x",
         "y": {
          "bdata": "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",
          "dtype": "f8"
         },
         "y0": " ",
         "yaxis": "y"
        },
        {
         "alignmentgroup": "True",
         "hovertemplate": "categoria=%{x}<br>valor=%{y}<extra></extra>",
         "legendgroup": "Hotel",
         "marker": {
          "color": "#FFA15A"
         },
         "name": "Hotel",
         "notched": false,
         "offsetgroup": "Hotel",
         "orientation": "v",
         "showlegend": true,
         "type": "box",
         "x": [
          "Hotel",
          "Hotel",
          "Hotel",
          "Hotel",
          "Hotel",
          "Hotel",
          "Hotel",
          "Hotel",
          "Hotel",
          "Hotel",
          "Hotel",
          "Hotel",
          "Hotel",
          "Hotel",
          "Hotel",
          "Hotel",
          "Hotel",
          "Hotel",
          "Hotel",
          "Hotel",
          "Hotel",
          "Hotel",
          "Hotel",
          "Hotel",
          "Hotel",
          "Hotel",
          "Hotel",
          "Hotel",
          "Hotel",
          "Hotel",
          "Hotel",
          "Hotel",
          "Hotel",
          "Hotel",
          "Hotel",
          "Hotel",
          "Hotel",
          "Hotel",
          "Hotel",
          "Hotel",
          "Hotel",
          "Hotel",
          "Hotel",
          "Hotel",
          "Hotel",
          "Hotel",
          "Hotel",
          "Hotel",
          "Hotel",
          "Hotel",
          "Hotel",
          "Hotel",
          "Hotel",
          "Hotel",
          "Hotel",
          "Hotel",
          "Hotel",
          "Hotel",
          "Hotel",
          "Hotel",
          "Hotel",
          "Hotel",
          "Hotel",
          "Hotel",
          "Hotel",
          "Hotel",
          "Hotel",
          "Hotel",
          "Hotel",
          "Hotel",
          "Hotel",
          "Hotel",
          "Hotel",
          "Hotel",
          "Hotel",
          "Hotel",
          "Hotel",
          "Hotel",
          "Hotel",
          "Hotel",
          "Hotel",
          "Hotel",
          "Hotel",
          "Hotel",
          "Hotel",
          "Hotel",
          "Hotel",
          "Hotel",
          "Hotel",
          "Hotel",
          "Hotel",
          "Hotel",
          "Hotel",
          "Hotel",
          "Hotel",
          "Hotel",
          "Hotel",
          "Hotel",
          "Hotel",
          "Hotel",
          "Hotel",
          "Hotel",
          "Hotel",
          "Hotel",
          "Hotel",
          "Hotel",
          "Hotel",
          "Hotel",
          "Hotel",
          "Hotel",
          "Hotel",
          "Hotel",
          "Hotel",
          "Hotel",
          "Hotel",
          "Hotel",
          "Hotel",
          "Hotel",
          "Hotel",
          "Hotel",
          "Hotel",
          "Hotel",
          "Hotel",
          "Hotel",
          "Hotel",
          "Hotel",
          "Hotel",
          "Hotel",
          "Hotel",
          "Hotel",
          "Hotel",
          "Hotel",
          "Hotel",
          "Hotel",
          "Hotel",
          "Hotel",
          "Hotel",
          "Hotel",
          "Hotel",
          "Hotel",
          "Hotel",
          "Hotel",
          "Hotel",
          "Hotel",
          "Hotel",
          "Hotel",
          "Hotel",
          "Hotel",
          "Hotel",
          "Hotel",
          "Hotel",
          "Hotel",
          "Hotel",
          "Hotel",
          "Hotel",
          "Hotel",
          "Hotel",
          "Hotel",
          "Hotel",
          "Hotel",
          "Hotel",
          "Hotel",
          "Hotel",
          "Hotel",
          "Hotel",
          "Hotel",
          "Hotel",
          "Hotel",
          "Hotel",
          "Hotel",
          "Hotel",
          "Hotel",
          "Hotel",
          "Hotel",
          "Hotel",
          "Hotel",
          "Hotel",
          "Hotel",
          "Hotel",
          "Hotel",
          "Hotel",
          "Hotel",
          "Hotel",
          "Hotel",
          "Hotel",
          "Hotel",
          "Hotel",
          "Hotel",
          "Hotel",
          "Hotel",
          "Hotel"
         ],
         "x0": " ",
         "xaxis": "x",
         "y": {
          "bdata": "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",
          "dtype": "f8"
         },
         "y0": " ",
         "yaxis": "y"
        }
       ],
       "layout": {
        "boxmode": "overlay",
        "legend": {
         "title": {
          "text": "categoria"
         },
         "tracegroupgap": 0
        },
        "template": {
         "data": {
          "bar": [
           {
            "error_x": {
             "color": "#2a3f5f"
            },
            "error_y": {
             "color": "#2a3f5f"
            },
            "marker": {
             "line": {
              "color": "#E5ECF6",
              "width": 0.5
             },
             "pattern": {
              "fillmode": "overlay",
              "size": 10,
              "solidity": 0.2
             }
            },
            "type": "bar"
           }
          ],
          "barpolar": [
           {
            "marker": {
             "line": {
              "color": "#E5ECF6",
              "width": 0.5
             },
             "pattern": {
              "fillmode": "overlay",
              "size": 10,
              "solidity": 0.2
             }
            },
            "type": "barpolar"
           }
          ],
          "carpet": [
           {
            "aaxis": {
             "endlinecolor": "#2a3f5f",
             "gridcolor": "white",
             "linecolor": "white",
             "minorgridcolor": "white",
             "startlinecolor": "#2a3f5f"
            },
            "baxis": {
             "endlinecolor": "#2a3f5f",
             "gridcolor": "white",
             "linecolor": "white",
             "minorgridcolor": "white",
             "startlinecolor": "#2a3f5f"
            },
            "type": "carpet"
           }
          ],
          "choropleth": [
           {
            "colorbar": {
             "outlinewidth": 0,
             "ticks": ""
            },
            "type": "choropleth"
           }
          ],
          "contour": [
           {
            "colorbar": {
             "outlinewidth": 0,
             "ticks": ""
            },
            "colorscale": [
             [
              0,
              "#0d0887"
             ],
             [
              0.1111111111111111,
              "#46039f"
             ],
             [
              0.2222222222222222,
              "#7201a8"
             ],
             [
              0.3333333333333333,
              "#9c179e"
             ],
             [
              0.4444444444444444,
              "#bd3786"
             ],
             [
              0.5555555555555556,
              "#d8576b"
             ],
             [
              0.6666666666666666,
              "#ed7953"
             ],
             [
              0.7777777777777778,
              "#fb9f3a"
             ],
             [
              0.8888888888888888,
              "#fdca26"
             ],
             [
              1,
              "#f0f921"
             ]
            ],
            "type": "contour"
           }
          ],
          "contourcarpet": [
           {
            "colorbar": {
             "outlinewidth": 0,
             "ticks": ""
            },
            "type": "contourcarpet"
           }
          ],
          "heatmap": [
           {
            "colorbar": {
             "outlinewidth": 0,
             "ticks": ""
            },
            "colorscale": [
             [
              0,
              "#0d0887"
             ],
             [
              0.1111111111111111,
              "#46039f"
             ],
             [
              0.2222222222222222,
              "#7201a8"
             ],
             [
              0.3333333333333333,
              "#9c179e"
             ],
             [
              0.4444444444444444,
              "#bd3786"
             ],
             [
              0.5555555555555556,
              "#d8576b"
             ],
             [
              0.6666666666666666,
              "#ed7953"
             ],
             [
              0.7777777777777778,
              "#fb9f3a"
             ],
             [
              0.8888888888888888,
              "#fdca26"
             ],
             [
              1,
              "#f0f921"
             ]
            ],
            "type": "heatmap"
           }
          ],
          "histogram": [
           {
            "marker": {
             "pattern": {
              "fillmode": "overlay",
              "size": 10,
              "solidity": 0.2
             }
            },
            "type": "histogram"
           }
          ],
          "histogram2d": [
           {
            "colorbar": {
             "outlinewidth": 0,
             "ticks": ""
            },
            "colorscale": [
             [
              0,
              "#0d0887"
             ],
             [
              0.1111111111111111,
              "#46039f"
             ],
             [
              0.2222222222222222,
              "#7201a8"
             ],
             [
              0.3333333333333333,
              "#9c179e"
             ],
             [
              0.4444444444444444,
              "#bd3786"
             ],
             [
              0.5555555555555556,
              "#d8576b"
             ],
             [
              0.6666666666666666,
              "#ed7953"
             ],
             [
              0.7777777777777778,
              "#fb9f3a"
             ],
             [
              0.8888888888888888,
              "#fdca26"
             ],
             [
              1,
              "#f0f921"
             ]
            ],
            "type": "histogram2d"
           }
          ],
          "histogram2dcontour": [
           {
            "colorbar": {
             "outlinewidth": 0,
             "ticks": ""
            },
            "colorscale": [
             [
              0,
              "#0d0887"
             ],
             [
              0.1111111111111111,
              "#46039f"
             ],
             [
              0.2222222222222222,
              "#7201a8"
             ],
             [
              0.3333333333333333,
              "#9c179e"
             ],
             [
              0.4444444444444444,
              "#bd3786"
             ],
             [
              0.5555555555555556,
              "#d8576b"
             ],
             [
              0.6666666666666666,
              "#ed7953"
             ],
             [
              0.7777777777777778,
              "#fb9f3a"
             ],
             [
              0.8888888888888888,
              "#fdca26"
             ],
             [
              1,
              "#f0f921"
             ]
            ],
            "type": "histogram2dcontour"
           }
          ],
          "mesh3d": [
           {
            "colorbar": {
             "outlinewidth": 0,
             "ticks": ""
            },
            "type": "mesh3d"
           }
          ],
          "parcoords": [
           {
            "line": {
             "colorbar": {
              "outlinewidth": 0,
              "ticks": ""
             }
            },
            "type": "parcoords"
           }
          ],
          "pie": [
           {
            "automargin": true,
            "type": "pie"
           }
          ],
          "scatter": [
           {
            "fillpattern": {
             "fillmode": "overlay",
             "size": 10,
             "solidity": 0.2
            },
            "type": "scatter"
           }
          ],
          "scatter3d": [
           {
            "line": {
             "colorbar": {
              "outlinewidth": 0,
              "ticks": ""
             }
            },
            "marker": {
             "colorbar": {
              "outlinewidth": 0,
              "ticks": ""
             }
            },
            "type": "scatter3d"
           }
          ],
          "scattercarpet": [
           {
            "marker": {
             "colorbar": {
              "outlinewidth": 0,
              "ticks": ""
             }
            },
            "type": "scattercarpet"
           }
          ],
          "scattergeo": [
           {
            "marker": {
             "colorbar": {
              "outlinewidth": 0,
              "ticks": ""
             }
            },
            "type": "scattergeo"
           }
          ],
          "scattergl": [
           {
            "marker": {
             "colorbar": {
              "outlinewidth": 0,
              "ticks": ""
             }
            },
            "type": "scattergl"
           }
          ],
          "scattermap": [
           {
            "marker": {
             "colorbar": {
              "outlinewidth": 0,
              "ticks": ""
             }
            },
            "type": "scattermap"
           }
          ],
          "scattermapbox": [
           {
            "marker": {
             "colorbar": {
              "outlinewidth": 0,
              "ticks": ""
             }
            },
            "type": "scattermapbox"
           }
          ],
          "scatterpolar": [
           {
            "marker": {
             "colorbar": {
              "outlinewidth": 0,
              "ticks": ""
             }
            },
            "type": "scatterpolar"
           }
          ],
          "scatterpolargl": [
           {
            "marker": {
             "colorbar": {
              "outlinewidth": 0,
              "ticks": ""
             }
            },
            "type": "scatterpolargl"
           }
          ],
          "scatterternary": [
           {
            "marker": {
             "colorbar": {
              "outlinewidth": 0,
              "ticks": ""
             }
            },
            "type": "scatterternary"
           }
          ],
          "surface": [
           {
            "colorbar": {
             "outlinewidth": 0,
             "ticks": ""
            },
            "colorscale": [
             [
              0,
              "#0d0887"
             ],
             [
              0.1111111111111111,
              "#46039f"
             ],
             [
              0.2222222222222222,
              "#7201a8"
             ],
             [
              0.3333333333333333,
              "#9c179e"
             ],
             [
              0.4444444444444444,
              "#bd3786"
             ],
             [
              0.5555555555555556,
              "#d8576b"
             ],
             [
              0.6666666666666666,
              "#ed7953"
             ],
             [
              0.7777777777777778,
              "#fb9f3a"
             ],
             [
              0.8888888888888888,
              "#fdca26"
             ],
             [
              1,
              "#f0f921"
             ]
            ],
            "type": "surface"
           }
          ],
          "table": [
           {
            "cells": {
             "fill": {
              "color": "#EBF0F8"
             },
             "line": {
              "color": "white"
             }
            },
            "header": {
             "fill": {
              "color": "#C8D4E3"
             },
             "line": {
              "color": "white"
             }
            },
            "type": "table"
           }
          ]
         },
         "layout": {
          "annotationdefaults": {
           "arrowcolor": "#2a3f5f",
           "arrowhead": 0,
           "arrowwidth": 1
          },
          "autotypenumbers": "strict",
          "coloraxis": {
           "colorbar": {
            "outlinewidth": 0,
            "ticks": ""
           }
          },
          "colorscale": {
           "diverging": [
            [
             0,
             "#8e0152"
            ],
            [
             0.1,
             "#c51b7d"
            ],
            [
             0.2,
             "#de77ae"
            ],
            [
             0.3,
             "#f1b6da"
            ],
            [
             0.4,
             "#fde0ef"
            ],
            [
             0.5,
             "#f7f7f7"
            ],
            [
             0.6,
             "#e6f5d0"
            ],
            [
             0.7,
             "#b8e186"
            ],
            [
             0.8,
             "#7fbc41"
            ],
            [
             0.9,
             "#4d9221"
            ],
            [
             1,
             "#276419"
            ]
           ],
           "sequential": [
            [
             0,
             "#0d0887"
            ],
            [
             0.1111111111111111,
             "#46039f"
            ],
            [
             0.2222222222222222,
             "#7201a8"
            ],
            [
             0.3333333333333333,
             "#9c179e"
            ],
            [
             0.4444444444444444,
             "#bd3786"
            ],
            [
             0.5555555555555556,
             "#d8576b"
            ],
            [
             0.6666666666666666,
             "#ed7953"
            ],
            [
             0.7777777777777778,
             "#fb9f3a"
            ],
            [
             0.8888888888888888,
             "#fdca26"
            ],
            [
             1,
             "#f0f921"
            ]
           ],
           "sequentialminus": [
            [
             0,
             "#0d0887"
            ],
            [
             0.1111111111111111,
             "#46039f"
            ],
            [
             0.2222222222222222,
             "#7201a8"
            ],
            [
             0.3333333333333333,
             "#9c179e"
            ],
            [
             0.4444444444444444,
             "#bd3786"
            ],
            [
             0.5555555555555556,
             "#d8576b"
            ],
            [
             0.6666666666666666,
             "#ed7953"
            ],
            [
             0.7777777777777778,
             "#fb9f3a"
            ],
            [
             0.8888888888888888,
             "#fdca26"
            ],
            [
             1,
             "#f0f921"
            ]
           ]
          },
          "colorway": [
           "#636efa",
           "#EF553B",
           "#00cc96",
           "#ab63fa",
           "#FFA15A",
           "#19d3f3",
           "#FF6692",
           "#B6E880",
           "#FF97FF",
           "#FECB52"
          ],
          "font": {
           "color": "#2a3f5f"
          },
          "geo": {
           "bgcolor": "white",
           "lakecolor": "white",
           "landcolor": "#E5ECF6",
           "showlakes": true,
           "showland": true,
           "subunitcolor": "white"
          },
          "hoverlabel": {
           "align": "left"
          },
          "hovermode": "closest",
          "mapbox": {
           "style": "light"
          },
          "paper_bgcolor": "white",
          "plot_bgcolor": "#E5ECF6",
          "polar": {
           "angularaxis": {
            "gridcolor": "white",
            "linecolor": "white",
            "ticks": ""
           },
           "bgcolor": "#E5ECF6",
           "radialaxis": {
            "gridcolor": "white",
            "linecolor": "white",
            "ticks": ""
           }
          },
          "scene": {
           "xaxis": {
            "backgroundcolor": "#E5ECF6",
            "gridcolor": "white",
            "gridwidth": 2,
            "linecolor": "white",
            "showbackground": true,
            "ticks": "",
            "zerolinecolor": "white"
           },
           "yaxis": {
            "backgroundcolor": "#E5ECF6",
            "gridcolor": "white",
            "gridwidth": 2,
            "linecolor": "white",
            "showbackground": true,
            "ticks": "",
            "zerolinecolor": "white"
           },
           "zaxis": {
            "backgroundcolor": "#E5ECF6",
            "gridcolor": "white",
            "gridwidth": 2,
            "linecolor": "white",
            "showbackground": true,
            "ticks": "",
            "zerolinecolor": "white"
           }
          },
          "shapedefaults": {
           "line": {
            "color": "#2a3f5f"
           }
          },
          "ternary": {
           "aaxis": {
            "gridcolor": "white",
            "linecolor": "white",
            "ticks": ""
           },
           "baxis": {
            "gridcolor": "white",
            "linecolor": "white",
            "ticks": ""
           },
           "bgcolor": "#E5ECF6",
           "caxis": {
            "gridcolor": "white",
            "linecolor": "white",
            "ticks": ""
           }
          },
          "title": {
           "x": 0.05
          },
          "xaxis": {
           "automargin": true,
           "gridcolor": "white",
           "linecolor": "white",
           "ticks": "",
           "title": {
            "standoff": 15
           },
           "zerolinecolor": "white",
           "zerolinewidth": 2
          },
          "yaxis": {
           "automargin": true,
           "gridcolor": "white",
           "linecolor": "white",
           "ticks": "",
           "title": {
            "standoff": 15
           },
           "zerolinecolor": "white",
           "zerolinewidth": 2
          }
         }
        },
        "title": {
         "text": "BoxPlot dos Valores por Categoria"
        },
        "xaxis": {
         "anchor": "y",
         "categoryarray": [
          "Transporte",
          "Educação",
          "Outros",
          "Alimentação",
          "Hotel"
         ],
         "categoryorder": "array",
         "domain": [
          0,
          1
         ],
         "title": {
          "text": "categoria"
         }
        },
        "yaxis": {
         "anchor": "x",
         "domain": [
          0,
          1
         ],
         "title": {
          "text": "valor"
         }
        }
       }
      }
     },
     "metadata": {},
     "output_type": "display_data"
    }
   ],
   "source": [
    "# BoxPlot dos valores por categoria\n",
    "fig = px.box(df_reembolso, x='categoria', y='valor', color=df_reembolso['categoria'], title='BoxPlot dos Valores por Categoria')\n",
    "\n",
    "fig.show()"
   ]
  },
  {
   "cell_type": "markdown",
   "id": "1a9c5cf2",
   "metadata": {},
   "source": [
    "- Dentro do BoxPlot podemos observar que valores altos são bem distribuidos dentro de algumas categorias, também podemos notar que existem alguns outliers nas categorias Outros, Transporte e Educação. Vamos examinar melhor estas variáveis para entender se tem qualquer tipo de erro que justifique.\n",
    "\n",
    "---\n",
    "- Quem mais solicita reembolso?\n",
    "\n",
    "- Vamos observar a quantidade de reembolso por funcionário"
   ]
  },
  {
   "cell_type": "code",
   "execution_count": 19,
   "id": "5228e840",
   "metadata": {},
   "outputs": [
    {
     "data": {
      "image/png": "[encoded data removed]",
      "text/plain": [
       "<Figure size 1000x500 with 1 Axes>"
      ]
     },
     "metadata": {},
     "output_type": "display_data"
    }
   ],
   "source": [
    "# Preparar dados\n",
    "top_funcionarios = df_reembolso['id_funcionario'].value_counts().head(10)\n",
    "ids = top_funcionarios.index.astype(str)\n",
    "valores = top_funcionarios.values\n",
    "\n",
    "# Calcular média\n",
    "media_reembolsos = top_funcionarios.mean()\n",
    "\n",
    "# Criar o gráfico\n",
    "plt.figure(figsize=(10, 5))\n",
    "bars = sns.barplot(x=ids, y=valores, color='skyblue')\n",
    "\n",
    "# Adicionar valores no topo das barras\n",
    "for i, v in enumerate(valores):\n",
    "    plt.text(i, v + 1, str(v), ha='center', va='bottom', fontweight='bold')\n",
    "\n",
    "# Linha de referência e legenda\n",
    "plt.axhline(media_reembolsos, color='red', linestyle='--', label=f'Média do Top 10 ({media_reembolsos:.1f})')\n",
    "plt.legend(loc='upper right')\n",
    "\n",
    "# Títulos e eixos\n",
    "plt.title(\"Top 10 Funcionários com Mais Reembolsos\")\n",
    "plt.xlabel(\"ID do Funcionário\")\n",
    "plt.ylabel(\"Qtd. de Reembolsos\")\n",
    "plt.tight_layout()\n",
    "plt.show()\n"
   ]
  },
  {
   "cell_type": "markdown",
   "id": "cef53c29",
   "metadata": {},
   "source": [
    "- Agora podemos ver a média de reembolsos dos 10 mais ativos. Facilitando reconhecer que esta muito acima dos valores reais."
   ]
  },
  {
   "cell_type": "markdown",
   "id": "a0fa7baf",
   "metadata": {},
   "source": [
    "#### Data Cleaning\n",
    "- Vamos retirar as colunas que não funcionam para o modelo de Isolation Forest ('descrição' e 'data')\n",
    "\n",
    "#### Pensamento analítico\n",
    "Próximas etapas: \n",
    "- OneHot para transformar as cateorias em números (IsolationForest não entende texto ou datas)\n",
    "\n",
    "- StandardScale para normalizar as escalas numéricas"
   ]
  },
  {
   "cell_type": "markdown",
   "id": "6b7d31c0",
   "metadata": {},
   "source": [
    "### Preparando os Dados"
   ]
  },
  {
   "cell_type": "code",
   "execution_count": 20,
   "id": "f28186aa",
   "metadata": {},
   "outputs": [],
   "source": [
    "# Selecionar colunas úteis para o modelo\n",
    "df_reembolso_modelo = df_reembolso[['categoria', 'valor', 'id_funcionario']]"
   ]
  },
  {
   "cell_type": "code",
   "execution_count": 21,
   "id": "5aa3b234",
   "metadata": {},
   "outputs": [
    {
     "data": {
      "text/html": [
       "<div>\n",
       "<style scoped>\n",
       "    .dataframe tbody tr th:only-of-type {\n",
       "        vertical-align: middle;\n",
       "    }\n",
       "\n",
       "    .dataframe tbody tr th {\n",
       "        vertical-align: top;\n",
       "    }\n",
       "\n",
       "    .dataframe thead th {\n",
       "        text-align: right;\n",
       "    }\n",
       "</style>\n",
       "<table border=\"1\" class=\"dataframe\">\n",
       "  <thead>\n",
       "    <tr style=\"text-align: right;\">\n",
       "      <th></th>\n",
       "      <th>categoria</th>\n",
       "      <th>valor</th>\n",
       "      <th>id_funcionario</th>\n",
       "    </tr>\n",
       "  </thead>\n",
       "  <tbody>\n",
       "    <tr>\n",
       "      <th>0</th>\n",
       "      <td>Transporte</td>\n",
       "      <td>23.69</td>\n",
       "      <td>1061</td>\n",
       "    </tr>\n",
       "    <tr>\n",
       "      <th>1</th>\n",
       "      <td>Educação</td>\n",
       "      <td>213.96</td>\n",
       "      <td>1088</td>\n",
       "    </tr>\n",
       "    <tr>\n",
       "      <th>2</th>\n",
       "      <td>Outros</td>\n",
       "      <td>137.96</td>\n",
       "      <td>1027</td>\n",
       "    </tr>\n",
       "    <tr>\n",
       "      <th>3</th>\n",
       "      <td>Transporte</td>\n",
       "      <td>175.51</td>\n",
       "      <td>1067</td>\n",
       "    </tr>\n",
       "    <tr>\n",
       "      <th>4</th>\n",
       "      <td>Educação</td>\n",
       "      <td>355.66</td>\n",
       "      <td>1097</td>\n",
       "    </tr>\n",
       "    <tr>\n",
       "      <th>5</th>\n",
       "      <td>Alimentação</td>\n",
       "      <td>39.94</td>\n",
       "      <td>1098</td>\n",
       "    </tr>\n",
       "    <tr>\n",
       "      <th>6</th>\n",
       "      <td>Educação</td>\n",
       "      <td>348.60</td>\n",
       "      <td>1088</td>\n",
       "    </tr>\n",
       "    <tr>\n",
       "      <th>7</th>\n",
       "      <td>Transporte</td>\n",
       "      <td>38.11</td>\n",
       "      <td>1024</td>\n",
       "    </tr>\n",
       "    <tr>\n",
       "      <th>8</th>\n",
       "      <td>Outros</td>\n",
       "      <td>362.40</td>\n",
       "      <td>1098</td>\n",
       "    </tr>\n",
       "    <tr>\n",
       "      <th>9</th>\n",
       "      <td>Hotel</td>\n",
       "      <td>505.78</td>\n",
       "      <td>1091</td>\n",
       "    </tr>\n",
       "  </tbody>\n",
       "</table>\n",
       "</div>"
      ],
      "text/plain": [
       "     categoria   valor  id_funcionario\n",
       "0   Transporte   23.69            1061\n",
       "1     Educação  213.96            1088\n",
       "2       Outros  137.96            1027\n",
       "3   Transporte  175.51            1067\n",
       "4     Educação  355.66            1097\n",
       "5  Alimentação   39.94            1098\n",
       "6     Educação  348.60            1088\n",
       "7   Transporte   38.11            1024\n",
       "8       Outros  362.40            1098\n",
       "9        Hotel  505.78            1091"
      ]
     },
     "execution_count": 21,
     "metadata": {},
     "output_type": "execute_result"
    }
   ],
   "source": [
    "df_reembolso_modelo.head(10)"
   ]
  },
  {
   "cell_type": "code",
   "execution_count": 22,
   "id": "982bfe9f",
   "metadata": {},
   "outputs": [],
   "source": [
    "# Saparando colunas numéricas e categóricas\n",
    "numeric_feature = df_reembolso_modelo.select_dtypes(include='number').columns\n",
    "categorical_feature = df_reembolso_modelo.select_dtypes(include='object').columns"
   ]
  },
  {
   "cell_type": "code",
   "execution_count": 23,
   "id": "559dcdd8",
   "metadata": {},
   "outputs": [],
   "source": [
    "# Criando Preprocessor\n",
    "preprocessor = ColumnTransformer(transformers=[\n",
    "    ('num', StandardScaler(), numeric_feature),\n",
    "    ('cat', OneHotEncoder(handle_unknown='ignore'), categorical_feature)\n",
    "])"
   ]
  },
  {
   "cell_type": "code",
   "execution_count": 24,
   "id": "00367a8f",
   "metadata": {},
   "outputs": [],
   "source": [
    "# Criar Pipeline com Isolation Forest\n",
    "pipeline = Pipeline([\n",
    "    ('preprocessador', preprocessor),\n",
    "    ('modelo', IsolationForest(contamination=0.03, random_state=51))\n",
    "    # Esperamos apensa 3% de outliers\n",
    "])"
   ]
  },
  {
   "cell_type": "code",
   "execution_count": 25,
   "id": "f18e4092",
   "metadata": {},
   "outputs": [
    {
     "data": {
      "text/html": [
       "<style>#sk-container-id-1 {\n",
       "  /* Definition of color scheme common for light and dark mode */\n",
       "  --sklearn-color-text: #000;\n",
       "  --sklearn-color-text-muted: #666;\n",
       "  --sklearn-color-line: gray;\n",
       "  /* Definition of color scheme for unfitted estimators */\n",
       "  --sklearn-color-unfitted-level-0: #fff5e6;\n",
       "  --sklearn-color-unfitted-level-1: #f6e4d2;\n",
       "  --sklearn-color-unfitted-level-2: #ffe0b3;\n",
       "  --sklearn-color-unfitted-level-3: chocolate;\n",
       "  /* Definition of color scheme for fitted estimators */\n",
       "  --sklearn-color-fitted-level-0: #f0f8ff;\n",
       "  --sklearn-color-fitted-level-1: #d4ebff;\n",
       "  --sklearn-color-fitted-level-2: #b3dbfd;\n",
       "  --sklearn-color-fitted-level-3: cornflowerblue;\n",
       "\n",
       "  /* Specific color for light theme */\n",
       "  --sklearn-color-text-on-default-background: var(--sg-text-color, var(--theme-code-foreground, var(--jp-content-font-color1, black)));\n",
       "  --sklearn-color-background: var(--sg-background-color, var(--theme-background, var(--jp-layout-color0, white)));\n",
       "  --sklearn-color-border-box: var(--sg-text-color, var(--theme-code-foreground, var(--jp-content-font-color1, black)));\n",
       "  --sklearn-color-icon: #696969;\n",
       "\n",
       "  @media (prefers-color-scheme: dark) {\n",
       "    /* Redefinition of color scheme for dark theme */\n",
       "    --sklearn-color-text-on-default-background: var(--sg-text-color, var(--theme-code-foreground, var(--jp-content-font-color1, white)));\n",
       "    --sklearn-color-background: var(--sg-background-color, var(--theme-background, var(--jp-layout-color0, #111)));\n",
       "    --sklearn-color-border-box: var(--sg-text-color, var(--theme-code-foreground, var(--jp-content-font-color1, white)));\n",
       "    --sklearn-color-icon: #878787;\n",
       "  }\n",
       "}\n",
       "\n",
       "#sk-container-id-1 {\n",
       "  color: var(--sklearn-color-text);\n",
       "}\n",
       "\n",
       "#sk-container-id-1 pre {\n",
       "  padding: 0;\n",
       "}\n",
       "\n",
       "#sk-container-id-1 input.sk-hidden--visually {\n",
       "  border: 0;\n",
       "  clip: rect(1px 1px 1px 1px);\n",
       "  clip: rect(1px, 1px, 1px, 1px);\n",
       "  height: 1px;\n",
       "  margin: -1px;\n",
       "  overflow: hidden;\n",
       "  padding: 0;\n",
       "  position: absolute;\n",
       "  width: 1px;\n",
       "}\n",
       "\n",
       "#sk-container-id-1 div.sk-dashed-wrapped {\n",
       "  border: 1px dashed var(--sklearn-color-line);\n",
       "  margin: 0 0.4em 0.5em 0.4em;\n",
       "  box-sizing: border-box;\n",
       "  padding-bottom: 0.4em;\n",
       "  background-color: var(--sklearn-color-background);\n",
       "}\n",
       "\n",
       "#sk-container-id-1 div.sk-container {\n",
       "  /* jupyter's `normalize.less` sets `[hidden] { display: none; }`\n",
       "     but bootstrap.min.css set `[hidden] { display: none !important; }`\n",
       "     so we also need the `!important` here to be able to override the\n",
       "     default hidden behavior on the sphinx rendered scikit-learn.org.\n",
       "     See: https://github.com/scikit-learn/scikit-learn/issues/21755 */\n",
       "  display: inline-block !important;\n",
       "  position: relative;\n",
       "}\n",
       "\n",
       "#sk-container-id-1 div.sk-text-repr-fallback {\n",
       "  display: none;\n",
       "}\n",
       "\n",
       "div.sk-parallel-item,\n",
       "div.sk-serial,\n",
       "div.sk-item {\n",
       "  /* draw centered vertical line to link estimators */\n",
       "  background-image: linear-gradient(var(--sklearn-color-text-on-default-background), var(--sklearn-color-text-on-default-background));\n",
       "  background-size: 2px 100%;\n",
       "  background-repeat: no-repeat;\n",
       "  background-position: center center;\n",
       "}\n",
       "\n",
       "/* Parallel-specific style estimator block */\n",
       "\n",
       "#sk-container-id-1 div.sk-parallel-item::after {\n",
       "  content: \"\";\n",
       "  width: 100%;\n",
       "  border-bottom: 2px solid var(--sklearn-color-text-on-default-background);\n",
       "  flex-grow: 1;\n",
       "}\n",
       "\n",
       "#sk-container-id-1 div.sk-parallel {\n",
       "  display: flex;\n",
       "  align-items: stretch;\n",
       "  justify-content: center;\n",
       "  background-color: var(--sklearn-color-background);\n",
       "  position: relative;\n",
       "}\n",
       "\n",
       "#sk-container-id-1 div.sk-parallel-item {\n",
       "  display: flex;\n",
       "  flex-direction: column;\n",
       "}\n",
       "\n",
       "#sk-container-id-1 div.sk-parallel-item:first-child::after {\n",
       "  align-self: flex-end;\n",
       "  width: 50%;\n",
       "}\n",
       "\n",
       "#sk-container-id-1 div.sk-parallel-item:last-child::after {\n",
       "  align-self: flex-start;\n",
       "  width: 50%;\n",
       "}\n",
       "\n",
       "#sk-container-id-1 div.sk-parallel-item:only-child::after {\n",
       "  width: 0;\n",
       "}\n",
       "\n",
       "/* Serial-specific style estimator block */\n",
       "\n",
       "#sk-container-id-1 div.sk-serial {\n",
       "  display: flex;\n",
       "  flex-direction: column;\n",
       "  align-items: center;\n",
       "  background-color: var(--sklearn-color-background);\n",
       "  padding-right: 1em;\n",
       "  padding-left: 1em;\n",
       "}\n",
       "\n",
       "\n",
       "/* Toggleable style: style used for estimator/Pipeline/ColumnTransformer box that is\n",
       "clickable and can be expanded/collapsed.\n",
       "- Pipeline and ColumnTransformer use this feature and define the default style\n",
       "- Estimators will overwrite some part of the style using the `sk-estimator` class\n",
       "*/\n",
       "\n",
       "/* Pipeline and ColumnTransformer style (default) */\n",
       "\n",
       "#sk-container-id-1 div.sk-toggleable {\n",
       "  /* Default theme specific background. It is overwritten whether we have a\n",
       "  specific estimator or a Pipeline/ColumnTransformer */\n",
       "  background-color: var(--sklearn-color-background);\n",
       "}\n",
       "\n",
       "/* Toggleable label */\n",
       "#sk-container-id-1 label.sk-toggleable__label {\n",
       "  cursor: pointer;\n",
       "  display: flex;\n",
       "  width: 100%;\n",
       "  margin-bottom: 0;\n",
       "  padding: 0.5em;\n",
       "  box-sizing: border-box;\n",
       "  text-align: center;\n",
       "  align-items: start;\n",
       "  justify-content: space-between;\n",
       "  gap: 0.5em;\n",
       "}\n",
       "\n",
       "#sk-container-id-1 label.sk-toggleable__label .caption {\n",
       "  font-size: 0.6rem;\n",
       "  font-weight: lighter;\n",
       "  color: var(--sklearn-color-text-muted);\n",
       "}\n",
       "\n",
       "#sk-container-id-1 label.sk-toggleable__label-arrow:before {\n",
       "  /* Arrow on the left of the label */\n",
       "  content: \"▸\";\n",
       "  float: left;\n",
       "  margin-right: 0.25em;\n",
       "  color: var(--sklearn-color-icon);\n",
       "}\n",
       "\n",
       "#sk-container-id-1 label.sk-toggleable__label-arrow:hover:before {\n",
       "  color: var(--sklearn-color-text);\n",
       "}\n",
       "\n",
       "/* Toggleable content - dropdown */\n",
       "\n",
       "#sk-container-id-1 div.sk-toggleable__content {\n",
       "  max-height: 0;\n",
       "  max-width: 0;\n",
       "  overflow: hidden;\n",
       "  text-align: left;\n",
       "  /* unfitted */\n",
       "  background-color: var(--sklearn-color-unfitted-level-0);\n",
       "}\n",
       "\n",
       "#sk-container-id-1 div.sk-toggleable__content.fitted {\n",
       "  /* fitted */\n",
       "  background-color: var(--sklearn-color-fitted-level-0);\n",
       "}\n",
       "\n",
       "#sk-container-id-1 div.sk-toggleable__content pre {\n",
       "  margin: 0.2em;\n",
       "  border-radius: 0.25em;\n",
       "  color: var(--sklearn-color-text);\n",
       "  /* unfitted */\n",
       "  background-color: var(--sklearn-color-unfitted-level-0);\n",
       "}\n",
       "\n",
       "#sk-container-id-1 div.sk-toggleable__content.fitted pre {\n",
       "  /* unfitted */\n",
       "  background-color: var(--sklearn-color-fitted-level-0);\n",
       "}\n",
       "\n",
       "#sk-container-id-1 input.sk-toggleable__control:checked~div.sk-toggleable__content {\n",
       "  /* Expand drop-down */\n",
       "  max-height: 200px;\n",
       "  max-width: 100%;\n",
       "  overflow: auto;\n",
       "}\n",
       "\n",
       "#sk-container-id-1 input.sk-toggleable__control:checked~label.sk-toggleable__label-arrow:before {\n",
       "  content: \"▾\";\n",
       "}\n",
       "\n",
       "/* Pipeline/ColumnTransformer-specific style */\n",
       "\n",
       "#sk-container-id-1 div.sk-label input.sk-toggleable__control:checked~label.sk-toggleable__label {\n",
       "  color: var(--sklearn-color-text);\n",
       "  background-color: var(--sklearn-color-unfitted-level-2);\n",
       "}\n",
       "\n",
       "#sk-container-id-1 div.sk-label.fitted input.sk-toggleable__control:checked~label.sk-toggleable__label {\n",
       "  background-color: var(--sklearn-color-fitted-level-2);\n",
       "}\n",
       "\n",
       "/* Estimator-specific style */\n",
       "\n",
       "/* Colorize estimator box */\n",
       "#sk-container-id-1 div.sk-estimator input.sk-toggleable__control:checked~label.sk-toggleable__label {\n",
       "  /* unfitted */\n",
       "  background-color: var(--sklearn-color-unfitted-level-2);\n",
       "}\n",
       "\n",
       "#sk-container-id-1 div.sk-estimator.fitted input.sk-toggleable__control:checked~label.sk-toggleable__label {\n",
       "  /* fitted */\n",
       "  background-color: var(--sklearn-color-fitted-level-2);\n",
       "}\n",
       "\n",
       "#sk-container-id-1 div.sk-label label.sk-toggleable__label,\n",
       "#sk-container-id-1 div.sk-label label {\n",
       "  /* The background is the default theme color */\n",
       "  color: var(--sklearn-color-text-on-default-background);\n",
       "}\n",
       "\n",
       "/* On hover, darken the color of the background */\n",
       "#sk-container-id-1 div.sk-label:hover label.sk-toggleable__label {\n",
       "  color: var(--sklearn-color-text);\n",
       "  background-color: var(--sklearn-color-unfitted-level-2);\n",
       "}\n",
       "\n",
       "/* Label box, darken color on hover, fitted */\n",
       "#sk-container-id-1 div.sk-label.fitted:hover label.sk-toggleable__label.fitted {\n",
       "  color: var(--sklearn-color-text);\n",
       "  background-color: var(--sklearn-color-fitted-level-2);\n",
       "}\n",
       "\n",
       "/* Estimator label */\n",
       "\n",
       "#sk-container-id-1 div.sk-label label {\n",
       "  font-family: monospace;\n",
       "  font-weight: bold;\n",
       "  display: inline-block;\n",
       "  line-height: 1.2em;\n",
       "}\n",
       "\n",
       "#sk-container-id-1 div.sk-label-container {\n",
       "  text-align: center;\n",
       "}\n",
       "\n",
       "/* Estimator-specific */\n",
       "#sk-container-id-1 div.sk-estimator {\n",
       "  font-family: monospace;\n",
       "  border: 1px dotted var(--sklearn-color-border-box);\n",
       "  border-radius: 0.25em;\n",
       "  box-sizing: border-box;\n",
       "  margin-bottom: 0.5em;\n",
       "  /* unfitted */\n",
       "  background-color: var(--sklearn-color-unfitted-level-0);\n",
       "}\n",
       "\n",
       "#sk-container-id-1 div.sk-estimator.fitted {\n",
       "  /* fitted */\n",
       "  background-color: var(--sklearn-color-fitted-level-0);\n",
       "}\n",
       "\n",
       "/* on hover */\n",
       "#sk-container-id-1 div.sk-estimator:hover {\n",
       "  /* unfitted */\n",
       "  background-color: var(--sklearn-color-unfitted-level-2);\n",
       "}\n",
       "\n",
       "#sk-container-id-1 div.sk-estimator.fitted:hover {\n",
       "  /* fitted */\n",
       "  background-color: var(--sklearn-color-fitted-level-2);\n",
       "}\n",
       "\n",
       "/* Specification for estimator info (e.g. \"i\" and \"?\") */\n",
       "\n",
       "/* Common style for \"i\" and \"?\" */\n",
       "\n",
       ".sk-estimator-doc-link,\n",
       "a:link.sk-estimator-doc-link,\n",
       "a:visited.sk-estimator-doc-link {\n",
       "  float: right;\n",
       "  font-size: smaller;\n",
       "  line-height: 1em;\n",
       "  font-family: monospace;\n",
       "  background-color: var(--sklearn-color-background);\n",
       "  border-radius: 1em;\n",
       "  height: 1em;\n",
       "  width: 1em;\n",
       "  text-decoration: none !important;\n",
       "  margin-left: 0.5em;\n",
       "  text-align: center;\n",
       "  /* unfitted */\n",
       "  border: var(--sklearn-color-unfitted-level-1) 1pt solid;\n",
       "  color: var(--sklearn-color-unfitted-level-1);\n",
       "}\n",
       "\n",
       ".sk-estimator-doc-link.fitted,\n",
       "a:link.sk-estimator-doc-link.fitted,\n",
       "a:visited.sk-estimator-doc-link.fitted {\n",
       "  /* fitted */\n",
       "  border: var(--sklearn-color-fitted-level-1) 1pt solid;\n",
       "  color: var(--sklearn-color-fitted-level-1);\n",
       "}\n",
       "\n",
       "/* On hover */\n",
       "div.sk-estimator:hover .sk-estimator-doc-link:hover,\n",
       ".sk-estimator-doc-link:hover,\n",
       "div.sk-label-container:hover .sk-estimator-doc-link:hover,\n",
       ".sk-estimator-doc-link:hover {\n",
       "  /* unfitted */\n",
       "  background-color: var(--sklearn-color-unfitted-level-3);\n",
       "  color: var(--sklearn-color-background);\n",
       "  text-decoration: none;\n",
       "}\n",
       "\n",
       "div.sk-estimator.fitted:hover .sk-estimator-doc-link.fitted:hover,\n",
       ".sk-estimator-doc-link.fitted:hover,\n",
       "div.sk-label-container:hover .sk-estimator-doc-link.fitted:hover,\n",
       ".sk-estimator-doc-link.fitted:hover {\n",
       "  /* fitted */\n",
       "  background-color: var(--sklearn-color-fitted-level-3);\n",
       "  color: var(--sklearn-color-background);\n",
       "  text-decoration: none;\n",
       "}\n",
       "\n",
       "/* Span, style for the box shown on hovering the info icon */\n",
       ".sk-estimator-doc-link span {\n",
       "  display: none;\n",
       "  z-index: 9999;\n",
       "  position: relative;\n",
       "  font-weight: normal;\n",
       "  right: .2ex;\n",
       "  padding: .5ex;\n",
       "  margin: .5ex;\n",
       "  width: min-content;\n",
       "  min-width: 20ex;\n",
       "  max-width: 50ex;\n",
       "  color: var(--sklearn-color-text);\n",
       "  box-shadow: 2pt 2pt 4pt #999;\n",
       "  /* unfitted */\n",
       "  background: var(--sklearn-color-unfitted-level-0);\n",
       "  border: .5pt solid var(--sklearn-color-unfitted-level-3);\n",
       "}\n",
       "\n",
       ".sk-estimator-doc-link.fitted span {\n",
       "  /* fitted */\n",
       "  background: var(--sklearn-color-fitted-level-0);\n",
       "  border: var(--sklearn-color-fitted-level-3);\n",
       "}\n",
       "\n",
       ".sk-estimator-doc-link:hover span {\n",
       "  display: block;\n",
       "}\n",
       "\n",
       "/* \"?\"-specific style due to the `<a>` HTML tag */\n",
       "\n",
       "#sk-container-id-1 a.estimator_doc_link {\n",
       "  float: right;\n",
       "  font-size: 1rem;\n",
       "  line-height: 1em;\n",
       "  font-family: monospace;\n",
       "  background-color: var(--sklearn-color-background);\n",
       "  border-radius: 1rem;\n",
       "  height: 1rem;\n",
       "  width: 1rem;\n",
       "  text-decoration: none;\n",
       "  /* unfitted */\n",
       "  color: var(--sklearn-color-unfitted-level-1);\n",
       "  border: var(--sklearn-color-unfitted-level-1) 1pt solid;\n",
       "}\n",
       "\n",
       "#sk-container-id-1 a.estimator_doc_link.fitted {\n",
       "  /* fitted */\n",
       "  border: var(--sklearn-color-fitted-level-1) 1pt solid;\n",
       "  color: var(--sklearn-color-fitted-level-1);\n",
       "}\n",
       "\n",
       "/* On hover */\n",
       "#sk-container-id-1 a.estimator_doc_link:hover {\n",
       "  /* unfitted */\n",
       "  background-color: var(--sklearn-color-unfitted-level-3);\n",
       "  color: var(--sklearn-color-background);\n",
       "  text-decoration: none;\n",
       "}\n",
       "\n",
       "#sk-container-id-1 a.estimator_doc_link.fitted:hover {\n",
       "  /* fitted */\n",
       "  background-color: var(--sklearn-color-fitted-level-3);\n",
       "}\n",
       "</style><div id=\"sk-container-id-1\" class=\"sk-top-container\"><div class=\"sk-text-repr-fallback\"><pre>Pipeline(steps=[(&#x27;preprocessador&#x27;,\n",
       "                 ColumnTransformer(transformers=[(&#x27;num&#x27;, StandardScaler(),\n",
       "                                                  Index([&#x27;valor&#x27;, &#x27;id_funcionario&#x27;], dtype=&#x27;object&#x27;)),\n",
       "                                                 (&#x27;cat&#x27;,\n",
       "                                                  OneHotEncoder(handle_unknown=&#x27;ignore&#x27;),\n",
       "                                                  Index([&#x27;categoria&#x27;], dtype=&#x27;object&#x27;))])),\n",
       "                (&#x27;modelo&#x27;,\n",
       "                 IsolationForest(contamination=0.03, random_state=51))])</pre><b>In a Jupyter environment, please rerun this cell to show the HTML representation or trust the notebook. <br />On GitHub, the HTML representation is unable to render, please try loading this page with nbviewer.org.</b></div><div class=\"sk-container\" hidden><div class=\"sk-item sk-dashed-wrapped\"><div class=\"sk-label-container\"><div class=\"sk-label fitted sk-toggleable\"><input class=\"sk-toggleable__control sk-hidden--visually\" id=\"sk-estimator-id-1\" type=\"checkbox\" ><label for=\"sk-estimator-id-1\" class=\"sk-toggleable__label fitted sk-toggleable__label-arrow\"><div><div>Pipeline</div></div><div><a class=\"sk-estimator-doc-link fitted\" rel=\"noreferrer\" target=\"_blank\" href=\"https://scikit-learn.org/1.6/modules/generated/sklearn.pipeline.Pipeline.html\">?<span>Documentation for Pipeline</span></a><span class=\"sk-estimator-doc-link fitted\">i<span>Fitted</span></span></div></label><div class=\"sk-toggleable__content fitted\"><pre>Pipeline(steps=[(&#x27;preprocessador&#x27;,\n",
       "                 ColumnTransformer(transformers=[(&#x27;num&#x27;, StandardScaler(),\n",
       "                                                  Index([&#x27;valor&#x27;, &#x27;id_funcionario&#x27;], dtype=&#x27;object&#x27;)),\n",
       "                                                 (&#x27;cat&#x27;,\n",
       "                                                  OneHotEncoder(handle_unknown=&#x27;ignore&#x27;),\n",
       "                                                  Index([&#x27;categoria&#x27;], dtype=&#x27;object&#x27;))])),\n",
       "                (&#x27;modelo&#x27;,\n",
       "                 IsolationForest(contamination=0.03, random_state=51))])</pre></div> </div></div><div class=\"sk-serial\"><div class=\"sk-item sk-dashed-wrapped\"><div class=\"sk-label-container\"><div class=\"sk-label fitted sk-toggleable\"><input class=\"sk-toggleable__control sk-hidden--visually\" id=\"sk-estimator-id-2\" type=\"checkbox\" ><label for=\"sk-estimator-id-2\" class=\"sk-toggleable__label fitted sk-toggleable__label-arrow\"><div><div>preprocessador: ColumnTransformer</div></div><div><a class=\"sk-estimator-doc-link fitted\" rel=\"noreferrer\" target=\"_blank\" href=\"https://scikit-learn.org/1.6/modules/generated/sklearn.compose.ColumnTransformer.html\">?<span>Documentation for preprocessador: ColumnTransformer</span></a></div></label><div class=\"sk-toggleable__content fitted\"><pre>ColumnTransformer(transformers=[(&#x27;num&#x27;, StandardScaler(),\n",
       "                                 Index([&#x27;valor&#x27;, &#x27;id_funcionario&#x27;], dtype=&#x27;object&#x27;)),\n",
       "                                (&#x27;cat&#x27;, OneHotEncoder(handle_unknown=&#x27;ignore&#x27;),\n",
       "                                 Index([&#x27;categoria&#x27;], dtype=&#x27;object&#x27;))])</pre></div> </div></div><div class=\"sk-parallel\"><div class=\"sk-parallel-item\"><div class=\"sk-item\"><div class=\"sk-label-container\"><div class=\"sk-label fitted sk-toggleable\"><input class=\"sk-toggleable__control sk-hidden--visually\" id=\"sk-estimator-id-3\" type=\"checkbox\" ><label for=\"sk-estimator-id-3\" class=\"sk-toggleable__label fitted sk-toggleable__label-arrow\"><div><div>num</div></div></label><div class=\"sk-toggleable__content fitted\"><pre>Index([&#x27;valor&#x27;, &#x27;id_funcionario&#x27;], dtype=&#x27;object&#x27;)</pre></div> </div></div><div class=\"sk-serial\"><div class=\"sk-item\"><div class=\"sk-estimator fitted sk-toggleable\"><input class=\"sk-toggleable__control sk-hidden--visually\" id=\"sk-estimator-id-4\" type=\"checkbox\" ><label for=\"sk-estimator-id-4\" class=\"sk-toggleable__label fitted sk-toggleable__label-arrow\"><div><div>StandardScaler</div></div><div><a class=\"sk-estimator-doc-link fitted\" rel=\"noreferrer\" target=\"_blank\" href=\"https://scikit-learn.org/1.6/modules/generated/sklearn.preprocessing.StandardScaler.html\">?<span>Documentation for StandardScaler</span></a></div></label><div class=\"sk-toggleable__content fitted\"><pre>StandardScaler()</pre></div> </div></div></div></div></div><div class=\"sk-parallel-item\"><div class=\"sk-item\"><div class=\"sk-label-container\"><div class=\"sk-label fitted sk-toggleable\"><input class=\"sk-toggleable__control sk-hidden--visually\" id=\"sk-estimator-id-5\" type=\"checkbox\" ><label for=\"sk-estimator-id-5\" class=\"sk-toggleable__label fitted sk-toggleable__label-arrow\"><div><div>cat</div></div></label><div class=\"sk-toggleable__content fitted\"><pre>Index([&#x27;categoria&#x27;], dtype=&#x27;object&#x27;)</pre></div> </div></div><div class=\"sk-serial\"><div class=\"sk-item\"><div class=\"sk-estimator fitted sk-toggleable\"><input class=\"sk-toggleable__control sk-hidden--visually\" id=\"sk-estimator-id-6\" type=\"checkbox\" ><label for=\"sk-estimator-id-6\" class=\"sk-toggleable__label fitted sk-toggleable__label-arrow\"><div><div>OneHotEncoder</div></div><div><a class=\"sk-estimator-doc-link fitted\" rel=\"noreferrer\" target=\"_blank\" href=\"https://scikit-learn.org/1.6/modules/generated/sklearn.preprocessing.OneHotEncoder.html\">?<span>Documentation for OneHotEncoder</span></a></div></label><div class=\"sk-toggleable__content fitted\"><pre>OneHotEncoder(handle_unknown=&#x27;ignore&#x27;)</pre></div> </div></div></div></div></div></div></div><div class=\"sk-item\"><div class=\"sk-estimator fitted sk-toggleable\"><input class=\"sk-toggleable__control sk-hidden--visually\" id=\"sk-estimator-id-7\" type=\"checkbox\" ><label for=\"sk-estimator-id-7\" class=\"sk-toggleable__label fitted sk-toggleable__label-arrow\"><div><div>IsolationForest</div></div><div><a class=\"sk-estimator-doc-link fitted\" rel=\"noreferrer\" target=\"_blank\" href=\"https://scikit-learn.org/1.6/modules/generated/sklearn.ensemble.IsolationForest.html\">?<span>Documentation for IsolationForest</span></a></div></label><div class=\"sk-toggleable__content fitted\"><pre>IsolationForest(contamination=0.03, random_state=51)</pre></div> </div></div></div></div></div></div>"
      ],
      "text/plain": [
       "Pipeline(steps=[('preprocessador',\n",
       "                 ColumnTransformer(transformers=[('num', StandardScaler(),\n",
       "                                                  Index(['valor', 'id_funcionario'], dtype='object')),\n",
       "                                                 ('cat',\n",
       "                                                  OneHotEncoder(handle_unknown='ignore'),\n",
       "                                                  Index(['categoria'], dtype='object'))])),\n",
       "                ('modelo',\n",
       "                 IsolationForest(contamination=0.03, random_state=51))])"
      ]
     },
     "execution_count": 25,
     "metadata": {},
     "output_type": "execute_result"
    }
   ],
   "source": [
    "# Treinar o modelo\n",
    "pipeline.fit(df_reembolso_modelo)"
   ]
  },
  {
   "cell_type": "code",
   "execution_count": 26,
   "id": "2df88330",
   "metadata": {},
   "outputs": [],
   "source": [
    "# Dados transformados\n",
    "dados_transformados = pipeline.named_steps['preprocessador'].transform(df_reembolso_modelo)\n",
    "# Fazer previsões\n",
    "predicoes = pipeline.named_steps['modelo'].predict(dados_transformados)\n",
    "scores = pipeline.named_steps['modelo'].decision_function(dados_transformados)"
   ]
  },
  {
   "cell_type": "code",
   "execution_count": 27,
   "id": "72652184",
   "metadata": {},
   "outputs": [],
   "source": [
    "# Criando novas colunas no DataFrame\n",
    "df_reembolso['outliers'] = predicoes\n",
    "df_reembolso['score_anomalia'] = scores\n",
    "df_reembolso['alerta'] = df_reembolso['outliers'].apply(lambda x: 'Suspeito' if x == -1 else 'Normal')"
   ]
  },
  {
   "cell_type": "markdown",
   "id": "adbed033",
   "metadata": {},
   "source": [
    "### Vizualizar dados de anomalias"
   ]
  },
  {
   "cell_type": "code",
   "execution_count": 28,
   "id": "26c38c55",
   "metadata": {},
   "outputs": [
    {
     "data": {
      "text/html": [
       "<div>\n",
       "<style scoped>\n",
       "    .dataframe tbody tr th:only-of-type {\n",
       "        vertical-align: middle;\n",
       "    }\n",
       "\n",
       "    .dataframe tbody tr th {\n",
       "        vertical-align: top;\n",
       "    }\n",
       "\n",
       "    .dataframe thead th {\n",
       "        text-align: right;\n",
       "    }\n",
       "</style>\n",
       "<table border=\"1\" class=\"dataframe\">\n",
       "  <thead>\n",
       "    <tr style=\"text-align: right;\">\n",
       "      <th></th>\n",
       "      <th>id_funcionario</th>\n",
       "      <th>data_reembolso</th>\n",
       "      <th>categoria</th>\n",
       "      <th>valor</th>\n",
       "      <th>descricao</th>\n",
       "      <th>outliers</th>\n",
       "      <th>score_anomalia</th>\n",
       "      <th>alerta</th>\n",
       "    </tr>\n",
       "  </thead>\n",
       "  <tbody>\n",
       "    <tr>\n",
       "      <th>0</th>\n",
       "      <td>1061</td>\n",
       "      <td>2024-12-20</td>\n",
       "      <td>Transporte</td>\n",
       "      <td>23.69</td>\n",
       "      <td>Reembolso de combustível</td>\n",
       "      <td>1</td>\n",
       "      <td>0.053529</td>\n",
       "      <td>Normal</td>\n",
       "    </tr>\n",
       "    <tr>\n",
       "      <th>1</th>\n",
       "      <td>1088</td>\n",
       "      <td>2024-11-12</td>\n",
       "      <td>Educação</td>\n",
       "      <td>213.96</td>\n",
       "      <td>Inscrição em conferência da área</td>\n",
       "      <td>1</td>\n",
       "      <td>0.065638</td>\n",
       "      <td>Normal</td>\n",
       "    </tr>\n",
       "    <tr>\n",
       "      <th>2</th>\n",
       "      <td>1027</td>\n",
       "      <td>2024-11-14</td>\n",
       "      <td>Outros</td>\n",
       "      <td>137.96</td>\n",
       "      <td>Compra emergencial durante viagem</td>\n",
       "      <td>1</td>\n",
       "      <td>0.082201</td>\n",
       "      <td>Normal</td>\n",
       "    </tr>\n",
       "    <tr>\n",
       "      <th>3</th>\n",
       "      <td>1067</td>\n",
       "      <td>2024-10-31</td>\n",
       "      <td>Transporte</td>\n",
       "      <td>175.51</td>\n",
       "      <td>Reembolso de combustível</td>\n",
       "      <td>1</td>\n",
       "      <td>0.053236</td>\n",
       "      <td>Normal</td>\n",
       "    </tr>\n",
       "    <tr>\n",
       "      <th>4</th>\n",
       "      <td>1097</td>\n",
       "      <td>2024-12-30</td>\n",
       "      <td>Educação</td>\n",
       "      <td>355.66</td>\n",
       "      <td>Treinamento obrigatório da empresa</td>\n",
       "      <td>1</td>\n",
       "      <td>0.052962</td>\n",
       "      <td>Normal</td>\n",
       "    </tr>\n",
       "    <tr>\n",
       "      <th>5</th>\n",
       "      <td>1098</td>\n",
       "      <td>2025-01-31</td>\n",
       "      <td>Alimentação</td>\n",
       "      <td>39.94</td>\n",
       "      <td>Almoço com cliente em restaurante local</td>\n",
       "      <td>1</td>\n",
       "      <td>0.047520</td>\n",
       "      <td>Normal</td>\n",
       "    </tr>\n",
       "    <tr>\n",
       "      <th>6</th>\n",
       "      <td>1088</td>\n",
       "      <td>2024-10-17</td>\n",
       "      <td>Educação</td>\n",
       "      <td>348.60</td>\n",
       "      <td>Inscrição em conferência da área</td>\n",
       "      <td>1</td>\n",
       "      <td>0.099327</td>\n",
       "      <td>Normal</td>\n",
       "    </tr>\n",
       "    <tr>\n",
       "      <th>7</th>\n",
       "      <td>1024</td>\n",
       "      <td>2024-10-14</td>\n",
       "      <td>Transporte</td>\n",
       "      <td>38.11</td>\n",
       "      <td>Estacionamento em local de reunião</td>\n",
       "      <td>1</td>\n",
       "      <td>0.100334</td>\n",
       "      <td>Normal</td>\n",
       "    </tr>\n",
       "    <tr>\n",
       "      <th>8</th>\n",
       "      <td>1098</td>\n",
       "      <td>2024-12-28</td>\n",
       "      <td>Outros</td>\n",
       "      <td>362.40</td>\n",
       "      <td>Compra de material de escritório</td>\n",
       "      <td>1</td>\n",
       "      <td>0.039908</td>\n",
       "      <td>Normal</td>\n",
       "    </tr>\n",
       "    <tr>\n",
       "      <th>9</th>\n",
       "      <td>1091</td>\n",
       "      <td>2025-02-18</td>\n",
       "      <td>Hotel</td>\n",
       "      <td>505.78</td>\n",
       "      <td>Reembolso de hospedagem em congresso</td>\n",
       "      <td>1</td>\n",
       "      <td>0.092781</td>\n",
       "      <td>Normal</td>\n",
       "    </tr>\n",
       "  </tbody>\n",
       "</table>\n",
       "</div>"
      ],
      "text/plain": [
       "   id_funcionario data_reembolso    categoria   valor  \\\n",
       "0            1061     2024-12-20   Transporte   23.69   \n",
       "1            1088     2024-11-12     Educação  213.96   \n",
       "2            1027     2024-11-14       Outros  137.96   \n",
       "3            1067     2024-10-31   Transporte  175.51   \n",
       "4            1097     2024-12-30     Educação  355.66   \n",
       "5            1098     2025-01-31  Alimentação   39.94   \n",
       "6            1088     2024-10-17     Educação  348.60   \n",
       "7            1024     2024-10-14   Transporte   38.11   \n",
       "8            1098     2024-12-28       Outros  362.40   \n",
       "9            1091     2025-02-18        Hotel  505.78   \n",
       "\n",
       "                                 descricao  outliers  score_anomalia  alerta  \n",
       "0                 Reembolso de combustível         1        0.053529  Normal  \n",
       "1         Inscrição em conferência da área         1        0.065638  Normal  \n",
       "2        Compra emergencial durante viagem         1        0.082201  Normal  \n",
       "3                 Reembolso de combustível         1        0.053236  Normal  \n",
       "4       Treinamento obrigatório da empresa         1        0.052962  Normal  \n",
       "5  Almoço com cliente em restaurante local         1        0.047520  Normal  \n",
       "6         Inscrição em conferência da área         1        0.099327  Normal  \n",
       "7       Estacionamento em local de reunião         1        0.100334  Normal  \n",
       "8         Compra de material de escritório         1        0.039908  Normal  \n",
       "9     Reembolso de hospedagem em congresso         1        0.092781  Normal  "
      ]
     },
     "execution_count": 28,
     "metadata": {},
     "output_type": "execute_result"
    }
   ],
   "source": [
    "df_reembolso.head(10)"
   ]
  },
  {
   "cell_type": "code",
   "execution_count": 29,
   "id": "124440a6",
   "metadata": {},
   "outputs": [
    {
     "data": {
      "application/vnd.plotly.v1+json": {
       "config": {
        "plotlyServerURL": "https://plot.ly"
       },
       "data": [
        {
         "customdata": [
          [
           "Reembolso de combustível",
           0.053529321234283556
          ],
          [
           "Inscrição em conferência da área",
           0.06563811088038929
          ],
          [
           "Compra emergencial durante viagem",
           0.08220107175376135
          ],
          [
           "Reembolso de combustível",
           0.05323604804554427
          ],
          [
           "Treinamento obrigatório da empresa",
           0.05296172295292978
          ],
          [
           "Almoço com cliente em restaurante local",
           0.047520356786544315
          ],
          [
           "Inscrição em conferência da área",
           0.09932742035888575
          ],
          [
           "Estacionamento em local de reunião",
           0.10033446246870598
          ],
          [
           "Compra de material de escritório",
           0.039908032760964995
          ],
          [
           "Reembolso de hospedagem em congresso",
           0.09278086570794508
          ],
          [
           "Workshop de capacitação",
           0.12432898621354421
          ],
          [
           "Serviços de impressão para apresentação",
           0.07935892177728976
          ],
          [
           "Hospedagem em viagem a trabalho",
           0.05738109058530694
          ],
          [
           "Diária de hotel em missão comercial",
           0.07827829266282516
          ],
          [
           "Café da manhã durante evento corporativo",
           0.1306186366252094
          ],
          [
           "Treinamento obrigatório da empresa",
           0.11224905222883441
          ],
          [
           "Reembolso de brindes para cliente",
           0.05653423502611088
          ],
          [
           "Jantar em viagem de negócios",
           0.02669758099318531
          ],
          [
           "Reembolso de combustível",
           0.10655284187335778
          ],
          [
           "Jantar em viagem de negócios",
           0.12720480252399352
          ],
          [
           "Workshop de capacitação",
           0.08498828244575363
          ],
          [
           "Táxi do aeroporto ao hotel",
           0.1148017336860081
          ],
          [
           "Estadia para evento corporativo",
           0.10949287118600359
          ],
          [
           "Café da manhã durante evento corporativo",
           0.09984355444492932
          ],
          [
           "Reembolso de brindes para cliente",
           0.06295538042867477
          ],
          [
           "Aluguel de carro para deslocamento profissional",
           0.11492169485893816
          ],
          [
           "Hospedagem em viagem a trabalho",
           0.10564327345781244
          ],
          [
           "Almoço com cliente em restaurante local",
           0.07193343728886081
          ],
          [
           "Estacionamento em local de reunião",
           0.1228805168533541
          ],
          [
           "Compra de lanche em aeroporto",
           0.1322367790164249
          ],
          [
           "Café da manhã durante evento corporativo",
           0.006851054460791484
          ],
          [
           "Táxi do aeroporto ao hotel",
           0.1172814506306496
          ],
          [
           "Reembolso de combustível",
           0.0729696456880512
          ],
          [
           "Jantar em viagem de negócios",
           0.12067968257664802
          ],
          [
           "Corrida de aplicativo para reunião externa",
           0.12927525086624714
          ],
          [
           "Diária em hotel durante treinamento",
           0.0920698028318051
          ],
          [
           "Treinamento obrigatório da empresa",
           0.03225244288689355
          ],
          [
           "Estadia para evento corporativo",
           0.06620650906234504
          ],
          [
           "Táxi do aeroporto ao hotel",
           0.10208076996156773
          ],
          [
           "Compra de livro técnico",
           0.05557927883716174
          ],
          [
           "Hospedagem em viagem a trabalho",
           0.07869363561126219
          ],
          [
           "Compra emergencial durante viagem",
           0.10201812352220357
          ],
          [
           "Estacionamento em local de reunião",
           0.11628125368814379
          ],
          [
           "Workshop de capacitação",
           0.09641336760494446
          ],
          [
           "Hospedagem em viagem a trabalho",
           0.0031017350148687672
          ],
          [
           "Compra de lanche em aeroporto",
           0.04924417684869453
          ],
          [
           "Compra de material de escritório",
           0.07782995755243283
          ],
          [
           "Serviços de impressão para apresentação",
           0.0886051298784104
          ],
          [
           "Estacionamento em local de reunião",
           0.12271533767928883
          ],
          [
           "Inscrição em conferência da área",
           0.06299403771292611
          ],
          [
           "Jantar em viagem de negócios",
           0.04404880333155026
          ],
          [
           "Hospedagem em viagem a trabalho",
           0.11175559744072261
          ],
          [
           "Café da manhã durante evento corporativo",
           0.123103133783663
          ],
          [
           "Café da manhã durante evento corporativo",
           0.09967787099212233
          ],
          [
           "Corrida de aplicativo para reunião externa",
           0.06158551634201603
          ],
          [
           "Diária em hotel durante treinamento",
           0.10616503781601305
          ],
          [
           "Almoço com cliente em restaurante local",
           0.04964173015220452
          ],
          [
           "Compra de livro técnico",
           0.09412174813945029
          ],
          [
           "Compra de livro técnico",
           0.08252958901489982
          ],
          [
           "Diária de hotel em missão comercial",
           0.09366864968504995
          ],
          [
           "Refeição após reunião externa",
           0.10489420228961965
          ],
          [
           "Táxi do aeroporto ao hotel",
           0.11703370851391531
          ],
          [
           "Almoço com cliente em restaurante local",
           0.10910994797941104
          ],
          [
           "Café da manhã durante evento corporativo",
           0.132190012973948
          ],
          [
           "Almoço com cliente em restaurante local",
           0.07993513434304711
          ],
          [
           "Aluguel de carro para deslocamento profissional",
           0.07864578955396417
          ],
          [
           "Compra de lanche em aeroporto",
           0.07070411090559292
          ],
          [
           "Diária de hotel em missão comercial",
           0.10568312983359684
          ],
          [
           "Curso online de atualização profissional",
           0.11070116541810937
          ],
          [
           "Estacionamento em local de reunião",
           0.10629162761928684
          ],
          [
           "Corrida de aplicativo para reunião externa",
           0.08816256786477783
          ],
          [
           "Treinamento obrigatório da empresa",
           0.10977176094137864
          ],
          [
           "Estadia para evento corporativo",
           0.10069852463517215
          ],
          [
           "Almoço com cliente em restaurante local",
           0.02582050359199073
          ],
          [
           "Compra emergencial durante viagem",
           0.08431271109631888
          ],
          [
           "Corrida de aplicativo para reunião externa",
           0.07496781610567538
          ],
          [
           "Refeição após reunião externa",
           0.04574701556716232
          ],
          [
           "Diária de hotel em missão comercial",
           0.11187467182141386
          ],
          [
           "Corrida de aplicativo para reunião externa",
           0.047795189206368494
          ],
          [
           "Táxi do aeroporto ao hotel",
           0.1250610179661849
          ],
          [
           "Diária em hotel durante treinamento",
           0.025548345823679375
          ],
          [
           "Café da manhã durante evento corporativo",
           0.054965844081912074
          ],
          [
           "Compra de livro técnico",
           0.10172220306908769
          ],
          [
           "Diária em hotel durante treinamento",
           0.09239895818532706
          ],
          [
           "Assinatura de software temporário",
           0.08829315016666783
          ],
          [
           "Reembolso de hospedagem em congresso",
           0.03642544847398743
          ],
          [
           "Reembolso de hospedagem em congresso",
           0.09423353117741418
          ],
          [
           "Hospedagem em viagem a trabalho",
           0.04370052463963203
          ],
          [
           "Compra de material de escritório",
           0.08432564623530914
          ],
          [
           "Almoço com cliente em restaurante local",
           0.12174404814335077
          ],
          [
           "Diária de hotel em missão comercial",
           0.08885438029580617
          ],
          [
           "Reembolso de brindes para cliente",
           0.06714920492466903
          ],
          [
           "Refeição após reunião externa",
           0.10047060957305715
          ],
          [
           "Treinamento obrigatório da empresa",
           0.104220176615899
          ],
          [
           "Treinamento obrigatório da empresa",
           0.11777691065965729
          ],
          [
           "Workshop de capacitação",
           0.05533939992411607
          ],
          [
           "Curso online de atualização profissional",
           0.11791016323709697
          ],
          [
           "Compra emergencial durante viagem",
           0.08261443391442991
          ],
          [
           "Reembolso de brindes para cliente",
           0.09426579174079502
          ],
          [
           "Inscrição em conferência da área",
           0.07705453733062717
          ],
          [
           "Táxi do aeroporto ao hotel",
           0.09770493850519896
          ],
          [
           "Refeição após reunião externa",
           0.038279244086073416
          ],
          [
           "Inscrição em conferência da área",
           0.1216352919314943
          ],
          [
           "Estacionamento em local de reunião",
           0.0868552620587405
          ],
          [
           "Diária em hotel durante treinamento",
           0.08205142680389921
          ],
          [
           "Treinamento obrigatório da empresa",
           0.11888273966714935
          ],
          [
           "Serviços de impressão para apresentação",
           0.04594867476057507
          ],
          [
           "Assinatura de software temporário",
           0.06340788115920848
          ],
          [
           "Compra emergencial durante viagem",
           0.08666544867252335
          ],
          [
           "Curso online de atualização profissional",
           0.11103623614196406
          ],
          [
           "Táxi do aeroporto ao hotel",
           0.10592355963774525
          ],
          [
           "Compra emergencial durante viagem",
           0.10495787935360384
          ],
          [
           "Almoço com cliente em restaurante local",
           0.10610217939837913
          ],
          [
           "Café da manhã durante evento corporativo",
           0.12042058165728953
          ],
          [
           "Reembolso de hospedagem em congresso",
           0.1076833618976426
          ],
          [
           "Compra de livro técnico",
           0.08649950697885622
          ],
          [
           "Assinatura de software temporário",
           0.05061766090961062
          ],
          [
           "Reembolso de combustível",
           0.13149190533936356
          ],
          [
           "Estacionamento em local de reunião",
           0.1279147337017163
          ],
          [
           "Curso online de atualização profissional",
           0.11915093305851715
          ],
          [
           "Hospedagem em viagem a trabalho",
           0.09369530571006601
          ],
          [
           "Workshop de capacitação",
           0.12195704890398218
          ],
          [
           "Café da manhã durante evento corporativo",
           0.033915611229503706
          ],
          [
           "Estadia para evento corporativo",
           0.035768880812827475
          ],
          [
           "Jantar em viagem de negócios",
           0.04036420098959548
          ],
          [
           "Reembolso de hospedagem em congresso",
           0.01900306074342817
          ],
          [
           "Estadia para evento corporativo",
           0.07445478553498319
          ],
          [
           "Treinamento obrigatório da empresa",
           0.05582974107574801
          ],
          [
           "Jantar em viagem de negócios",
           0.11424732958360334
          ],
          [
           "Aluguel de carro para deslocamento profissional",
           0.07062588747248455
          ],
          [
           "Treinamento obrigatório da empresa",
           0.07270516138142324
          ],
          [
           "Compra de lanche em aeroporto",
           0.04382063679595427
          ],
          [
           "Café da manhã durante evento corporativo",
           0.11851675147249158
          ],
          [
           "Assinatura de software temporário",
           0.08743912734685677
          ],
          [
           "Táxi do aeroporto ao hotel",
           0.11517493890475416
          ],
          [
           "Jantar em viagem de negócios",
           0.1261789535725028
          ],
          [
           "Curso online de atualização profissional",
           0.10895307983484198
          ],
          [
           "Treinamento obrigatório da empresa",
           0.035694698573664696
          ],
          [
           "Almoço com cliente em restaurante local",
           0.10953339473836399
          ],
          [
           "Reembolso de hospedagem em congresso",
           0.060569318171413866
          ],
          [
           "Inscrição em conferência da área",
           0.11796065496307967
          ],
          [
           "Compra emergencial durante viagem",
           0.040069843442362085
          ],
          [
           "Hospedagem em viagem a trabalho",
           0.11234683308225807
          ],
          [
           "Café da manhã durante evento corporativo",
           0.1148178882140144
          ],
          [
           "Curso online de atualização profissional",
           0.08934189014393301
          ],
          [
           "Reembolso de brindes para cliente",
           0.08929404600653679
          ],
          [
           "Táxi do aeroporto ao hotel",
           0.12606928570333753
          ],
          [
           "Refeição após reunião externa",
           0.1238414204447495
          ],
          [
           "Estacionamento em local de reunião",
           0.03799087983423366
          ],
          [
           "Reembolso de combustível",
           0.07198570611706534
          ],
          [
           "Estadia para evento corporativo",
           0.07784940067484492
          ],
          [
           "Workshop de capacitação",
           0.10216847999791784
          ],
          [
           "Hospedagem em viagem a trabalho",
           0.029987740853446354
          ],
          [
           "Diária de hotel em missão comercial",
           0.0916778192407216
          ],
          [
           "Treinamento obrigatório da empresa",
           0.10187234369769577
          ],
          [
           "Compra de lanche em aeroporto",
           0.08163928339814741
          ],
          [
           "Diária de hotel em missão comercial",
           0.10289074307369894
          ],
          [
           "Compra emergencial durante viagem",
           0.08713796089250647
          ],
          [
           "Diária em hotel durante treinamento",
           0.09530773010412019
          ],
          [
           "Café da manhã durante evento corporativo",
           0.03395339783270668
          ],
          [
           "Estadia para evento corporativo",
           0.10043820010795224
          ],
          [
           "Hospedagem em viagem a trabalho",
           0.090204315707611
          ],
          [
           "Reembolso de brindes para cliente",
           0.09279417507987142
          ],
          [
           "Assinatura de software temporário",
           0.08815942152709788
          ],
          [
           "Hospedagem em viagem a trabalho",
           0.08851536235229485
          ],
          [
           "Refeição após reunião externa",
           0.05566152541078817
          ],
          [
           "Reembolso de hospedagem em congresso",
           0.0825420382775347
          ],
          [
           "Curso online de atualização profissional",
           0.09704253427741916
          ],
          [
           "Reembolso de brindes para cliente",
           0.07096624197691115
          ],
          [
           "Estacionamento em local de reunião",
           0.0789452944894401
          ],
          [
           "Workshop de capacitação",
           0.06102126024954424
          ],
          [
           "Hospedagem em viagem a trabalho",
           0.09857297171781726
          ],
          [
           "Reembolso de brindes para cliente",
           0.08417199370170181
          ],
          [
           "Refeição após reunião externa",
           0.12635053396167872
          ],
          [
           "Reembolso de combustível",
           0.09887092874629405
          ],
          [
           "Jantar em viagem de negócios",
           0.09876834584946625
          ],
          [
           "Reembolso de combustível",
           0.12370072365518647
          ],
          [
           "Estadia para evento corporativo",
           0.08180858880477271
          ],
          [
           "Serviços de impressão para apresentação",
           0.06954604152286648
          ],
          [
           "Refeição após reunião externa",
           0.09696108034746298
          ],
          [
           "Compra emergencial durante viagem",
           0.09001669216294494
          ],
          [
           "Refeição após reunião externa",
           0.10762991235622948
          ],
          [
           "Compra de material de escritório",
           0.05310846270651626
          ],
          [
           "Treinamento obrigatório da empresa",
           0.1129535258282327
          ],
          [
           "Curso online de atualização profissional",
           0.11802721358670315
          ],
          [
           "Táxi do aeroporto ao hotel",
           0.04377740052847745
          ],
          [
           "Treinamento obrigatório da empresa",
           0.06528528400678013
          ],
          [
           "Reembolso de combustível",
           0.07737727452602416
          ],
          [
           "Corrida de aplicativo para reunião externa",
           0.07151467292144587
          ],
          [
           "Hospedagem em viagem a trabalho",
           0.04379033822340184
          ],
          [
           "Almoço com cliente em restaurante local",
           0.05612802673660533
          ],
          [
           "Hospedagem em viagem a trabalho",
           0.08992955859701657
          ],
          [
           "Estacionamento em local de reunião",
           0.10138523466469335
          ],
          [
           "Aluguel de carro para deslocamento profissional",
           0.11039040534537148
          ],
          [
           "Jantar em viagem de negócios",
           0.10546014935334957
          ],
          [
           "Compra de livro técnico",
           0.11042307504195331
          ],
          [
           "Compra de livro técnico",
           0.08109277679185434
          ],
          [
           "Almoço com cliente em restaurante local",
           0.09351278397857948
          ],
          [
           "Reembolso de combustível",
           0.12318374557581369
          ],
          [
           "Diária de hotel em missão comercial",
           0.1009384964202551
          ],
          [
           "Almoço com cliente em restaurante local",
           0.10627712681074047
          ],
          [
           "Táxi do aeroporto ao hotel",
           0.1023550062977649
          ],
          [
           "Estadia para evento corporativo",
           0.09057777117737498
          ],
          [
           "Refeição após reunião externa",
           0.03731625232696811
          ],
          [
           "Serviços de impressão para apresentação",
           0.05010145877672778
          ],
          [
           "Almoço com cliente em restaurante local",
           0.08040568828129924
          ],
          [
           "Reembolso de hospedagem em congresso",
           0.022259312581289548
          ],
          [
           "Compra emergencial durante viagem",
           0.02673518011641196
          ],
          [
           "Reembolso de hospedagem em congresso",
           0.000031280244961129355
          ],
          [
           "Reembolso de combustível",
           0.0923494363109133
          ],
          [
           "Hospedagem em viagem a trabalho",
           0.07118997273926697
          ],
          [
           "Curso online de atualização profissional",
           0.11089549159481094
          ],
          [
           "Táxi do aeroporto ao hotel",
           0.11338985550877806
          ],
          [
           "Compra de lanche em aeroporto",
           0.10732194550645191
          ],
          [
           "Corrida de aplicativo para reunião externa",
           0.11527222981324126
          ],
          [
           "Refeição após reunião externa",
           0.01923381516776268
          ],
          [
           "Diária de hotel em missão comercial",
           0.0660176937306759
          ],
          [
           "Compra de lanche em aeroporto",
           0.13050890914325397
          ],
          [
           "Almoço com cliente em restaurante local",
           0.12025526548307791
          ],
          [
           "Refeição após reunião externa",
           0.12220073596711378
          ],
          [
           "Curso online de atualização profissional",
           0.07188078611760984
          ],
          [
           "Reembolso de hospedagem em congresso",
           0.07741766520394722
          ],
          [
           "Táxi do aeroporto ao hotel",
           0.1330891820738575
          ],
          [
           "Café da manhã durante evento corporativo",
           0.1214442527928955
          ],
          [
           "Compra de lanche em aeroporto",
           0.03466205461260741
          ],
          [
           "Compra emergencial durante viagem",
           0.07210635729947235
          ],
          [
           "Aluguel de carro para deslocamento profissional",
           0.05149179780483126
          ],
          [
           "Compra emergencial durante viagem",
           0.024255517233378154
          ],
          [
           "Diária em hotel durante treinamento",
           0.1039196103672193
          ],
          [
           "Inscrição em conferência da área",
           0.06657656578772597
          ],
          [
           "Reembolso de combustível",
           0.10614923123903147
          ],
          [
           "Reembolso de combustível",
           0.1215399370738281
          ],
          [
           "Workshop de capacitação",
           0.11502444753944929
          ],
          [
           "Compra de lanche em aeroporto",
           0.12545376739649866
          ],
          [
           "Corrida de aplicativo para reunião externa",
           0.049474220135258706
          ],
          [
           "Almoço com cliente em restaurante local",
           0.09942026208914928
          ],
          [
           "Inscrição em conferência da área",
           0.0996177135459575
          ],
          [
           "Compra de material de escritório",
           0.09318660589133981
          ],
          [
           "Café da manhã durante evento corporativo",
           0.06062649718802682
          ],
          [
           "Aluguel de carro para deslocamento profissional",
           0.0994111683490817
          ],
          [
           "Reembolso de hospedagem em congresso",
           0.10052007636943949
          ],
          [
           "Jantar em viagem de negócios",
           0.06794473779979149
          ],
          [
           "Estadia para evento corporativo",
           0.08121756204684427
          ],
          [
           "Reembolso de hospedagem em congresso",
           0.09444574683565898
          ],
          [
           "Almoço com cliente em restaurante local",
           0.11891102468271697
          ],
          [
           "Almoço com cliente em restaurante local",
           0.07891231940756172
          ],
          [
           "Reembolso de combustível",
           0.043288164072742386
          ],
          [
           "Treinamento obrigatório da empresa",
           0.1291738724006941
          ],
          [
           "Café da manhã durante evento corporativo",
           0.10379269292216764
          ],
          [
           "Corrida de aplicativo para reunião externa",
           0.08011245454448579
          ],
          [
           "Compra de livro técnico",
           0.08592854439305408
          ],
          [
           "Compra de livro técnico",
           0.07084839421460365
          ],
          [
           "Corrida de aplicativo para reunião externa",
           0.12948359607036874
          ],
          [
           "Jantar em viagem de negócios",
           0.05389301098007471
          ],
          [
           "Treinamento obrigatório da empresa",
           0.06360470404982055
          ],
          [
           "Assinatura de software temporário",
           0.039443816208611704
          ],
          [
           "Assinatura de software temporário",
           0.09399380120652495
          ],
          [
           "Aluguel de carro para deslocamento profissional",
           0.11098533985405828
          ],
          [
           "Refeição após reunião externa",
           0.06475602863818153
          ],
          [
           "Almoço com cliente em restaurante local",
           0.10903521562930518
          ],
          [
           "Diária em hotel durante treinamento",
           0.07691919743452624
          ],
          [
           "Compra emergencial durante viagem",
           0.08847232141036088
          ],
          [
           "Reembolso de brindes para cliente",
           0.006300948154454811
          ],
          [
           "Diária de hotel em missão comercial",
           0.059841599476887164
          ],
          [
           "Compra de material de escritório",
           0.09792336677084457
          ],
          [
           "Aluguel de carro para deslocamento profissional",
           0.10550616856362849
          ],
          [
           "Inscrição em conferência da área",
           0.09012844890730587
          ],
          [
           "Compra de material de escritório",
           0.07774068734037476
          ],
          [
           "Estacionamento em local de reunião",
           0.12334385922290259
          ],
          [
           "Inscrição em conferência da área",
           0.059643828955715295
          ],
          [
           "Workshop de capacitação",
           0.10533835365051936
          ],
          [
           "Estadia para evento corporativo",
           0.05727111897264403
          ],
          [
           "Reembolso de brindes para cliente",
           0.09773399523772669
          ],
          [
           "Compra de livro técnico",
           0.04021050462181297
          ],
          [
           "Refeição após reunião externa",
           0.05841128425410558
          ],
          [
           "Assinatura de software temporário",
           0.04082218403229276
          ],
          [
           "Compra de livro técnico",
           0.08226675393974059
          ],
          [
           "Refeição após reunião externa",
           0.1261717669560471
          ],
          [
           "Almoço com cliente em restaurante local",
           0.13313375557094076
          ],
          [
           "Curso online de atualização profissional",
           0.09728127992354157
          ],
          [
           "Compra de material de escritório",
           0.08514462750453122
          ],
          [
           "Compra emergencial durante viagem",
           0.06961486930953487
          ],
          [
           "Diária de hotel em missão comercial",
           0.000561842862746742
          ],
          [
           "Aluguel de carro para deslocamento profissional",
           0.0869306469401867
          ],
          [
           "Diária em hotel durante treinamento",
           0.04129818490603443
          ],
          [
           "Workshop de capacitação",
           0.08450182525432814
          ],
          [
           "Compra emergencial durante viagem",
           0.0654703086189562
          ],
          [
           "Jantar em viagem de negócios",
           0.11921200083278766
          ],
          [
           "Estadia para evento corporativo",
           0.08723292902114488
          ],
          [
           "Diária de hotel em missão comercial",
           0.04388231997303693
          ],
          [
           "Diária em hotel durante treinamento",
           0.09601112020449276
          ],
          [
           "Aluguel de carro para deslocamento profissional",
           0.11912836950655925
          ],
          [
           "Curso online de atualização profissional",
           0.040907601363295965
          ],
          [
           "Reembolso de brindes para cliente",
           0.0748593651844448
          ],
          [
           "Refeição após reunião externa",
           0.09735514947494428
          ],
          [
           "Inscrição em conferência da área",
           0.09476431770234761
          ],
          [
           "Diária em hotel durante treinamento",
           0.08805977956723388
          ],
          [
           "Curso online de atualização profissional",
           0.09686485019728863
          ],
          [
           "Compra de material de escritório",
           0.03609242456943196
          ],
          [
           "Compra de livro técnico",
           0.0572588450109639
          ],
          [
           "Compra emergencial durante viagem",
           0.06307304345049103
          ],
          [
           "Curso online de atualização profissional",
           0.03417742103959753
          ],
          [
           "Compra de lanche em aeroporto",
           0.05157737571819887
          ],
          [
           "Assinatura de software temporário",
           0.06551206386744446
          ],
          [
           "Estacionamento em local de reunião",
           0.12937105395886433
          ],
          [
           "Corrida de aplicativo para reunião externa",
           0.1151057674150317
          ],
          [
           "Compra emergencial durante viagem",
           0.07261176966592298
          ],
          [
           "Assinatura de software temporário",
           0.0674239263983697
          ],
          [
           "Reembolso de brindes para cliente",
           0.078721200433298
          ],
          [
           "Workshop de capacitação",
           0.022715870685785844
          ],
          [
           "Inscrição em conferência da área",
           0.12696886787623507
          ],
          [
           "Treinamento obrigatório da empresa",
           0.03327355109110419
          ],
          [
           "Serviços de impressão para apresentação",
           0.04951580808402245
          ],
          [
           "Serviços de impressão para apresentação",
           0.09958879579916297
          ],
          [
           "Reembolso de brindes para cliente",
           0.08453356607798768
          ],
          [
           "Estacionamento em local de reunião",
           0.11747909544054203
          ],
          [
           "Estadia para evento corporativo",
           0.10126914821572836
          ],
          [
           "Táxi do aeroporto ao hotel",
           0.1265684330210976
          ],
          [
           "Serviços de impressão para apresentação",
           0.06274156130559727
          ],
          [
           "Café da manhã durante evento corporativo",
           0.09690893143304774
          ],
          [
           "Treinamento obrigatório da empresa",
           0.11525222547072639
          ],
          [
           "Treinamento obrigatório da empresa",
           0.04726612695058363
          ],
          [
           "Curso online de atualização profissional",
           0.08100472641020329
          ],
          [
           "Almoço com cliente em restaurante local",
           0.11439607693911014
          ],
          [
           "Corrida de aplicativo para reunião externa",
           0.061268498243567615
          ],
          [
           "Jantar em viagem de negócios",
           0.08569001648239516
          ],
          [
           "Reembolso de combustível",
           0.07307017618672806
          ],
          [
           "Hospedagem em viagem a trabalho",
           0.10643453843554324
          ],
          [
           "Hospedagem em viagem a trabalho",
           0.09572913729238519
          ],
          [
           "Compra de material de escritório",
           0.03691462267955903
          ],
          [
           "Curso online de atualização profissional",
           0.12205311351150078
          ],
          [
           "Reembolso de brindes para cliente",
           0.09640463693384238
          ],
          [
           "Assinatura de software temporário",
           0.06992789560107826
          ],
          [
           "Serviços de impressão para apresentação",
           0.03852719864238441
          ],
          [
           "Refeição após reunião externa",
           0.10711032878490961
          ],
          [
           "Workshop de capacitação",
           0.046169869000592945
          ],
          [
           "Almoço com cliente em restaurante local",
           0.12827387599938572
          ],
          [
           "Hospedagem em viagem a trabalho",
           0.011895897339936456
          ],
          [
           "Inscrição em conferência da área",
           0.10994827063439322
          ],
          [
           "Diária de hotel em missão comercial",
           0.10213787998438933
          ],
          [
           "Reembolso de brindes para cliente",
           0.08514000463039084
          ],
          [
           "Reembolso de combustível",
           0.07468166982158919
          ],
          [
           "Corrida de aplicativo para reunião externa",
           0.1088171545116613
          ],
          [
           "Estacionamento em local de reunião",
           0.12432253545382399
          ],
          [
           "Curso online de atualização profissional",
           0.11975880810400935
          ],
          [
           "Diária de hotel em missão comercial",
           0.09772166425367035
          ],
          [
           "Táxi do aeroporto ao hotel",
           0.11486445031663378
          ],
          [
           "Diária em hotel durante treinamento",
           0.02470479127007552
          ],
          [
           "Inscrição em conferência da área",
           0.06261468946093651
          ],
          [
           "Reembolso de combustível",
           0.11951546222760612
          ],
          [
           "Compra de lanche em aeroporto",
           0.10719714470932595
          ],
          [
           "Reembolso de hospedagem em congresso",
           0.04495123791360389
          ],
          [
           "Serviços de impressão para apresentação",
           0.06295538042867477
          ],
          [
           "Diária de hotel em missão comercial",
           0.08014620460854338
          ],
          [
           "Estacionamento em local de reunião",
           0.11717035625684291
          ],
          [
           "Reembolso de brindes para cliente",
           0.04586481710978174
          ],
          [
           "Compra emergencial durante viagem",
           0.07845032880678993
          ],
          [
           "Café da manhã durante evento corporativo",
           0.12060686200555887
          ],
          [
           "Reembolso de combustível",
           0.12359318619046478
          ],
          [
           "Estadia para evento corporativo",
           0.04161365366218617
          ],
          [
           "Compra emergencial durante viagem",
           0.09876352690021117
          ],
          [
           "Compra de material de escritório",
           0.022563166567814985
          ],
          [
           "Reembolso de hospedagem em congresso",
           0.028953541068961308
          ],
          [
           "Compra emergencial durante viagem",
           0.01027252109506016
          ],
          [
           "Café da manhã durante evento corporativo",
           0.0347096089770792
          ],
          [
           "Refeição após reunião externa",
           0.09267657556375075
          ],
          [
           "Serviços de impressão para apresentação",
           0.08656779041934992
          ],
          [
           "Serviços de impressão para apresentação",
           0.07013220089736405
          ],
          [
           "Assinatura de software temporário",
           0.09330898774415347
          ],
          [
           "Café da manhã durante evento corporativo",
           0.055109468534427664
          ],
          [
           "Reembolso de combustível",
           0.028776108631236252
          ],
          [
           "Almoço com cliente em restaurante local",
           0.10395262921867254
          ],
          [
           "Compra emergencial durante viagem",
           0.1018997183652462
          ],
          [
           "Jantar em viagem de negócios",
           0.1015270330230727
          ],
          [
           "Aluguel de carro para deslocamento profissional",
           0.07724027690581903
          ],
          [
           "Estacionamento em local de reunião",
           0.09932059812352617
          ],
          [
           "Curso online de atualização profissional",
           0.10495178585300863
          ],
          [
           "Corrida de aplicativo para reunião externa",
           0.12887565451515914
          ],
          [
           "Diária em hotel durante treinamento",
           0.05770649159881769
          ],
          [
           "Almoço com cliente em restaurante local",
           0.12473225101726021
          ],
          [
           "Diária de hotel em missão comercial",
           0.053602968867275114
          ],
          [
           "Reembolso de brindes para cliente",
           0.08612492514834391
          ],
          [
           "Compra de livro técnico",
           0.09268166246098375
          ],
          [
           "Compra de livro técnico",
           0.0944087829963059
          ],
          [
           "Refeição após reunião externa",
           0.06026713141715001
          ],
          [
           "Compra de lanche em aeroporto",
           0.08571604516863163
          ],
          [
           "Compra de material de escritório",
           0.09376339082537583
          ],
          [
           "Compra de material de escritório",
           0.04757844031294989
          ],
          [
           "Café da manhã durante evento corporativo",
           0.0500958102698249
          ],
          [
           "Café da manhã durante evento corporativo",
           0.12312538936979922
          ],
          [
           "Diária de hotel em missão comercial",
           0.09080841252371763
          ],
          [
           "Reembolso de hospedagem em congresso",
           0.08524993564303784
          ],
          [
           "Curso online de atualização profissional",
           0.09456999777090958
          ],
          [
           "Estacionamento em local de reunião",
           0.07392581757621708
          ],
          [
           "Aluguel de carro para deslocamento profissional",
           0.12148295049054664
          ],
          [
           "Hospedagem em viagem a trabalho",
           0.005656359041590786
          ],
          [
           "Diária em hotel durante treinamento",
           0.08103977315531152
          ],
          [
           "Reembolso de brindes para cliente",
           0.10167230643729797
          ],
          [
           "Almoço com cliente em restaurante local",
           0.1297680837838922
          ],
          [
           "Assinatura de software temporário",
           0.03504921945112327
          ],
          [
           "Compra de material de escritório",
           0.08698533992906987
          ],
          [
           "Reembolso de combustível",
           0.12693650436891624
          ],
          [
           "Treinamento obrigatório da empresa",
           0.042855214558152
          ],
          [
           "Táxi do aeroporto ao hotel",
           0.1290660861450425
          ],
          [
           "Serviços de impressão para apresentação",
           0.08926178830204112
          ],
          [
           "Jantar em viagem de negócios",
           0.130382211621277
          ],
          [
           "Compra de material de escritório",
           0.08452252508326397
          ],
          [
           "Assinatura de software temporário",
           0.06781804479780029
          ],
          [
           "Compra de material de escritório",
           0.06393415778888767
          ],
          [
           "Café da manhã durante evento corporativo",
           0.132190012973948
          ],
          [
           "Estacionamento em local de reunião",
           0.09725983138869543
          ],
          [
           "Estadia para evento corporativo",
           0.07155890199665405
          ],
          [
           "Corrida de aplicativo para reunião externa",
           0.04178839735033779
          ],
          [
           "Compra de material de escritório",
           0.09920922196117404
          ],
          [
           "Reembolso de hospedagem em congresso",
           0.046903266129100674
          ],
          [
           "Diária de hotel em missão comercial",
           0.0425713273822792
          ],
          [
           "Diária de hotel em missão comercial",
           0.09108286890370809
          ],
          [
           "Compra emergencial durante viagem",
           0.06133822427696811
          ],
          [
           "Café da manhã durante evento corporativo",
           0.10604371341879687
          ],
          [
           "Aluguel de carro para deslocamento profissional",
           0.07153530502873229
          ],
          [
           "Hospedagem em viagem a trabalho",
           0.027795881108607978
          ],
          [
           "Reembolso de hospedagem em congresso",
           0.08840949971068057
          ],
          [
           "Workshop de capacitação",
           0.09156873566229784
          ],
          [
           "Jantar em viagem de negócios",
           0.11028219690306484
          ],
          [
           "Compra de material de escritório",
           0.08484808073594208
          ],
          [
           "Estacionamento em local de reunião",
           0.07843338328918203
          ],
          [
           "Diária em hotel durante treinamento",
           0.08052189140053112
          ],
          [
           "Almoço com cliente em restaurante local",
           0.060737931876310935
          ],
          [
           "Compra de lanche em aeroporto",
           0.12621517442884872
          ],
          [
           "Treinamento obrigatório da empresa",
           0.10187234369769577
          ],
          [
           "Compra de lanche em aeroporto",
           0.12542830455131776
          ],
          [
           "Compra emergencial durante viagem",
           0.05170323809168165
          ],
          [
           "Reembolso de combustível",
           0.06743045793073588
          ],
          [
           "Estacionamento em local de reunião",
           0.11040457075840499
          ],
          [
           "Hospedagem em viagem a trabalho",
           0.022304427201260135
          ],
          [
           "Compra emergencial durante viagem",
           0.07769425093191851
          ],
          [
           "Workshop de capacitação",
           0.1196626540900314
          ],
          [
           "Jantar em viagem de negócios",
           0.12312538936979922
          ],
          [
           "Estacionamento em local de reunião",
           0.12383032463380295
          ],
          [
           "Inscrição em conferência da área",
           0.020357359701488886
          ],
          [
           "Compra emergencial durante viagem",
           0.09452937569139835
          ],
          [
           "Aluguel de carro para deslocamento profissional",
           0.10443448556079143
          ],
          [
           "Jantar em viagem de negócios",
           0.04089666115593127
          ],
          [
           "Inscrição em conferência da área",
           0.023633660453391214
          ],
          [
           "Estadia para evento corporativo",
           0.04927406266215051
          ],
          [
           "Jantar em viagem de negócios",
           0.13261862469966923
          ],
          [
           "Reembolso de hospedagem em congresso",
           0.10455453469988996
          ],
          [
           "Curso online de atualização profissional",
           0.017958611863733376
          ],
          [
           "Diária em hotel durante treinamento",
           0.0084255505591877
          ],
          [
           "Serviços de impressão para apresentação",
           0.030117447116574936
          ],
          [
           "Diária de hotel em missão comercial",
           0.08745178238662177
          ],
          [
           "Reembolso de brindes para cliente",
           0.09113161097029476
          ],
          [
           "Workshop de capacitação",
           0.09302405477640907
          ],
          [
           "Compra de lanche em aeroporto",
           0.09173655608331421
          ],
          [
           "Inscrição em conferência da área",
           0.08702340723251312
          ],
          [
           "Workshop de capacitação",
           0.12364010838352918
          ],
          [
           "Compra de livro técnico",
           0.1203558204124463
          ],
          [
           "Compra de lanche em aeroporto",
           0.12914843467241205
          ],
          [
           "Inscrição em conferência da área",
           0.049302080382109814
          ],
          [
           "Compra de lanche em aeroporto",
           0.13283799247950356
          ],
          [
           "Hospedagem em viagem a trabalho",
           0.09195210402838183
          ],
          [
           "Táxi do aeroporto ao hotel",
           0.12203804398885992
          ],
          [
           "Aluguel de carro para deslocamento profissional",
           0.07590014580156379
          ],
          [
           "Refeição após reunião externa",
           0.06362940129116079
          ],
          [
           "Compra de livro técnico",
           0.03252445557234063
          ],
          [
           "Reembolso de brindes para cliente",
           0.08180917011383515
          ],
          [
           "Curso online de atualização profissional",
           0.06990470015377082
          ],
          [
           "Jantar em viagem de negócios",
           0.06901061750149684
          ],
          [
           "Reembolso de brindes para cliente",
           0.06295538042867477
          ],
          [
           "Compra de material de escritório",
           0.005321742119823614
          ],
          [
           "Corrida de aplicativo para reunião externa",
           0.11800401011121298
          ],
          [
           "Hospedagem em viagem a trabalho",
           0.08544452160898663
          ],
          [
           "Treinamento obrigatório da empresa",
           0.10996893533493024
          ],
          [
           "Café da manhã durante evento corporativo",
           0.07455144304770212
          ],
          [
           "Aluguel de carro para deslocamento profissional",
           0.10987081580129576
          ],
          [
           "Compra de livro técnico",
           0.10204547880243997
          ],
          [
           "Aluguel de carro para deslocamento profissional",
           0.09712729517820168
          ],
          [
           "Estacionamento em local de reunião",
           0.12906839679662963
          ],
          [
           "Estacionamento em local de reunião",
           0.07365466532771936
          ],
          [
           "Serviços de impressão para apresentação",
           0.08836759621342916
          ],
          [
           "Reembolso de hospedagem em congresso",
           0.10245065124503411
          ],
          [
           "Compra de material de escritório",
           0.09836113103440192
          ],
          [
           "Compra de livro técnico",
           0.056811224166691265
          ],
          [
           "Almoço com cliente em restaurante local",
           0.04458113479971337
          ],
          [
           "Compra emergencial durante viagem",
           0.10325060395996488
          ],
          [
           "Inscrição em conferência da área",
           0.11603440705026197
          ],
          [
           "Jantar em viagem de negócios",
           0.12647652516373736
          ],
          [
           "Compra emergencial durante viagem",
           0.04056661644321424
          ],
          [
           "Compra emergencial durante viagem",
           0.08351910622829628
          ],
          [
           "Almoço com cliente em restaurante local",
           0.10500652541174976
          ],
          [
           "Estacionamento em local de reunião",
           0.08085268376852273
          ],
          [
           "Refeição após reunião externa",
           0.13042958889085104
          ],
          [
           "Workshop de capacitação",
           0.06617401558518621
          ],
          [
           "Assinatura de software temporário",
           0.09835608740035551
          ],
          [
           "Compra de livro técnico",
           0.12417091449174095
          ],
          [
           "Compra emergencial durante viagem",
           0.10342569180274203
          ],
          [
           "Inscrição em conferência da área",
           0.07754768652104949
          ],
          [
           "Inscrição em conferência da área",
           0.08188453195785872
          ],
          [
           "Diária de hotel em missão comercial",
           0.1031570727661289
          ],
          [
           "Workshop de capacitação",
           0.07041475026540667
          ],
          [
           "Almoço com cliente em restaurante local",
           0.06330390158855626
          ],
          [
           "Compra de material de escritório",
           0.10192646403186756
          ],
          [
           "Refeição após reunião externa",
           0.11628288372792056
          ],
          [
           "Reembolso de combustível",
           0.09844462778568269
          ],
          [
           "Diária em hotel durante treinamento",
           0.07616498369954594
          ],
          [
           "Treinamento obrigatório da empresa",
           0.09613407021454212
          ],
          [
           "Diária de hotel em missão comercial",
           0.008589528214439923
          ],
          [
           "Serviços de impressão para apresentação",
           0.0900311869856163
          ],
          [
           "Reembolso de hospedagem em congresso",
           0.00717172228557883
          ],
          [
           "Aluguel de carro para deslocamento profissional",
           0.091165734365799
          ],
          [
           "Assinatura de software temporário",
           0.033911945427071655
          ],
          [
           "Diária de hotel em missão comercial",
           0.1057478046880429
          ],
          [
           "Workshop de capacitação",
           0.08409450603646806
          ],
          [
           "Serviços de impressão para apresentação",
           0.0924620703361696
          ],
          [
           "Jantar em viagem de negócios",
           0.057323781496443904
          ],
          [
           "Corrida de aplicativo para reunião externa",
           0.10715001198272134
          ],
          [
           "Assinatura de software temporário",
           0.059170191250286774
          ],
          [
           "Jantar em viagem de negócios",
           0.1225518103698709
          ],
          [
           "Almoço com cliente em restaurante local",
           0.08830291382070021
          ],
          [
           "Treinamento obrigatório da empresa",
           0.046463031394182175
          ],
          [
           "Almoço com cliente em restaurante local",
           0.07204820666677225
          ],
          [
           "Reembolso de combustível",
           0.0979612389279535
          ],
          [
           "Compra de material de escritório",
           0.07521175713680461
          ],
          [
           "Compra de livro técnico",
           0.05332465579819179
          ],
          [
           "Serviços de impressão para apresentação",
           0.10425641634239236
          ],
          [
           "Compra de material de escritório",
           0.10406786580099675
          ],
          [
           "Aluguel de carro para deslocamento profissional",
           0.03954331686744361
          ],
          [
           "Jantar em viagem de negócios",
           0.09219668906045675
          ],
          [
           "Serviços de impressão para apresentação",
           0.07396426893510144
          ],
          [
           "Compra de lanche em aeroporto",
           0.08238302100820283
          ],
          [
           "Reembolso de brindes para cliente",
           0.09547759439090203
          ],
          [
           "Corrida de aplicativo para reunião externa",
           0.11640118477238809
          ],
          [
           "Corrida de aplicativo para reunião externa",
           0.0005789848714272683
          ],
          [
           "Café da manhã durante evento corporativo",
           0.10625361991161542
          ],
          [
           "Workshop de capacitação",
           0.05647845901135751
          ],
          [
           "Compra de livro técnico",
           0.08434440743872229
          ],
          [
           "Estacionamento em local de reunião",
           0.0801431370788448
          ],
          [
           "Almoço com cliente em restaurante local",
           0.12551644620261881
          ],
          [
           "Estadia para evento corporativo",
           0.049331137346274034
          ],
          [
           "Estacionamento em local de reunião",
           0.10901792490973722
          ],
          [
           "Compra de livro técnico",
           0.10754828634037894
          ],
          [
           "Café da manhã durante evento corporativo",
           0.12240496220465397
          ],
          [
           "Treinamento obrigatório da empresa",
           0.09096596944290081
          ],
          [
           "Compra de material de escritório",
           0.024255517233378154
          ],
          [
           "Estadia para evento corporativo",
           0.08946985409110686
          ],
          [
           "Serviços de impressão para apresentação",
           0.08006171580253885
          ],
          [
           "Serviços de impressão para apresentação",
           0.055004298137081964
          ],
          [
           "Compra de livro técnico",
           0.10106313402974954
          ],
          [
           "Inscrição em conferência da área",
           0.09243004405083444
          ],
          [
           "Reembolso de hospedagem em congresso",
           0.08224722132241358
          ],
          [
           "Treinamento obrigatório da empresa",
           0.11965798873160205
          ],
          [
           "Curso online de atualização profissional",
           0.09839249295263258
          ],
          [
           "Refeição após reunião externa",
           0.1144563195881797
          ],
          [
           "Táxi do aeroporto ao hotel",
           0.1023550062977649
          ],
          [
           "Workshop de capacitação",
           0.10792087163948927
          ],
          [
           "Compra de material de escritório",
           0.07941922586624028
          ],
          [
           "Hospedagem em viagem a trabalho",
           0.09671750800653678
          ],
          [
           "Refeição após reunião externa",
           0.13101187824913996
          ],
          [
           "Diária em hotel durante treinamento",
           0.07919532435282528
          ],
          [
           "Aluguel de carro para deslocamento profissional",
           0.12568260959015748
          ],
          [
           "Hospedagem em viagem a trabalho",
           0.10137740190945943
          ],
          [
           "Hospedagem em viagem a trabalho",
           0.09942294752953462
          ],
          [
           "Aluguel de carro para deslocamento profissional",
           0.11438175187471827
          ],
          [
           "Táxi do aeroporto ao hotel",
           0.1082699902386366
          ],
          [
           "Reembolso de combustível",
           0.046004895675750834
          ],
          [
           "Táxi do aeroporto ao hotel",
           0.09174512895490683
          ],
          [
           "Serviços de impressão para apresentação",
           0.006185451871392966
          ],
          [
           "Almoço com cliente em restaurante local",
           0.09941179508426534
          ],
          [
           "Treinamento obrigatório da empresa",
           0.12575478770094134
          ],
          [
           "Compra de material de escritório",
           0.0626013276897397
          ],
          [
           "Diária de hotel em missão comercial",
           0.06211044312546643
          ],
          [
           "Treinamento obrigatório da empresa",
           0.09321384160743018
          ],
          [
           "Inscrição em conferência da área",
           0.08104420067085338
          ],
          [
           "Serviços de impressão para apresentação",
           0.0706362404570331
          ],
          [
           "Estacionamento em local de reunião",
           0.10143993900318665
          ],
          [
           "Compra de lanche em aeroporto",
           0.047507943707516875
          ],
          [
           "Treinamento obrigatório da empresa",
           0.025454242390161808
          ],
          [
           "Serviços de impressão para apresentação",
           0.05394616529582652
          ],
          [
           "Aluguel de carro para deslocamento profissional",
           0.09221450448668667
          ],
          [
           "Assinatura de software temporário",
           0.08331960378281522
          ],
          [
           "Almoço com cliente em restaurante local",
           0.10988378983026598
          ],
          [
           "Aluguel de carro para deslocamento profissional",
           0.10326341574078679
          ],
          [
           "Café da manhã durante evento corporativo",
           0.1313961246009161
          ],
          [
           "Serviços de impressão para apresentação",
           0.07896258417759139
          ],
          [
           "Reembolso de hospedagem em congresso",
           0.06228274101827003
          ],
          [
           "Compra de livro técnico",
           0.09331619384854811
          ],
          [
           "Workshop de capacitação",
           0.10398087784511084
          ],
          [
           "Workshop de capacitação",
           0.02467162495266617
          ],
          [
           "Estacionamento em local de reunião",
           0.11528275731230064
          ],
          [
           "Reembolso de brindes para cliente",
           0.016279469050175854
          ],
          [
           "Hospedagem em viagem a trabalho",
           0.046135560780375284
          ],
          [
           "Compra de livro técnico",
           0.11700098341933801
          ],
          [
           "Táxi do aeroporto ao hotel",
           0.12270120170202958
          ],
          [
           "Jantar em viagem de negócios",
           0.07413994877256092
          ],
          [
           "Inscrição em conferência da área",
           0.10205460061331811
          ],
          [
           "Compra emergencial durante viagem",
           0.09846703935982631
          ],
          [
           "Reembolso de hospedagem em congresso",
           0.004428504892497909
          ],
          [
           "Diária de hotel em missão comercial",
           0.07749239766861626
          ],
          [
           "Refeição após reunião externa",
           0.101992227952449
          ],
          [
           "Corrida de aplicativo para reunião externa",
           0.09443899927261235
          ],
          [
           "Reembolso de hospedagem em congresso",
           0.03687810304096861
          ],
          [
           "Refeição após reunião externa",
           0.10350950790393265
          ],
          [
           "Estadia para evento corporativo",
           0.08318666483378145
          ],
          [
           "Estadia para evento corporativo",
           0.03414548837121256
          ],
          [
           "Curso online de atualização profissional",
           0.11119799999931385
          ],
          [
           "Reembolso de brindes para cliente",
           0.03492177918375361
          ],
          [
           "Compra emergencial durante viagem",
           0.07155856693547269
          ],
          [
           "Estadia para evento corporativo",
           0.10076929022240283
          ],
          [
           "Assinatura de software temporário",
           0.09021885100106197
          ],
          [
           "Curso online de atualização profissional",
           0.00630355460145382
          ],
          [
           "Serviços de impressão para apresentação",
           0.06973149373800869
          ],
          [
           "Táxi do aeroporto ao hotel",
           0.10634663658741172
          ],
          [
           "Reembolso de hospedagem em congresso",
           0.1044910626384708
          ],
          [
           "Compra emergencial durante viagem",
           0.08849679543038647
          ],
          [
           "Almoço com cliente em restaurante local",
           0.10155745919313935
          ],
          [
           "Hospedagem em viagem a trabalho",
           0.09224146340270378
          ],
          [
           "Estadia para evento corporativo",
           0.08551325844008184
          ],
          [
           "Diária de hotel em missão comercial",
           0.10887153902656149
          ],
          [
           "Workshop de capacitação",
           0.10359086966856562
          ],
          [
           "Diária de hotel em missão comercial",
           0.0859771559412984
          ],
          [
           "Compra de livro técnico",
           0.1155092053291844
          ],
          [
           "Corrida de aplicativo para reunião externa",
           0.12959808674494977
          ],
          [
           "Reembolso de combustível",
           0.0468518447077062
          ],
          [
           "Jantar em viagem de negócios",
           0.1109746038348352
          ],
          [
           "Curso online de atualização profissional",
           0.12235079389072379
          ],
          [
           "Refeição após reunião externa",
           0.07867679582379661
          ],
          [
           "Almoço com cliente em restaurante local",
           0.10837004038559889
          ],
          [
           "Treinamento obrigatório da empresa",
           0.05728385889031806
          ],
          [
           "Almoço com cliente em restaurante local",
           0.10646141865003833
          ],
          [
           "Reembolso de brindes para cliente",
           0.08414506796987731
          ],
          [
           "Workshop de capacitação",
           0.11973595834979567
          ],
          [
           "Reembolso de combustível",
           0.12359318619046478
          ],
          [
           "Táxi do aeroporto ao hotel",
           0.10419490659789976
          ],
          [
           "Corrida de aplicativo para reunião externa",
           0.11044478954890097
          ],
          [
           "Estadia para evento corporativo",
           0.09351343970976894
          ],
          [
           "Treinamento obrigatório da empresa",
           0.06099980231266322
          ],
          [
           "Assinatura de software temporário",
           0.09158674050059157
          ],
          [
           "Reembolso de brindes para cliente",
           0.0091735024430456
          ],
          [
           "Assinatura de software temporário",
           0.06351227678060611
          ],
          [
           "Assinatura de software temporário",
           0.09640291321098005
          ],
          [
           "Serviços de impressão para apresentação",
           0.00707852633348216
          ],
          [
           "Treinamento obrigatório da empresa",
           0.11979793405660294
          ],
          [
           "Refeição após reunião externa",
           0.12449548156241719
          ],
          [
           "Reembolso de hospedagem em congresso",
           0.09111114920438201
          ],
          [
           "Reembolso de combustível",
           0.11063112091467625
          ],
          [
           "Compra de lanche em aeroporto",
           0.09768720053574304
          ],
          [
           "Reembolso de combustível",
           0.0741384610048933
          ],
          [
           "Treinamento obrigatório da empresa",
           0.12245790681929253
          ],
          [
           "Compra de livro técnico",
           0.09626177244188328
          ],
          [
           "Refeição após reunião externa",
           0.11875343194635463
          ],
          [
           "Reembolso de brindes para cliente",
           0.10403591294224984
          ],
          [
           "Serviços de impressão para apresentação",
           0.0906834616612836
          ],
          [
           "Treinamento obrigatório da empresa",
           0.10574237331772546
          ],
          [
           "Inscrição em conferência da área",
           0.06357721351711876
          ],
          [
           "Compra de livro técnico",
           0.11528190202837607
          ],
          [
           "Diária em hotel durante treinamento",
           0.11548919227492194
          ],
          [
           "Estacionamento em local de reunião",
           0.12253493492306428
          ],
          [
           "Serviços de impressão para apresentação",
           0.06863082996565373
          ],
          [
           "Serviços de impressão para apresentação",
           0.09769103519776301
          ],
          [
           "Corrida de aplicativo para reunião externa",
           0.09424403893465727
          ],
          [
           "Reembolso de combustível",
           0.11782251452824694
          ],
          [
           "Treinamento obrigatório da empresa",
           0.08794359648284311
          ],
          [
           "Diária de hotel em missão comercial",
           0.08926480230409906
          ],
          [
           "Reembolso de combustível",
           0.08274574257281797
          ],
          [
           "Corrida de aplicativo para reunião externa",
           0.09177571596718592
          ],
          [
           "Jantar em viagem de negócios",
           0.1233508017437332
          ],
          [
           "Estadia para evento corporativo",
           0.06187733698435338
          ],
          [
           "Jantar em viagem de negócios",
           0.1291621244050885
          ],
          [
           "Inscrição em conferência da área",
           0.08097406630858273
          ],
          [
           "Workshop de capacitação",
           0.07155243334409911
          ],
          [
           "Reembolso de hospedagem em congresso",
           0.05450603274781962
          ],
          [
           "Café da manhã durante evento corporativo",
           0.10218137890406914
          ],
          [
           "Corrida de aplicativo para reunião externa",
           0.0889676730136515
          ],
          [
           "Curso online de atualização profissional",
           0.08615658151001981
          ],
          [
           "Inscrição em conferência da área",
           0.1224153355919047
          ],
          [
           "Reembolso de hospedagem em congresso",
           0.10413658347703819
          ],
          [
           "Jantar em viagem de negócios",
           0.11368223127623894
          ],
          [
           "Inscrição em conferência da área",
           0.09452926055656463
          ],
          [
           "Jantar em viagem de negócios",
           0.10566494082481798
          ],
          [
           "Compra de lanche em aeroporto",
           0.11867921602470682
          ],
          [
           "Aluguel de carro para deslocamento profissional",
           0.07853254815349675
          ],
          [
           "Estadia para evento corporativo",
           0.01491163663128936
          ],
          [
           "Compra de lanche em aeroporto",
           0.11089126863395227
          ],
          [
           "Café da manhã durante evento corporativo",
           0.1117889192684075
          ],
          [
           "Hospedagem em viagem a trabalho",
           0.0748510020335531
          ],
          [
           "Jantar em viagem de negócios",
           0.04256597629600589
          ],
          [
           "Aluguel de carro para deslocamento profissional",
           0.11844265605665466
          ],
          [
           "Jantar em viagem de negócios",
           0.08753673234191306
          ],
          [
           "Compra de material de escritório",
           0.08546727068606796
          ],
          [
           "Corrida de aplicativo para reunião externa",
           0.13149860103766897
          ],
          [
           "Assinatura de software temporário",
           0.05394616529582652
          ],
          [
           "Reembolso de brindes para cliente",
           0.04951580808402245
          ],
          [
           "Jantar em viagem de negócios",
           0.044383844102940606
          ],
          [
           "Curso online de atualização profissional",
           0.043300172855290975
          ],
          [
           "Serviços de impressão para apresentação",
           0.08837581736313249
          ],
          [
           "Almoço com cliente em restaurante local",
           0.10414742697320606
          ],
          [
           "Estacionamento em local de reunião",
           0.02539914980340241
          ],
          [
           "Aluguel de carro para deslocamento profissional",
           0.0275730334535913
          ],
          [
           "Diária de hotel em missão comercial",
           0.11670553427864155
          ],
          [
           "Reembolso de hospedagem em congresso",
           0.09627954695985147
          ],
          [
           "Corrida de aplicativo para reunião externa",
           0.03463409144861673
          ],
          [
           "Workshop de capacitação",
           0.06527370098370466
          ],
          [
           "Reembolso de combustível",
           0.027528550529098084
          ],
          [
           "Compra de livro técnico",
           0.04708897947666035
          ],
          [
           "Diária de hotel em missão comercial",
           0.10337016755185985
          ],
          [
           "Inscrição em conferência da área",
           0.11935440331229558
          ],
          [
           "Estacionamento em local de reunião",
           0.10921243863307395
          ],
          [
           "Reembolso de hospedagem em congresso",
           0.05680884444968737
          ],
          [
           "Compra emergencial durante viagem",
           0.062340068402053195
          ],
          [
           "Compra de lanche em aeroporto",
           0.026314180668789433
          ],
          [
           "Workshop de capacitação",
           0.11802032684357755
          ],
          [
           "Serviços de impressão para apresentação",
           0.07902002950468412
          ],
          [
           "Compra de lanche em aeroporto",
           0.051220283724101034
          ],
          [
           "Corrida de aplicativo para reunião externa",
           0.10884279861975726
          ],
          [
           "Diária de hotel em missão comercial",
           0.06269576347594275
          ],
          [
           "Diária em hotel durante treinamento",
           0.07297949508092394
          ],
          [
           "Assinatura de software temporário",
           0.08565128423518864
          ],
          [
           "Assinatura de software temporário",
           0.1060443136285682
          ],
          [
           "Reembolso de brindes para cliente",
           0.04522737286429113
          ],
          [
           "Estadia para evento corporativo",
           0.08605183188621635
          ],
          [
           "Diária em hotel durante treinamento",
           0.08461800328593372
          ],
          [
           "Compra de material de escritório",
           0.06728009194736906
          ],
          [
           "Táxi do aeroporto ao hotel",
           0.1264622694244295
          ],
          [
           "Corrida de aplicativo para reunião externa",
           0.12833663147144397
          ],
          [
           "Corrida de aplicativo para reunião externa",
           0.06254672638188008
          ],
          [
           "Assinatura de software temporário",
           0.09066389992921398
          ],
          [
           "Treinamento obrigatório da empresa",
           0.010345580715273583
          ],
          [
           "Serviços de impressão para apresentação",
           0.10499202132587104
          ],
          [
           "Hospedagem em viagem a trabalho",
           0.03600123178019099
          ],
          [
           "Almoço com cliente em restaurante local",
           0.08579002466644159
          ],
          [
           "Curso online de atualização profissional",
           0.10171778958361521
          ],
          [
           "Café da manhã durante evento corporativo",
           0.12428132976695844
          ],
          [
           "Workshop de capacitação",
           0.09962187890809038
          ],
          [
           "Compra de lanche em aeroporto",
           0.11510757357146095
          ],
          [
           "Compra de material de escritório",
           0.08713796089250647
          ],
          [
           "Estacionamento em local de reunião",
           0.1216983149520921
          ],
          [
           "Jantar em viagem de negócios",
           0.031240728257017403
          ],
          [
           "Inscrição em conferência da área",
           0.12773395098710755
          ],
          [
           "Reembolso de brindes para cliente",
           0.09940245304900941
          ],
          [
           "Estacionamento em local de reunião",
           0.11825403691456943
          ],
          [
           "Assinatura de software temporário",
           0.10022795956430341
          ],
          [
           "Compra de lanche em aeroporto",
           0.11417379372698977
          ],
          [
           "Compra de livro técnico",
           0.12105892391307899
          ],
          [
           "Táxi do aeroporto ao hotel",
           0.09365479831560564
          ],
          [
           "Treinamento obrigatório da empresa",
           0.12474588962470395
          ],
          [
           "Estacionamento em local de reunião",
           0.07496987744477779
          ],
          [
           "Workshop de capacitação",
           0.09737723455090008
          ],
          [
           "Serviços de impressão para apresentação",
           0.09555698467044726
          ],
          [
           "Compra de livro técnico",
           0.027624497405965842
          ],
          [
           "Compra emergencial durante viagem",
           0.04579724369589877
          ],
          [
           "Treinamento obrigatório da empresa",
           0.09648443090900977
          ],
          [
           "Estadia para evento corporativo",
           0.10793652683681204
          ],
          [
           "Compra de livro técnico",
           0.026416990116231776
          ],
          [
           "Café da manhã durante evento corporativo",
           0.12251909433368968
          ],
          [
           "Compra de lanche em aeroporto",
           0.06371335067622985
          ],
          [
           "Diária em hotel durante treinamento",
           0.013831111543674224
          ],
          [
           "Táxi do aeroporto ao hotel",
           0.057494796921904845
          ],
          [
           "Café da manhã durante evento corporativo",
           0.1263441091111006
          ],
          [
           "Compra emergencial durante viagem",
           0.09551291871010847
          ],
          [
           "Reembolso de brindes para cliente",
           0.09153246605632237
          ],
          [
           "Refeição após reunião externa",
           0.07233452610146052
          ],
          [
           "Táxi do aeroporto ao hotel",
           0.0989103562814701
          ],
          [
           "Diária de hotel em missão comercial",
           0.08759645326007526
          ],
          [
           "Reembolso de combustível",
           0.06912422644346594
          ],
          [
           "Compra de lanche em aeroporto",
           0.11330060918109797
          ],
          [
           "Reembolso de brindes para cliente",
           0.06549370436157764
          ],
          [
           "Café da manhã durante evento corporativo",
           0.061654138228545596
          ],
          [
           "Aluguel de carro para deslocamento profissional",
           0.0435995041801307
          ],
          [
           "Compra de material de escritório",
           0.09368462896869956
          ],
          [
           "Diária em hotel durante treinamento",
           0.10677090910744114
          ],
          [
           "Assinatura de software temporário",
           0.02429958963138601
          ],
          [
           "Café da manhã durante evento corporativo",
           0.12719792370860444
          ],
          [
           "Compra de livro técnico",
           0.1263770821879121
          ],
          [
           "Estacionamento em local de reunião",
           0.12370072365518647
          ],
          [
           "Curso online de atualização profissional",
           0.09445091384871201
          ],
          [
           "Compra de material de escritório",
           0.10342145461966928
          ],
          [
           "Compra emergencial durante viagem",
           0.06777952183865166
          ],
          [
           "Diária de hotel em missão comercial",
           0.08765565673341191
          ],
          [
           "Táxi do aeroporto ao hotel",
           0.10715008062176268
          ],
          [
           "Compra de livro técnico",
           0.06025312989768994
          ],
          [
           "Compra emergencial durante viagem",
           0.043479734749408694
          ],
          [
           "Jantar em viagem de negócios",
           0.12621517442884872
          ],
          [
           "Reembolso de hospedagem em congresso",
           0.09490566706961567
          ],
          [
           "Reembolso de combustível",
           0.12152276931020956
          ],
          [
           "Treinamento obrigatório da empresa",
           0.12577865547023181
          ],
          [
           "Compra de lanche em aeroporto",
           0.056543135376855846
          ],
          [
           "Diária em hotel durante treinamento",
           0.06857969635449257
          ],
          [
           "Assinatura de software temporário",
           0.08429223071241221
          ],
          [
           "Táxi do aeroporto ao hotel",
           0.05966440713088472
          ],
          [
           "Reembolso de brindes para cliente",
           0.03884935439478987
          ],
          [
           "Treinamento obrigatório da empresa",
           0.030837536071207095
          ],
          [
           "Compra emergencial durante viagem",
           0.0997899644223848
          ],
          [
           "Reembolso de brindes para cliente",
           0.06097652926673203
          ],
          [
           "Café da manhã durante evento corporativo",
           0.03357490835580779
          ],
          [
           "Workshop de capacitação",
           0.052635938992618425
          ],
          [
           "Compra de material de escritório",
           0.09609719454117749
          ],
          [
           "Compra de livro técnico",
           0.12251401091395547
          ],
          [
           "Hospedagem em viagem a trabalho",
           0.004238005060175798
          ],
          [
           "Diária de hotel em missão comercial",
           0.10552388087088682
          ],
          [
           "Café da manhã durante evento corporativo",
           0.11505191913044643
          ],
          [
           "Diária de hotel em missão comercial",
           0.10199354573157288
          ],
          [
           "Reembolso de brindes para cliente",
           0.0861285878959015
          ],
          [
           "Jantar em viagem de negócios",
           0.09790779320281523
          ],
          [
           "Hospedagem em viagem a trabalho",
           0.037331061110906005
          ],
          [
           "Almoço com cliente em restaurante local",
           0.089116611884829
          ],
          [
           "Jantar em viagem de negócios",
           0.12538457664895142
          ],
          [
           "Reembolso de combustível",
           0.09369689529304936
          ],
          [
           "Diária em hotel durante treinamento",
           0.08372507179140731
          ],
          [
           "Compra de livro técnico",
           0.11571147125223719
          ],
          [
           "Hospedagem em viagem a trabalho",
           0.10971252449093427
          ],
          [
           "Reembolso de brindes para cliente",
           0.09417979563468937
          ],
          [
           "Compra emergencial durante viagem",
           0.059158267936168296
          ],
          [
           "Diária de hotel em missão comercial",
           0.07448191417226113
          ],
          [
           "Reembolso de brindes para cliente",
           0.04485651378563549
          ],
          [
           "Refeição após reunião externa",
           0.09545880524075656
          ],
          [
           "Compra de material de escritório",
           0.10709623985217398
          ],
          [
           "Corrida de aplicativo para reunião externa",
           0.09660601929732265
          ],
          [
           "Estacionamento em local de reunião",
           0.12934233241889787
          ],
          [
           "Refeição após reunião externa",
           0.1084256684397299
          ],
          [
           "Almoço com cliente em restaurante local",
           0.10407491335491742
          ],
          [
           "Estadia para evento corporativo",
           0.04204635820020297
          ],
          [
           "Café da manhã durante evento corporativo",
           0.058187128820188394
          ],
          [
           "Inscrição em conferência da área",
           0.05619753111431203
          ],
          [
           "Compra de material de escritório",
           0.06657745262807901
          ],
          [
           "Treinamento obrigatório da empresa",
           0.09596047793048573
          ],
          [
           "Jantar em viagem de negócios",
           0.13207373424319385
          ],
          [
           "Assinatura de software temporário",
           0.1056462117608053
          ],
          [
           "Almoço com cliente em restaurante local",
           0.08814414495605027
          ],
          [
           "Serviços de impressão para apresentação",
           0.044608102338495326
          ],
          [
           "Compra de livro técnico",
           0.06315260111542353
          ],
          [
           "Corrida de aplicativo para reunião externa",
           0.09246383400231428
          ],
          [
           "Estadia para evento corporativo",
           0.0924320355363557
          ],
          [
           "Hospedagem em viagem a trabalho",
           0.10504481912021257
          ],
          [
           "Diária em hotel durante treinamento",
           0.09931480625969163
          ],
          [
           "Reembolso de hospedagem em congresso",
           0.06737706117783604
          ],
          [
           "Serviços de impressão para apresentação",
           0.10474173065723857
          ],
          [
           "Reembolso de combustível",
           0.11682479376536009
          ],
          [
           "Corrida de aplicativo para reunião externa",
           0.1292283963497225
          ],
          [
           "Treinamento obrigatório da empresa",
           0.05033012480373633
          ],
          [
           "Reembolso de brindes para cliente",
           0.07086602488066684
          ],
          [
           "Estacionamento em local de reunião",
           0.1312420975055697
          ],
          [
           "Workshop de capacitação",
           0.1134165011849606
          ],
          [
           "Reembolso de hospedagem em congresso",
           0.10819636731350263
          ],
          [
           "Táxi do aeroporto ao hotel",
           0.11948535422548695
          ],
          [
           "Estacionamento em local de reunião",
           0.11063112091467625
          ],
          [
           "Táxi do aeroporto ao hotel",
           0.061855932689255266
          ],
          [
           "Reembolso de brindes para cliente",
           0.099640406696206
          ],
          [
           "Estacionamento em local de reunião",
           0.0982985508233381
          ],
          [
           "Diária em hotel durante treinamento",
           0.06853209386750247
          ],
          [
           "Compra de material de escritório",
           0.10210430139613874
          ],
          [
           "Hospedagem em viagem a trabalho",
           0.08817510378800952
          ],
          [
           "Café da manhã durante evento corporativo",
           0.019981934485534314
          ],
          [
           "Workshop de capacitação",
           0.09415961279273272
          ],
          [
           "Hospedagem em viagem a trabalho",
           0.03210740747979279
          ],
          [
           "Corrida de aplicativo para reunião externa",
           0.06220297703322797
          ],
          [
           "Corrida de aplicativo para reunião externa",
           0.04552621048579664
          ],
          [
           "Compra emergencial durante viagem",
           0.045989020308188966
          ],
          [
           "Compra emergencial durante viagem",
           0.09214359212276613
          ],
          [
           "Estacionamento em local de reunião",
           0.12479303032151307
          ],
          [
           "Corrida de aplicativo para reunião externa",
           0.13092012531809305
          ],
          [
           "Refeição após reunião externa",
           0.06945588142337089
          ],
          [
           "Hospedagem em viagem a trabalho",
           0.0733414329720965
          ],
          [
           "Compra de livro técnico",
           0.08765380285245605
          ],
          [
           "Refeição após reunião externa",
           0.1329323728771969
          ],
          [
           "Café da manhã durante evento corporativo",
           0.10810259771927339
          ],
          [
           "Táxi do aeroporto ao hotel",
           0.11417844700424518
          ],
          [
           "Corrida de aplicativo para reunião externa",
           0.09357123228773262
          ],
          [
           "Treinamento obrigatório da empresa",
           0.09369760461203336
          ],
          [
           "Reembolso de hospedagem em congresso",
           0.05945970547540491
          ],
          [
           "Compra de lanche em aeroporto",
           0.07040866429590809
          ],
          [
           "Workshop de capacitação",
           0.10277902340125628
          ],
          [
           "Compra emergencial durante viagem",
           0.057694435132532584
          ],
          [
           "Compra emergencial durante viagem",
           0.09630452971940323
          ],
          [
           "Compra de lanche em aeroporto",
           0.1145036979183362
          ],
          [
           "Compra de livro técnico",
           0.07957186842795216
          ],
          [
           "Estacionamento em local de reunião",
           0.13017797997087777
          ],
          [
           "Curso online de atualização profissional",
           0.12299173278014719
          ],
          [
           "Treinamento obrigatório da empresa",
           0.07288741395224774
          ],
          [
           "Jantar em viagem de negócios",
           0.09438812852634965
          ],
          [
           "Compra de livro técnico",
           0.07931487443918339
          ],
          [
           "Reembolso de hospedagem em congresso",
           0.10631773914963877
          ],
          [
           "Workshop de capacitação",
           0.09142341446318125
          ],
          [
           "Compra de lanche em aeroporto",
           0.08718863491114293
          ],
          [
           "Compra de livro técnico",
           0.11797510599015848
          ],
          [
           "Compra de material de escritório",
           0.08144771522669791
          ],
          [
           "Compra emergencial durante viagem",
           0.061820349538276864
          ],
          [
           "Compra de livro técnico",
           0.040907601363295965
          ],
          [
           "Curso online de atualização profissional",
           0.0985980703271716
          ],
          [
           "Treinamento obrigatório da empresa",
           0.07148387998844885
          ],
          [
           "Aluguel de carro para deslocamento profissional",
           0.10282571565454846
          ],
          [
           "Estadia para evento corporativo",
           0.11074717641122334
          ],
          [
           "Corrida de aplicativo para reunião externa",
           0.1330891820738575
          ],
          [
           "Refeição após reunião externa",
           0.12093434688105204
          ],
          [
           "Diária em hotel durante treinamento",
           0.0511272974676068
          ],
          [
           "Treinamento obrigatório da empresa",
           0.11560033651043033
          ],
          [
           "Aluguel de carro para deslocamento profissional",
           0.05323604804554427
          ],
          [
           "Curso online de atualização profissional",
           0.12401020133096569
          ],
          [
           "Reembolso de combustível",
           0.07468166982158919
          ],
          [
           "Táxi do aeroporto ao hotel",
           0.07163657675209312
          ],
          [
           "Corrida de aplicativo para reunião externa",
           0.13277243182182635
          ],
          [
           "Estadia para evento corporativo",
           0.09328711175260684
          ],
          [
           "Workshop de capacitação",
           0.03275608012358311
          ],
          [
           "Corrida de aplicativo para reunião externa",
           0.11085319934558946
          ],
          [
           "Corrida de aplicativo para reunião externa",
           0.032930782463733266
          ],
          [
           "Diária em hotel durante treinamento",
           0.08830621545478956
          ],
          [
           "Compra de livro técnico",
           0.09421672017191263
          ],
          [
           "Compra de lanche em aeroporto",
           0.0858682979919394
          ],
          [
           "Táxi do aeroporto ao hotel",
           0.06629313254320968
          ],
          [
           "Compra de livro técnico",
           0.1096651731218728
          ],
          [
           "Curso online de atualização profissional",
           0.10961971019671385
          ],
          [
           "Compra de material de escritório",
           0.10120543891348083
          ],
          [
           "Serviços de impressão para apresentação",
           0.03852719864238441
          ],
          [
           "Reembolso de brindes para cliente",
           0.06351227678060611
          ],
          [
           "Táxi do aeroporto ao hotel",
           0.12693722655263762
          ],
          [
           "Diária em hotel durante treinamento",
           0.10942082011528764
          ],
          [
           "Compra de lanche em aeroporto",
           0.1179864978450959
          ],
          [
           "Estadia para evento corporativo",
           0.04595981653262504
          ],
          [
           "Almoço com cliente em restaurante local",
           0.12435716708853445
          ],
          [
           "Táxi do aeroporto ao hotel",
           0.04388447558229569
          ],
          [
           "Diária de hotel em missão comercial",
           0.10843297329219087
          ],
          [
           "Compra emergencial durante viagem",
           0.0839592087158556
          ],
          [
           "Aluguel de carro para deslocamento profissional",
           0.12013264043498983
          ],
          [
           "Serviços de impressão para apresentação",
           0.10447748429121645
          ],
          [
           "Café da manhã durante evento corporativo",
           0.12581546462894555
          ],
          [
           "Reembolso de hospedagem em congresso",
           0.08229204390275457
          ],
          [
           "Treinamento obrigatório da empresa",
           0.10563134355391168
          ],
          [
           "Reembolso de hospedagem em congresso",
           0.10421164628662344
          ],
          [
           "Assinatura de software temporário",
           0.055767115194996664
          ],
          [
           "Táxi do aeroporto ao hotel",
           0.11597722881371708
          ],
          [
           "Almoço com cliente em restaurante local",
           0.12400492597875312
          ],
          [
           "Compra de material de escritório",
           0.09889590300236256
          ],
          [
           "Serviços de impressão para apresentação",
           0.043219832729515795
          ],
          [
           "Serviços de impressão para apresentação",
           0.08333734411351224
          ],
          [
           "Compra emergencial durante viagem",
           0.08255162801396942
          ],
          [
           "Hospedagem em viagem a trabalho",
           0.10924589846836635
          ],
          [
           "Assinatura de software temporário",
           0.04915421031211542
          ],
          [
           "Compra de livro técnico",
           0.12259257714202348
          ],
          [
           "Reembolso de brindes para cliente",
           0.09173928483731242
          ],
          [
           "Hospedagem em viagem a trabalho",
           0.10303814246547371
          ],
          [
           "Almoço com cliente em restaurante local",
           0.12551644620261881
          ],
          [
           "Jantar em viagem de negócios",
           0.12278684249045935
          ],
          [
           "Compra de livro técnico",
           0.032362833001604474
          ],
          [
           "Corrida de aplicativo para reunião externa",
           0.0869306469401867
          ],
          [
           "Reembolso de combustível",
           0.10966883305922337
          ],
          [
           "Café da manhã durante evento corporativo",
           0.09876834584946625
          ],
          [
           "Compra emergencial durante viagem",
           0.10423646292560806
          ],
          [
           "Almoço com cliente em restaurante local",
           0.1243168688909862
          ],
          [
           "Estadia para evento corporativo",
           0.0909537784306439
          ],
          [
           "Compra emergencial durante viagem",
           0.09402136763085622
          ],
          [
           "Táxi do aeroporto ao hotel",
           0.11359782803293633
          ],
          [
           "Jantar em viagem de negócios",
           0.07005237992018121
          ],
          [
           "Aluguel de carro para deslocamento profissional",
           0.05430531598266575
          ],
          [
           "Reembolso de hospedagem em congresso",
           0.038567877613797874
          ],
          [
           "Compra de lanche em aeroporto",
           0.07862948420239058
          ],
          [
           "Compra de material de escritório",
           0.05537265578178008
          ],
          [
           "Serviços de impressão para apresentação",
           0.10228410623086087
          ],
          [
           "Jantar em viagem de negócios",
           0.05240337476478696
          ],
          [
           "Café da manhã durante evento corporativo",
           0.11089658746728265
          ],
          [
           "Reembolso de brindes para cliente",
           0.07164512492599229
          ],
          [
           "Assinatura de software temporário",
           0.04472785314897787
          ],
          [
           "Compra de material de escritório",
           0.08122470902985335
          ],
          [
           "Estadia para evento corporativo",
           0.034288696441616806
          ],
          [
           "Café da manhã durante evento corporativo",
           0.11510757357146095
          ],
          [
           "Refeição após reunião externa",
           0.04405997314144039
          ],
          [
           "Reembolso de hospedagem em congresso",
           0.042592659762648255
          ],
          [
           "Estacionamento em local de reunião",
           0.057494796921904845
          ],
          [
           "Corrida de aplicativo para reunião externa",
           0.13084252412473873
          ],
          [
           "Treinamento obrigatório da empresa",
           0.12056688590428438
          ],
          [
           "Treinamento obrigatório da empresa",
           0.06577338481859352
          ],
          [
           "Reembolso de combustível",
           0.1301300865823053
          ]
         ],
         "hovertemplate": "alerta=Normal<br>categoria=%{x}<br>valor=%{y}<br>descricao=%{customdata[0]}<br>score_anomalia=%{customdata[1]}<extra></extra>",
         "legendgroup": "Normal",
         "marker": {
          "color": "#636efa",
          "symbol": "circle"
         },
         "mode": "markers",
         "name": "Normal",
         "orientation": "v",
         "showlegend": true,
         "type": "scatter",
         "x": [
          "Transporte",
          "Educação",
          "Outros",
          "Transporte",
          "Educação",
          "Alimentação",
          "Educação",
          "Transporte",
          "Outros",
          "Hotel",
          "Educação",
          "Outros",
          "Hotel",
          "Hotel",
          "Alimentação",
          "Educação",
          "Outros",
          "Alimentação",
          "Transporte",
          "Alimentação",
          "Educação",
          "Transporte",
          "Hotel",
          "Alimentação",
          "Outros",
          "Transporte",
          "Hotel",
          "Alimentação",
          "Transporte",
          "Alimentação",
          "Alimentação",
          "Transporte",
          "Transporte",
          "Alimentação",
          "Transporte",
          "Hotel",
          "Educação",
          "Hotel",
          "Transporte",
          "Educação",
          "Hotel",
          "Outros",
          "Transporte",
          "Educação",
          "Hotel",
          "Alimentação",
          "Outros",
          "Outros",
          "Transporte",
          "Educação",
          "Alimentação",
          "Hotel",
          "Alimentação",
          "Alimentação",
          "Transporte",
          "Hotel",
          "Alimentação",
          "Educação",
          "Educação",
          "Hotel",
          "Alimentação",
          "Transporte",
          "Alimentação",
          "Alimentação",
          "Alimentação",
          "Transporte",
          "Alimentação",
          "Hotel",
          "Educação",
          "Transporte",
          "Transporte",
          "Educação",
          "Hotel",
          "Alimentação",
          "Outros",
          "Transporte",
          "Alimentação",
          "Hotel",
          "Transporte",
          "Transporte",
          "Hotel",
          "Alimentação",
          "Educação",
          "Hotel",
          "Outros",
          "Hotel",
          "Hotel",
          "Hotel",
          "Outros",
          "Alimentação",
          "Hotel",
          "Outros",
          "Alimentação",
          "Educação",
          "Educação",
          "Educação",
          "Educação",
          "Outros",
          "Outros",
          "Educação",
          "Transporte",
          "Alimentação",
          "Educação",
          "Transporte",
          "Hotel",
          "Educação",
          "Outros",
          "Outros",
          "Outros",
          "Educação",
          "Transporte",
          "Outros",
          "Alimentação",
          "Alimentação",
          "Hotel",
          "Educação",
          "Outros",
          "Transporte",
          "Transporte",
          "Educação",
          "Hotel",
          "Educação",
          "Alimentação",
          "Hotel",
          "Alimentação",
          "Hotel",
          "Hotel",
          "Educação",
          "Alimentação",
          "Transporte",
          "Educação",
          "Alimentação",
          "Alimentação",
          "Outros",
          "Transporte",
          "Alimentação",
          "Educação",
          "Educação",
          "Alimentação",
          "Hotel",
          "Educação",
          "Outros",
          "Hotel",
          "Alimentação",
          "Educação",
          "Outros",
          "Transporte",
          "Alimentação",
          "Transporte",
          "Transporte",
          "Hotel",
          "Educação",
          "Hotel",
          "Hotel",
          "Educação",
          "Alimentação",
          "Hotel",
          "Outros",
          "Hotel",
          "Alimentação",
          "Hotel",
          "Hotel",
          "Outros",
          "Outros",
          "Hotel",
          "Alimentação",
          "Hotel",
          "Educação",
          "Outros",
          "Transporte",
          "Educação",
          "Hotel",
          "Outros",
          "Alimentação",
          "Transporte",
          "Alimentação",
          "Transporte",
          "Hotel",
          "Outros",
          "Alimentação",
          "Outros",
          "Alimentação",
          "Outros",
          "Educação",
          "Educação",
          "Transporte",
          "Educação",
          "Transporte",
          "Transporte",
          "Hotel",
          "Alimentação",
          "Hotel",
          "Transporte",
          "Transporte",
          "Alimentação",
          "Educação",
          "Educação",
          "Alimentação",
          "Transporte",
          "Hotel",
          "Alimentação",
          "Transporte",
          "Hotel",
          "Alimentação",
          "Outros",
          "Alimentação",
          "Hotel",
          "Outros",
          "Hotel",
          "Transporte",
          "Hotel",
          "Educação",
          "Transporte",
          "Alimentação",
          "Transporte",
          "Alimentação",
          "Hotel",
          "Alimentação",
          "Alimentação",
          "Alimentação",
          "Educação",
          "Hotel",
          "Transporte",
          "Alimentação",
          "Alimentação",
          "Outros",
          "Transporte",
          "Outros",
          "Hotel",
          "Educação",
          "Transporte",
          "Transporte",
          "Educação",
          "Alimentação",
          "Transporte",
          "Alimentação",
          "Educação",
          "Outros",
          "Alimentação",
          "Transporte",
          "Hotel",
          "Alimentação",
          "Hotel",
          "Hotel",
          "Alimentação",
          "Alimentação",
          "Transporte",
          "Educação",
          "Alimentação",
          "Transporte",
          "Educação",
          "Educação",
          "Transporte",
          "Alimentação",
          "Educação",
          "Outros",
          "Outros",
          "Transporte",
          "Alimentação",
          "Alimentação",
          "Hotel",
          "Outros",
          "Outros",
          "Hotel",
          "Outros",
          "Transporte",
          "Educação",
          "Outros",
          "Transporte",
          "Educação",
          "Educação",
          "Hotel",
          "Outros",
          "Educação",
          "Alimentação",
          "Outros",
          "Educação",
          "Alimentação",
          "Alimentação",
          "Educação",
          "Outros",
          "Outros",
          "Hotel",
          "Transporte",
          "Hotel",
          "Educação",
          "Outros",
          "Alimentação",
          "Hotel",
          "Hotel",
          "Hotel",
          "Transporte",
          "Educação",
          "Outros",
          "Alimentação",
          "Educação",
          "Hotel",
          "Educação",
          "Outros",
          "Educação",
          "Outros",
          "Educação",
          "Alimentação",
          "Outros",
          "Transporte",
          "Transporte",
          "Outros",
          "Outros",
          "Outros",
          "Educação",
          "Educação",
          "Educação",
          "Outros",
          "Outros",
          "Outros",
          "Transporte",
          "Hotel",
          "Transporte",
          "Outros",
          "Alimentação",
          "Educação",
          "Educação",
          "Educação",
          "Alimentação",
          "Transporte",
          "Alimentação",
          "Transporte",
          "Hotel",
          "Hotel",
          "Outros",
          "Educação",
          "Outros",
          "Outros",
          "Outros",
          "Alimentação",
          "Educação",
          "Alimentação",
          "Hotel",
          "Educação",
          "Hotel",
          "Outros",
          "Transporte",
          "Transporte",
          "Transporte",
          "Educação",
          "Hotel",
          "Transporte",
          "Hotel",
          "Educação",
          "Transporte",
          "Alimentação",
          "Hotel",
          "Outros",
          "Hotel",
          "Transporte",
          "Outros",
          "Outros",
          "Alimentação",
          "Transporte",
          "Hotel",
          "Outros",
          "Outros",
          "Hotel",
          "Outros",
          "Alimentação",
          "Alimentação",
          "Outros",
          "Outros",
          "Outros",
          "Alimentação",
          "Transporte",
          "Alimentação",
          "Outros",
          "Alimentação",
          "Transporte",
          "Transporte",
          "Educação",
          "Transporte",
          "Hotel",
          "Alimentação",
          "Hotel",
          "Outros",
          "Educação",
          "Educação",
          "Alimentação",
          "Alimentação",
          "Outros",
          "Outros",
          "Alimentação",
          "Alimentação",
          "Hotel",
          "Hotel",
          "Educação",
          "Transporte",
          "Transporte",
          "Hotel",
          "Hotel",
          "Outros",
          "Alimentação",
          "Outros",
          "Outros",
          "Transporte",
          "Educação",
          "Transporte",
          "Outros",
          "Alimentação",
          "Outros",
          "Outros",
          "Outros",
          "Alimentação",
          "Transporte",
          "Hotel",
          "Transporte",
          "Outros",
          "Hotel",
          "Hotel",
          "Hotel",
          "Outros",
          "Alimentação",
          "Transporte",
          "Hotel",
          "Hotel",
          "Educação",
          "Alimentação",
          "Outros",
          "Transporte",
          "Hotel",
          "Alimentação",
          "Alimentação",
          "Educação",
          "Alimentação",
          "Outros",
          "Transporte",
          "Transporte",
          "Hotel",
          "Outros",
          "Educação",
          "Alimentação",
          "Transporte",
          "Educação",
          "Outros",
          "Transporte",
          "Alimentação",
          "Educação",
          "Hotel",
          "Alimentação",
          "Hotel",
          "Educação",
          "Hotel",
          "Outros",
          "Hotel",
          "Outros",
          "Educação",
          "Alimentação",
          "Educação",
          "Educação",
          "Educação",
          "Alimentação",
          "Educação",
          "Alimentação",
          "Hotel",
          "Transporte",
          "Transporte",
          "Alimentação",
          "Educação",
          "Outros",
          "Educação",
          "Alimentação",
          "Outros",
          "Outros",
          "Transporte",
          "Hotel",
          "Educação",
          "Alimentação",
          "Transporte",
          "Educação",
          "Transporte",
          "Transporte",
          "Transporte",
          "Outros",
          "Hotel",
          "Outros",
          "Educação",
          "Alimentação",
          "Outros",
          "Educação",
          "Alimentação",
          "Outros",
          "Outros",
          "Alimentação",
          "Transporte",
          "Alimentação",
          "Educação",
          "Outros",
          "Educação",
          "Outros",
          "Educação",
          "Educação",
          "Hotel",
          "Educação",
          "Alimentação",
          "Outros",
          "Alimentação",
          "Transporte",
          "Hotel",
          "Educação",
          "Hotel",
          "Outros",
          "Hotel",
          "Transporte",
          "Outros",
          "Hotel",
          "Educação",
          "Outros",
          "Alimentação",
          "Transporte",
          "Outros",
          "Alimentação",
          "Alimentação",
          "Educação",
          "Alimentação",
          "Transporte",
          "Outros",
          "Educação",
          "Outros",
          "Outros",
          "Transporte",
          "Alimentação",
          "Outros",
          "Alimentação",
          "Outros",
          "Transporte",
          "Transporte",
          "Alimentação",
          "Educação",
          "Educação",
          "Transporte",
          "Alimentação",
          "Hotel",
          "Transporte",
          "Educação",
          "Alimentação",
          "Educação",
          "Outros",
          "Hotel",
          "Outros",
          "Outros",
          "Educação",
          "Educação",
          "Hotel",
          "Educação",
          "Educação",
          "Alimentação",
          "Transporte",
          "Educação",
          "Outros",
          "Hotel",
          "Alimentação",
          "Hotel",
          "Transporte",
          "Hotel",
          "Hotel",
          "Transporte",
          "Transporte",
          "Transporte",
          "Transporte",
          "Outros",
          "Alimentação",
          "Educação",
          "Outros",
          "Hotel",
          "Educação",
          "Educação",
          "Outros",
          "Transporte",
          "Alimentação",
          "Educação",
          "Outros",
          "Transporte",
          "Outros",
          "Alimentação",
          "Transporte",
          "Alimentação",
          "Outros",
          "Hotel",
          "Educação",
          "Educação",
          "Educação",
          "Transporte",
          "Outros",
          "Hotel",
          "Educação",
          "Transporte",
          "Alimentação",
          "Educação",
          "Outros",
          "Hotel",
          "Hotel",
          "Alimentação",
          "Transporte",
          "Hotel",
          "Alimentação",
          "Hotel",
          "Hotel",
          "Educação",
          "Outros",
          "Outros",
          "Hotel",
          "Outros",
          "Educação",
          "Outros",
          "Transporte",
          "Hotel",
          "Outros",
          "Alimentação",
          "Hotel",
          "Hotel",
          "Hotel",
          "Educação",
          "Hotel",
          "Educação",
          "Transporte",
          "Transporte",
          "Alimentação",
          "Educação",
          "Alimentação",
          "Alimentação",
          "Educação",
          "Alimentação",
          "Outros",
          "Educação",
          "Transporte",
          "Transporte",
          "Transporte",
          "Hotel",
          "Educação",
          "Outros",
          "Outros",
          "Outros",
          "Outros",
          "Outros",
          "Educação",
          "Alimentação",
          "Hotel",
          "Transporte",
          "Alimentação",
          "Transporte",
          "Educação",
          "Educação",
          "Alimentação",
          "Outros",
          "Outros",
          "Educação",
          "Educação",
          "Educação",
          "Hotel",
          "Transporte",
          "Outros",
          "Outros",
          "Transporte",
          "Transporte",
          "Educação",
          "Hotel",
          "Transporte",
          "Transporte",
          "Alimentação",
          "Hotel",
          "Alimentação",
          "Educação",
          "Educação",
          "Hotel",
          "Alimentação",
          "Transporte",
          "Educação",
          "Educação",
          "Hotel",
          "Alimentação",
          "Educação",
          "Alimentação",
          "Alimentação",
          "Transporte",
          "Hotel",
          "Alimentação",
          "Alimentação",
          "Hotel",
          "Alimentação",
          "Transporte",
          "Alimentação",
          "Outros",
          "Transporte",
          "Outros",
          "Outros",
          "Alimentação",
          "Educação",
          "Outros",
          "Alimentação",
          "Transporte",
          "Transporte",
          "Hotel",
          "Hotel",
          "Transporte",
          "Educação",
          "Transporte",
          "Educação",
          "Hotel",
          "Educação",
          "Transporte",
          "Hotel",
          "Outros",
          "Alimentação",
          "Educação",
          "Outros",
          "Alimentação",
          "Transporte",
          "Hotel",
          "Hotel",
          "Outros",
          "Outros",
          "Outros",
          "Hotel",
          "Hotel",
          "Outros",
          "Transporte",
          "Transporte",
          "Transporte",
          "Outros",
          "Educação",
          "Outros",
          "Hotel",
          "Alimentação",
          "Educação",
          "Alimentação",
          "Educação",
          "Alimentação",
          "Outros",
          "Transporte",
          "Alimentação",
          "Educação",
          "Outros",
          "Transporte",
          "Outros",
          "Alimentação",
          "Educação",
          "Transporte",
          "Educação",
          "Transporte",
          "Educação",
          "Outros",
          "Educação",
          "Outros",
          "Educação",
          "Hotel",
          "Educação",
          "Alimentação",
          "Alimentação",
          "Hotel",
          "Transporte",
          "Alimentação",
          "Outros",
          "Outros",
          "Alimentação",
          "Transporte",
          "Hotel",
          "Transporte",
          "Alimentação",
          "Outros",
          "Alimentação",
          "Transporte",
          "Outros",
          "Hotel",
          "Outros",
          "Alimentação",
          "Educação",
          "Transporte",
          "Educação",
          "Outros",
          "Outros",
          "Hotel",
          "Transporte",
          "Educação",
          "Outros",
          "Alimentação",
          "Hotel",
          "Transporte",
          "Educação",
          "Alimentação",
          "Hotel",
          "Outros",
          "Transporte",
          "Outros",
          "Educação",
          "Outros",
          "Outros",
          "Alimentação",
          "Educação",
          "Outros",
          "Educação",
          "Hotel",
          "Hotel",
          "Alimentação",
          "Hotel",
          "Outros",
          "Alimentação",
          "Hotel",
          "Alimentação",
          "Alimentação",
          "Transporte",
          "Hotel",
          "Educação",
          "Hotel",
          "Outros",
          "Outros",
          "Hotel",
          "Outros",
          "Alimentação",
          "Outros",
          "Transporte",
          "Transporte",
          "Alimentação",
          "Alimentação",
          "Hotel",
          "Alimentação",
          "Educação",
          "Outros",
          "Educação",
          "Alimentação",
          "Outros",
          "Alimentação",
          "Outros",
          "Educação",
          "Transporte",
          "Hotel",
          "Hotel",
          "Hotel",
          "Hotel",
          "Outros",
          "Transporte",
          "Transporte",
          "Educação",
          "Outros",
          "Transporte",
          "Educação",
          "Hotel",
          "Transporte",
          "Transporte",
          "Transporte",
          "Outros",
          "Transporte",
          "Hotel",
          "Outros",
          "Hotel",
          "Alimentação",
          "Educação",
          "Hotel",
          "Transporte",
          "Transporte",
          "Outros",
          "Outros",
          "Transporte",
          "Transporte",
          "Alimentação",
          "Hotel",
          "Educação",
          "Alimentação",
          "Alimentação",
          "Transporte",
          "Transporte",
          "Educação",
          "Hotel",
          "Alimentação",
          "Educação",
          "Outros",
          "Outros",
          "Alimentação",
          "Educação",
          "Transporte",
          "Educação",
          "Educação",
          "Alimentação",
          "Educação",
          "Hotel",
          "Educação",
          "Alimentação",
          "Educação",
          "Outros",
          "Outros",
          "Educação",
          "Educação",
          "Educação",
          "Transporte",
          "Hotel",
          "Transporte",
          "Alimentação",
          "Hotel",
          "Educação",
          "Transporte",
          "Educação",
          "Transporte",
          "Transporte",
          "Transporte",
          "Hotel",
          "Educação",
          "Transporte",
          "Transporte",
          "Hotel",
          "Educação",
          "Alimentação",
          "Transporte",
          "Educação",
          "Educação",
          "Outros",
          "Outros",
          "Outros",
          "Transporte",
          "Hotel",
          "Alimentação",
          "Hotel",
          "Alimentação",
          "Transporte",
          "Hotel",
          "Outros",
          "Transporte",
          "Outros",
          "Alimentação",
          "Hotel",
          "Educação",
          "Hotel",
          "Outros",
          "Transporte",
          "Alimentação",
          "Outros",
          "Outros",
          "Outros",
          "Outros",
          "Hotel",
          "Outros",
          "Educação",
          "Outros",
          "Hotel",
          "Alimentação",
          "Alimentação",
          "Educação",
          "Transporte",
          "Transporte",
          "Alimentação",
          "Outros",
          "Alimentação",
          "Hotel",
          "Outros",
          "Transporte",
          "Alimentação",
          "Transporte",
          "Hotel",
          "Alimentação",
          "Outros",
          "Outros",
          "Alimentação",
          "Alimentação",
          "Outros",
          "Outros",
          "Outros",
          "Hotel",
          "Alimentação",
          "Alimentação",
          "Hotel",
          "Transporte",
          "Transporte",
          "Educação",
          "Educação",
          "Transporte"
         ],
         "xaxis": "x",
         "y": {
          "bdata": "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",
          "dtype": "f8"
         },
         "yaxis": "y"
        },
        {
         "customdata": [
          [
           "Hospedagem em viagem a trabalho",
           -0.012578096729485067
          ],
          [
           "Serviços de impressão para apresentação",
           -0.02090621128075254
          ],
          [
           "Aluguel de carro para deslocamento profissional",
           -0.008225663739869993
          ],
          [
           "Compra emergencial durante viagem",
           -0.006438948111792908
          ],
          [
           "Reembolso de combustível",
           -0.016174779441124665
          ],
          [
           "Treinamento obrigatório da empresa",
           -0.016075664174447613
          ],
          [
           "Diária de hotel em missão comercial",
           -0.008335202618481197
          ],
          [
           "Aluguel de carro para deslocamento profissional",
           -0.0015256674731657371
          ],
          [
           "Diária de hotel em missão comercial",
           -0.03608631913051208
          ],
          [
           "Reembolso de hospedagem em congresso",
           -0.022046813731009363
          ],
          [
           "Reembolso de hospedagem em congresso",
           -0.006019009248280249
          ],
          [
           "Reembolso de hospedagem em congresso",
           -0.04689520967968552
          ],
          [
           "Compra de material de escritório",
           -0.008036011354517925
          ],
          [
           "Inscrição em conferência da área",
           -0.0010113945870782182
          ],
          [
           "Compra emergencial durante viagem",
           -0.01044128854195192
          ],
          [
           "Diária de hotel em missão comercial",
           -0.023069296377355775
          ],
          [
           "Serviços de impressão para apresentação",
           -0.011313113738845915
          ],
          [
           "Estadia para evento corporativo",
           -0.016666604196755586
          ],
          [
           "Diária de hotel em missão comercial",
           -0.0032149385412089115
          ],
          [
           "Curso online de atualização profissional",
           -0.025640022943757668
          ],
          [
           "Café da manhã durante evento corporativo",
           -0.003700914131498867
          ],
          [
           "Diária de hotel em missão comercial",
           -0.0073889126264296
          ],
          [
           "Compra emergencial durante viagem",
           -0.0010185408496270476
          ],
          [
           "Táxi do aeroporto ao hotel",
           -0.005197459963641404
          ],
          [
           "Compra de livro técnico",
           -0.005528726096630687
          ],
          [
           "Café da manhã durante evento corporativo",
           -0.0019469152946057777
          ],
          [
           "Estadia para evento corporativo",
           -0.011442930969249199
          ],
          [
           "Reembolso de hospedagem em congresso",
           -0.008000574026620466
          ],
          [
           "Serviços de impressão para apresentação",
           -0.012840876131314016
          ],
          [
           "Jantar em viagem de negócios",
           -0.025027012444875596
          ]
         ],
         "hovertemplate": "alerta=Suspeito<br>categoria=%{x}<br>valor=%{y}<br>descricao=%{customdata[0]}<br>score_anomalia=%{customdata[1]}<extra></extra>",
         "legendgroup": "Suspeito",
         "marker": {
          "color": "#EF553B",
          "symbol": "circle"
         },
         "mode": "markers",
         "name": "Suspeito",
         "orientation": "v",
         "showlegend": true,
         "type": "scatter",
         "x": [
          "Hotel",
          "Outros",
          "Transporte",
          "Outros",
          "Transporte",
          "Educação",
          "Hotel",
          "Transporte",
          "Hotel",
          "Hotel",
          "Hotel",
          "Hotel",
          "Outros",
          "Educação",
          "Outros",
          "Hotel",
          "Outros",
          "Hotel",
          "Hotel",
          "Educação",
          "Alimentação",
          "Hotel",
          "Outros",
          "Transporte",
          "Educação",
          "Alimentação",
          "Hotel",
          "Hotel",
          "Outros",
          "Alimentação"
         ],
         "xaxis": "x",
         "y": {
          "bdata": "AAAAAABkjUAUrkfhesx7QPYoXI/C9TVACtejcD1qR0BSuB6F69EtQAAAAAAAACRAPQrXo3DdiEBI4XoUrtdqQFK4HoXr4Y5ACtejcD06jUAfhetRuIaFQClcj8L1eZBAzczMzMwcV0BxPQrXo6x/QMP1KFyP6n1ACtejcD05kUBcj8L1KLxkQEjhehSuj49AZmZmZmbyhEBcj8L1KCSBQK5H4XoU7jRAexSuR+ECiUDNzMzMzJxQQM3MzMzMTChAzczMzMxMW0BxPQrXozBiQBSuR+F6WI9ASOF6FK7Li0AUrkfhegaFQOxRuB6FqzFA",
          "dtype": "f8"
         },
         "yaxis": "y"
        }
       ],
       "layout": {
        "legend": {
         "title": {
          "text": "alerta"
         },
         "tracegroupgap": 0
        },
        "template": {
         "data": {
          "bar": [
           {
            "error_x": {
             "color": "#2a3f5f"
            },
            "error_y": {
             "color": "#2a3f5f"
            },
            "marker": {
             "line": {
              "color": "#E5ECF6",
              "width": 0.5
             },
             "pattern": {
              "fillmode": "overlay",
              "size": 10,
              "solidity": 0.2
             }
            },
            "type": "bar"
           }
          ],
          "barpolar": [
           {
            "marker": {
             "line": {
              "color": "#E5ECF6",
              "width": 0.5
             },
             "pattern": {
              "fillmode": "overlay",
              "size": 10,
              "solidity": 0.2
             }
            },
            "type": "barpolar"
           }
          ],
          "carpet": [
           {
            "aaxis": {
             "endlinecolor": "#2a3f5f",
             "gridcolor": "white",
             "linecolor": "white",
             "minorgridcolor": "white",
             "startlinecolor": "#2a3f5f"
            },
            "baxis": {
             "endlinecolor": "#2a3f5f",
             "gridcolor": "white",
             "linecolor": "white",
             "minorgridcolor": "white",
             "startlinecolor": "#2a3f5f"
            },
            "type": "carpet"
           }
          ],
          "choropleth": [
           {
            "colorbar": {
             "outlinewidth": 0,
             "ticks": ""
            },
            "type": "choropleth"
           }
          ],
          "contour": [
           {
            "colorbar": {
             "outlinewidth": 0,
             "ticks": ""
            },
            "colorscale": [
             [
              0,
              "#0d0887"
             ],
             [
              0.1111111111111111,
              "#46039f"
             ],
             [
              0.2222222222222222,
              "#7201a8"
             ],
             [
              0.3333333333333333,
              "#9c179e"
             ],
             [
              0.4444444444444444,
              "#bd3786"
             ],
             [
              0.5555555555555556,
              "#d8576b"
             ],
             [
              0.6666666666666666,
              "#ed7953"
             ],
             [
              0.7777777777777778,
              "#fb9f3a"
             ],
             [
              0.8888888888888888,
              "#fdca26"
             ],
             [
              1,
              "#f0f921"
             ]
            ],
            "type": "contour"
           }
          ],
          "contourcarpet": [
           {
            "colorbar": {
             "outlinewidth": 0,
             "ticks": ""
            },
            "type": "contourcarpet"
           }
          ],
          "heatmap": [
           {
            "colorbar": {
             "outlinewidth": 0,
             "ticks": ""
            },
            "colorscale": [
             [
              0,
              "#0d0887"
             ],
             [
              0.1111111111111111,
              "#46039f"
             ],
             [
              0.2222222222222222,
              "#7201a8"
             ],
             [
              0.3333333333333333,
              "#9c179e"
             ],
             [
              0.4444444444444444,
              "#bd3786"
             ],
             [
              0.5555555555555556,
              "#d8576b"
             ],
             [
              0.6666666666666666,
              "#ed7953"
             ],
             [
              0.7777777777777778,
              "#fb9f3a"
             ],
             [
              0.8888888888888888,
              "#fdca26"
             ],
             [
              1,
              "#f0f921"
             ]
            ],
            "type": "heatmap"
           }
          ],
          "histogram": [
           {
            "marker": {
             "pattern": {
              "fillmode": "overlay",
              "size": 10,
              "solidity": 0.2
             }
            },
            "type": "histogram"
           }
          ],
          "histogram2d": [
           {
            "colorbar": {
             "outlinewidth": 0,
             "ticks": ""
            },
            "colorscale": [
             [
              0,
              "#0d0887"
             ],
             [
              0.1111111111111111,
              "#46039f"
             ],
             [
              0.2222222222222222,
              "#7201a8"
             ],
             [
              0.3333333333333333,
              "#9c179e"
             ],
             [
              0.4444444444444444,
              "#bd3786"
             ],
             [
              0.5555555555555556,
              "#d8576b"
             ],
             [
              0.6666666666666666,
              "#ed7953"
             ],
             [
              0.7777777777777778,
              "#fb9f3a"
             ],
             [
              0.8888888888888888,
              "#fdca26"
             ],
             [
              1,
              "#f0f921"
             ]
            ],
            "type": "histogram2d"
           }
          ],
          "histogram2dcontour": [
           {
            "colorbar": {
             "outlinewidth": 0,
             "ticks": ""
            },
            "colorscale": [
             [
              0,
              "#0d0887"
             ],
             [
              0.1111111111111111,
              "#46039f"
             ],
             [
              0.2222222222222222,
              "#7201a8"
             ],
             [
              0.3333333333333333,
              "#9c179e"
             ],
             [
              0.4444444444444444,
              "#bd3786"
             ],
             [
              0.5555555555555556,
              "#d8576b"
             ],
             [
              0.6666666666666666,
              "#ed7953"
             ],
             [
              0.7777777777777778,
              "#fb9f3a"
             ],
             [
              0.8888888888888888,
              "#fdca26"
             ],
             [
              1,
              "#f0f921"
             ]
            ],
            "type": "histogram2dcontour"
           }
          ],
          "mesh3d": [
           {
            "colorbar": {
             "outlinewidth": 0,
             "ticks": ""
            },
            "type": "mesh3d"
           }
          ],
          "parcoords": [
           {
            "line": {
             "colorbar": {
              "outlinewidth": 0,
              "ticks": ""
             }
            },
            "type": "parcoords"
           }
          ],
          "pie": [
           {
            "automargin": true,
            "type": "pie"
           }
          ],
          "scatter": [
           {
            "fillpattern": {
             "fillmode": "overlay",
             "size": 10,
             "solidity": 0.2
            },
            "type": "scatter"
           }
          ],
          "scatter3d": [
           {
            "line": {
             "colorbar": {
              "outlinewidth": 0,
              "ticks": ""
             }
            },
            "marker": {
             "colorbar": {
              "outlinewidth": 0,
              "ticks": ""
             }
            },
            "type": "scatter3d"
           }
          ],
          "scattercarpet": [
           {
            "marker": {
             "colorbar": {
              "outlinewidth": 0,
              "ticks": ""
             }
            },
            "type": "scattercarpet"
           }
          ],
          "scattergeo": [
           {
            "marker": {
             "colorbar": {
              "outlinewidth": 0,
              "ticks": ""
             }
            },
            "type": "scattergeo"
           }
          ],
          "scattergl": [
           {
            "marker": {
             "colorbar": {
              "outlinewidth": 0,
              "ticks": ""
             }
            },
            "type": "scattergl"
           }
          ],
          "scattermap": [
           {
            "marker": {
             "colorbar": {
              "outlinewidth": 0,
              "ticks": ""
             }
            },
            "type": "scattermap"
           }
          ],
          "scattermapbox": [
           {
            "marker": {
             "colorbar": {
              "outlinewidth": 0,
              "ticks": ""
             }
            },
            "type": "scattermapbox"
           }
          ],
          "scatterpolar": [
           {
            "marker": {
             "colorbar": {
              "outlinewidth": 0,
              "ticks": ""
             }
            },
            "type": "scatterpolar"
           }
          ],
          "scatterpolargl": [
           {
            "marker": {
             "colorbar": {
              "outlinewidth": 0,
              "ticks": ""
             }
            },
            "type": "scatterpolargl"
           }
          ],
          "scatterternary": [
           {
            "marker": {
             "colorbar": {
              "outlinewidth": 0,
              "ticks": ""
             }
            },
            "type": "scatterternary"
           }
          ],
          "surface": [
           {
            "colorbar": {
             "outlinewidth": 0,
             "ticks": ""
            },
            "colorscale": [
             [
              0,
              "#0d0887"
             ],
             [
              0.1111111111111111,
              "#46039f"
             ],
             [
              0.2222222222222222,
              "#7201a8"
             ],
             [
              0.3333333333333333,
              "#9c179e"
             ],
             [
              0.4444444444444444,
              "#bd3786"
             ],
             [
              0.5555555555555556,
              "#d8576b"
             ],
             [
              0.6666666666666666,
              "#ed7953"
             ],
             [
              0.7777777777777778,
              "#fb9f3a"
             ],
             [
              0.8888888888888888,
              "#fdca26"
             ],
             [
              1,
              "#f0f921"
             ]
            ],
            "type": "surface"
           }
          ],
          "table": [
           {
            "cells": {
             "fill": {
              "color": "#EBF0F8"
             },
             "line": {
              "color": "white"
             }
            },
            "header": {
             "fill": {
              "color": "#C8D4E3"
             },
             "line": {
              "color": "white"
             }
            },
            "type": "table"
           }
          ]
         },
         "layout": {
          "annotationdefaults": {
           "arrowcolor": "#2a3f5f",
           "arrowhead": 0,
           "arrowwidth": 1
          },
          "autotypenumbers": "strict",
          "coloraxis": {
           "colorbar": {
            "outlinewidth": 0,
            "ticks": ""
           }
          },
          "colorscale": {
           "diverging": [
            [
             0,
             "#8e0152"
            ],
            [
             0.1,
             "#c51b7d"
            ],
            [
             0.2,
             "#de77ae"
            ],
            [
             0.3,
             "#f1b6da"
            ],
            [
             0.4,
             "#fde0ef"
            ],
            [
             0.5,
             "#f7f7f7"
            ],
            [
             0.6,
             "#e6f5d0"
            ],
            [
             0.7,
             "#b8e186"
            ],
            [
             0.8,
             "#7fbc41"
            ],
            [
             0.9,
             "#4d9221"
            ],
            [
             1,
             "#276419"
            ]
           ],
           "sequential": [
            [
             0,
             "#0d0887"
            ],
            [
             0.1111111111111111,
             "#46039f"
            ],
            [
             0.2222222222222222,
             "#7201a8"
            ],
            [
             0.3333333333333333,
             "#9c179e"
            ],
            [
             0.4444444444444444,
             "#bd3786"
            ],
            [
             0.5555555555555556,
             "#d8576b"
            ],
            [
             0.6666666666666666,
             "#ed7953"
            ],
            [
             0.7777777777777778,
             "#fb9f3a"
            ],
            [
             0.8888888888888888,
             "#fdca26"
            ],
            [
             1,
             "#f0f921"
            ]
           ],
           "sequentialminus": [
            [
             0,
             "#0d0887"
            ],
            [
             0.1111111111111111,
             "#46039f"
            ],
            [
             0.2222222222222222,
             "#7201a8"
            ],
            [
             0.3333333333333333,
             "#9c179e"
            ],
            [
             0.4444444444444444,
             "#bd3786"
            ],
            [
             0.5555555555555556,
             "#d8576b"
            ],
            [
             0.6666666666666666,
             "#ed7953"
            ],
            [
             0.7777777777777778,
             "#fb9f3a"
            ],
            [
             0.8888888888888888,
             "#fdca26"
            ],
            [
             1,
             "#f0f921"
            ]
           ]
          },
          "colorway": [
           "#636efa",
           "#EF553B",
           "#00cc96",
           "#ab63fa",
           "#FFA15A",
           "#19d3f3",
           "#FF6692",
           "#B6E880",
           "#FF97FF",
           "#FECB52"
          ],
          "font": {
           "color": "#2a3f5f"
          },
          "geo": {
           "bgcolor": "white",
           "lakecolor": "white",
           "landcolor": "#E5ECF6",
           "showlakes": true,
           "showland": true,
           "subunitcolor": "white"
          },
          "hoverlabel": {
           "align": "left"
          },
          "hovermode": "closest",
          "mapbox": {
           "style": "light"
          },
          "paper_bgcolor": "white",
          "plot_bgcolor": "#E5ECF6",
          "polar": {
           "angularaxis": {
            "gridcolor": "white",
            "linecolor": "white",
            "ticks": ""
           },
           "bgcolor": "#E5ECF6",
           "radialaxis": {
            "gridcolor": "white",
            "linecolor": "white",
            "ticks": ""
           }
          },
          "scene": {
           "xaxis": {
            "backgroundcolor": "#E5ECF6",
            "gridcolor": "white",
            "gridwidth": 2,
            "linecolor": "white",
            "showbackground": true,
            "ticks": "",
            "zerolinecolor": "white"
           },
           "yaxis": {
            "backgroundcolor": "#E5ECF6",
            "gridcolor": "white",
            "gridwidth": 2,
            "linecolor": "white",
            "showbackground": true,
            "ticks": "",
            "zerolinecolor": "white"
           },
           "zaxis": {
            "backgroundcolor": "#E5ECF6",
            "gridcolor": "white",
            "gridwidth": 2,
            "linecolor": "white",
            "showbackground": true,
            "ticks": "",
            "zerolinecolor": "white"
           }
          },
          "shapedefaults": {
           "line": {
            "color": "#2a3f5f"
           }
          },
          "ternary": {
           "aaxis": {
            "gridcolor": "white",
            "linecolor": "white",
            "ticks": ""
           },
           "baxis": {
            "gridcolor": "white",
            "linecolor": "white",
            "ticks": ""
           },
           "bgcolor": "#E5ECF6",
           "caxis": {
            "gridcolor": "white",
            "linecolor": "white",
            "ticks": ""
           }
          },
          "title": {
           "x": 0.05
          },
          "xaxis": {
           "automargin": true,
           "gridcolor": "white",
           "linecolor": "white",
           "ticks": "",
           "title": {
            "standoff": 15
           },
           "zerolinecolor": "white",
           "zerolinewidth": 2
          },
          "yaxis": {
           "automargin": true,
           "gridcolor": "white",
           "linecolor": "white",
           "ticks": "",
           "title": {
            "standoff": 15
           },
           "zerolinecolor": "white",
           "zerolinewidth": 2
          }
         }
        },
        "title": {
         "text": "Distribuição dos Reembolsos por Categoria e Alerta de Anomalia"
        },
        "xaxis": {
         "anchor": "y",
         "domain": [
          0,
          1
         ],
         "title": {
          "text": "Categoria"
         }
        },
        "yaxis": {
         "anchor": "x",
         "domain": [
          0,
          1
         ],
         "title": {
          "text": "Valor do Reembolso"
         }
        }
       }
      }
     },
     "metadata": {},
     "output_type": "display_data"
    }
   ],
   "source": [
    "# Criando Grafico de Disperção para analisar os resultados\n",
    "fig = px.scatter(\n",
    "    df_reembolso,\n",
    "    x='categoria',\n",
    "    y='valor',\n",
    "    color='alerta',\n",
    "    hover_data=['descricao', 'score_anomalia'],\n",
    "    title='Distribuição dos Reembolsos por Categoria e Alerta de Anomalia'\n",
    ")\n",
    "\n",
    "fig.update_layout(xaxis_title='Categoria', yaxis_title='Valor do Reembolso')\n",
    "fig.show()"
   ]
  },
  {
   "cell_type": "code",
   "execution_count": 30,
   "id": "90564896",
   "metadata": {},
   "outputs": [],
   "source": [
    "# Ranking de funcionario por reembolso\n",
    "ranking_alertas = df_reembolso[df_reembolso['alerta'] == 'Suspeito']['id_funcionario'].value_counts().reset_index()\n",
    "# Nomeando as colunas do novo dataset\n",
    "ranking_alertas.columns = ['id_funcionario', 'qtd_alertas']\n",
    "# Apenas os 10 mais relevantes\n",
    "ranking_top10 = ranking_alertas.head(10)"
   ]
  },
  {
   "cell_type": "code",
   "execution_count": 32,
   "id": "2aa6d220",
   "metadata": {},
   "outputs": [
    {
     "data": {
      "text/plain": [
       "<Axes: xlabel='id_funcionario', ylabel='qtd_alertas'>"
      ]
     },
     "execution_count": 32,
     "metadata": {},
     "output_type": "execute_result"
    },
    {
     "data": {
      "image/png": "[encoded data removed]",
      "text/plain": [
       "<Figure size 640x480 with 1 Axes>"
      ]
     },
     "metadata": {},
     "output_type": "display_data"
    }
   ],
   "source": [
    "sns.barplot(ranking_top10, x='id_funcionario', y='qtd_alertas')\n",
    "\n"
   ]
  },
  {
   "cell_type": "markdown",
   "id": "349b0b0b",
   "metadata": {},
   "source": [
    "### Usando o Git para versionamento\n",
    "- essa é uma nova modificação\n"
   ]
  },
  {
   "cell_type": "code",
   "execution_count": null,
   "id": "71cce7d1",
   "metadata": {},
   "outputs": [],
   "source": []
  }
 ],
 "metadata": {
  "kernelspec": {
   "display_name": "ROCKETSEAT-znLm4meT",
   "language": "python",
   "name": "python3"
  },
  "language_info": {
   "codemirror_mode": {
    "name": "ipython",
    "version": 3
   },
   "file_extension": ".py",
   "mimetype": "text/x-python",
   "name": "python",
   "nbconvert_exporter": "python",
   "pygments_lexer": "ipython3",
   "version": "3.12.4"
  }
 },
 "nbformat": 4,
 "nbformat_minor": 5
}
