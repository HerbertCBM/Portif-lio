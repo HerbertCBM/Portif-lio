{
 "cells": [
  {
   "cell_type": "markdown",
   "id": "15a067e7",
   "metadata": {},
   "source": [
    "### Realizando Hiperparâmetrização\n"
   ]
  }
 ],
 "metadata": {
  "language_info": {
   "name": "python"
  }
 },
 "nbformat": 4,
 "nbformat_minor": 5
}
